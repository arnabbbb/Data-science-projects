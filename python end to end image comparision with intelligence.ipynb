{
 "cells": [
  {
   "cell_type": "markdown",
   "id": "c33bff36",
   "metadata": {},
   "source": [
    "### The 3 steps :\n",
    "\n",
    "1) Read the video and convert it into a series of images and save it.\n",
    "\n",
    "2) Compare the series of images to a base image (going image by image) and assign a simillarity score\n",
    "\n",
    "3) Raise an incident if a certain threshold of similarity score is crossed"
   ]
  },
  {
   "cell_type": "markdown",
   "id": "cdf9915c",
   "metadata": {},
   "source": [
    "### Step 1"
   ]
  },
  {
   "cell_type": "code",
   "execution_count": 1,
   "id": "e69c6406",
   "metadata": {},
   "outputs": [],
   "source": [
    "# importing the packages for video to image comparision\n",
    "\n",
    "import cv2\n",
    "import os\n",
    "import shutil"
   ]
  },
  {
   "cell_type": "code",
   "execution_count": 2,
   "id": "ac133f5b",
   "metadata": {},
   "outputs": [
    {
     "data": {
      "text/plain": [
       "'C:\\\\Anomaly detection IR'"
      ]
     },
     "execution_count": 2,
     "metadata": {},
     "output_type": "execute_result"
    }
   ],
   "source": [
    "# changing the working directory\n",
    "\n",
    "os.chdir('C:\\Anomaly detection IR')\n",
    "os.getcwd()"
   ]
  },
  {
   "cell_type": "code",
   "execution_count": 3,
   "id": "29ff301b",
   "metadata": {},
   "outputs": [],
   "source": [
    "# creating video object\n",
    "\n",
    "vid = cv2.VideoCapture('C:\\\\Anomaly detection IR\\\\video\\\\IR video.mp4')\n",
    "current_frame = 0"
   ]
  },
  {
   "cell_type": "code",
   "execution_count": 4,
   "id": "50bd0b1e",
   "metadata": {},
   "outputs": [],
   "source": [
    "# creating a path where the video will be converted to images and stored\n",
    "\n",
    "if not os.path.exists('video to images'):\n",
    "    os.makedirs('video to images')"
   ]
  },
  {
   "cell_type": "code",
   "execution_count": 5,
   "id": "c7727837",
   "metadata": {},
   "outputs": [
    {
     "ename": "error",
     "evalue": "OpenCV(4.7.0) D:\\a\\opencv-python\\opencv-python\\opencv\\modules\\highgui\\src\\window.cpp:971: error: (-215:Assertion failed) size.width>0 && size.height>0 in function 'cv::imshow'\n",
     "output_type": "error",
     "traceback": [
      "\u001b[1;31m---------------------------------------------------------------------------\u001b[0m",
      "\u001b[1;31merror\u001b[0m                                     Traceback (most recent call last)",
      "\u001b[1;32m<ipython-input-5-cc348f8e41fa>\u001b[0m in \u001b[0;36m<module>\u001b[1;34m\u001b[0m\n\u001b[0;32m      4\u001b[0m     \u001b[0msuccess\u001b[0m\u001b[1;33m,\u001b[0m \u001b[0mframe\u001b[0m \u001b[1;33m=\u001b[0m \u001b[0mvid\u001b[0m\u001b[1;33m.\u001b[0m\u001b[0mread\u001b[0m\u001b[1;33m(\u001b[0m\u001b[1;33m)\u001b[0m\u001b[1;33m\u001b[0m\u001b[1;33m\u001b[0m\u001b[0m\n\u001b[0;32m      5\u001b[0m \u001b[1;33m\u001b[0m\u001b[0m\n\u001b[1;32m----> 6\u001b[1;33m     \u001b[0mcv2\u001b[0m\u001b[1;33m.\u001b[0m\u001b[0mimshow\u001b[0m\u001b[1;33m(\u001b[0m\u001b[1;34m'Output'\u001b[0m\u001b[1;33m,\u001b[0m\u001b[0mframe\u001b[0m\u001b[1;33m)\u001b[0m\u001b[1;33m\u001b[0m\u001b[1;33m\u001b[0m\u001b[0m\n\u001b[0m\u001b[0;32m      7\u001b[0m     \u001b[0mcv2\u001b[0m\u001b[1;33m.\u001b[0m\u001b[0mimwrite\u001b[0m\u001b[1;33m(\u001b[0m\u001b[1;34m'.\\\\video to images\\\\frame'\u001b[0m \u001b[1;33m+\u001b[0m \u001b[0mstr\u001b[0m\u001b[1;33m(\u001b[0m\u001b[0mcurrent_frame\u001b[0m\u001b[1;33m)\u001b[0m\u001b[1;33m+\u001b[0m \u001b[1;34m'.jpg'\u001b[0m\u001b[1;33m,\u001b[0m \u001b[0mframe\u001b[0m\u001b[1;33m)\u001b[0m\u001b[1;33m\u001b[0m\u001b[1;33m\u001b[0m\u001b[0m\n\u001b[0;32m      8\u001b[0m     \u001b[0mcurrent_frame\u001b[0m\u001b[1;33m=\u001b[0m\u001b[0mcurrent_frame\u001b[0m \u001b[1;33m+\u001b[0m \u001b[1;36m1\u001b[0m\u001b[1;33m\u001b[0m\u001b[1;33m\u001b[0m\u001b[0m\n",
      "\u001b[1;31merror\u001b[0m: OpenCV(4.7.0) D:\\a\\opencv-python\\opencv-python\\opencv\\modules\\highgui\\src\\window.cpp:971: error: (-215:Assertion failed) size.width>0 && size.height>0 in function 'cv::imshow'\n"
     ]
    }
   ],
   "source": [
    "# converting the video to images and storing in the folder (it gives an error, but does the job)\n",
    "\n",
    "while(True):\n",
    "    success, frame = vid.read()\n",
    "    \n",
    "    cv2.imshow('Output',frame)\n",
    "    cv2.imwrite('.\\\\video to images\\\\frame' + str(current_frame)+ '.jpg', frame)\n",
    "    current_frame=current_frame + 1\n",
    "    \n",
    "    if cv2.waitKey(1) & 0xFF == ord('q'):\n",
    "        break"
   ]
  },
  {
   "cell_type": "code",
   "execution_count": 6,
   "id": "dc3af8b6",
   "metadata": {},
   "outputs": [],
   "source": [
    "# creating a path where the image comparision will be done\n",
    "\n",
    "if not os.path.exists('Images to compare'):\n",
    "    os.makedirs('Images to compare')"
   ]
  },
  {
   "cell_type": "markdown",
   "id": "d5fb8135",
   "metadata": {},
   "source": [
    "### Steps 2 and 3"
   ]
  },
  {
   "cell_type": "code",
   "execution_count": 7,
   "id": "550d211f",
   "metadata": {},
   "outputs": [],
   "source": [
    "# importing the packages for the machine learning model\n",
    "\n",
    "from sentence_transformers import SentenceTransformer, util\n",
    "from PIL import Image\n",
    "import glob"
   ]
  },
  {
   "cell_type": "code",
   "execution_count": 8,
   "id": "c857794a",
   "metadata": {},
   "outputs": [
    {
     "name": "stdout",
     "output_type": "stream",
     "text": [
      "Loading CLIP Model...\n"
     ]
    }
   ],
   "source": [
    "# Load the OpenAI CLIP Model\n",
    "\n",
    "\n",
    "print('Loading CLIP Model...')\n",
    "model = SentenceTransformer('clip-ViT-B-32')"
   ]
  },
  {
   "cell_type": "code",
   "execution_count": 9,
   "id": "1509f0ab",
   "metadata": {},
   "outputs": [],
   "source": [
    "#creating a text file with the command function \"x\" (create file if no file alerady exists)\n",
    "\n",
    "f = open(\"algorithm results.txt\", \"x\")"
   ]
  },
  {
   "cell_type": "code",
   "execution_count": 10,
   "id": "d226782c",
   "metadata": {},
   "outputs": [
    {
     "name": "stdout",
     "output_type": "stream",
     "text": [
      "C:\\Anomaly detection IR\\video to images\\frame1.jpg\n",
      "C:\\Anomaly detection IR\\Images to compare\\frame1.jpg\n",
      "C:\\Anomaly detection IR\\video to images\\frame0.jpg\n"
     ]
    }
   ],
   "source": [
    "# storing all the concernedpaths in variables.\n",
    "\n",
    "i = 1\n",
    "\n",
    "image_name = 'C:\\\\Anomaly detection IR\\\\video to images\\\\frame{}.jpg'.format(i)\n",
    "print(image_name)\n",
    "\n",
    "image_name_rem = 'C:\\\\Anomaly detection IR\\\\Images to compare\\\\frame{}.jpg'.format(i)\n",
    "print(image_name_rem)\n",
    "\n",
    "image_name_fixed = 'C:\\\\Anomaly detection IR\\\\video to images\\\\frame0.jpg'\n",
    "print(image_name_fixed)"
   ]
  },
  {
   "cell_type": "code",
   "execution_count": 11,
   "id": "6036091b",
   "metadata": {},
   "outputs": [
    {
     "data": {
      "text/plain": [
       "'C:\\\\Anomaly detection IR\\\\Images to compare\\\\frame0.jpg'"
      ]
     },
     "execution_count": 11,
     "metadata": {},
     "output_type": "execute_result"
    }
   ],
   "source": [
    "# placing the hard coded image in the empty file\n",
    "\n",
    "shutil.copy(image_name_fixed, 'C:\\\\Anomaly detection IR\\\\Images to compare')"
   ]
  },
  {
   "cell_type": "markdown",
   "id": "bad9b182",
   "metadata": {},
   "source": [
    "### declaring two states :\n",
    "\n",
    "1) 0 : No incident is raised (default)\n",
    "\n",
    "2) 1 : Incident is raised or maybe incident is raised\n",
    "\n",
    "Note : Incident will only be raised if model state is 0"
   ]
  },
  {
   "cell_type": "code",
   "execution_count": 12,
   "id": "a779eb96",
   "metadata": {},
   "outputs": [],
   "source": [
    "model_state = 0"
   ]
  },
  {
   "cell_type": "code",
   "execution_count": 13,
   "id": "b7235660",
   "metadata": {},
   "outputs": [
    {
     "name": "stdout",
     "output_type": "stream",
     "text": [
      "File count: 167\n"
     ]
    }
   ],
   "source": [
    "# counting the number of images\n",
    "\n",
    "# folder path\n",
    "dir_path = r'C:\\Anomaly detection IR\\video to images'\n",
    "count = 0\n",
    "# Iterate directory\n",
    "for path in os.listdir(dir_path):\n",
    "    # check if current path is a file\n",
    "    if os.path.isfile(os.path.join(dir_path, path)):\n",
    "        count += 1\n",
    "print('File count:', count)"
   ]
  },
  {
   "cell_type": "code",
   "execution_count": 14,
   "id": "98a17d59",
   "metadata": {},
   "outputs": [
    {
     "name": "stdout",
     "output_type": "stream",
     "text": [
      "C:\\Anomaly detection IR\\video to images\\frame1.jpg copied\n",
      "\n",
      "\n",
      "Images: 2\n"
     ]
    },
    {
     "data": {
      "application/vnd.jupyter.widget-view+json": {
       "model_id": "5abb45b7ccb647e3b45a6ff7cf2a5100",
       "version_major": 2,
       "version_minor": 0
      },
      "text/plain": [
       "Batches:   0%|          | 0/1 [00:00<?, ?it/s]"
      ]
     },
     "metadata": {},
     "output_type": "display_data"
    },
    {
     "name": "stdout",
     "output_type": "stream",
     "text": [
      "Finding duplicate images...\n",
      "Finding near duplicate images...\n",
      "\n",
      "Score: 98.879%\n",
      "Images to compare\\frame0.jpg\n",
      "Images to compare\\frame1.jpg\n",
      "\n",
      "\n",
      "0.9887886643409729\n",
      "\n",
      "\n",
      "No incident\n",
      "\n",
      "\n",
      "\n",
      "\n",
      "C:\\Anomaly detection IR\\video to images\\frame1.jpg removed\n",
      "\n",
      "\n",
      "C:\\Anomaly detection IR\\video to images\\frame2.jpg copied\n",
      "\n",
      "\n",
      "Images: 2\n"
     ]
    },
    {
     "data": {
      "application/vnd.jupyter.widget-view+json": {
       "model_id": "78059c01da1d4d92a0b7e8010b93b643",
       "version_major": 2,
       "version_minor": 0
      },
      "text/plain": [
       "Batches:   0%|          | 0/1 [00:00<?, ?it/s]"
      ]
     },
     "metadata": {},
     "output_type": "display_data"
    },
    {
     "name": "stdout",
     "output_type": "stream",
     "text": [
      "Finding duplicate images...\n",
      "Finding near duplicate images...\n",
      "\n",
      "Score: 98.957%\n",
      "Images to compare\\frame0.jpg\n",
      "Images to compare\\frame2.jpg\n",
      "\n",
      "\n",
      "0.9895694851875305\n",
      "\n",
      "\n",
      "No incident\n",
      "\n",
      "\n",
      "\n",
      "\n",
      "C:\\Anomaly detection IR\\video to images\\frame2.jpg removed\n",
      "\n",
      "\n",
      "C:\\Anomaly detection IR\\video to images\\frame3.jpg copied\n",
      "\n",
      "\n",
      "Images: 2\n"
     ]
    },
    {
     "data": {
      "application/vnd.jupyter.widget-view+json": {
       "model_id": "0aaaeb31e5ff4747bae328ce2aa97945",
       "version_major": 2,
       "version_minor": 0
      },
      "text/plain": [
       "Batches:   0%|          | 0/1 [00:00<?, ?it/s]"
      ]
     },
     "metadata": {},
     "output_type": "display_data"
    },
    {
     "name": "stdout",
     "output_type": "stream",
     "text": [
      "Finding duplicate images...\n",
      "Finding near duplicate images...\n",
      "\n",
      "Score: 95.466%\n",
      "Images to compare\\frame3.jpg\n",
      "Images to compare\\frame0.jpg\n",
      "\n",
      "\n",
      "0.9546643495559692\n",
      "\n",
      "\n",
      "No incident\n",
      "\n",
      "\n",
      "\n",
      "\n",
      "C:\\Anomaly detection IR\\video to images\\frame3.jpg removed\n",
      "\n",
      "\n",
      "C:\\Anomaly detection IR\\video to images\\frame4.jpg copied\n",
      "\n",
      "\n",
      "Images: 2\n"
     ]
    },
    {
     "data": {
      "application/vnd.jupyter.widget-view+json": {
       "model_id": "ef5a7de27a7b4a9ea8db1c4bd331d0d9",
       "version_major": 2,
       "version_minor": 0
      },
      "text/plain": [
       "Batches:   0%|          | 0/1 [00:00<?, ?it/s]"
      ]
     },
     "metadata": {},
     "output_type": "display_data"
    },
    {
     "name": "stdout",
     "output_type": "stream",
     "text": [
      "Finding duplicate images...\n",
      "Finding near duplicate images...\n",
      "\n",
      "Score: 96.408%\n",
      "Images to compare\\frame0.jpg\n",
      "Images to compare\\frame4.jpg\n",
      "\n",
      "\n",
      "0.9640802145004272\n",
      "\n",
      "\n",
      "No incident\n",
      "\n",
      "\n",
      "\n",
      "\n",
      "C:\\Anomaly detection IR\\video to images\\frame4.jpg removed\n",
      "\n",
      "\n",
      "C:\\Anomaly detection IR\\video to images\\frame5.jpg copied\n",
      "\n",
      "\n",
      "Images: 2\n"
     ]
    },
    {
     "data": {
      "application/vnd.jupyter.widget-view+json": {
       "model_id": "a3a15143c0a144d6b2a2d0485b27308f",
       "version_major": 2,
       "version_minor": 0
      },
      "text/plain": [
       "Batches:   0%|          | 0/1 [00:00<?, ?it/s]"
      ]
     },
     "metadata": {},
     "output_type": "display_data"
    },
    {
     "name": "stdout",
     "output_type": "stream",
     "text": [
      "Finding duplicate images...\n",
      "Finding near duplicate images...\n",
      "\n",
      "Score: 94.141%\n",
      "Images to compare\\frame0.jpg\n",
      "Images to compare\\frame5.jpg\n",
      "\n",
      "\n",
      "0.9414118528366089\n",
      "\n",
      "\n",
      "maybe incident\n",
      "\n",
      "\n",
      "\n",
      "\n",
      "C:\\Anomaly detection IR\\video to images\\frame5.jpg removed\n",
      "\n",
      "\n",
      "C:\\Anomaly detection IR\\video to images\\frame6.jpg copied\n",
      "\n",
      "\n",
      "Images: 2\n"
     ]
    },
    {
     "data": {
      "application/vnd.jupyter.widget-view+json": {
       "model_id": "1082779573754a6bbe60847fecc2da75",
       "version_major": 2,
       "version_minor": 0
      },
      "text/plain": [
       "Batches:   0%|          | 0/1 [00:00<?, ?it/s]"
      ]
     },
     "metadata": {},
     "output_type": "display_data"
    },
    {
     "name": "stdout",
     "output_type": "stream",
     "text": [
      "Finding duplicate images...\n",
      "Finding near duplicate images...\n",
      "\n",
      "Score: 90.415%\n",
      "Images to compare\\frame6.jpg\n",
      "Images to compare\\frame0.jpg\n",
      "\n",
      "\n",
      "0.9041533470153809\n",
      "\n",
      "\n",
      "not incident\n",
      "\n",
      "\n",
      "\n",
      "\n",
      "C:\\Anomaly detection IR\\video to images\\frame6.jpg removed\n",
      "\n",
      "\n",
      "C:\\Anomaly detection IR\\video to images\\frame7.jpg copied\n",
      "\n",
      "\n",
      "Images: 2\n"
     ]
    },
    {
     "data": {
      "application/vnd.jupyter.widget-view+json": {
       "model_id": "42534279125e44448fa20722738e7c8c",
       "version_major": 2,
       "version_minor": 0
      },
      "text/plain": [
       "Batches:   0%|          | 0/1 [00:00<?, ?it/s]"
      ]
     },
     "metadata": {},
     "output_type": "display_data"
    },
    {
     "name": "stdout",
     "output_type": "stream",
     "text": [
      "Finding duplicate images...\n",
      "Finding near duplicate images...\n",
      "\n",
      "Score: 90.649%\n",
      "Images to compare\\frame0.jpg\n",
      "Images to compare\\frame7.jpg\n",
      "\n",
      "\n",
      "0.9064912796020508\n",
      "\n",
      "\n",
      "not incident\n",
      "\n",
      "\n",
      "\n",
      "\n",
      "C:\\Anomaly detection IR\\video to images\\frame7.jpg removed\n",
      "\n",
      "\n",
      "C:\\Anomaly detection IR\\video to images\\frame8.jpg copied\n",
      "\n",
      "\n",
      "Images: 2\n"
     ]
    },
    {
     "data": {
      "application/vnd.jupyter.widget-view+json": {
       "model_id": "21caee67465f42b4a26c00c59f1c6aaf",
       "version_major": 2,
       "version_minor": 0
      },
      "text/plain": [
       "Batches:   0%|          | 0/1 [00:00<?, ?it/s]"
      ]
     },
     "metadata": {},
     "output_type": "display_data"
    },
    {
     "name": "stdout",
     "output_type": "stream",
     "text": [
      "Finding duplicate images...\n",
      "Finding near duplicate images...\n",
      "\n",
      "Score: 89.327%\n",
      "Images to compare\\frame0.jpg\n",
      "Images to compare\\frame8.jpg\n",
      "\n",
      "\n",
      "0.8932697176933289\n",
      "\n",
      "\n",
      "not incident\n",
      "\n",
      "\n",
      "\n",
      "\n",
      "C:\\Anomaly detection IR\\video to images\\frame8.jpg removed\n",
      "\n",
      "\n",
      "C:\\Anomaly detection IR\\video to images\\frame9.jpg copied\n",
      "\n",
      "\n",
      "Images: 2\n"
     ]
    },
    {
     "data": {
      "application/vnd.jupyter.widget-view+json": {
       "model_id": "cb3972d4c23f498cadbc6cfbde5f141c",
       "version_major": 2,
       "version_minor": 0
      },
      "text/plain": [
       "Batches:   0%|          | 0/1 [00:00<?, ?it/s]"
      ]
     },
     "metadata": {},
     "output_type": "display_data"
    },
    {
     "name": "stdout",
     "output_type": "stream",
     "text": [
      "Finding duplicate images...\n",
      "Finding near duplicate images...\n",
      "\n",
      "Score: 90.488%\n",
      "Images to compare\\frame9.jpg\n",
      "Images to compare\\frame0.jpg\n",
      "\n",
      "\n",
      "0.9048800468444824\n",
      "\n",
      "\n",
      "not incident\n",
      "\n",
      "\n",
      "\n",
      "\n",
      "C:\\Anomaly detection IR\\video to images\\frame9.jpg removed\n",
      "\n",
      "\n",
      "C:\\Anomaly detection IR\\video to images\\frame10.jpg copied\n",
      "\n",
      "\n",
      "Images: 2\n"
     ]
    },
    {
     "data": {
      "application/vnd.jupyter.widget-view+json": {
       "model_id": "cfb8b3ca9fe040b39c401aa7b90fedd1",
       "version_major": 2,
       "version_minor": 0
      },
      "text/plain": [
       "Batches:   0%|          | 0/1 [00:00<?, ?it/s]"
      ]
     },
     "metadata": {},
     "output_type": "display_data"
    },
    {
     "name": "stdout",
     "output_type": "stream",
     "text": [
      "Finding duplicate images...\n",
      "Finding near duplicate images...\n",
      "\n",
      "Score: 90.236%\n",
      "Images to compare\\frame0.jpg\n",
      "Images to compare\\frame10.jpg\n",
      "\n",
      "\n",
      "0.9023613333702087\n",
      "\n",
      "\n",
      "not incident\n",
      "\n",
      "\n",
      "\n",
      "\n",
      "C:\\Anomaly detection IR\\video to images\\frame10.jpg removed\n",
      "\n",
      "\n",
      "C:\\Anomaly detection IR\\video to images\\frame11.jpg copied\n",
      "\n",
      "\n",
      "Images: 2\n"
     ]
    },
    {
     "data": {
      "application/vnd.jupyter.widget-view+json": {
       "model_id": "5b0230d4b9ed42ef8eadfa796e08114d",
       "version_major": 2,
       "version_minor": 0
      },
      "text/plain": [
       "Batches:   0%|          | 0/1 [00:00<?, ?it/s]"
      ]
     },
     "metadata": {},
     "output_type": "display_data"
    },
    {
     "name": "stdout",
     "output_type": "stream",
     "text": [
      "Finding duplicate images...\n",
      "Finding near duplicate images...\n",
      "\n",
      "Score: 89.353%\n",
      "Images to compare\\frame0.jpg\n",
      "Images to compare\\frame11.jpg\n",
      "\n",
      "\n",
      "0.8935309052467346\n",
      "\n",
      "\n",
      "not incident\n",
      "\n",
      "\n",
      "\n",
      "\n",
      "C:\\Anomaly detection IR\\video to images\\frame11.jpg removed\n",
      "\n",
      "\n",
      "C:\\Anomaly detection IR\\video to images\\frame12.jpg copied\n",
      "\n",
      "\n",
      "Images: 2\n"
     ]
    },
    {
     "data": {
      "application/vnd.jupyter.widget-view+json": {
       "model_id": "1fc2b75ed11a49deb444b714ee06a0a9",
       "version_major": 2,
       "version_minor": 0
      },
      "text/plain": [
       "Batches:   0%|          | 0/1 [00:00<?, ?it/s]"
      ]
     },
     "metadata": {},
     "output_type": "display_data"
    },
    {
     "name": "stdout",
     "output_type": "stream",
     "text": [
      "Finding duplicate images...\n",
      "Finding near duplicate images...\n",
      "\n",
      "Score: 89.902%\n",
      "Images to compare\\frame0.jpg\n",
      "Images to compare\\frame12.jpg\n",
      "\n",
      "\n",
      "0.8990169763565063\n",
      "\n",
      "\n",
      "not incident\n",
      "\n",
      "\n",
      "\n",
      "\n",
      "C:\\Anomaly detection IR\\video to images\\frame12.jpg removed\n",
      "\n",
      "\n",
      "C:\\Anomaly detection IR\\video to images\\frame13.jpg copied\n",
      "\n",
      "\n",
      "Images: 2\n"
     ]
    },
    {
     "data": {
      "application/vnd.jupyter.widget-view+json": {
       "model_id": "0dec391325ba43a489fc492d289c1432",
       "version_major": 2,
       "version_minor": 0
      },
      "text/plain": [
       "Batches:   0%|          | 0/1 [00:00<?, ?it/s]"
      ]
     },
     "metadata": {},
     "output_type": "display_data"
    },
    {
     "name": "stdout",
     "output_type": "stream",
     "text": [
      "Finding duplicate images...\n",
      "Finding near duplicate images...\n",
      "\n",
      "Score: 91.036%\n",
      "Images to compare\\frame0.jpg\n",
      "Images to compare\\frame13.jpg\n",
      "\n",
      "\n",
      "0.9103569388389587\n",
      "\n",
      "\n",
      "not incident\n",
      "\n",
      "\n",
      "\n",
      "\n",
      "C:\\Anomaly detection IR\\video to images\\frame13.jpg removed\n",
      "\n",
      "\n",
      "C:\\Anomaly detection IR\\video to images\\frame14.jpg copied\n",
      "\n",
      "\n",
      "Images: 2\n"
     ]
    },
    {
     "data": {
      "application/vnd.jupyter.widget-view+json": {
       "model_id": "a06d5c7d16034788b3e6b14638632cb6",
       "version_major": 2,
       "version_minor": 0
      },
      "text/plain": [
       "Batches:   0%|          | 0/1 [00:00<?, ?it/s]"
      ]
     },
     "metadata": {},
     "output_type": "display_data"
    },
    {
     "name": "stdout",
     "output_type": "stream",
     "text": [
      "Finding duplicate images...\n",
      "Finding near duplicate images...\n",
      "\n",
      "Score: 90.832%\n",
      "Images to compare\\frame0.jpg\n",
      "Images to compare\\frame14.jpg\n",
      "\n",
      "\n",
      "0.9083189964294434\n",
      "\n",
      "\n",
      "not incident\n",
      "\n",
      "\n",
      "\n",
      "\n",
      "C:\\Anomaly detection IR\\video to images\\frame14.jpg removed\n",
      "\n",
      "\n",
      "C:\\Anomaly detection IR\\video to images\\frame15.jpg copied\n",
      "\n",
      "\n",
      "Images: 2\n"
     ]
    },
    {
     "data": {
      "application/vnd.jupyter.widget-view+json": {
       "model_id": "c65600189823486e82c308fd973c0a81",
       "version_major": 2,
       "version_minor": 0
      },
      "text/plain": [
       "Batches:   0%|          | 0/1 [00:00<?, ?it/s]"
      ]
     },
     "metadata": {},
     "output_type": "display_data"
    },
    {
     "name": "stdout",
     "output_type": "stream",
     "text": [
      "Finding duplicate images...\n",
      "Finding near duplicate images...\n",
      "\n",
      "Score: 89.967%\n",
      "Images to compare\\frame0.jpg\n",
      "Images to compare\\frame15.jpg\n",
      "\n",
      "\n",
      "0.8996685743331909\n",
      "\n",
      "\n",
      "not incident\n",
      "\n",
      "\n",
      "\n",
      "\n",
      "C:\\Anomaly detection IR\\video to images\\frame15.jpg removed\n",
      "\n",
      "\n",
      "C:\\Anomaly detection IR\\video to images\\frame16.jpg copied\n",
      "\n",
      "\n",
      "Images: 2\n"
     ]
    },
    {
     "data": {
      "application/vnd.jupyter.widget-view+json": {
       "model_id": "38399b8886b846f096528f9556e6c4a5",
       "version_major": 2,
       "version_minor": 0
      },
      "text/plain": [
       "Batches:   0%|          | 0/1 [00:00<?, ?it/s]"
      ]
     },
     "metadata": {},
     "output_type": "display_data"
    },
    {
     "name": "stdout",
     "output_type": "stream",
     "text": [
      "Finding duplicate images...\n",
      "Finding near duplicate images...\n",
      "\n",
      "Score: 90.328%\n",
      "Images to compare\\frame0.jpg\n",
      "Images to compare\\frame16.jpg\n",
      "\n",
      "\n",
      "0.9032832384109497\n",
      "\n",
      "\n",
      "not incident\n",
      "\n",
      "\n",
      "\n",
      "\n",
      "C:\\Anomaly detection IR\\video to images\\frame16.jpg removed\n",
      "\n",
      "\n",
      "C:\\Anomaly detection IR\\video to images\\frame17.jpg copied\n",
      "\n",
      "\n",
      "Images: 2\n"
     ]
    },
    {
     "data": {
      "application/vnd.jupyter.widget-view+json": {
       "model_id": "39726d18d85045dc9eddfa6d0c4b387e",
       "version_major": 2,
       "version_minor": 0
      },
      "text/plain": [
       "Batches:   0%|          | 0/1 [00:00<?, ?it/s]"
      ]
     },
     "metadata": {},
     "output_type": "display_data"
    },
    {
     "name": "stdout",
     "output_type": "stream",
     "text": [
      "Finding duplicate images...\n",
      "Finding near duplicate images...\n",
      "\n",
      "Score: 91.216%\n",
      "Images to compare\\frame0.jpg\n",
      "Images to compare\\frame17.jpg\n",
      "\n",
      "\n",
      "0.912163496017456\n",
      "\n",
      "\n",
      "not incident\n",
      "\n",
      "\n",
      "\n",
      "\n",
      "C:\\Anomaly detection IR\\video to images\\frame17.jpg removed\n",
      "\n",
      "\n",
      "C:\\Anomaly detection IR\\video to images\\frame18.jpg copied\n",
      "\n",
      "\n",
      "Images: 2\n"
     ]
    },
    {
     "data": {
      "application/vnd.jupyter.widget-view+json": {
       "model_id": "6fb3b9b7f15b4147885e4ead6e640bd4",
       "version_major": 2,
       "version_minor": 0
      },
      "text/plain": [
       "Batches:   0%|          | 0/1 [00:00<?, ?it/s]"
      ]
     },
     "metadata": {},
     "output_type": "display_data"
    },
    {
     "name": "stdout",
     "output_type": "stream",
     "text": [
      "Finding duplicate images...\n",
      "Finding near duplicate images...\n",
      "\n",
      "Score: 90.411%\n",
      "Images to compare\\frame0.jpg\n",
      "Images to compare\\frame18.jpg\n",
      "\n",
      "\n",
      "0.9041141271591187\n",
      "\n",
      "\n",
      "not incident\n",
      "\n",
      "\n",
      "\n",
      "\n",
      "C:\\Anomaly detection IR\\video to images\\frame18.jpg removed\n",
      "\n",
      "\n",
      "C:\\Anomaly detection IR\\video to images\\frame19.jpg copied\n",
      "\n",
      "\n",
      "Images: 2\n"
     ]
    },
    {
     "data": {
      "application/vnd.jupyter.widget-view+json": {
       "model_id": "4c224c54e27640fd858b77e0ca27d691",
       "version_major": 2,
       "version_minor": 0
      },
      "text/plain": [
       "Batches:   0%|          | 0/1 [00:00<?, ?it/s]"
      ]
     },
     "metadata": {},
     "output_type": "display_data"
    },
    {
     "name": "stdout",
     "output_type": "stream",
     "text": [
      "Finding duplicate images...\n",
      "Finding near duplicate images...\n",
      "\n",
      "Score: 91.198%\n",
      "Images to compare\\frame0.jpg\n",
      "Images to compare\\frame19.jpg\n",
      "\n",
      "\n",
      "0.9119848608970642\n",
      "\n",
      "\n",
      "not incident\n",
      "\n",
      "\n",
      "\n",
      "\n",
      "C:\\Anomaly detection IR\\video to images\\frame19.jpg removed\n",
      "\n",
      "\n",
      "C:\\Anomaly detection IR\\video to images\\frame20.jpg copied\n",
      "\n",
      "\n",
      "Images: 2\n"
     ]
    },
    {
     "data": {
      "application/vnd.jupyter.widget-view+json": {
       "model_id": "3a59a9cf64034a0f9b80825f06100ce2",
       "version_major": 2,
       "version_minor": 0
      },
      "text/plain": [
       "Batches:   0%|          | 0/1 [00:00<?, ?it/s]"
      ]
     },
     "metadata": {},
     "output_type": "display_data"
    },
    {
     "name": "stdout",
     "output_type": "stream",
     "text": [
      "Finding duplicate images...\n",
      "Finding near duplicate images...\n",
      "\n",
      "Score: 91.887%\n",
      "Images to compare\\frame20.jpg\n",
      "Images to compare\\frame0.jpg\n",
      "\n",
      "\n",
      "0.9188674688339233\n",
      "\n",
      "\n",
      "not incident\n",
      "\n",
      "\n",
      "\n",
      "\n",
      "C:\\Anomaly detection IR\\video to images\\frame20.jpg removed\n",
      "\n",
      "\n",
      "C:\\Anomaly detection IR\\video to images\\frame21.jpg copied\n",
      "\n",
      "\n",
      "Images: 2\n"
     ]
    },
    {
     "data": {
      "application/vnd.jupyter.widget-view+json": {
       "model_id": "8c3830e7517145efb0849d1cfc928e19",
       "version_major": 2,
       "version_minor": 0
      },
      "text/plain": [
       "Batches:   0%|          | 0/1 [00:00<?, ?it/s]"
      ]
     },
     "metadata": {},
     "output_type": "display_data"
    },
    {
     "name": "stdout",
     "output_type": "stream",
     "text": [
      "Finding duplicate images...\n",
      "Finding near duplicate images...\n",
      "\n",
      "Score: 91.597%\n",
      "Images to compare\\frame0.jpg\n",
      "Images to compare\\frame21.jpg\n",
      "\n",
      "\n",
      "0.9159694910049438\n",
      "\n",
      "\n",
      "not incident\n",
      "\n",
      "\n",
      "\n",
      "\n",
      "C:\\Anomaly detection IR\\video to images\\frame21.jpg removed\n",
      "\n",
      "\n",
      "C:\\Anomaly detection IR\\video to images\\frame22.jpg copied\n",
      "\n",
      "\n",
      "Images: 2\n"
     ]
    },
    {
     "data": {
      "application/vnd.jupyter.widget-view+json": {
       "model_id": "fee3e57738b443e9b075180b13ef0e89",
       "version_major": 2,
       "version_minor": 0
      },
      "text/plain": [
       "Batches:   0%|          | 0/1 [00:00<?, ?it/s]"
      ]
     },
     "metadata": {},
     "output_type": "display_data"
    },
    {
     "name": "stdout",
     "output_type": "stream",
     "text": [
      "Finding duplicate images...\n",
      "Finding near duplicate images...\n",
      "\n",
      "Score: 91.466%\n",
      "Images to compare\\frame0.jpg\n",
      "Images to compare\\frame22.jpg\n",
      "\n",
      "\n",
      "0.9146555662155151\n",
      "\n",
      "\n",
      "not incident\n",
      "\n",
      "\n",
      "\n",
      "\n",
      "C:\\Anomaly detection IR\\video to images\\frame22.jpg removed\n",
      "\n",
      "\n",
      "C:\\Anomaly detection IR\\video to images\\frame23.jpg copied\n",
      "\n",
      "\n",
      "Images: 2\n"
     ]
    },
    {
     "data": {
      "application/vnd.jupyter.widget-view+json": {
       "model_id": "1b01a77b675148e4905f9f6f733f8b42",
       "version_major": 2,
       "version_minor": 0
      },
      "text/plain": [
       "Batches:   0%|          | 0/1 [00:00<?, ?it/s]"
      ]
     },
     "metadata": {},
     "output_type": "display_data"
    },
    {
     "name": "stdout",
     "output_type": "stream",
     "text": [
      "Finding duplicate images...\n",
      "Finding near duplicate images...\n",
      "\n",
      "Score: 91.578%\n",
      "Images to compare\\frame0.jpg\n",
      "Images to compare\\frame23.jpg\n",
      "\n",
      "\n",
      "0.9157848358154297\n",
      "\n",
      "\n",
      "not incident\n",
      "\n",
      "\n",
      "\n",
      "\n",
      "C:\\Anomaly detection IR\\video to images\\frame23.jpg removed\n",
      "\n",
      "\n",
      "C:\\Anomaly detection IR\\video to images\\frame24.jpg copied\n",
      "\n",
      "\n",
      "Images: 2\n"
     ]
    },
    {
     "data": {
      "application/vnd.jupyter.widget-view+json": {
       "model_id": "d1fe2069ab834f6397d815fc6a51c1d7",
       "version_major": 2,
       "version_minor": 0
      },
      "text/plain": [
       "Batches:   0%|          | 0/1 [00:00<?, ?it/s]"
      ]
     },
     "metadata": {},
     "output_type": "display_data"
    },
    {
     "name": "stdout",
     "output_type": "stream",
     "text": [
      "Finding duplicate images...\n",
      "Finding near duplicate images...\n",
      "\n",
      "Score: 91.363%\n",
      "Images to compare\\frame0.jpg\n",
      "Images to compare\\frame24.jpg\n",
      "\n",
      "\n",
      "0.913629949092865\n",
      "\n",
      "\n",
      "not incident\n",
      "\n",
      "\n",
      "\n",
      "\n",
      "C:\\Anomaly detection IR\\video to images\\frame24.jpg removed\n",
      "\n",
      "\n",
      "C:\\Anomaly detection IR\\video to images\\frame25.jpg copied\n",
      "\n",
      "\n",
      "Images: 2\n"
     ]
    },
    {
     "data": {
      "application/vnd.jupyter.widget-view+json": {
       "model_id": "a70cf5a8ebb14c048b1655fe4cb08606",
       "version_major": 2,
       "version_minor": 0
      },
      "text/plain": [
       "Batches:   0%|          | 0/1 [00:00<?, ?it/s]"
      ]
     },
     "metadata": {},
     "output_type": "display_data"
    },
    {
     "name": "stdout",
     "output_type": "stream",
     "text": [
      "Finding duplicate images...\n",
      "Finding near duplicate images...\n",
      "\n",
      "Score: 90.419%\n",
      "Images to compare\\frame25.jpg\n",
      "Images to compare\\frame0.jpg\n",
      "\n",
      "\n",
      "0.904190182685852\n",
      "\n",
      "\n",
      "not incident\n",
      "\n",
      "\n",
      "\n",
      "\n",
      "C:\\Anomaly detection IR\\video to images\\frame25.jpg removed\n",
      "\n",
      "\n",
      "C:\\Anomaly detection IR\\video to images\\frame26.jpg copied\n",
      "\n",
      "\n",
      "Images: 2\n"
     ]
    },
    {
     "data": {
      "application/vnd.jupyter.widget-view+json": {
       "model_id": "71439b18e61a4eb9ad5512a237dced6a",
       "version_major": 2,
       "version_minor": 0
      },
      "text/plain": [
       "Batches:   0%|          | 0/1 [00:00<?, ?it/s]"
      ]
     },
     "metadata": {},
     "output_type": "display_data"
    },
    {
     "name": "stdout",
     "output_type": "stream",
     "text": [
      "Finding duplicate images...\n",
      "Finding near duplicate images...\n",
      "\n",
      "Score: 89.802%\n",
      "Images to compare\\frame0.jpg\n",
      "Images to compare\\frame26.jpg\n",
      "\n",
      "\n",
      "0.8980230093002319\n",
      "\n",
      "\n",
      "not incident\n",
      "\n",
      "\n",
      "\n",
      "\n",
      "C:\\Anomaly detection IR\\video to images\\frame26.jpg removed\n",
      "\n",
      "\n",
      "C:\\Anomaly detection IR\\video to images\\frame27.jpg copied\n",
      "\n",
      "\n",
      "Images: 2\n"
     ]
    },
    {
     "data": {
      "application/vnd.jupyter.widget-view+json": {
       "model_id": "4b0d992429914bb3a537977d4f80f7bd",
       "version_major": 2,
       "version_minor": 0
      },
      "text/plain": [
       "Batches:   0%|          | 0/1 [00:00<?, ?it/s]"
      ]
     },
     "metadata": {},
     "output_type": "display_data"
    },
    {
     "name": "stdout",
     "output_type": "stream",
     "text": [
      "Finding duplicate images...\n",
      "Finding near duplicate images...\n",
      "\n",
      "Score: 89.578%\n",
      "Images to compare\\frame0.jpg\n",
      "Images to compare\\frame27.jpg\n",
      "\n",
      "\n",
      "0.895776093006134\n",
      "\n",
      "\n",
      "not incident\n",
      "\n",
      "\n",
      "\n",
      "\n",
      "C:\\Anomaly detection IR\\video to images\\frame27.jpg removed\n",
      "\n",
      "\n",
      "C:\\Anomaly detection IR\\video to images\\frame28.jpg copied\n",
      "\n",
      "\n",
      "Images: 2\n"
     ]
    },
    {
     "data": {
      "application/vnd.jupyter.widget-view+json": {
       "model_id": "c3fb0518bbc944eb8eb44d01b09e12f5",
       "version_major": 2,
       "version_minor": 0
      },
      "text/plain": [
       "Batches:   0%|          | 0/1 [00:00<?, ?it/s]"
      ]
     },
     "metadata": {},
     "output_type": "display_data"
    },
    {
     "name": "stdout",
     "output_type": "stream",
     "text": [
      "Finding duplicate images...\n",
      "Finding near duplicate images...\n",
      "\n",
      "Score: 89.042%\n",
      "Images to compare\\frame0.jpg\n",
      "Images to compare\\frame28.jpg\n",
      "\n",
      "\n",
      "0.8904187679290771\n",
      "\n",
      "\n",
      "not incident\n",
      "\n",
      "\n",
      "\n",
      "\n",
      "C:\\Anomaly detection IR\\video to images\\frame28.jpg removed\n",
      "\n",
      "\n",
      "C:\\Anomaly detection IR\\video to images\\frame29.jpg copied\n",
      "\n",
      "\n",
      "Images: 2\n"
     ]
    },
    {
     "data": {
      "application/vnd.jupyter.widget-view+json": {
       "model_id": "19a005d9addc4bb699c1e63daad8455b",
       "version_major": 2,
       "version_minor": 0
      },
      "text/plain": [
       "Batches:   0%|          | 0/1 [00:00<?, ?it/s]"
      ]
     },
     "metadata": {},
     "output_type": "display_data"
    },
    {
     "name": "stdout",
     "output_type": "stream",
     "text": [
      "Finding duplicate images...\n",
      "Finding near duplicate images...\n",
      "\n",
      "Score: 88.949%\n",
      "Images to compare\\frame29.jpg\n",
      "Images to compare\\frame0.jpg\n",
      "\n",
      "\n",
      "0.8894882798194885\n",
      "\n",
      "\n",
      "not incident\n",
      "\n",
      "\n",
      "\n",
      "\n",
      "C:\\Anomaly detection IR\\video to images\\frame29.jpg removed\n",
      "\n",
      "\n",
      "C:\\Anomaly detection IR\\video to images\\frame30.jpg copied\n",
      "\n",
      "\n",
      "Images: 2\n"
     ]
    },
    {
     "data": {
      "application/vnd.jupyter.widget-view+json": {
       "model_id": "07f73d6679c9457d92816b2d64f6abff",
       "version_major": 2,
       "version_minor": 0
      },
      "text/plain": [
       "Batches:   0%|          | 0/1 [00:00<?, ?it/s]"
      ]
     },
     "metadata": {},
     "output_type": "display_data"
    },
    {
     "name": "stdout",
     "output_type": "stream",
     "text": [
      "Finding duplicate images...\n",
      "Finding near duplicate images...\n",
      "\n",
      "Score: 91.513%\n",
      "Images to compare\\frame0.jpg\n",
      "Images to compare\\frame30.jpg\n",
      "\n",
      "\n",
      "0.9151314496994019\n",
      "\n",
      "\n",
      "not incident\n",
      "\n",
      "\n",
      "\n",
      "\n",
      "C:\\Anomaly detection IR\\video to images\\frame30.jpg removed\n",
      "\n",
      "\n",
      "C:\\Anomaly detection IR\\video to images\\frame31.jpg copied\n",
      "\n",
      "\n",
      "Images: 2\n"
     ]
    },
    {
     "data": {
      "application/vnd.jupyter.widget-view+json": {
       "model_id": "962df21359a9494b8d9eaa1f7425a540",
       "version_major": 2,
       "version_minor": 0
      },
      "text/plain": [
       "Batches:   0%|          | 0/1 [00:00<?, ?it/s]"
      ]
     },
     "metadata": {},
     "output_type": "display_data"
    },
    {
     "name": "stdout",
     "output_type": "stream",
     "text": [
      "Finding duplicate images...\n",
      "Finding near duplicate images...\n",
      "\n",
      "Score: 90.957%\n",
      "Images to compare\\frame0.jpg\n",
      "Images to compare\\frame31.jpg\n",
      "\n",
      "\n",
      "0.9095664620399475\n",
      "\n",
      "\n",
      "not incident\n",
      "\n",
      "\n",
      "\n",
      "\n",
      "C:\\Anomaly detection IR\\video to images\\frame31.jpg removed\n",
      "\n",
      "\n",
      "C:\\Anomaly detection IR\\video to images\\frame32.jpg copied\n",
      "\n",
      "\n",
      "Images: 2\n"
     ]
    },
    {
     "data": {
      "application/vnd.jupyter.widget-view+json": {
       "model_id": "d5eb1f09cd814cccadc0ee2b09e123ef",
       "version_major": 2,
       "version_minor": 0
      },
      "text/plain": [
       "Batches:   0%|          | 0/1 [00:00<?, ?it/s]"
      ]
     },
     "metadata": {},
     "output_type": "display_data"
    },
    {
     "name": "stdout",
     "output_type": "stream",
     "text": [
      "Finding duplicate images...\n",
      "Finding near duplicate images...\n",
      "\n",
      "Score: 89.798%\n",
      "Images to compare\\frame32.jpg\n",
      "Images to compare\\frame0.jpg\n",
      "\n",
      "\n",
      "0.8979783058166504\n",
      "\n",
      "\n",
      "not incident\n",
      "\n",
      "\n",
      "\n",
      "\n",
      "C:\\Anomaly detection IR\\video to images\\frame32.jpg removed\n",
      "\n",
      "\n",
      "C:\\Anomaly detection IR\\video to images\\frame33.jpg copied\n",
      "\n",
      "\n",
      "Images: 2\n"
     ]
    },
    {
     "data": {
      "application/vnd.jupyter.widget-view+json": {
       "model_id": "066630d3677241c9ad1d3273be2cfcaf",
       "version_major": 2,
       "version_minor": 0
      },
      "text/plain": [
       "Batches:   0%|          | 0/1 [00:00<?, ?it/s]"
      ]
     },
     "metadata": {},
     "output_type": "display_data"
    },
    {
     "name": "stdout",
     "output_type": "stream",
     "text": [
      "Finding duplicate images...\n",
      "Finding near duplicate images...\n",
      "\n",
      "Score: 90.384%\n",
      "Images to compare\\frame0.jpg\n",
      "Images to compare\\frame33.jpg\n",
      "\n",
      "\n",
      "0.9038359522819519\n",
      "\n",
      "\n",
      "not incident\n",
      "\n",
      "\n",
      "\n",
      "\n",
      "C:\\Anomaly detection IR\\video to images\\frame33.jpg removed\n",
      "\n",
      "\n",
      "C:\\Anomaly detection IR\\video to images\\frame34.jpg copied\n",
      "\n",
      "\n",
      "Images: 2\n"
     ]
    },
    {
     "data": {
      "application/vnd.jupyter.widget-view+json": {
       "model_id": "2c517e9ee1884af18115abcdd06dac0c",
       "version_major": 2,
       "version_minor": 0
      },
      "text/plain": [
       "Batches:   0%|          | 0/1 [00:00<?, ?it/s]"
      ]
     },
     "metadata": {},
     "output_type": "display_data"
    },
    {
     "name": "stdout",
     "output_type": "stream",
     "text": [
      "Finding duplicate images...\n",
      "Finding near duplicate images...\n",
      "\n",
      "Score: 89.893%\n",
      "Images to compare\\frame0.jpg\n",
      "Images to compare\\frame34.jpg\n",
      "\n",
      "\n",
      "0.8989301919937134\n",
      "\n",
      "\n",
      "not incident\n",
      "\n",
      "\n",
      "\n",
      "\n",
      "C:\\Anomaly detection IR\\video to images\\frame34.jpg removed\n",
      "\n",
      "\n",
      "C:\\Anomaly detection IR\\video to images\\frame35.jpg copied\n",
      "\n",
      "\n",
      "Images: 2\n"
     ]
    },
    {
     "data": {
      "application/vnd.jupyter.widget-view+json": {
       "model_id": "224e115543de45859f8604cc59ae51b5",
       "version_major": 2,
       "version_minor": 0
      },
      "text/plain": [
       "Batches:   0%|          | 0/1 [00:00<?, ?it/s]"
      ]
     },
     "metadata": {},
     "output_type": "display_data"
    },
    {
     "name": "stdout",
     "output_type": "stream",
     "text": [
      "Finding duplicate images...\n",
      "Finding near duplicate images...\n",
      "\n",
      "Score: 90.288%\n",
      "Images to compare\\frame0.jpg\n",
      "Images to compare\\frame35.jpg\n",
      "\n",
      "\n",
      "0.902877926826477\n",
      "\n",
      "\n",
      "not incident\n",
      "\n",
      "\n",
      "\n",
      "\n",
      "C:\\Anomaly detection IR\\video to images\\frame35.jpg removed\n",
      "\n",
      "\n",
      "C:\\Anomaly detection IR\\video to images\\frame36.jpg copied\n",
      "\n",
      "\n",
      "Images: 2\n"
     ]
    },
    {
     "data": {
      "application/vnd.jupyter.widget-view+json": {
       "model_id": "5a070ce9995643d0b83b9295dce8c077",
       "version_major": 2,
       "version_minor": 0
      },
      "text/plain": [
       "Batches:   0%|          | 0/1 [00:00<?, ?it/s]"
      ]
     },
     "metadata": {},
     "output_type": "display_data"
    },
    {
     "name": "stdout",
     "output_type": "stream",
     "text": [
      "Finding duplicate images...\n",
      "Finding near duplicate images...\n",
      "\n",
      "Score: 90.802%\n",
      "Images to compare\\frame0.jpg\n",
      "Images to compare\\frame36.jpg\n",
      "\n",
      "\n",
      "0.9080227613449097\n",
      "\n",
      "\n",
      "not incident\n",
      "\n",
      "\n",
      "\n",
      "\n",
      "C:\\Anomaly detection IR\\video to images\\frame36.jpg removed\n",
      "\n",
      "\n",
      "C:\\Anomaly detection IR\\video to images\\frame37.jpg copied\n",
      "\n",
      "\n",
      "Images: 2\n"
     ]
    },
    {
     "data": {
      "application/vnd.jupyter.widget-view+json": {
       "model_id": "49a40d5f0bae4b66a5af040d31c46e8e",
       "version_major": 2,
       "version_minor": 0
      },
      "text/plain": [
       "Batches:   0%|          | 0/1 [00:00<?, ?it/s]"
      ]
     },
     "metadata": {},
     "output_type": "display_data"
    },
    {
     "name": "stdout",
     "output_type": "stream",
     "text": [
      "Finding duplicate images...\n",
      "Finding near duplicate images...\n",
      "\n",
      "Score: 90.479%\n",
      "Images to compare\\frame0.jpg\n",
      "Images to compare\\frame37.jpg\n",
      "\n",
      "\n",
      "0.904793918132782\n",
      "\n",
      "\n",
      "not incident\n",
      "\n",
      "\n",
      "\n",
      "\n",
      "C:\\Anomaly detection IR\\video to images\\frame37.jpg removed\n",
      "\n",
      "\n",
      "C:\\Anomaly detection IR\\video to images\\frame38.jpg copied\n",
      "\n",
      "\n",
      "Images: 2\n"
     ]
    },
    {
     "data": {
      "application/vnd.jupyter.widget-view+json": {
       "model_id": "e5d9601e58ac482e9f0346106c1c1171",
       "version_major": 2,
       "version_minor": 0
      },
      "text/plain": [
       "Batches:   0%|          | 0/1 [00:00<?, ?it/s]"
      ]
     },
     "metadata": {},
     "output_type": "display_data"
    },
    {
     "name": "stdout",
     "output_type": "stream",
     "text": [
      "Finding duplicate images...\n",
      "Finding near duplicate images...\n",
      "\n",
      "Score: 90.050%\n",
      "Images to compare\\frame38.jpg\n",
      "Images to compare\\frame0.jpg\n",
      "\n",
      "\n",
      "0.9005042314529419\n",
      "\n",
      "\n",
      "not incident\n",
      "\n",
      "\n",
      "\n",
      "\n",
      "C:\\Anomaly detection IR\\video to images\\frame38.jpg removed\n",
      "\n",
      "\n",
      "C:\\Anomaly detection IR\\video to images\\frame39.jpg copied\n",
      "\n",
      "\n",
      "Images: 2\n"
     ]
    },
    {
     "data": {
      "application/vnd.jupyter.widget-view+json": {
       "model_id": "36f4326fe5104310852ccda6f68dadc5",
       "version_major": 2,
       "version_minor": 0
      },
      "text/plain": [
       "Batches:   0%|          | 0/1 [00:00<?, ?it/s]"
      ]
     },
     "metadata": {},
     "output_type": "display_data"
    },
    {
     "name": "stdout",
     "output_type": "stream",
     "text": [
      "Finding duplicate images...\n",
      "Finding near duplicate images...\n",
      "\n",
      "Score: 90.493%\n",
      "Images to compare\\frame0.jpg\n",
      "Images to compare\\frame39.jpg\n",
      "\n",
      "\n",
      "0.904931902885437\n",
      "\n",
      "\n",
      "not incident\n",
      "\n",
      "\n",
      "\n",
      "\n",
      "C:\\Anomaly detection IR\\video to images\\frame39.jpg removed\n",
      "\n",
      "\n",
      "C:\\Anomaly detection IR\\video to images\\frame40.jpg copied\n",
      "\n",
      "\n",
      "Images: 2\n"
     ]
    },
    {
     "data": {
      "application/vnd.jupyter.widget-view+json": {
       "model_id": "6f866bfdf0674a459f744171b1b2e93f",
       "version_major": 2,
       "version_minor": 0
      },
      "text/plain": [
       "Batches:   0%|          | 0/1 [00:00<?, ?it/s]"
      ]
     },
     "metadata": {},
     "output_type": "display_data"
    },
    {
     "name": "stdout",
     "output_type": "stream",
     "text": [
      "Finding duplicate images...\n",
      "Finding near duplicate images...\n",
      "\n",
      "Score: 89.821%\n",
      "Images to compare\\frame0.jpg\n",
      "Images to compare\\frame40.jpg\n",
      "\n",
      "\n",
      "0.8982089757919312\n",
      "\n",
      "\n",
      "not incident\n",
      "\n",
      "\n",
      "\n",
      "\n",
      "C:\\Anomaly detection IR\\video to images\\frame40.jpg removed\n",
      "\n",
      "\n",
      "C:\\Anomaly detection IR\\video to images\\frame41.jpg copied\n",
      "\n",
      "\n",
      "Images: 2\n"
     ]
    },
    {
     "data": {
      "application/vnd.jupyter.widget-view+json": {
       "model_id": "b2a5233d46f349629dbd596facee3767",
       "version_major": 2,
       "version_minor": 0
      },
      "text/plain": [
       "Batches:   0%|          | 0/1 [00:00<?, ?it/s]"
      ]
     },
     "metadata": {},
     "output_type": "display_data"
    },
    {
     "name": "stdout",
     "output_type": "stream",
     "text": [
      "Finding duplicate images...\n",
      "Finding near duplicate images...\n",
      "\n",
      "Score: 90.476%\n",
      "Images to compare\\frame41.jpg\n",
      "Images to compare\\frame0.jpg\n",
      "\n",
      "\n",
      "0.9047613143920898\n",
      "\n",
      "\n",
      "not incident\n",
      "\n",
      "\n",
      "\n",
      "\n",
      "C:\\Anomaly detection IR\\video to images\\frame41.jpg removed\n",
      "\n",
      "\n",
      "C:\\Anomaly detection IR\\video to images\\frame42.jpg copied\n",
      "\n",
      "\n",
      "Images: 2\n"
     ]
    },
    {
     "data": {
      "application/vnd.jupyter.widget-view+json": {
       "model_id": "d24041f5c9564b3098196d7b4d4b6525",
       "version_major": 2,
       "version_minor": 0
      },
      "text/plain": [
       "Batches:   0%|          | 0/1 [00:00<?, ?it/s]"
      ]
     },
     "metadata": {},
     "output_type": "display_data"
    },
    {
     "name": "stdout",
     "output_type": "stream",
     "text": [
      "Finding duplicate images...\n",
      "Finding near duplicate images...\n",
      "\n",
      "Score: 89.923%\n",
      "Images to compare\\frame42.jpg\n",
      "Images to compare\\frame0.jpg\n",
      "\n",
      "\n",
      "0.8992336988449097\n",
      "\n",
      "\n",
      "not incident\n",
      "\n",
      "\n",
      "\n",
      "\n",
      "C:\\Anomaly detection IR\\video to images\\frame42.jpg removed\n",
      "\n",
      "\n",
      "C:\\Anomaly detection IR\\video to images\\frame43.jpg copied\n",
      "\n",
      "\n",
      "Images: 2\n"
     ]
    },
    {
     "data": {
      "application/vnd.jupyter.widget-view+json": {
       "model_id": "19f1291cc07e4a9f93826e66350f4255",
       "version_major": 2,
       "version_minor": 0
      },
      "text/plain": [
       "Batches:   0%|          | 0/1 [00:00<?, ?it/s]"
      ]
     },
     "metadata": {},
     "output_type": "display_data"
    },
    {
     "name": "stdout",
     "output_type": "stream",
     "text": [
      "Finding duplicate images...\n",
      "Finding near duplicate images...\n",
      "\n",
      "Score: 90.699%\n",
      "Images to compare\\frame43.jpg\n",
      "Images to compare\\frame0.jpg\n",
      "\n",
      "\n",
      "0.9069865345954895\n",
      "\n",
      "\n",
      "not incident\n",
      "\n",
      "\n",
      "\n",
      "\n",
      "C:\\Anomaly detection IR\\video to images\\frame43.jpg removed\n",
      "\n",
      "\n",
      "C:\\Anomaly detection IR\\video to images\\frame44.jpg copied\n",
      "\n",
      "\n",
      "Images: 2\n"
     ]
    },
    {
     "data": {
      "application/vnd.jupyter.widget-view+json": {
       "model_id": "45182dd08d6745c99c8143446d46bf45",
       "version_major": 2,
       "version_minor": 0
      },
      "text/plain": [
       "Batches:   0%|          | 0/1 [00:00<?, ?it/s]"
      ]
     },
     "metadata": {},
     "output_type": "display_data"
    },
    {
     "name": "stdout",
     "output_type": "stream",
     "text": [
      "Finding duplicate images...\n",
      "Finding near duplicate images...\n",
      "\n",
      "Score: 90.667%\n",
      "Images to compare\\frame0.jpg\n",
      "Images to compare\\frame44.jpg\n",
      "\n",
      "\n",
      "0.9066650867462158\n",
      "\n",
      "\n",
      "not incident\n",
      "\n",
      "\n",
      "\n",
      "\n",
      "C:\\Anomaly detection IR\\video to images\\frame44.jpg removed\n",
      "\n",
      "\n",
      "C:\\Anomaly detection IR\\video to images\\frame45.jpg copied\n",
      "\n",
      "\n",
      "Images: 2\n"
     ]
    },
    {
     "data": {
      "application/vnd.jupyter.widget-view+json": {
       "model_id": "cefa59ba45a542f9bef7dce69ae1691d",
       "version_major": 2,
       "version_minor": 0
      },
      "text/plain": [
       "Batches:   0%|          | 0/1 [00:00<?, ?it/s]"
      ]
     },
     "metadata": {},
     "output_type": "display_data"
    },
    {
     "name": "stdout",
     "output_type": "stream",
     "text": [
      "Finding duplicate images...\n",
      "Finding near duplicate images...\n",
      "\n",
      "Score: 91.370%\n",
      "Images to compare\\frame0.jpg\n",
      "Images to compare\\frame45.jpg\n",
      "\n",
      "\n",
      "0.9136998653411865\n",
      "\n",
      "\n",
      "not incident\n",
      "\n",
      "\n",
      "\n",
      "\n",
      "C:\\Anomaly detection IR\\video to images\\frame45.jpg removed\n",
      "\n",
      "\n",
      "C:\\Anomaly detection IR\\video to images\\frame46.jpg copied\n",
      "\n",
      "\n",
      "Images: 2\n"
     ]
    },
    {
     "data": {
      "application/vnd.jupyter.widget-view+json": {
       "model_id": "f451574b1ba04e4c97e35d7e7f20e81a",
       "version_major": 2,
       "version_minor": 0
      },
      "text/plain": [
       "Batches:   0%|          | 0/1 [00:00<?, ?it/s]"
      ]
     },
     "metadata": {},
     "output_type": "display_data"
    },
    {
     "name": "stdout",
     "output_type": "stream",
     "text": [
      "Finding duplicate images...\n",
      "Finding near duplicate images...\n",
      "\n",
      "Score: 92.204%\n",
      "Images to compare\\frame0.jpg\n",
      "Images to compare\\frame46.jpg\n",
      "\n",
      "\n",
      "0.9220442175865173\n",
      "\n",
      "\n",
      "not incident\n",
      "\n",
      "\n",
      "\n",
      "\n",
      "C:\\Anomaly detection IR\\video to images\\frame46.jpg removed\n",
      "\n",
      "\n",
      "C:\\Anomaly detection IR\\video to images\\frame47.jpg copied\n",
      "\n",
      "\n",
      "Images: 2\n"
     ]
    },
    {
     "data": {
      "application/vnd.jupyter.widget-view+json": {
       "model_id": "cbdca5e25e244da8bf7200686c96de96",
       "version_major": 2,
       "version_minor": 0
      },
      "text/plain": [
       "Batches:   0%|          | 0/1 [00:00<?, ?it/s]"
      ]
     },
     "metadata": {},
     "output_type": "display_data"
    },
    {
     "name": "stdout",
     "output_type": "stream",
     "text": [
      "Finding duplicate images...\n",
      "Finding near duplicate images...\n",
      "\n",
      "Score: 90.556%\n",
      "Images to compare\\frame0.jpg\n",
      "Images to compare\\frame47.jpg\n",
      "\n",
      "\n",
      "0.9055613279342651\n",
      "\n",
      "\n",
      "not incident\n",
      "\n",
      "\n",
      "\n",
      "\n",
      "C:\\Anomaly detection IR\\video to images\\frame47.jpg removed\n",
      "\n",
      "\n",
      "C:\\Anomaly detection IR\\video to images\\frame48.jpg copied\n",
      "\n",
      "\n",
      "Images: 2\n"
     ]
    },
    {
     "data": {
      "application/vnd.jupyter.widget-view+json": {
       "model_id": "cc3da7c90d7f48f58ecbd66aef3e288c",
       "version_major": 2,
       "version_minor": 0
      },
      "text/plain": [
       "Batches:   0%|          | 0/1 [00:00<?, ?it/s]"
      ]
     },
     "metadata": {},
     "output_type": "display_data"
    },
    {
     "name": "stdout",
     "output_type": "stream",
     "text": [
      "Finding duplicate images...\n",
      "Finding near duplicate images...\n",
      "\n",
      "Score: 91.475%\n",
      "Images to compare\\frame0.jpg\n",
      "Images to compare\\frame48.jpg\n",
      "\n",
      "\n",
      "0.9147529602050781\n",
      "\n",
      "\n",
      "not incident\n",
      "\n",
      "\n",
      "\n",
      "\n",
      "C:\\Anomaly detection IR\\video to images\\frame48.jpg removed\n",
      "\n",
      "\n",
      "C:\\Anomaly detection IR\\video to images\\frame49.jpg copied\n",
      "\n",
      "\n",
      "Images: 2\n"
     ]
    },
    {
     "data": {
      "application/vnd.jupyter.widget-view+json": {
       "model_id": "669de4189d694798bdb3855b48107b5f",
       "version_major": 2,
       "version_minor": 0
      },
      "text/plain": [
       "Batches:   0%|          | 0/1 [00:00<?, ?it/s]"
      ]
     },
     "metadata": {},
     "output_type": "display_data"
    },
    {
     "name": "stdout",
     "output_type": "stream",
     "text": [
      "Finding duplicate images...\n",
      "Finding near duplicate images...\n",
      "\n",
      "Score: 92.625%\n",
      "Images to compare\\frame0.jpg\n",
      "Images to compare\\frame49.jpg\n",
      "\n",
      "\n",
      "0.9262499213218689\n",
      "\n",
      "\n",
      "not incident\n",
      "\n",
      "\n",
      "\n",
      "\n",
      "C:\\Anomaly detection IR\\video to images\\frame49.jpg removed\n",
      "\n",
      "\n",
      "C:\\Anomaly detection IR\\video to images\\frame50.jpg copied\n",
      "\n",
      "\n",
      "Images: 2\n"
     ]
    },
    {
     "data": {
      "application/vnd.jupyter.widget-view+json": {
       "model_id": "9ac0f2d209064b039f6a4d9d357a6981",
       "version_major": 2,
       "version_minor": 0
      },
      "text/plain": [
       "Batches:   0%|          | 0/1 [00:00<?, ?it/s]"
      ]
     },
     "metadata": {},
     "output_type": "display_data"
    },
    {
     "name": "stdout",
     "output_type": "stream",
     "text": [
      "Finding duplicate images...\n",
      "Finding near duplicate images...\n",
      "\n",
      "Score: 92.416%\n",
      "Images to compare\\frame0.jpg\n",
      "Images to compare\\frame50.jpg\n",
      "\n",
      "\n",
      "0.9241604804992676\n",
      "\n",
      "\n",
      "not incident\n",
      "\n",
      "\n",
      "\n",
      "\n",
      "C:\\Anomaly detection IR\\video to images\\frame50.jpg removed\n",
      "\n",
      "\n",
      "C:\\Anomaly detection IR\\video to images\\frame51.jpg copied\n",
      "\n",
      "\n",
      "Images: 2\n"
     ]
    },
    {
     "data": {
      "application/vnd.jupyter.widget-view+json": {
       "model_id": "2c4960baf1da416cac0b27e708de7c6a",
       "version_major": 2,
       "version_minor": 0
      },
      "text/plain": [
       "Batches:   0%|          | 0/1 [00:00<?, ?it/s]"
      ]
     },
     "metadata": {},
     "output_type": "display_data"
    },
    {
     "name": "stdout",
     "output_type": "stream",
     "text": [
      "Finding duplicate images...\n",
      "Finding near duplicate images...\n",
      "\n",
      "Score: 91.914%\n",
      "Images to compare\\frame0.jpg\n",
      "Images to compare\\frame51.jpg\n",
      "\n",
      "\n",
      "0.9191442728042603\n",
      "\n",
      "\n",
      "not incident\n",
      "\n",
      "\n",
      "\n",
      "\n",
      "C:\\Anomaly detection IR\\video to images\\frame51.jpg removed\n",
      "\n",
      "\n",
      "C:\\Anomaly detection IR\\video to images\\frame52.jpg copied\n",
      "\n",
      "\n",
      "Images: 2\n"
     ]
    },
    {
     "data": {
      "application/vnd.jupyter.widget-view+json": {
       "model_id": "0d7443e3281e406ba1cc545aeb9dbd35",
       "version_major": 2,
       "version_minor": 0
      },
      "text/plain": [
       "Batches:   0%|          | 0/1 [00:00<?, ?it/s]"
      ]
     },
     "metadata": {},
     "output_type": "display_data"
    },
    {
     "name": "stdout",
     "output_type": "stream",
     "text": [
      "Finding duplicate images...\n",
      "Finding near duplicate images...\n",
      "\n",
      "Score: 92.373%\n",
      "Images to compare\\frame0.jpg\n",
      "Images to compare\\frame52.jpg\n",
      "\n",
      "\n",
      "0.9237338304519653\n",
      "\n",
      "\n",
      "not incident\n",
      "\n",
      "\n",
      "\n",
      "\n",
      "C:\\Anomaly detection IR\\video to images\\frame52.jpg removed\n",
      "\n",
      "\n",
      "C:\\Anomaly detection IR\\video to images\\frame53.jpg copied\n",
      "\n",
      "\n",
      "Images: 2\n"
     ]
    },
    {
     "data": {
      "application/vnd.jupyter.widget-view+json": {
       "model_id": "ead5f29c8c154c4da9db90d1cb54c6d3",
       "version_major": 2,
       "version_minor": 0
      },
      "text/plain": [
       "Batches:   0%|          | 0/1 [00:00<?, ?it/s]"
      ]
     },
     "metadata": {},
     "output_type": "display_data"
    },
    {
     "name": "stdout",
     "output_type": "stream",
     "text": [
      "Finding duplicate images...\n",
      "Finding near duplicate images...\n",
      "\n",
      "Score: 91.771%\n",
      "Images to compare\\frame0.jpg\n",
      "Images to compare\\frame53.jpg\n",
      "\n",
      "\n",
      "0.9177124500274658\n",
      "\n",
      "\n",
      "not incident\n",
      "\n",
      "\n",
      "\n",
      "\n",
      "C:\\Anomaly detection IR\\video to images\\frame53.jpg removed\n",
      "\n",
      "\n",
      "C:\\Anomaly detection IR\\video to images\\frame54.jpg copied\n",
      "\n",
      "\n",
      "Images: 2\n"
     ]
    },
    {
     "data": {
      "application/vnd.jupyter.widget-view+json": {
       "model_id": "e547344b5cf14448a36e5a472c7bfe73",
       "version_major": 2,
       "version_minor": 0
      },
      "text/plain": [
       "Batches:   0%|          | 0/1 [00:00<?, ?it/s]"
      ]
     },
     "metadata": {},
     "output_type": "display_data"
    },
    {
     "name": "stdout",
     "output_type": "stream",
     "text": [
      "Finding duplicate images...\n",
      "Finding near duplicate images...\n",
      "\n",
      "Score: 91.458%\n",
      "Images to compare\\frame0.jpg\n",
      "Images to compare\\frame54.jpg\n",
      "\n",
      "\n",
      "0.9145800471305847\n",
      "\n",
      "\n",
      "not incident\n",
      "\n",
      "\n",
      "\n",
      "\n",
      "C:\\Anomaly detection IR\\video to images\\frame54.jpg removed\n",
      "\n",
      "\n",
      "C:\\Anomaly detection IR\\video to images\\frame55.jpg copied\n",
      "\n",
      "\n",
      "Images: 2\n"
     ]
    },
    {
     "data": {
      "application/vnd.jupyter.widget-view+json": {
       "model_id": "c1ef924850104508b8577becd2292b8c",
       "version_major": 2,
       "version_minor": 0
      },
      "text/plain": [
       "Batches:   0%|          | 0/1 [00:00<?, ?it/s]"
      ]
     },
     "metadata": {},
     "output_type": "display_data"
    },
    {
     "name": "stdout",
     "output_type": "stream",
     "text": [
      "Finding duplicate images...\n",
      "Finding near duplicate images...\n",
      "\n",
      "Score: 90.225%\n",
      "Images to compare\\frame0.jpg\n",
      "Images to compare\\frame55.jpg\n",
      "\n",
      "\n",
      "0.9022475481033325\n",
      "\n",
      "\n",
      "not incident\n",
      "\n",
      "\n",
      "\n",
      "\n",
      "C:\\Anomaly detection IR\\video to images\\frame55.jpg removed\n",
      "\n",
      "\n",
      "C:\\Anomaly detection IR\\video to images\\frame56.jpg copied\n",
      "\n",
      "\n",
      "Images: 2\n"
     ]
    },
    {
     "data": {
      "application/vnd.jupyter.widget-view+json": {
       "model_id": "5c2282fec01c4cf898f7bddd18f2038c",
       "version_major": 2,
       "version_minor": 0
      },
      "text/plain": [
       "Batches:   0%|          | 0/1 [00:00<?, ?it/s]"
      ]
     },
     "metadata": {},
     "output_type": "display_data"
    },
    {
     "name": "stdout",
     "output_type": "stream",
     "text": [
      "Finding duplicate images...\n",
      "Finding near duplicate images...\n",
      "\n",
      "Score: 89.733%\n",
      "Images to compare\\frame0.jpg\n",
      "Images to compare\\frame56.jpg\n",
      "\n",
      "\n",
      "0.8973303437232971\n",
      "\n",
      "\n",
      "not incident\n",
      "\n",
      "\n",
      "\n",
      "\n",
      "C:\\Anomaly detection IR\\video to images\\frame56.jpg removed\n",
      "\n",
      "\n",
      "C:\\Anomaly detection IR\\video to images\\frame57.jpg copied\n",
      "\n",
      "\n",
      "Images: 2\n"
     ]
    },
    {
     "data": {
      "application/vnd.jupyter.widget-view+json": {
       "model_id": "c47420514d584907a36d8dc597fa0801",
       "version_major": 2,
       "version_minor": 0
      },
      "text/plain": [
       "Batches:   0%|          | 0/1 [00:00<?, ?it/s]"
      ]
     },
     "metadata": {},
     "output_type": "display_data"
    },
    {
     "name": "stdout",
     "output_type": "stream",
     "text": [
      "Finding duplicate images...\n",
      "Finding near duplicate images...\n",
      "\n",
      "Score: 91.051%\n",
      "Images to compare\\frame0.jpg\n",
      "Images to compare\\frame57.jpg\n",
      "\n",
      "\n",
      "0.9105141758918762\n",
      "\n",
      "\n",
      "not incident\n",
      "\n",
      "\n",
      "\n",
      "\n",
      "C:\\Anomaly detection IR\\video to images\\frame57.jpg removed\n",
      "\n",
      "\n",
      "C:\\Anomaly detection IR\\video to images\\frame58.jpg copied\n",
      "\n",
      "\n",
      "Images: 2\n"
     ]
    },
    {
     "data": {
      "application/vnd.jupyter.widget-view+json": {
       "model_id": "2941d459e2f34a0c9db245a8716b3d2b",
       "version_major": 2,
       "version_minor": 0
      },
      "text/plain": [
       "Batches:   0%|          | 0/1 [00:00<?, ?it/s]"
      ]
     },
     "metadata": {},
     "output_type": "display_data"
    },
    {
     "name": "stdout",
     "output_type": "stream",
     "text": [
      "Finding duplicate images...\n",
      "Finding near duplicate images...\n",
      "\n",
      "Score: 91.126%\n",
      "Images to compare\\frame0.jpg\n",
      "Images to compare\\frame58.jpg\n",
      "\n",
      "\n",
      "0.9112582802772522\n",
      "\n",
      "\n",
      "not incident\n",
      "\n",
      "\n",
      "\n",
      "\n",
      "C:\\Anomaly detection IR\\video to images\\frame58.jpg removed\n",
      "\n",
      "\n",
      "C:\\Anomaly detection IR\\video to images\\frame59.jpg copied\n",
      "\n",
      "\n",
      "Images: 2\n"
     ]
    },
    {
     "data": {
      "application/vnd.jupyter.widget-view+json": {
       "model_id": "d8b687528b954e0d90ca19f9de08380d",
       "version_major": 2,
       "version_minor": 0
      },
      "text/plain": [
       "Batches:   0%|          | 0/1 [00:00<?, ?it/s]"
      ]
     },
     "metadata": {},
     "output_type": "display_data"
    },
    {
     "name": "stdout",
     "output_type": "stream",
     "text": [
      "Finding duplicate images...\n",
      "Finding near duplicate images...\n",
      "\n",
      "Score: 91.953%\n",
      "Images to compare\\frame0.jpg\n",
      "Images to compare\\frame59.jpg\n",
      "\n",
      "\n",
      "0.9195325970649719\n",
      "\n",
      "\n",
      "not incident\n",
      "\n",
      "\n",
      "\n",
      "\n",
      "C:\\Anomaly detection IR\\video to images\\frame59.jpg removed\n",
      "\n",
      "\n",
      "C:\\Anomaly detection IR\\video to images\\frame60.jpg copied\n",
      "\n",
      "\n",
      "Images: 2\n"
     ]
    },
    {
     "data": {
      "application/vnd.jupyter.widget-view+json": {
       "model_id": "da59bd61bbee4aba8c5316be452fe5c0",
       "version_major": 2,
       "version_minor": 0
      },
      "text/plain": [
       "Batches:   0%|          | 0/1 [00:00<?, ?it/s]"
      ]
     },
     "metadata": {},
     "output_type": "display_data"
    },
    {
     "name": "stdout",
     "output_type": "stream",
     "text": [
      "Finding duplicate images...\n",
      "Finding near duplicate images...\n",
      "\n",
      "Score: 93.653%\n",
      "Images to compare\\frame0.jpg\n",
      "Images to compare\\frame60.jpg\n",
      "\n",
      "\n",
      "0.9365271329879761\n",
      "\n",
      "\n",
      "not incident\n",
      "\n",
      "\n",
      "\n",
      "\n",
      "C:\\Anomaly detection IR\\video to images\\frame60.jpg removed\n",
      "\n",
      "\n",
      "C:\\Anomaly detection IR\\video to images\\frame61.jpg copied\n",
      "\n",
      "\n",
      "Images: 2\n"
     ]
    },
    {
     "data": {
      "application/vnd.jupyter.widget-view+json": {
       "model_id": "a00bb95113614e34aeac3ffc1d2e5f09",
       "version_major": 2,
       "version_minor": 0
      },
      "text/plain": [
       "Batches:   0%|          | 0/1 [00:00<?, ?it/s]"
      ]
     },
     "metadata": {},
     "output_type": "display_data"
    },
    {
     "name": "stdout",
     "output_type": "stream",
     "text": [
      "Finding duplicate images...\n",
      "Finding near duplicate images...\n",
      "\n",
      "Score: 92.087%\n",
      "Images to compare\\frame0.jpg\n",
      "Images to compare\\frame61.jpg\n",
      "\n",
      "\n",
      "0.9208738207817078\n",
      "\n",
      "\n",
      "not incident\n",
      "\n",
      "\n",
      "\n",
      "\n",
      "C:\\Anomaly detection IR\\video to images\\frame61.jpg removed\n",
      "\n",
      "\n",
      "C:\\Anomaly detection IR\\video to images\\frame62.jpg copied\n",
      "\n",
      "\n",
      "Images: 2\n"
     ]
    },
    {
     "data": {
      "application/vnd.jupyter.widget-view+json": {
       "model_id": "6a0047bb28e940dcb01d8c4e1554bf1c",
       "version_major": 2,
       "version_minor": 0
      },
      "text/plain": [
       "Batches:   0%|          | 0/1 [00:00<?, ?it/s]"
      ]
     },
     "metadata": {},
     "output_type": "display_data"
    },
    {
     "name": "stdout",
     "output_type": "stream",
     "text": [
      "Finding duplicate images...\n",
      "Finding near duplicate images...\n",
      "\n",
      "Score: 92.940%\n",
      "Images to compare\\frame0.jpg\n",
      "Images to compare\\frame62.jpg\n",
      "\n",
      "\n",
      "0.9293988943099976\n",
      "\n",
      "\n",
      "not incident\n",
      "\n",
      "\n",
      "\n",
      "\n",
      "C:\\Anomaly detection IR\\video to images\\frame62.jpg removed\n",
      "\n",
      "\n",
      "C:\\Anomaly detection IR\\video to images\\frame63.jpg copied\n",
      "\n",
      "\n",
      "Images: 2\n"
     ]
    },
    {
     "data": {
      "application/vnd.jupyter.widget-view+json": {
       "model_id": "67ef5418361d49b98584dca35db53cd0",
       "version_major": 2,
       "version_minor": 0
      },
      "text/plain": [
       "Batches:   0%|          | 0/1 [00:00<?, ?it/s]"
      ]
     },
     "metadata": {},
     "output_type": "display_data"
    },
    {
     "name": "stdout",
     "output_type": "stream",
     "text": [
      "Finding duplicate images...\n",
      "Finding near duplicate images...\n",
      "\n",
      "Score: 92.598%\n",
      "Images to compare\\frame0.jpg\n",
      "Images to compare\\frame63.jpg\n",
      "\n",
      "\n",
      "0.9259810447692871\n",
      "\n",
      "\n",
      "not incident\n",
      "\n",
      "\n",
      "\n",
      "\n",
      "C:\\Anomaly detection IR\\video to images\\frame63.jpg removed\n",
      "\n",
      "\n",
      "C:\\Anomaly detection IR\\video to images\\frame64.jpg copied\n",
      "\n",
      "\n",
      "Images: 2\n"
     ]
    },
    {
     "data": {
      "application/vnd.jupyter.widget-view+json": {
       "model_id": "e45c89e6c6864e55b7fa9b25ff731d78",
       "version_major": 2,
       "version_minor": 0
      },
      "text/plain": [
       "Batches:   0%|          | 0/1 [00:00<?, ?it/s]"
      ]
     },
     "metadata": {},
     "output_type": "display_data"
    },
    {
     "name": "stdout",
     "output_type": "stream",
     "text": [
      "Finding duplicate images...\n",
      "Finding near duplicate images...\n",
      "\n",
      "Score: 91.287%\n",
      "Images to compare\\frame64.jpg\n",
      "Images to compare\\frame0.jpg\n",
      "\n",
      "\n",
      "0.9128729701042175\n",
      "\n",
      "\n",
      "not incident\n",
      "\n",
      "\n",
      "\n",
      "\n",
      "C:\\Anomaly detection IR\\video to images\\frame64.jpg removed\n",
      "\n",
      "\n",
      "C:\\Anomaly detection IR\\video to images\\frame65.jpg copied\n",
      "\n",
      "\n",
      "Images: 2\n"
     ]
    },
    {
     "data": {
      "application/vnd.jupyter.widget-view+json": {
       "model_id": "5286f261070541e6b58b2fb9ff836e16",
       "version_major": 2,
       "version_minor": 0
      },
      "text/plain": [
       "Batches:   0%|          | 0/1 [00:00<?, ?it/s]"
      ]
     },
     "metadata": {},
     "output_type": "display_data"
    },
    {
     "name": "stdout",
     "output_type": "stream",
     "text": [
      "Finding duplicate images...\n",
      "Finding near duplicate images...\n",
      "\n",
      "Score: 91.957%\n",
      "Images to compare\\frame0.jpg\n",
      "Images to compare\\frame65.jpg\n",
      "\n",
      "\n",
      "0.9195703864097595\n",
      "\n",
      "\n",
      "not incident\n",
      "\n",
      "\n",
      "\n",
      "\n",
      "C:\\Anomaly detection IR\\video to images\\frame65.jpg removed\n",
      "\n",
      "\n",
      "C:\\Anomaly detection IR\\video to images\\frame66.jpg copied\n",
      "\n",
      "\n",
      "Images: 2\n"
     ]
    },
    {
     "data": {
      "application/vnd.jupyter.widget-view+json": {
       "model_id": "ac81b691705d44199dff96d18a8095c2",
       "version_major": 2,
       "version_minor": 0
      },
      "text/plain": [
       "Batches:   0%|          | 0/1 [00:00<?, ?it/s]"
      ]
     },
     "metadata": {},
     "output_type": "display_data"
    },
    {
     "name": "stdout",
     "output_type": "stream",
     "text": [
      "Finding duplicate images...\n",
      "Finding near duplicate images...\n",
      "\n",
      "Score: 91.889%\n",
      "Images to compare\\frame66.jpg\n",
      "Images to compare\\frame0.jpg\n",
      "\n",
      "\n",
      "0.918890655040741\n",
      "\n",
      "\n",
      "not incident\n",
      "\n",
      "\n",
      "\n",
      "\n",
      "C:\\Anomaly detection IR\\video to images\\frame66.jpg removed\n",
      "\n",
      "\n",
      "C:\\Anomaly detection IR\\video to images\\frame67.jpg copied\n",
      "\n",
      "\n",
      "Images: 2\n"
     ]
    },
    {
     "data": {
      "application/vnd.jupyter.widget-view+json": {
       "model_id": "84601c2683b748a6944c18e60354aa94",
       "version_major": 2,
       "version_minor": 0
      },
      "text/plain": [
       "Batches:   0%|          | 0/1 [00:00<?, ?it/s]"
      ]
     },
     "metadata": {},
     "output_type": "display_data"
    },
    {
     "name": "stdout",
     "output_type": "stream",
     "text": [
      "Finding duplicate images...\n",
      "Finding near duplicate images...\n",
      "\n",
      "Score: 91.569%\n",
      "Images to compare\\frame0.jpg\n",
      "Images to compare\\frame67.jpg\n",
      "\n",
      "\n",
      "0.9156944751739502\n",
      "\n",
      "\n",
      "not incident\n",
      "\n",
      "\n",
      "\n",
      "\n",
      "C:\\Anomaly detection IR\\video to images\\frame67.jpg removed\n",
      "\n",
      "\n",
      "C:\\Anomaly detection IR\\video to images\\frame68.jpg copied\n",
      "\n",
      "\n",
      "Images: 2\n"
     ]
    },
    {
     "data": {
      "application/vnd.jupyter.widget-view+json": {
       "model_id": "1bd974997e7644d1ac07341dc0363223",
       "version_major": 2,
       "version_minor": 0
      },
      "text/plain": [
       "Batches:   0%|          | 0/1 [00:00<?, ?it/s]"
      ]
     },
     "metadata": {},
     "output_type": "display_data"
    },
    {
     "name": "stdout",
     "output_type": "stream",
     "text": [
      "Finding duplicate images...\n",
      "Finding near duplicate images...\n",
      "\n",
      "Score: 92.211%\n",
      "Images to compare\\frame0.jpg\n",
      "Images to compare\\frame68.jpg\n",
      "\n",
      "\n",
      "0.922107458114624\n",
      "\n",
      "\n",
      "not incident\n",
      "\n",
      "\n",
      "\n",
      "\n",
      "C:\\Anomaly detection IR\\video to images\\frame68.jpg removed\n",
      "\n",
      "\n",
      "C:\\Anomaly detection IR\\video to images\\frame69.jpg copied\n",
      "\n",
      "\n",
      "Images: 2\n"
     ]
    },
    {
     "data": {
      "application/vnd.jupyter.widget-view+json": {
       "model_id": "cf8c609f607e4820a7530b3ac5660d22",
       "version_major": 2,
       "version_minor": 0
      },
      "text/plain": [
       "Batches:   0%|          | 0/1 [00:00<?, ?it/s]"
      ]
     },
     "metadata": {},
     "output_type": "display_data"
    },
    {
     "name": "stdout",
     "output_type": "stream",
     "text": [
      "Finding duplicate images...\n",
      "Finding near duplicate images...\n",
      "\n",
      "Score: 92.068%\n",
      "Images to compare\\frame0.jpg\n",
      "Images to compare\\frame69.jpg\n",
      "\n",
      "\n",
      "0.9206843972206116\n",
      "\n",
      "\n",
      "not incident\n",
      "\n",
      "\n",
      "\n",
      "\n",
      "C:\\Anomaly detection IR\\video to images\\frame69.jpg removed\n",
      "\n",
      "\n",
      "C:\\Anomaly detection IR\\video to images\\frame70.jpg copied\n",
      "\n",
      "\n",
      "Images: 2\n"
     ]
    },
    {
     "data": {
      "application/vnd.jupyter.widget-view+json": {
       "model_id": "e3121b6b2a2e4d5b9de7b19f41243a11",
       "version_major": 2,
       "version_minor": 0
      },
      "text/plain": [
       "Batches:   0%|          | 0/1 [00:00<?, ?it/s]"
      ]
     },
     "metadata": {},
     "output_type": "display_data"
    },
    {
     "name": "stdout",
     "output_type": "stream",
     "text": [
      "Finding duplicate images...\n",
      "Finding near duplicate images...\n",
      "\n",
      "Score: 92.954%\n",
      "Images to compare\\frame0.jpg\n",
      "Images to compare\\frame70.jpg\n",
      "\n",
      "\n",
      "0.9295374155044556\n",
      "\n",
      "\n",
      "not incident\n",
      "\n",
      "\n",
      "\n",
      "\n",
      "C:\\Anomaly detection IR\\video to images\\frame70.jpg removed\n",
      "\n",
      "\n",
      "C:\\Anomaly detection IR\\video to images\\frame71.jpg copied\n",
      "\n",
      "\n",
      "Images: 2\n"
     ]
    },
    {
     "data": {
      "application/vnd.jupyter.widget-view+json": {
       "model_id": "0d1e8de8977043c4a86913c5b4c12e43",
       "version_major": 2,
       "version_minor": 0
      },
      "text/plain": [
       "Batches:   0%|          | 0/1 [00:00<?, ?it/s]"
      ]
     },
     "metadata": {},
     "output_type": "display_data"
    },
    {
     "name": "stdout",
     "output_type": "stream",
     "text": [
      "Finding duplicate images...\n",
      "Finding near duplicate images...\n",
      "\n",
      "Score: 91.723%\n",
      "Images to compare\\frame0.jpg\n",
      "Images to compare\\frame71.jpg\n",
      "\n",
      "\n",
      "0.9172320365905762\n",
      "\n",
      "\n",
      "not incident\n",
      "\n",
      "\n",
      "\n",
      "\n",
      "C:\\Anomaly detection IR\\video to images\\frame71.jpg removed\n",
      "\n",
      "\n",
      "C:\\Anomaly detection IR\\video to images\\frame72.jpg copied\n",
      "\n",
      "\n",
      "Images: 2\n"
     ]
    },
    {
     "data": {
      "application/vnd.jupyter.widget-view+json": {
       "model_id": "117d80c415fb4444be5688692b970777",
       "version_major": 2,
       "version_minor": 0
      },
      "text/plain": [
       "Batches:   0%|          | 0/1 [00:00<?, ?it/s]"
      ]
     },
     "metadata": {},
     "output_type": "display_data"
    },
    {
     "name": "stdout",
     "output_type": "stream",
     "text": [
      "Finding duplicate images...\n",
      "Finding near duplicate images...\n",
      "\n",
      "Score: 93.120%\n",
      "Images to compare\\frame72.jpg\n",
      "Images to compare\\frame0.jpg\n",
      "\n",
      "\n",
      "0.9311959147453308\n",
      "\n",
      "\n",
      "not incident\n",
      "\n",
      "\n",
      "\n",
      "\n",
      "C:\\Anomaly detection IR\\video to images\\frame72.jpg removed\n",
      "\n",
      "\n",
      "C:\\Anomaly detection IR\\video to images\\frame73.jpg copied\n",
      "\n",
      "\n",
      "Images: 2\n"
     ]
    },
    {
     "data": {
      "application/vnd.jupyter.widget-view+json": {
       "model_id": "d70cabf49fad4d1d846157e13715cc6b",
       "version_major": 2,
       "version_minor": 0
      },
      "text/plain": [
       "Batches:   0%|          | 0/1 [00:00<?, ?it/s]"
      ]
     },
     "metadata": {},
     "output_type": "display_data"
    },
    {
     "name": "stdout",
     "output_type": "stream",
     "text": [
      "Finding duplicate images...\n",
      "Finding near duplicate images...\n",
      "\n",
      "Score: 93.050%\n",
      "Images to compare\\frame0.jpg\n",
      "Images to compare\\frame73.jpg\n",
      "\n",
      "\n",
      "0.9305046796798706\n",
      "\n",
      "\n",
      "not incident\n",
      "\n",
      "\n",
      "\n",
      "\n",
      "C:\\Anomaly detection IR\\video to images\\frame73.jpg removed\n",
      "\n",
      "\n",
      "C:\\Anomaly detection IR\\video to images\\frame74.jpg copied\n",
      "\n",
      "\n",
      "Images: 2\n"
     ]
    },
    {
     "data": {
      "application/vnd.jupyter.widget-view+json": {
       "model_id": "50ffd1900a3e420c92c963a2458fff7c",
       "version_major": 2,
       "version_minor": 0
      },
      "text/plain": [
       "Batches:   0%|          | 0/1 [00:00<?, ?it/s]"
      ]
     },
     "metadata": {},
     "output_type": "display_data"
    },
    {
     "name": "stdout",
     "output_type": "stream",
     "text": [
      "Finding duplicate images...\n",
      "Finding near duplicate images...\n",
      "\n",
      "Score: 91.425%\n",
      "Images to compare\\frame0.jpg\n",
      "Images to compare\\frame74.jpg\n",
      "\n",
      "\n",
      "0.9142482280731201\n",
      "\n",
      "\n",
      "not incident\n",
      "\n",
      "\n",
      "\n",
      "\n",
      "C:\\Anomaly detection IR\\video to images\\frame74.jpg removed\n",
      "\n",
      "\n",
      "C:\\Anomaly detection IR\\video to images\\frame75.jpg copied\n",
      "\n",
      "\n",
      "Images: 2\n"
     ]
    },
    {
     "data": {
      "application/vnd.jupyter.widget-view+json": {
       "model_id": "1d2030f087e5475b88513d722a8e8d9c",
       "version_major": 2,
       "version_minor": 0
      },
      "text/plain": [
       "Batches:   0%|          | 0/1 [00:00<?, ?it/s]"
      ]
     },
     "metadata": {},
     "output_type": "display_data"
    },
    {
     "name": "stdout",
     "output_type": "stream",
     "text": [
      "Finding duplicate images...\n",
      "Finding near duplicate images...\n",
      "\n",
      "Score: 91.707%\n",
      "Images to compare\\frame75.jpg\n",
      "Images to compare\\frame0.jpg\n",
      "\n",
      "\n",
      "0.9170699119567871\n",
      "\n",
      "\n",
      "not incident\n",
      "\n",
      "\n",
      "\n",
      "\n",
      "C:\\Anomaly detection IR\\video to images\\frame75.jpg removed\n",
      "\n",
      "\n",
      "C:\\Anomaly detection IR\\video to images\\frame76.jpg copied\n",
      "\n",
      "\n",
      "Images: 2\n"
     ]
    },
    {
     "data": {
      "application/vnd.jupyter.widget-view+json": {
       "model_id": "a0c60ddd0f894831b4631f103761734d",
       "version_major": 2,
       "version_minor": 0
      },
      "text/plain": [
       "Batches:   0%|          | 0/1 [00:00<?, ?it/s]"
      ]
     },
     "metadata": {},
     "output_type": "display_data"
    },
    {
     "name": "stdout",
     "output_type": "stream",
     "text": [
      "Finding duplicate images...\n",
      "Finding near duplicate images...\n",
      "\n",
      "Score: 91.332%\n",
      "Images to compare\\frame0.jpg\n",
      "Images to compare\\frame76.jpg\n",
      "\n",
      "\n",
      "0.9133156538009644\n",
      "\n",
      "\n",
      "not incident\n",
      "\n",
      "\n",
      "\n",
      "\n",
      "C:\\Anomaly detection IR\\video to images\\frame76.jpg removed\n",
      "\n",
      "\n",
      "C:\\Anomaly detection IR\\video to images\\frame77.jpg copied\n",
      "\n",
      "\n",
      "Images: 2\n"
     ]
    },
    {
     "data": {
      "application/vnd.jupyter.widget-view+json": {
       "model_id": "623f7055fd7944e9a33e6d167cadb70a",
       "version_major": 2,
       "version_minor": 0
      },
      "text/plain": [
       "Batches:   0%|          | 0/1 [00:00<?, ?it/s]"
      ]
     },
     "metadata": {},
     "output_type": "display_data"
    },
    {
     "name": "stdout",
     "output_type": "stream",
     "text": [
      "Finding duplicate images...\n",
      "Finding near duplicate images...\n",
      "\n",
      "Score: 90.706%\n",
      "Images to compare\\frame0.jpg\n",
      "Images to compare\\frame77.jpg\n",
      "\n",
      "\n",
      "0.9070574045181274\n",
      "\n",
      "\n",
      "not incident\n",
      "\n",
      "\n",
      "\n",
      "\n",
      "C:\\Anomaly detection IR\\video to images\\frame77.jpg removed\n",
      "\n",
      "\n",
      "C:\\Anomaly detection IR\\video to images\\frame78.jpg copied\n",
      "\n",
      "\n",
      "Images: 2\n"
     ]
    },
    {
     "data": {
      "application/vnd.jupyter.widget-view+json": {
       "model_id": "c6a7fe3fba044d7ca4e48beb28674d43",
       "version_major": 2,
       "version_minor": 0
      },
      "text/plain": [
       "Batches:   0%|          | 0/1 [00:00<?, ?it/s]"
      ]
     },
     "metadata": {},
     "output_type": "display_data"
    },
    {
     "name": "stdout",
     "output_type": "stream",
     "text": [
      "Finding duplicate images...\n",
      "Finding near duplicate images...\n",
      "\n",
      "Score: 90.461%\n",
      "Images to compare\\frame0.jpg\n",
      "Images to compare\\frame78.jpg\n",
      "\n",
      "\n",
      "0.9046063423156738\n",
      "\n",
      "\n",
      "not incident\n",
      "\n",
      "\n",
      "\n",
      "\n",
      "C:\\Anomaly detection IR\\video to images\\frame78.jpg removed\n",
      "\n",
      "\n",
      "C:\\Anomaly detection IR\\video to images\\frame79.jpg copied\n",
      "\n",
      "\n",
      "Images: 2\n"
     ]
    },
    {
     "data": {
      "application/vnd.jupyter.widget-view+json": {
       "model_id": "ff3bf1d440e447e1a755b7e1e4e5e409",
       "version_major": 2,
       "version_minor": 0
      },
      "text/plain": [
       "Batches:   0%|          | 0/1 [00:00<?, ?it/s]"
      ]
     },
     "metadata": {},
     "output_type": "display_data"
    },
    {
     "name": "stdout",
     "output_type": "stream",
     "text": [
      "Finding duplicate images...\n",
      "Finding near duplicate images...\n",
      "\n",
      "Score: 90.012%\n",
      "Images to compare\\frame0.jpg\n",
      "Images to compare\\frame79.jpg\n",
      "\n",
      "\n",
      "0.900117814540863\n",
      "\n",
      "\n",
      "not incident\n",
      "\n",
      "\n",
      "\n",
      "\n",
      "C:\\Anomaly detection IR\\video to images\\frame79.jpg removed\n",
      "\n",
      "\n",
      "C:\\Anomaly detection IR\\video to images\\frame80.jpg copied\n",
      "\n",
      "\n",
      "Images: 2\n"
     ]
    },
    {
     "data": {
      "application/vnd.jupyter.widget-view+json": {
       "model_id": "aba59c5cedcf4bf2bdb681784414d360",
       "version_major": 2,
       "version_minor": 0
      },
      "text/plain": [
       "Batches:   0%|          | 0/1 [00:00<?, ?it/s]"
      ]
     },
     "metadata": {},
     "output_type": "display_data"
    },
    {
     "name": "stdout",
     "output_type": "stream",
     "text": [
      "Finding duplicate images...\n",
      "Finding near duplicate images...\n",
      "\n",
      "Score: 90.535%\n",
      "Images to compare\\frame0.jpg\n",
      "Images to compare\\frame80.jpg\n",
      "\n",
      "\n",
      "0.9053462743759155\n",
      "\n",
      "\n",
      "not incident\n",
      "\n",
      "\n",
      "\n",
      "\n",
      "C:\\Anomaly detection IR\\video to images\\frame80.jpg removed\n",
      "\n",
      "\n",
      "C:\\Anomaly detection IR\\video to images\\frame81.jpg copied\n",
      "\n",
      "\n",
      "Images: 2\n"
     ]
    },
    {
     "data": {
      "application/vnd.jupyter.widget-view+json": {
       "model_id": "192662a9777e48acb49e5c930a70f229",
       "version_major": 2,
       "version_minor": 0
      },
      "text/plain": [
       "Batches:   0%|          | 0/1 [00:00<?, ?it/s]"
      ]
     },
     "metadata": {},
     "output_type": "display_data"
    },
    {
     "name": "stdout",
     "output_type": "stream",
     "text": [
      "Finding duplicate images...\n",
      "Finding near duplicate images...\n",
      "\n",
      "Score: 90.366%\n",
      "Images to compare\\frame0.jpg\n",
      "Images to compare\\frame81.jpg\n",
      "\n",
      "\n",
      "0.9036598205566406\n",
      "\n",
      "\n",
      "not incident\n",
      "\n",
      "\n",
      "\n",
      "\n",
      "C:\\Anomaly detection IR\\video to images\\frame81.jpg removed\n",
      "\n",
      "\n",
      "C:\\Anomaly detection IR\\video to images\\frame82.jpg copied\n",
      "\n",
      "\n",
      "Images: 2\n"
     ]
    },
    {
     "data": {
      "application/vnd.jupyter.widget-view+json": {
       "model_id": "92e06e2219e648189c40b7b9b3a50242",
       "version_major": 2,
       "version_minor": 0
      },
      "text/plain": [
       "Batches:   0%|          | 0/1 [00:00<?, ?it/s]"
      ]
     },
     "metadata": {},
     "output_type": "display_data"
    },
    {
     "name": "stdout",
     "output_type": "stream",
     "text": [
      "Finding duplicate images...\n",
      "Finding near duplicate images...\n",
      "\n",
      "Score: 90.650%\n",
      "Images to compare\\frame0.jpg\n",
      "Images to compare\\frame82.jpg\n",
      "\n",
      "\n",
      "0.9064980149269104\n",
      "\n",
      "\n",
      "not incident\n",
      "\n",
      "\n",
      "\n",
      "\n",
      "C:\\Anomaly detection IR\\video to images\\frame82.jpg removed\n",
      "\n",
      "\n",
      "C:\\Anomaly detection IR\\video to images\\frame83.jpg copied\n",
      "\n",
      "\n",
      "Images: 2\n"
     ]
    },
    {
     "data": {
      "application/vnd.jupyter.widget-view+json": {
       "model_id": "1f0523272c1c4992a5d0d65b247dfd68",
       "version_major": 2,
       "version_minor": 0
      },
      "text/plain": [
       "Batches:   0%|          | 0/1 [00:00<?, ?it/s]"
      ]
     },
     "metadata": {},
     "output_type": "display_data"
    },
    {
     "name": "stdout",
     "output_type": "stream",
     "text": [
      "Finding duplicate images...\n",
      "Finding near duplicate images...\n",
      "\n",
      "Score: 89.988%\n",
      "Images to compare\\frame0.jpg\n",
      "Images to compare\\frame83.jpg\n",
      "\n",
      "\n",
      "0.8998837471008301\n",
      "\n",
      "\n",
      "not incident\n",
      "\n",
      "\n",
      "\n",
      "\n",
      "C:\\Anomaly detection IR\\video to images\\frame83.jpg removed\n",
      "\n",
      "\n",
      "C:\\Anomaly detection IR\\video to images\\frame84.jpg copied\n",
      "\n",
      "\n",
      "Images: 2\n"
     ]
    },
    {
     "data": {
      "application/vnd.jupyter.widget-view+json": {
       "model_id": "6386f2508ba94144aad13a99a48c3802",
       "version_major": 2,
       "version_minor": 0
      },
      "text/plain": [
       "Batches:   0%|          | 0/1 [00:00<?, ?it/s]"
      ]
     },
     "metadata": {},
     "output_type": "display_data"
    },
    {
     "name": "stdout",
     "output_type": "stream",
     "text": [
      "Finding duplicate images...\n",
      "Finding near duplicate images...\n",
      "\n",
      "Score: 91.770%\n",
      "Images to compare\\frame0.jpg\n",
      "Images to compare\\frame84.jpg\n",
      "\n",
      "\n",
      "0.9177035689353943\n",
      "\n",
      "\n",
      "not incident\n",
      "\n",
      "\n",
      "\n",
      "\n",
      "C:\\Anomaly detection IR\\video to images\\frame84.jpg removed\n",
      "\n",
      "\n",
      "C:\\Anomaly detection IR\\video to images\\frame85.jpg copied\n",
      "\n",
      "\n",
      "Images: 2\n"
     ]
    },
    {
     "data": {
      "application/vnd.jupyter.widget-view+json": {
       "model_id": "00e47b8d386e49d98e64793cd934c5f4",
       "version_major": 2,
       "version_minor": 0
      },
      "text/plain": [
       "Batches:   0%|          | 0/1 [00:00<?, ?it/s]"
      ]
     },
     "metadata": {},
     "output_type": "display_data"
    },
    {
     "name": "stdout",
     "output_type": "stream",
     "text": [
      "Finding duplicate images...\n",
      "Finding near duplicate images...\n",
      "\n",
      "Score: 91.885%\n",
      "Images to compare\\frame0.jpg\n",
      "Images to compare\\frame85.jpg\n",
      "\n",
      "\n",
      "0.9188535809516907\n",
      "\n",
      "\n",
      "not incident\n",
      "\n",
      "\n",
      "\n",
      "\n",
      "C:\\Anomaly detection IR\\video to images\\frame85.jpg removed\n",
      "\n",
      "\n",
      "C:\\Anomaly detection IR\\video to images\\frame86.jpg copied\n",
      "\n",
      "\n",
      "Images: 2\n"
     ]
    },
    {
     "data": {
      "application/vnd.jupyter.widget-view+json": {
       "model_id": "bacb1262891f4852ae3d8d9c648f4795",
       "version_major": 2,
       "version_minor": 0
      },
      "text/plain": [
       "Batches:   0%|          | 0/1 [00:00<?, ?it/s]"
      ]
     },
     "metadata": {},
     "output_type": "display_data"
    },
    {
     "name": "stdout",
     "output_type": "stream",
     "text": [
      "Finding duplicate images...\n",
      "Finding near duplicate images...\n",
      "\n",
      "Score: 92.462%\n",
      "Images to compare\\frame86.jpg\n",
      "Images to compare\\frame0.jpg\n",
      "\n",
      "\n",
      "0.924620509147644\n",
      "\n",
      "\n",
      "not incident\n",
      "\n",
      "\n",
      "\n",
      "\n",
      "C:\\Anomaly detection IR\\video to images\\frame86.jpg removed\n",
      "\n",
      "\n",
      "C:\\Anomaly detection IR\\video to images\\frame87.jpg copied\n",
      "\n",
      "\n",
      "Images: 2\n"
     ]
    },
    {
     "data": {
      "application/vnd.jupyter.widget-view+json": {
       "model_id": "0a8b1f0ff76448608efcdba5be9235fe",
       "version_major": 2,
       "version_minor": 0
      },
      "text/plain": [
       "Batches:   0%|          | 0/1 [00:00<?, ?it/s]"
      ]
     },
     "metadata": {},
     "output_type": "display_data"
    },
    {
     "name": "stdout",
     "output_type": "stream",
     "text": [
      "Finding duplicate images...\n",
      "Finding near duplicate images...\n",
      "\n",
      "Score: 88.853%\n",
      "Images to compare\\frame0.jpg\n",
      "Images to compare\\frame87.jpg\n",
      "\n",
      "\n",
      "0.8885318040847778\n",
      "\n",
      "\n",
      "not incident\n",
      "\n",
      "\n",
      "\n",
      "\n",
      "C:\\Anomaly detection IR\\video to images\\frame87.jpg removed\n",
      "\n",
      "\n",
      "C:\\Anomaly detection IR\\video to images\\frame88.jpg copied\n",
      "\n",
      "\n",
      "Images: 2\n"
     ]
    },
    {
     "data": {
      "application/vnd.jupyter.widget-view+json": {
       "model_id": "a71b8377c336489db56eceec9b9c238a",
       "version_major": 2,
       "version_minor": 0
      },
      "text/plain": [
       "Batches:   0%|          | 0/1 [00:00<?, ?it/s]"
      ]
     },
     "metadata": {},
     "output_type": "display_data"
    },
    {
     "name": "stdout",
     "output_type": "stream",
     "text": [
      "Finding duplicate images...\n",
      "Finding near duplicate images...\n",
      "\n",
      "Score: 89.093%\n",
      "Images to compare\\frame0.jpg\n",
      "Images to compare\\frame88.jpg\n",
      "\n",
      "\n",
      "0.8909343481063843\n",
      "\n",
      "\n",
      "not incident\n",
      "\n",
      "\n",
      "\n",
      "\n",
      "C:\\Anomaly detection IR\\video to images\\frame88.jpg removed\n",
      "\n",
      "\n",
      "C:\\Anomaly detection IR\\video to images\\frame89.jpg copied\n",
      "\n",
      "\n",
      "Images: 2\n"
     ]
    },
    {
     "data": {
      "application/vnd.jupyter.widget-view+json": {
       "model_id": "e2174442754a4685ae3bcbc1d8eda4fc",
       "version_major": 2,
       "version_minor": 0
      },
      "text/plain": [
       "Batches:   0%|          | 0/1 [00:00<?, ?it/s]"
      ]
     },
     "metadata": {},
     "output_type": "display_data"
    },
    {
     "name": "stdout",
     "output_type": "stream",
     "text": [
      "Finding duplicate images...\n",
      "Finding near duplicate images...\n",
      "\n",
      "Score: 88.634%\n",
      "Images to compare\\frame0.jpg\n",
      "Images to compare\\frame89.jpg\n",
      "\n",
      "\n",
      "0.8863352537155151\n",
      "\n",
      "\n",
      "not incident\n",
      "\n",
      "\n",
      "\n",
      "\n",
      "C:\\Anomaly detection IR\\video to images\\frame89.jpg removed\n",
      "\n",
      "\n",
      "C:\\Anomaly detection IR\\video to images\\frame90.jpg copied\n",
      "\n",
      "\n",
      "Images: 2\n"
     ]
    },
    {
     "data": {
      "application/vnd.jupyter.widget-view+json": {
       "model_id": "65e45abddb2f47f4b0a34dec955d0941",
       "version_major": 2,
       "version_minor": 0
      },
      "text/plain": [
       "Batches:   0%|          | 0/1 [00:00<?, ?it/s]"
      ]
     },
     "metadata": {},
     "output_type": "display_data"
    },
    {
     "name": "stdout",
     "output_type": "stream",
     "text": [
      "Finding duplicate images...\n",
      "Finding near duplicate images...\n",
      "\n",
      "Score: 89.804%\n",
      "Images to compare\\frame90.jpg\n",
      "Images to compare\\frame0.jpg\n",
      "\n",
      "\n",
      "0.8980380892753601\n",
      "\n",
      "\n",
      "not incident\n",
      "\n",
      "\n",
      "\n",
      "\n",
      "C:\\Anomaly detection IR\\video to images\\frame90.jpg removed\n",
      "\n",
      "\n",
      "C:\\Anomaly detection IR\\video to images\\frame91.jpg copied\n",
      "\n",
      "\n",
      "Images: 2\n"
     ]
    },
    {
     "data": {
      "application/vnd.jupyter.widget-view+json": {
       "model_id": "6d2d1ec444d94bbfb602757ebf28f64f",
       "version_major": 2,
       "version_minor": 0
      },
      "text/plain": [
       "Batches:   0%|          | 0/1 [00:00<?, ?it/s]"
      ]
     },
     "metadata": {},
     "output_type": "display_data"
    },
    {
     "name": "stdout",
     "output_type": "stream",
     "text": [
      "Finding duplicate images...\n",
      "Finding near duplicate images...\n",
      "\n",
      "Score: 88.514%\n",
      "Images to compare\\frame0.jpg\n",
      "Images to compare\\frame91.jpg\n",
      "\n",
      "\n",
      "0.8851367235183716\n",
      "\n",
      "\n",
      "not incident\n",
      "\n",
      "\n",
      "\n",
      "\n",
      "C:\\Anomaly detection IR\\video to images\\frame91.jpg removed\n",
      "\n",
      "\n",
      "C:\\Anomaly detection IR\\video to images\\frame92.jpg copied\n",
      "\n",
      "\n",
      "Images: 2\n"
     ]
    },
    {
     "data": {
      "application/vnd.jupyter.widget-view+json": {
       "model_id": "5e5c13fa8a5a459db2ac19e508051c95",
       "version_major": 2,
       "version_minor": 0
      },
      "text/plain": [
       "Batches:   0%|          | 0/1 [00:00<?, ?it/s]"
      ]
     },
     "metadata": {},
     "output_type": "display_data"
    },
    {
     "name": "stdout",
     "output_type": "stream",
     "text": [
      "Finding duplicate images...\n",
      "Finding near duplicate images...\n",
      "\n",
      "Score: 88.109%\n",
      "Images to compare\\frame0.jpg\n",
      "Images to compare\\frame92.jpg\n",
      "\n",
      "\n",
      "0.8810908198356628\n",
      "\n",
      "\n",
      "not incident\n",
      "\n",
      "\n",
      "\n",
      "\n",
      "C:\\Anomaly detection IR\\video to images\\frame92.jpg removed\n",
      "\n",
      "\n",
      "C:\\Anomaly detection IR\\video to images\\frame93.jpg copied\n",
      "\n",
      "\n",
      "Images: 2\n"
     ]
    },
    {
     "data": {
      "application/vnd.jupyter.widget-view+json": {
       "model_id": "80e6075b2dec4f33bb593f513f9c5343",
       "version_major": 2,
       "version_minor": 0
      },
      "text/plain": [
       "Batches:   0%|          | 0/1 [00:00<?, ?it/s]"
      ]
     },
     "metadata": {},
     "output_type": "display_data"
    },
    {
     "name": "stdout",
     "output_type": "stream",
     "text": [
      "Finding duplicate images...\n",
      "Finding near duplicate images...\n",
      "\n",
      "Score: 88.382%\n",
      "Images to compare\\frame0.jpg\n",
      "Images to compare\\frame93.jpg\n",
      "\n",
      "\n",
      "0.8838183283805847\n",
      "\n",
      "\n",
      "not incident\n",
      "\n",
      "\n",
      "\n",
      "\n",
      "C:\\Anomaly detection IR\\video to images\\frame93.jpg removed\n",
      "\n",
      "\n",
      "C:\\Anomaly detection IR\\video to images\\frame94.jpg copied\n",
      "\n",
      "\n",
      "Images: 2\n"
     ]
    },
    {
     "data": {
      "application/vnd.jupyter.widget-view+json": {
       "model_id": "9c274df8f13646029a80ed2a4e5a04dd",
       "version_major": 2,
       "version_minor": 0
      },
      "text/plain": [
       "Batches:   0%|          | 0/1 [00:00<?, ?it/s]"
      ]
     },
     "metadata": {},
     "output_type": "display_data"
    },
    {
     "name": "stdout",
     "output_type": "stream",
     "text": [
      "Finding duplicate images...\n",
      "Finding near duplicate images...\n",
      "\n",
      "Score: 89.788%\n",
      "Images to compare\\frame0.jpg\n",
      "Images to compare\\frame94.jpg\n",
      "\n",
      "\n",
      "0.8978778123855591\n",
      "\n",
      "\n",
      "not incident\n",
      "\n",
      "\n",
      "\n",
      "\n",
      "C:\\Anomaly detection IR\\video to images\\frame94.jpg removed\n",
      "\n",
      "\n",
      "C:\\Anomaly detection IR\\video to images\\frame95.jpg copied\n",
      "\n",
      "\n",
      "Images: 2\n"
     ]
    },
    {
     "data": {
      "application/vnd.jupyter.widget-view+json": {
       "model_id": "1ed348f62df44ed79a3dbcb18e716b4b",
       "version_major": 2,
       "version_minor": 0
      },
      "text/plain": [
       "Batches:   0%|          | 0/1 [00:00<?, ?it/s]"
      ]
     },
     "metadata": {},
     "output_type": "display_data"
    },
    {
     "name": "stdout",
     "output_type": "stream",
     "text": [
      "Finding duplicate images...\n",
      "Finding near duplicate images...\n",
      "\n",
      "Score: 89.605%\n",
      "Images to compare\\frame95.jpg\n",
      "Images to compare\\frame0.jpg\n",
      "\n",
      "\n",
      "0.8960481882095337\n",
      "\n",
      "\n",
      "not incident\n",
      "\n",
      "\n",
      "\n",
      "\n",
      "C:\\Anomaly detection IR\\video to images\\frame95.jpg removed\n",
      "\n",
      "\n",
      "C:\\Anomaly detection IR\\video to images\\frame96.jpg copied\n",
      "\n",
      "\n",
      "Images: 2\n"
     ]
    },
    {
     "data": {
      "application/vnd.jupyter.widget-view+json": {
       "model_id": "e6567c151bc54e7e9182e66224e7176c",
       "version_major": 2,
       "version_minor": 0
      },
      "text/plain": [
       "Batches:   0%|          | 0/1 [00:00<?, ?it/s]"
      ]
     },
     "metadata": {},
     "output_type": "display_data"
    },
    {
     "name": "stdout",
     "output_type": "stream",
     "text": [
      "Finding duplicate images...\n",
      "Finding near duplicate images...\n",
      "\n",
      "Score: 90.165%\n",
      "Images to compare\\frame96.jpg\n",
      "Images to compare\\frame0.jpg\n",
      "\n",
      "\n",
      "0.9016523361206055\n",
      "\n",
      "\n",
      "not incident\n",
      "\n",
      "\n",
      "\n",
      "\n",
      "C:\\Anomaly detection IR\\video to images\\frame96.jpg removed\n",
      "\n",
      "\n",
      "C:\\Anomaly detection IR\\video to images\\frame97.jpg copied\n",
      "\n",
      "\n",
      "Images: 2\n"
     ]
    },
    {
     "data": {
      "application/vnd.jupyter.widget-view+json": {
       "model_id": "506c02127b20474d92e92eca973d2c10",
       "version_major": 2,
       "version_minor": 0
      },
      "text/plain": [
       "Batches:   0%|          | 0/1 [00:00<?, ?it/s]"
      ]
     },
     "metadata": {},
     "output_type": "display_data"
    },
    {
     "name": "stdout",
     "output_type": "stream",
     "text": [
      "Finding duplicate images...\n",
      "Finding near duplicate images...\n",
      "\n",
      "Score: 90.872%\n",
      "Images to compare\\frame0.jpg\n",
      "Images to compare\\frame97.jpg\n",
      "\n",
      "\n",
      "0.9087240099906921\n",
      "\n",
      "\n",
      "not incident\n",
      "\n",
      "\n",
      "\n",
      "\n",
      "C:\\Anomaly detection IR\\video to images\\frame97.jpg removed\n",
      "\n",
      "\n",
      "C:\\Anomaly detection IR\\video to images\\frame98.jpg copied\n",
      "\n",
      "\n",
      "Images: 2\n"
     ]
    },
    {
     "data": {
      "application/vnd.jupyter.widget-view+json": {
       "model_id": "de36e8e2ea29411cbfdd847be170b2a6",
       "version_major": 2,
       "version_minor": 0
      },
      "text/plain": [
       "Batches:   0%|          | 0/1 [00:00<?, ?it/s]"
      ]
     },
     "metadata": {},
     "output_type": "display_data"
    },
    {
     "name": "stdout",
     "output_type": "stream",
     "text": [
      "Finding duplicate images...\n",
      "Finding near duplicate images...\n",
      "\n",
      "Score: 89.436%\n",
      "Images to compare\\frame0.jpg\n",
      "Images to compare\\frame98.jpg\n",
      "\n",
      "\n",
      "0.8943597674369812\n",
      "\n",
      "\n",
      "not incident\n",
      "\n",
      "\n",
      "\n",
      "\n",
      "C:\\Anomaly detection IR\\video to images\\frame98.jpg removed\n",
      "\n",
      "\n",
      "C:\\Anomaly detection IR\\video to images\\frame99.jpg copied\n",
      "\n",
      "\n",
      "Images: 2\n"
     ]
    },
    {
     "data": {
      "application/vnd.jupyter.widget-view+json": {
       "model_id": "dfec2644f8264c5496e6fc869e3fc656",
       "version_major": 2,
       "version_minor": 0
      },
      "text/plain": [
       "Batches:   0%|          | 0/1 [00:00<?, ?it/s]"
      ]
     },
     "metadata": {},
     "output_type": "display_data"
    },
    {
     "name": "stdout",
     "output_type": "stream",
     "text": [
      "Finding duplicate images...\n",
      "Finding near duplicate images...\n",
      "\n",
      "Score: 90.283%\n",
      "Images to compare\\frame0.jpg\n",
      "Images to compare\\frame99.jpg\n",
      "\n",
      "\n",
      "0.9028337001800537\n",
      "\n",
      "\n",
      "not incident\n",
      "\n",
      "\n",
      "\n",
      "\n",
      "C:\\Anomaly detection IR\\video to images\\frame99.jpg removed\n",
      "\n",
      "\n",
      "C:\\Anomaly detection IR\\video to images\\frame100.jpg copied\n",
      "\n",
      "\n",
      "Images: 2\n"
     ]
    },
    {
     "data": {
      "application/vnd.jupyter.widget-view+json": {
       "model_id": "50ce62574ea64423ad7fe0b9ba9d4eeb",
       "version_major": 2,
       "version_minor": 0
      },
      "text/plain": [
       "Batches:   0%|          | 0/1 [00:00<?, ?it/s]"
      ]
     },
     "metadata": {},
     "output_type": "display_data"
    },
    {
     "name": "stdout",
     "output_type": "stream",
     "text": [
      "Finding duplicate images...\n",
      "Finding near duplicate images...\n",
      "\n",
      "Score: 90.841%\n",
      "Images to compare\\frame0.jpg\n",
      "Images to compare\\frame100.jpg\n",
      "\n",
      "\n",
      "0.9084059596061707\n",
      "\n",
      "\n",
      "not incident\n",
      "\n",
      "\n",
      "\n",
      "\n",
      "C:\\Anomaly detection IR\\video to images\\frame100.jpg removed\n",
      "\n",
      "\n",
      "C:\\Anomaly detection IR\\video to images\\frame101.jpg copied\n",
      "\n",
      "\n",
      "Images: 2\n"
     ]
    },
    {
     "data": {
      "application/vnd.jupyter.widget-view+json": {
       "model_id": "5452b0aa18a143c6a0b446eacb4b6792",
       "version_major": 2,
       "version_minor": 0
      },
      "text/plain": [
       "Batches:   0%|          | 0/1 [00:00<?, ?it/s]"
      ]
     },
     "metadata": {},
     "output_type": "display_data"
    },
    {
     "name": "stdout",
     "output_type": "stream",
     "text": [
      "Finding duplicate images...\n",
      "Finding near duplicate images...\n",
      "\n",
      "Score: 90.742%\n",
      "Images to compare\\frame101.jpg\n",
      "Images to compare\\frame0.jpg\n",
      "\n",
      "\n",
      "0.9074248671531677\n",
      "\n",
      "\n",
      "not incident\n",
      "\n",
      "\n",
      "\n",
      "\n",
      "C:\\Anomaly detection IR\\video to images\\frame101.jpg removed\n",
      "\n",
      "\n",
      "C:\\Anomaly detection IR\\video to images\\frame102.jpg copied\n",
      "\n",
      "\n",
      "Images: 2\n"
     ]
    },
    {
     "data": {
      "application/vnd.jupyter.widget-view+json": {
       "model_id": "1a3c260e663147d9be08309b44a59b8d",
       "version_major": 2,
       "version_minor": 0
      },
      "text/plain": [
       "Batches:   0%|          | 0/1 [00:00<?, ?it/s]"
      ]
     },
     "metadata": {},
     "output_type": "display_data"
    },
    {
     "name": "stdout",
     "output_type": "stream",
     "text": [
      "Finding duplicate images...\n",
      "Finding near duplicate images...\n",
      "\n",
      "Score: 91.026%\n",
      "Images to compare\\frame102.jpg\n",
      "Images to compare\\frame0.jpg\n",
      "\n",
      "\n",
      "0.9102563858032227\n",
      "\n",
      "\n",
      "not incident\n",
      "\n",
      "\n",
      "\n",
      "\n",
      "C:\\Anomaly detection IR\\video to images\\frame102.jpg removed\n",
      "\n",
      "\n",
      "C:\\Anomaly detection IR\\video to images\\frame103.jpg copied\n",
      "\n",
      "\n",
      "Images: 2\n"
     ]
    },
    {
     "data": {
      "application/vnd.jupyter.widget-view+json": {
       "model_id": "e8de67304f4145a792f4e56c204a3409",
       "version_major": 2,
       "version_minor": 0
      },
      "text/plain": [
       "Batches:   0%|          | 0/1 [00:00<?, ?it/s]"
      ]
     },
     "metadata": {},
     "output_type": "display_data"
    },
    {
     "name": "stdout",
     "output_type": "stream",
     "text": [
      "Finding duplicate images...\n",
      "Finding near duplicate images...\n",
      "\n",
      "Score: 90.720%\n",
      "Images to compare\\frame103.jpg\n",
      "Images to compare\\frame0.jpg\n",
      "\n",
      "\n",
      "0.9072010517120361\n",
      "\n",
      "\n",
      "not incident\n",
      "\n",
      "\n",
      "\n",
      "\n",
      "C:\\Anomaly detection IR\\video to images\\frame103.jpg removed\n",
      "\n",
      "\n",
      "C:\\Anomaly detection IR\\video to images\\frame104.jpg copied\n",
      "\n",
      "\n",
      "Images: 2\n"
     ]
    },
    {
     "data": {
      "application/vnd.jupyter.widget-view+json": {
       "model_id": "53e42d360f8948e0a0fcab981fe75c4f",
       "version_major": 2,
       "version_minor": 0
      },
      "text/plain": [
       "Batches:   0%|          | 0/1 [00:00<?, ?it/s]"
      ]
     },
     "metadata": {},
     "output_type": "display_data"
    },
    {
     "name": "stdout",
     "output_type": "stream",
     "text": [
      "Finding duplicate images...\n",
      "Finding near duplicate images...\n",
      "\n",
      "Score: 90.299%\n",
      "Images to compare\\frame0.jpg\n",
      "Images to compare\\frame104.jpg\n",
      "\n",
      "\n",
      "0.9029906988143921\n",
      "\n",
      "\n",
      "not incident\n",
      "\n",
      "\n",
      "\n",
      "\n",
      "C:\\Anomaly detection IR\\video to images\\frame104.jpg removed\n",
      "\n",
      "\n",
      "C:\\Anomaly detection IR\\video to images\\frame105.jpg copied\n",
      "\n",
      "\n",
      "Images: 2\n"
     ]
    },
    {
     "data": {
      "application/vnd.jupyter.widget-view+json": {
       "model_id": "13d87e636d874019a166d02fea9281c5",
       "version_major": 2,
       "version_minor": 0
      },
      "text/plain": [
       "Batches:   0%|          | 0/1 [00:00<?, ?it/s]"
      ]
     },
     "metadata": {},
     "output_type": "display_data"
    },
    {
     "name": "stdout",
     "output_type": "stream",
     "text": [
      "Finding duplicate images...\n",
      "Finding near duplicate images...\n",
      "\n",
      "Score: 89.591%\n",
      "Images to compare\\frame105.jpg\n",
      "Images to compare\\frame0.jpg\n",
      "\n",
      "\n",
      "0.8959100246429443\n",
      "\n",
      "\n",
      "not incident\n",
      "\n",
      "\n",
      "\n",
      "\n",
      "C:\\Anomaly detection IR\\video to images\\frame105.jpg removed\n",
      "\n",
      "\n",
      "C:\\Anomaly detection IR\\video to images\\frame106.jpg copied\n",
      "\n",
      "\n",
      "Images: 2\n"
     ]
    },
    {
     "data": {
      "application/vnd.jupyter.widget-view+json": {
       "model_id": "0801118000b14ddb9d386a1dc45aefcc",
       "version_major": 2,
       "version_minor": 0
      },
      "text/plain": [
       "Batches:   0%|          | 0/1 [00:00<?, ?it/s]"
      ]
     },
     "metadata": {},
     "output_type": "display_data"
    },
    {
     "name": "stdout",
     "output_type": "stream",
     "text": [
      "Finding duplicate images...\n",
      "Finding near duplicate images...\n",
      "\n",
      "Score: 89.322%\n",
      "Images to compare\\frame106.jpg\n",
      "Images to compare\\frame0.jpg\n",
      "\n",
      "\n",
      "0.8932151794433594\n",
      "\n",
      "\n",
      "not incident\n",
      "\n",
      "\n",
      "\n",
      "\n",
      "C:\\Anomaly detection IR\\video to images\\frame106.jpg removed\n",
      "\n",
      "\n",
      "C:\\Anomaly detection IR\\video to images\\frame107.jpg copied\n",
      "\n",
      "\n",
      "Images: 2\n"
     ]
    },
    {
     "data": {
      "application/vnd.jupyter.widget-view+json": {
       "model_id": "feda2a66ca224a0da8eb3c21407ae6c9",
       "version_major": 2,
       "version_minor": 0
      },
      "text/plain": [
       "Batches:   0%|          | 0/1 [00:00<?, ?it/s]"
      ]
     },
     "metadata": {},
     "output_type": "display_data"
    },
    {
     "name": "stdout",
     "output_type": "stream",
     "text": [
      "Finding duplicate images...\n",
      "Finding near duplicate images...\n",
      "\n",
      "Score: 88.480%\n",
      "Images to compare\\frame0.jpg\n",
      "Images to compare\\frame107.jpg\n",
      "\n",
      "\n",
      "0.884804368019104\n",
      "\n",
      "\n",
      "not incident\n",
      "\n",
      "\n",
      "\n",
      "\n",
      "C:\\Anomaly detection IR\\video to images\\frame107.jpg removed\n",
      "\n",
      "\n",
      "C:\\Anomaly detection IR\\video to images\\frame108.jpg copied\n",
      "\n",
      "\n",
      "Images: 2\n"
     ]
    },
    {
     "data": {
      "application/vnd.jupyter.widget-view+json": {
       "model_id": "1ee0036245f64160883785689593bb90",
       "version_major": 2,
       "version_minor": 0
      },
      "text/plain": [
       "Batches:   0%|          | 0/1 [00:00<?, ?it/s]"
      ]
     },
     "metadata": {},
     "output_type": "display_data"
    },
    {
     "name": "stdout",
     "output_type": "stream",
     "text": [
      "Finding duplicate images...\n",
      "Finding near duplicate images...\n",
      "\n",
      "Score: 88.654%\n",
      "Images to compare\\frame108.jpg\n",
      "Images to compare\\frame0.jpg\n",
      "\n",
      "\n",
      "0.8865355253219604\n",
      "\n",
      "\n",
      "not incident\n",
      "\n",
      "\n",
      "\n",
      "\n",
      "C:\\Anomaly detection IR\\video to images\\frame108.jpg removed\n",
      "\n",
      "\n",
      "C:\\Anomaly detection IR\\video to images\\frame109.jpg copied\n",
      "\n",
      "\n",
      "Images: 2\n"
     ]
    },
    {
     "data": {
      "application/vnd.jupyter.widget-view+json": {
       "model_id": "612d2ca083c74dafa18bf0c246a590bf",
       "version_major": 2,
       "version_minor": 0
      },
      "text/plain": [
       "Batches:   0%|          | 0/1 [00:00<?, ?it/s]"
      ]
     },
     "metadata": {},
     "output_type": "display_data"
    },
    {
     "name": "stdout",
     "output_type": "stream",
     "text": [
      "Finding duplicate images...\n",
      "Finding near duplicate images...\n",
      "\n",
      "Score: 86.679%\n",
      "Images to compare\\frame109.jpg\n",
      "Images to compare\\frame0.jpg\n",
      "\n",
      "\n",
      "0.8667922019958496\n",
      "\n",
      "\n",
      "not incident\n",
      "\n",
      "\n",
      "\n",
      "\n",
      "C:\\Anomaly detection IR\\video to images\\frame109.jpg removed\n",
      "\n",
      "\n",
      "C:\\Anomaly detection IR\\video to images\\frame110.jpg copied\n",
      "\n",
      "\n",
      "Images: 2\n"
     ]
    },
    {
     "data": {
      "application/vnd.jupyter.widget-view+json": {
       "model_id": "32ddc8b1bbcc4df8b33e7023a11a4888",
       "version_major": 2,
       "version_minor": 0
      },
      "text/plain": [
       "Batches:   0%|          | 0/1 [00:00<?, ?it/s]"
      ]
     },
     "metadata": {},
     "output_type": "display_data"
    },
    {
     "name": "stdout",
     "output_type": "stream",
     "text": [
      "Finding duplicate images...\n",
      "Finding near duplicate images...\n",
      "\n",
      "Score: 86.823%\n",
      "Images to compare\\frame0.jpg\n",
      "Images to compare\\frame110.jpg\n",
      "\n",
      "\n",
      "0.8682346940040588\n",
      "\n",
      "\n",
      "not incident\n",
      "\n",
      "\n",
      "\n",
      "\n",
      "C:\\Anomaly detection IR\\video to images\\frame110.jpg removed\n",
      "\n",
      "\n",
      "C:\\Anomaly detection IR\\video to images\\frame111.jpg copied\n",
      "\n",
      "\n",
      "Images: 2\n"
     ]
    },
    {
     "data": {
      "application/vnd.jupyter.widget-view+json": {
       "model_id": "c06e7f38e33340bdb7f9e2dc4be97c5c",
       "version_major": 2,
       "version_minor": 0
      },
      "text/plain": [
       "Batches:   0%|          | 0/1 [00:00<?, ?it/s]"
      ]
     },
     "metadata": {},
     "output_type": "display_data"
    },
    {
     "name": "stdout",
     "output_type": "stream",
     "text": [
      "Finding duplicate images...\n",
      "Finding near duplicate images...\n",
      "\n",
      "Score: 84.096%\n",
      "Images to compare\\frame0.jpg\n",
      "Images to compare\\frame111.jpg\n",
      "\n",
      "\n",
      "0.8409602642059326\n",
      "\n",
      "\n",
      "not incident\n",
      "\n",
      "\n",
      "\n",
      "\n",
      "C:\\Anomaly detection IR\\video to images\\frame111.jpg removed\n",
      "\n",
      "\n",
      "C:\\Anomaly detection IR\\video to images\\frame112.jpg copied\n",
      "\n",
      "\n",
      "Images: 2\n"
     ]
    },
    {
     "data": {
      "application/vnd.jupyter.widget-view+json": {
       "model_id": "bccdb21cd62242e0bc06b567e9460074",
       "version_major": 2,
       "version_minor": 0
      },
      "text/plain": [
       "Batches:   0%|          | 0/1 [00:00<?, ?it/s]"
      ]
     },
     "metadata": {},
     "output_type": "display_data"
    },
    {
     "name": "stdout",
     "output_type": "stream",
     "text": [
      "Finding duplicate images...\n",
      "Finding near duplicate images...\n",
      "\n",
      "Score: 81.395%\n",
      "Images to compare\\frame0.jpg\n",
      "Images to compare\\frame112.jpg\n",
      "\n",
      "\n",
      "0.8139511942863464\n",
      "\n",
      "\n",
      "not incident\n",
      "\n",
      "\n",
      "\n",
      "\n",
      "C:\\Anomaly detection IR\\video to images\\frame112.jpg removed\n",
      "\n",
      "\n",
      "C:\\Anomaly detection IR\\video to images\\frame113.jpg copied\n",
      "\n",
      "\n",
      "Images: 2\n"
     ]
    },
    {
     "data": {
      "application/vnd.jupyter.widget-view+json": {
       "model_id": "be56727e17824132b077c51521a819f4",
       "version_major": 2,
       "version_minor": 0
      },
      "text/plain": [
       "Batches:   0%|          | 0/1 [00:00<?, ?it/s]"
      ]
     },
     "metadata": {},
     "output_type": "display_data"
    },
    {
     "name": "stdout",
     "output_type": "stream",
     "text": [
      "Finding duplicate images...\n",
      "Finding near duplicate images...\n",
      "\n",
      "Score: 82.761%\n",
      "Images to compare\\frame113.jpg\n",
      "Images to compare\\frame0.jpg\n",
      "\n",
      "\n",
      "0.8276065587997437\n",
      "\n",
      "\n",
      "not incident\n",
      "\n",
      "\n",
      "\n",
      "\n",
      "C:\\Anomaly detection IR\\video to images\\frame113.jpg removed\n",
      "\n",
      "\n",
      "C:\\Anomaly detection IR\\video to images\\frame114.jpg copied\n",
      "\n",
      "\n",
      "Images: 2\n"
     ]
    },
    {
     "data": {
      "application/vnd.jupyter.widget-view+json": {
       "model_id": "1e21f7d607bc4be4aad21a872abd3608",
       "version_major": 2,
       "version_minor": 0
      },
      "text/plain": [
       "Batches:   0%|          | 0/1 [00:00<?, ?it/s]"
      ]
     },
     "metadata": {},
     "output_type": "display_data"
    },
    {
     "name": "stdout",
     "output_type": "stream",
     "text": [
      "Finding duplicate images...\n",
      "Finding near duplicate images...\n",
      "\n",
      "Score: 79.583%\n",
      "Images to compare\\frame114.jpg\n",
      "Images to compare\\frame0.jpg\n",
      "\n",
      "\n",
      "0.7958334684371948\n",
      "\n",
      "\n",
      "not incident\n",
      "\n",
      "\n",
      "\n",
      "\n",
      "C:\\Anomaly detection IR\\video to images\\frame114.jpg removed\n",
      "\n",
      "\n",
      "C:\\Anomaly detection IR\\video to images\\frame115.jpg copied\n",
      "\n",
      "\n",
      "Images: 2\n"
     ]
    },
    {
     "data": {
      "application/vnd.jupyter.widget-view+json": {
       "model_id": "5d7011fcdd1e42e4949f3385a795d16e",
       "version_major": 2,
       "version_minor": 0
      },
      "text/plain": [
       "Batches:   0%|          | 0/1 [00:00<?, ?it/s]"
      ]
     },
     "metadata": {},
     "output_type": "display_data"
    },
    {
     "name": "stdout",
     "output_type": "stream",
     "text": [
      "Finding duplicate images...\n",
      "Finding near duplicate images...\n",
      "\n",
      "Score: 78.148%\n",
      "Images to compare\\frame115.jpg\n",
      "Images to compare\\frame0.jpg\n",
      "\n",
      "\n",
      "0.7814800143241882\n",
      "\n",
      "\n",
      "not incident\n",
      "\n",
      "\n",
      "\n",
      "\n",
      "C:\\Anomaly detection IR\\video to images\\frame115.jpg removed\n",
      "\n",
      "\n",
      "C:\\Anomaly detection IR\\video to images\\frame116.jpg copied\n",
      "\n",
      "\n",
      "Images: 2\n"
     ]
    },
    {
     "data": {
      "application/vnd.jupyter.widget-view+json": {
       "model_id": "a0a2b2fa054343e3a904ad952fd96795",
       "version_major": 2,
       "version_minor": 0
      },
      "text/plain": [
       "Batches:   0%|          | 0/1 [00:00<?, ?it/s]"
      ]
     },
     "metadata": {},
     "output_type": "display_data"
    },
    {
     "name": "stdout",
     "output_type": "stream",
     "text": [
      "Finding duplicate images...\n",
      "Finding near duplicate images...\n",
      "\n",
      "Score: 77.018%\n",
      "Images to compare\\frame0.jpg\n",
      "Images to compare\\frame116.jpg\n",
      "\n",
      "\n",
      "0.7701761722564697\n",
      "\n",
      "\n",
      "not incident\n",
      "\n",
      "\n",
      "\n",
      "\n",
      "C:\\Anomaly detection IR\\video to images\\frame116.jpg removed\n",
      "\n",
      "\n",
      "C:\\Anomaly detection IR\\video to images\\frame117.jpg copied\n",
      "\n",
      "\n",
      "Images: 2\n"
     ]
    },
    {
     "data": {
      "application/vnd.jupyter.widget-view+json": {
       "model_id": "2a412e7eb31e4164af5db07c92ea038f",
       "version_major": 2,
       "version_minor": 0
      },
      "text/plain": [
       "Batches:   0%|          | 0/1 [00:00<?, ?it/s]"
      ]
     },
     "metadata": {},
     "output_type": "display_data"
    },
    {
     "name": "stdout",
     "output_type": "stream",
     "text": [
      "Finding duplicate images...\n",
      "Finding near duplicate images...\n",
      "\n",
      "Score: 75.534%\n",
      "Images to compare\\frame0.jpg\n",
      "Images to compare\\frame117.jpg\n",
      "\n",
      "\n",
      "0.7553431987762451\n",
      "\n",
      "\n",
      "not incident\n",
      "\n",
      "\n",
      "\n",
      "\n",
      "C:\\Anomaly detection IR\\video to images\\frame117.jpg removed\n",
      "\n",
      "\n",
      "C:\\Anomaly detection IR\\video to images\\frame118.jpg copied\n",
      "\n",
      "\n",
      "Images: 2\n"
     ]
    },
    {
     "data": {
      "application/vnd.jupyter.widget-view+json": {
       "model_id": "8b5a3d075b7146198750f8773fa84165",
       "version_major": 2,
       "version_minor": 0
      },
      "text/plain": [
       "Batches:   0%|          | 0/1 [00:00<?, ?it/s]"
      ]
     },
     "metadata": {},
     "output_type": "display_data"
    },
    {
     "name": "stdout",
     "output_type": "stream",
     "text": [
      "Finding duplicate images...\n",
      "Finding near duplicate images...\n",
      "\n",
      "Score: 75.604%\n",
      "Images to compare\\frame118.jpg\n",
      "Images to compare\\frame0.jpg\n",
      "\n",
      "\n",
      "0.7560442686080933\n",
      "\n",
      "\n",
      "not incident\n",
      "\n",
      "\n",
      "\n",
      "\n",
      "C:\\Anomaly detection IR\\video to images\\frame118.jpg removed\n",
      "\n",
      "\n",
      "C:\\Anomaly detection IR\\video to images\\frame119.jpg copied\n",
      "\n",
      "\n",
      "Images: 2\n"
     ]
    },
    {
     "data": {
      "application/vnd.jupyter.widget-view+json": {
       "model_id": "ef6cfeefdce043b3bd2229e009d4c1aa",
       "version_major": 2,
       "version_minor": 0
      },
      "text/plain": [
       "Batches:   0%|          | 0/1 [00:00<?, ?it/s]"
      ]
     },
     "metadata": {},
     "output_type": "display_data"
    },
    {
     "name": "stdout",
     "output_type": "stream",
     "text": [
      "Finding duplicate images...\n",
      "Finding near duplicate images...\n",
      "\n",
      "Score: 76.659%\n",
      "Images to compare\\frame0.jpg\n",
      "Images to compare\\frame119.jpg\n",
      "\n",
      "\n",
      "0.7665942907333374\n",
      "\n",
      "\n",
      "not incident\n",
      "\n",
      "\n",
      "\n",
      "\n",
      "C:\\Anomaly detection IR\\video to images\\frame119.jpg removed\n",
      "\n",
      "\n",
      "C:\\Anomaly detection IR\\video to images\\frame120.jpg copied\n",
      "\n",
      "\n",
      "Images: 2\n"
     ]
    },
    {
     "data": {
      "application/vnd.jupyter.widget-view+json": {
       "model_id": "0d87f53da1b84d0ea142f5ce5d59605f",
       "version_major": 2,
       "version_minor": 0
      },
      "text/plain": [
       "Batches:   0%|          | 0/1 [00:00<?, ?it/s]"
      ]
     },
     "metadata": {},
     "output_type": "display_data"
    },
    {
     "name": "stdout",
     "output_type": "stream",
     "text": [
      "Finding duplicate images...\n",
      "Finding near duplicate images...\n",
      "\n",
      "Score: 75.344%\n",
      "Images to compare\\frame0.jpg\n",
      "Images to compare\\frame120.jpg\n",
      "\n",
      "\n",
      "0.753437876701355\n",
      "\n",
      "\n",
      "not incident\n",
      "\n",
      "\n",
      "\n",
      "\n",
      "C:\\Anomaly detection IR\\video to images\\frame120.jpg removed\n",
      "\n",
      "\n",
      "C:\\Anomaly detection IR\\video to images\\frame121.jpg copied\n",
      "\n",
      "\n",
      "Images: 2\n"
     ]
    },
    {
     "data": {
      "application/vnd.jupyter.widget-view+json": {
       "model_id": "46530d1310c04096b0706668ee85799d",
       "version_major": 2,
       "version_minor": 0
      },
      "text/plain": [
       "Batches:   0%|          | 0/1 [00:00<?, ?it/s]"
      ]
     },
     "metadata": {},
     "output_type": "display_data"
    },
    {
     "name": "stdout",
     "output_type": "stream",
     "text": [
      "Finding duplicate images...\n",
      "Finding near duplicate images...\n",
      "\n",
      "Score: 75.031%\n",
      "Images to compare\\frame0.jpg\n",
      "Images to compare\\frame121.jpg\n",
      "\n",
      "\n",
      "0.7503114938735962\n",
      "\n",
      "\n",
      "not incident\n",
      "\n",
      "\n",
      "\n",
      "\n",
      "C:\\Anomaly detection IR\\video to images\\frame121.jpg removed\n",
      "\n",
      "\n",
      "C:\\Anomaly detection IR\\video to images\\frame122.jpg copied\n",
      "\n",
      "\n",
      "Images: 2\n"
     ]
    },
    {
     "data": {
      "application/vnd.jupyter.widget-view+json": {
       "model_id": "3ca5db6b906a48d1900e51f2866f94a5",
       "version_major": 2,
       "version_minor": 0
      },
      "text/plain": [
       "Batches:   0%|          | 0/1 [00:00<?, ?it/s]"
      ]
     },
     "metadata": {},
     "output_type": "display_data"
    },
    {
     "name": "stdout",
     "output_type": "stream",
     "text": [
      "Finding duplicate images...\n",
      "Finding near duplicate images...\n",
      "\n",
      "Score: 74.673%\n",
      "Images to compare\\frame0.jpg\n",
      "Images to compare\\frame122.jpg\n",
      "\n",
      "\n",
      "0.7467279434204102\n",
      "\n",
      "\n",
      "not incident\n",
      "\n",
      "\n",
      "\n",
      "\n",
      "C:\\Anomaly detection IR\\video to images\\frame122.jpg removed\n",
      "\n",
      "\n",
      "C:\\Anomaly detection IR\\video to images\\frame123.jpg copied\n",
      "\n",
      "\n",
      "Images: 2\n"
     ]
    },
    {
     "data": {
      "application/vnd.jupyter.widget-view+json": {
       "model_id": "963c80a003c8405cac686fc74925397f",
       "version_major": 2,
       "version_minor": 0
      },
      "text/plain": [
       "Batches:   0%|          | 0/1 [00:00<?, ?it/s]"
      ]
     },
     "metadata": {},
     "output_type": "display_data"
    },
    {
     "name": "stdout",
     "output_type": "stream",
     "text": [
      "Finding duplicate images...\n",
      "Finding near duplicate images...\n",
      "\n",
      "Score: 73.401%\n",
      "Images to compare\\frame123.jpg\n",
      "Images to compare\\frame0.jpg\n",
      "\n",
      "\n",
      "0.7340136170387268\n",
      "\n",
      "\n",
      "not incident\n",
      "\n",
      "\n",
      "\n",
      "\n",
      "C:\\Anomaly detection IR\\video to images\\frame123.jpg removed\n",
      "\n",
      "\n",
      "C:\\Anomaly detection IR\\video to images\\frame124.jpg copied\n",
      "\n",
      "\n",
      "Images: 2\n"
     ]
    },
    {
     "data": {
      "application/vnd.jupyter.widget-view+json": {
       "model_id": "82237d26180a46b4a4ade98190220172",
       "version_major": 2,
       "version_minor": 0
      },
      "text/plain": [
       "Batches:   0%|          | 0/1 [00:00<?, ?it/s]"
      ]
     },
     "metadata": {},
     "output_type": "display_data"
    },
    {
     "name": "stdout",
     "output_type": "stream",
     "text": [
      "Finding duplicate images...\n",
      "Finding near duplicate images...\n",
      "\n",
      "Score: 73.061%\n",
      "Images to compare\\frame0.jpg\n",
      "Images to compare\\frame124.jpg\n",
      "\n",
      "\n",
      "0.7306082844734192\n",
      "\n",
      "\n",
      "not incident\n",
      "\n",
      "\n",
      "\n",
      "\n",
      "C:\\Anomaly detection IR\\video to images\\frame124.jpg removed\n",
      "\n",
      "\n",
      "C:\\Anomaly detection IR\\video to images\\frame125.jpg copied\n",
      "\n",
      "\n",
      "Images: 2\n"
     ]
    },
    {
     "data": {
      "application/vnd.jupyter.widget-view+json": {
       "model_id": "c9e9f47ffa85440cb4f7bbe8e69071e4",
       "version_major": 2,
       "version_minor": 0
      },
      "text/plain": [
       "Batches:   0%|          | 0/1 [00:00<?, ?it/s]"
      ]
     },
     "metadata": {},
     "output_type": "display_data"
    },
    {
     "name": "stdout",
     "output_type": "stream",
     "text": [
      "Finding duplicate images...\n",
      "Finding near duplicate images...\n",
      "\n",
      "Score: 73.554%\n",
      "Images to compare\\frame0.jpg\n",
      "Images to compare\\frame125.jpg\n",
      "\n",
      "\n",
      "0.7355360388755798\n",
      "\n",
      "\n",
      "not incident\n",
      "\n",
      "\n",
      "\n",
      "\n",
      "C:\\Anomaly detection IR\\video to images\\frame125.jpg removed\n",
      "\n",
      "\n",
      "C:\\Anomaly detection IR\\video to images\\frame126.jpg copied\n",
      "\n",
      "\n",
      "Images: 2\n"
     ]
    },
    {
     "data": {
      "application/vnd.jupyter.widget-view+json": {
       "model_id": "2b6da59a0633477995c9ad66cb52ce44",
       "version_major": 2,
       "version_minor": 0
      },
      "text/plain": [
       "Batches:   0%|          | 0/1 [00:00<?, ?it/s]"
      ]
     },
     "metadata": {},
     "output_type": "display_data"
    },
    {
     "name": "stdout",
     "output_type": "stream",
     "text": [
      "Finding duplicate images...\n",
      "Finding near duplicate images...\n",
      "\n",
      "Score: 73.584%\n",
      "Images to compare\\frame0.jpg\n",
      "Images to compare\\frame126.jpg\n",
      "\n",
      "\n",
      "0.7358362674713135\n",
      "\n",
      "\n",
      "not incident\n",
      "\n",
      "\n",
      "\n",
      "\n",
      "C:\\Anomaly detection IR\\video to images\\frame126.jpg removed\n",
      "\n",
      "\n",
      "C:\\Anomaly detection IR\\video to images\\frame127.jpg copied\n",
      "\n",
      "\n",
      "Images: 2\n"
     ]
    },
    {
     "data": {
      "application/vnd.jupyter.widget-view+json": {
       "model_id": "421c4cb8ba954e9e873b11b4199c4562",
       "version_major": 2,
       "version_minor": 0
      },
      "text/plain": [
       "Batches:   0%|          | 0/1 [00:00<?, ?it/s]"
      ]
     },
     "metadata": {},
     "output_type": "display_data"
    },
    {
     "name": "stdout",
     "output_type": "stream",
     "text": [
      "Finding duplicate images...\n",
      "Finding near duplicate images...\n",
      "\n",
      "Score: 74.822%\n",
      "Images to compare\\frame0.jpg\n",
      "Images to compare\\frame127.jpg\n",
      "\n",
      "\n",
      "0.7482173442840576\n",
      "\n",
      "\n",
      "not incident\n",
      "\n",
      "\n",
      "\n",
      "\n",
      "C:\\Anomaly detection IR\\video to images\\frame127.jpg removed\n",
      "\n",
      "\n",
      "C:\\Anomaly detection IR\\video to images\\frame128.jpg copied\n",
      "\n",
      "\n",
      "Images: 2\n"
     ]
    },
    {
     "data": {
      "application/vnd.jupyter.widget-view+json": {
       "model_id": "db794c9e355e469ca0f7e2408ba9107e",
       "version_major": 2,
       "version_minor": 0
      },
      "text/plain": [
       "Batches:   0%|          | 0/1 [00:00<?, ?it/s]"
      ]
     },
     "metadata": {},
     "output_type": "display_data"
    },
    {
     "name": "stdout",
     "output_type": "stream",
     "text": [
      "Finding duplicate images...\n",
      "Finding near duplicate images...\n",
      "\n",
      "Score: 77.047%\n",
      "Images to compare\\frame128.jpg\n",
      "Images to compare\\frame0.jpg\n",
      "\n",
      "\n",
      "0.7704700827598572\n",
      "\n",
      "\n",
      "not incident\n",
      "\n",
      "\n",
      "\n",
      "\n",
      "C:\\Anomaly detection IR\\video to images\\frame128.jpg removed\n",
      "\n",
      "\n",
      "C:\\Anomaly detection IR\\video to images\\frame129.jpg copied\n",
      "\n",
      "\n",
      "Images: 2\n"
     ]
    },
    {
     "data": {
      "application/vnd.jupyter.widget-view+json": {
       "model_id": "e0eb96a95cc04c69972d75d62afc7ceb",
       "version_major": 2,
       "version_minor": 0
      },
      "text/plain": [
       "Batches:   0%|          | 0/1 [00:00<?, ?it/s]"
      ]
     },
     "metadata": {},
     "output_type": "display_data"
    },
    {
     "name": "stdout",
     "output_type": "stream",
     "text": [
      "Finding duplicate images...\n",
      "Finding near duplicate images...\n",
      "\n",
      "Score: 76.921%\n",
      "Images to compare\\frame129.jpg\n",
      "Images to compare\\frame0.jpg\n",
      "\n",
      "\n",
      "0.7692072987556458\n",
      "\n",
      "\n",
      "not incident\n",
      "\n",
      "\n",
      "\n",
      "\n",
      "C:\\Anomaly detection IR\\video to images\\frame129.jpg removed\n",
      "\n",
      "\n",
      "C:\\Anomaly detection IR\\video to images\\frame130.jpg copied\n",
      "\n",
      "\n",
      "Images: 2\n"
     ]
    },
    {
     "data": {
      "application/vnd.jupyter.widget-view+json": {
       "model_id": "f3f0248bbca54e2d9f20eebe781ae59b",
       "version_major": 2,
       "version_minor": 0
      },
      "text/plain": [
       "Batches:   0%|          | 0/1 [00:00<?, ?it/s]"
      ]
     },
     "metadata": {},
     "output_type": "display_data"
    },
    {
     "name": "stdout",
     "output_type": "stream",
     "text": [
      "Finding duplicate images...\n",
      "Finding near duplicate images...\n",
      "\n",
      "Score: 76.802%\n",
      "Images to compare\\frame0.jpg\n",
      "Images to compare\\frame130.jpg\n",
      "\n",
      "\n",
      "0.7680230736732483\n",
      "\n",
      "\n",
      "not incident\n",
      "\n",
      "\n",
      "\n",
      "\n",
      "C:\\Anomaly detection IR\\video to images\\frame130.jpg removed\n",
      "\n",
      "\n",
      "C:\\Anomaly detection IR\\video to images\\frame131.jpg copied\n",
      "\n",
      "\n",
      "Images: 2\n"
     ]
    },
    {
     "data": {
      "application/vnd.jupyter.widget-view+json": {
       "model_id": "abc771d3955848d1a49e61291b6b84fa",
       "version_major": 2,
       "version_minor": 0
      },
      "text/plain": [
       "Batches:   0%|          | 0/1 [00:00<?, ?it/s]"
      ]
     },
     "metadata": {},
     "output_type": "display_data"
    },
    {
     "name": "stdout",
     "output_type": "stream",
     "text": [
      "Finding duplicate images...\n",
      "Finding near duplicate images...\n",
      "\n",
      "Score: 79.886%\n",
      "Images to compare\\frame0.jpg\n",
      "Images to compare\\frame131.jpg\n",
      "\n",
      "\n",
      "0.7988608479499817\n",
      "\n",
      "\n",
      "not incident\n",
      "\n",
      "\n",
      "\n",
      "\n",
      "C:\\Anomaly detection IR\\video to images\\frame131.jpg removed\n",
      "\n",
      "\n",
      "C:\\Anomaly detection IR\\video to images\\frame132.jpg copied\n",
      "\n",
      "\n",
      "Images: 2\n"
     ]
    },
    {
     "data": {
      "application/vnd.jupyter.widget-view+json": {
       "model_id": "aa7a841020c54e9c99f1ca2a473313a2",
       "version_major": 2,
       "version_minor": 0
      },
      "text/plain": [
       "Batches:   0%|          | 0/1 [00:00<?, ?it/s]"
      ]
     },
     "metadata": {},
     "output_type": "display_data"
    },
    {
     "name": "stdout",
     "output_type": "stream",
     "text": [
      "Finding duplicate images...\n",
      "Finding near duplicate images...\n",
      "\n",
      "Score: 79.496%\n",
      "Images to compare\\frame0.jpg\n",
      "Images to compare\\frame132.jpg\n",
      "\n",
      "\n",
      "0.7949629426002502\n",
      "\n",
      "\n",
      "not incident\n",
      "\n",
      "\n",
      "\n",
      "\n",
      "C:\\Anomaly detection IR\\video to images\\frame132.jpg removed\n",
      "\n",
      "\n",
      "C:\\Anomaly detection IR\\video to images\\frame133.jpg copied\n",
      "\n",
      "\n",
      "Images: 2\n"
     ]
    },
    {
     "data": {
      "application/vnd.jupyter.widget-view+json": {
       "model_id": "c5eb05c3d3384f099d04378a68393fc0",
       "version_major": 2,
       "version_minor": 0
      },
      "text/plain": [
       "Batches:   0%|          | 0/1 [00:00<?, ?it/s]"
      ]
     },
     "metadata": {},
     "output_type": "display_data"
    },
    {
     "name": "stdout",
     "output_type": "stream",
     "text": [
      "Finding duplicate images...\n",
      "Finding near duplicate images...\n",
      "\n",
      "Score: 78.572%\n",
      "Images to compare\\frame133.jpg\n",
      "Images to compare\\frame0.jpg\n",
      "\n",
      "\n",
      "0.7857164144515991\n",
      "\n",
      "\n",
      "not incident\n",
      "\n",
      "\n",
      "\n",
      "\n",
      "C:\\Anomaly detection IR\\video to images\\frame133.jpg removed\n",
      "\n",
      "\n",
      "C:\\Anomaly detection IR\\video to images\\frame134.jpg copied\n",
      "\n",
      "\n",
      "Images: 2\n"
     ]
    },
    {
     "data": {
      "application/vnd.jupyter.widget-view+json": {
       "model_id": "8ae753f567814acfb1e40caf4e749043",
       "version_major": 2,
       "version_minor": 0
      },
      "text/plain": [
       "Batches:   0%|          | 0/1 [00:00<?, ?it/s]"
      ]
     },
     "metadata": {},
     "output_type": "display_data"
    },
    {
     "name": "stdout",
     "output_type": "stream",
     "text": [
      "Finding duplicate images...\n",
      "Finding near duplicate images...\n",
      "\n",
      "Score: 78.852%\n",
      "Images to compare\\frame134.jpg\n",
      "Images to compare\\frame0.jpg\n",
      "\n",
      "\n",
      "0.7885208129882812\n",
      "\n",
      "\n",
      "not incident\n",
      "\n",
      "\n",
      "\n",
      "\n",
      "C:\\Anomaly detection IR\\video to images\\frame134.jpg removed\n",
      "\n",
      "\n",
      "C:\\Anomaly detection IR\\video to images\\frame135.jpg copied\n",
      "\n",
      "\n",
      "Images: 2\n"
     ]
    },
    {
     "data": {
      "application/vnd.jupyter.widget-view+json": {
       "model_id": "e453105dcc3b4aceb5b3b389cd2f4768",
       "version_major": 2,
       "version_minor": 0
      },
      "text/plain": [
       "Batches:   0%|          | 0/1 [00:00<?, ?it/s]"
      ]
     },
     "metadata": {},
     "output_type": "display_data"
    },
    {
     "name": "stdout",
     "output_type": "stream",
     "text": [
      "Finding duplicate images...\n",
      "Finding near duplicate images...\n",
      "\n",
      "Score: 81.397%\n",
      "Images to compare\\frame0.jpg\n",
      "Images to compare\\frame135.jpg\n",
      "\n",
      "\n",
      "0.8139671683311462\n",
      "\n",
      "\n",
      "not incident\n",
      "\n",
      "\n",
      "\n",
      "\n",
      "C:\\Anomaly detection IR\\video to images\\frame135.jpg removed\n",
      "\n",
      "\n",
      "C:\\Anomaly detection IR\\video to images\\frame136.jpg copied\n",
      "\n",
      "\n",
      "Images: 2\n"
     ]
    },
    {
     "data": {
      "application/vnd.jupyter.widget-view+json": {
       "model_id": "916640c3d2c04126b4e73985273ab0ed",
       "version_major": 2,
       "version_minor": 0
      },
      "text/plain": [
       "Batches:   0%|          | 0/1 [00:00<?, ?it/s]"
      ]
     },
     "metadata": {},
     "output_type": "display_data"
    },
    {
     "name": "stdout",
     "output_type": "stream",
     "text": [
      "Finding duplicate images...\n",
      "Finding near duplicate images...\n",
      "\n",
      "Score: 82.838%\n",
      "Images to compare\\frame0.jpg\n",
      "Images to compare\\frame136.jpg\n",
      "\n",
      "\n",
      "0.8283809423446655\n",
      "\n",
      "\n",
      "not incident\n",
      "\n",
      "\n",
      "\n",
      "\n",
      "C:\\Anomaly detection IR\\video to images\\frame136.jpg removed\n",
      "\n",
      "\n",
      "C:\\Anomaly detection IR\\video to images\\frame137.jpg copied\n",
      "\n",
      "\n",
      "Images: 2\n"
     ]
    },
    {
     "data": {
      "application/vnd.jupyter.widget-view+json": {
       "model_id": "b33b5870851449d083e90696422e9ac3",
       "version_major": 2,
       "version_minor": 0
      },
      "text/plain": [
       "Batches:   0%|          | 0/1 [00:00<?, ?it/s]"
      ]
     },
     "metadata": {},
     "output_type": "display_data"
    },
    {
     "name": "stdout",
     "output_type": "stream",
     "text": [
      "Finding duplicate images...\n",
      "Finding near duplicate images...\n",
      "\n",
      "Score: 85.043%\n",
      "Images to compare\\frame137.jpg\n",
      "Images to compare\\frame0.jpg\n",
      "\n",
      "\n",
      "0.8504314422607422\n",
      "\n",
      "\n",
      "not incident\n",
      "\n",
      "\n",
      "\n",
      "\n",
      "C:\\Anomaly detection IR\\video to images\\frame137.jpg removed\n",
      "\n",
      "\n",
      "C:\\Anomaly detection IR\\video to images\\frame138.jpg copied\n",
      "\n",
      "\n",
      "Images: 2\n"
     ]
    },
    {
     "data": {
      "application/vnd.jupyter.widget-view+json": {
       "model_id": "b37b9b45a35f436792c6d431656583a1",
       "version_major": 2,
       "version_minor": 0
      },
      "text/plain": [
       "Batches:   0%|          | 0/1 [00:00<?, ?it/s]"
      ]
     },
     "metadata": {},
     "output_type": "display_data"
    },
    {
     "name": "stdout",
     "output_type": "stream",
     "text": [
      "Finding duplicate images...\n",
      "Finding near duplicate images...\n",
      "\n",
      "Score: 87.785%\n",
      "Images to compare\\frame0.jpg\n",
      "Images to compare\\frame138.jpg\n",
      "\n",
      "\n",
      "0.8778512477874756\n",
      "\n",
      "\n",
      "not incident\n",
      "\n",
      "\n",
      "\n",
      "\n",
      "C:\\Anomaly detection IR\\video to images\\frame138.jpg removed\n",
      "\n",
      "\n",
      "C:\\Anomaly detection IR\\video to images\\frame139.jpg copied\n",
      "\n",
      "\n",
      "Images: 2\n"
     ]
    },
    {
     "data": {
      "application/vnd.jupyter.widget-view+json": {
       "model_id": "1728b45995454b31942ba1cef5dfc371",
       "version_major": 2,
       "version_minor": 0
      },
      "text/plain": [
       "Batches:   0%|          | 0/1 [00:00<?, ?it/s]"
      ]
     },
     "metadata": {},
     "output_type": "display_data"
    },
    {
     "name": "stdout",
     "output_type": "stream",
     "text": [
      "Finding duplicate images...\n",
      "Finding near duplicate images...\n",
      "\n",
      "Score: 88.603%\n",
      "Images to compare\\frame0.jpg\n",
      "Images to compare\\frame139.jpg\n",
      "\n",
      "\n",
      "0.8860329389572144\n",
      "\n",
      "\n",
      "not incident\n",
      "\n",
      "\n",
      "\n",
      "\n",
      "C:\\Anomaly detection IR\\video to images\\frame139.jpg removed\n",
      "\n",
      "\n",
      "C:\\Anomaly detection IR\\video to images\\frame140.jpg copied\n",
      "\n",
      "\n",
      "Images: 2\n"
     ]
    },
    {
     "data": {
      "application/vnd.jupyter.widget-view+json": {
       "model_id": "a3a49798d9f54e059e96042a13efef59",
       "version_major": 2,
       "version_minor": 0
      },
      "text/plain": [
       "Batches:   0%|          | 0/1 [00:00<?, ?it/s]"
      ]
     },
     "metadata": {},
     "output_type": "display_data"
    },
    {
     "name": "stdout",
     "output_type": "stream",
     "text": [
      "Finding duplicate images...\n",
      "Finding near duplicate images...\n",
      "\n",
      "Score: 88.727%\n",
      "Images to compare\\frame0.jpg\n",
      "Images to compare\\frame140.jpg\n",
      "\n",
      "\n",
      "0.8872725367546082\n",
      "\n",
      "\n",
      "not incident\n",
      "\n",
      "\n",
      "\n",
      "\n",
      "C:\\Anomaly detection IR\\video to images\\frame140.jpg removed\n",
      "\n",
      "\n",
      "C:\\Anomaly detection IR\\video to images\\frame141.jpg copied\n",
      "\n",
      "\n",
      "Images: 2\n"
     ]
    },
    {
     "data": {
      "application/vnd.jupyter.widget-view+json": {
       "model_id": "a4b8c8a39b12446b8890d1a7f8c18144",
       "version_major": 2,
       "version_minor": 0
      },
      "text/plain": [
       "Batches:   0%|          | 0/1 [00:00<?, ?it/s]"
      ]
     },
     "metadata": {},
     "output_type": "display_data"
    },
    {
     "name": "stdout",
     "output_type": "stream",
     "text": [
      "Finding duplicate images...\n",
      "Finding near duplicate images...\n",
      "\n",
      "Score: 90.072%\n",
      "Images to compare\\frame141.jpg\n",
      "Images to compare\\frame0.jpg\n",
      "\n",
      "\n",
      "0.9007158279418945\n",
      "\n",
      "\n",
      "not incident\n",
      "\n",
      "\n",
      "\n",
      "\n",
      "C:\\Anomaly detection IR\\video to images\\frame141.jpg removed\n",
      "\n",
      "\n",
      "C:\\Anomaly detection IR\\video to images\\frame142.jpg copied\n",
      "\n",
      "\n",
      "Images: 2\n"
     ]
    },
    {
     "data": {
      "application/vnd.jupyter.widget-view+json": {
       "model_id": "ffb9ad2c5b6d465e91b5928c13773819",
       "version_major": 2,
       "version_minor": 0
      },
      "text/plain": [
       "Batches:   0%|          | 0/1 [00:00<?, ?it/s]"
      ]
     },
     "metadata": {},
     "output_type": "display_data"
    },
    {
     "name": "stdout",
     "output_type": "stream",
     "text": [
      "Finding duplicate images...\n",
      "Finding near duplicate images...\n",
      "\n",
      "Score: 89.435%\n",
      "Images to compare\\frame142.jpg\n",
      "Images to compare\\frame0.jpg\n",
      "\n",
      "\n",
      "0.8943468928337097\n",
      "\n",
      "\n",
      "not incident\n",
      "\n",
      "\n",
      "\n",
      "\n",
      "C:\\Anomaly detection IR\\video to images\\frame142.jpg removed\n",
      "\n",
      "\n",
      "C:\\Anomaly detection IR\\video to images\\frame143.jpg copied\n",
      "\n",
      "\n",
      "Images: 2\n"
     ]
    },
    {
     "data": {
      "application/vnd.jupyter.widget-view+json": {
       "model_id": "7971aee19504405abc78b93e3c3ad62b",
       "version_major": 2,
       "version_minor": 0
      },
      "text/plain": [
       "Batches:   0%|          | 0/1 [00:00<?, ?it/s]"
      ]
     },
     "metadata": {},
     "output_type": "display_data"
    },
    {
     "name": "stdout",
     "output_type": "stream",
     "text": [
      "Finding duplicate images...\n",
      "Finding near duplicate images...\n",
      "\n",
      "Score: 90.029%\n",
      "Images to compare\\frame143.jpg\n",
      "Images to compare\\frame0.jpg\n",
      "\n",
      "\n",
      "0.9002939462661743\n",
      "\n",
      "\n",
      "not incident\n",
      "\n",
      "\n",
      "\n",
      "\n",
      "C:\\Anomaly detection IR\\video to images\\frame143.jpg removed\n",
      "\n",
      "\n",
      "C:\\Anomaly detection IR\\video to images\\frame144.jpg copied\n",
      "\n",
      "\n",
      "Images: 2\n"
     ]
    },
    {
     "data": {
      "application/vnd.jupyter.widget-view+json": {
       "model_id": "bb43ce17aea34f8fa95f1de66788246d",
       "version_major": 2,
       "version_minor": 0
      },
      "text/plain": [
       "Batches:   0%|          | 0/1 [00:00<?, ?it/s]"
      ]
     },
     "metadata": {},
     "output_type": "display_data"
    },
    {
     "name": "stdout",
     "output_type": "stream",
     "text": [
      "Finding duplicate images...\n",
      "Finding near duplicate images...\n",
      "\n",
      "Score: 90.719%\n",
      "Images to compare\\frame0.jpg\n",
      "Images to compare\\frame144.jpg\n",
      "\n",
      "\n",
      "0.9071948528289795\n",
      "\n",
      "\n",
      "not incident\n",
      "\n",
      "\n",
      "\n",
      "\n",
      "C:\\Anomaly detection IR\\video to images\\frame144.jpg removed\n",
      "\n",
      "\n",
      "C:\\Anomaly detection IR\\video to images\\frame145.jpg copied\n",
      "\n",
      "\n",
      "Images: 2\n"
     ]
    },
    {
     "data": {
      "application/vnd.jupyter.widget-view+json": {
       "model_id": "d3aee463ea344e87b60769fa56a60ea2",
       "version_major": 2,
       "version_minor": 0
      },
      "text/plain": [
       "Batches:   0%|          | 0/1 [00:00<?, ?it/s]"
      ]
     },
     "metadata": {},
     "output_type": "display_data"
    },
    {
     "name": "stdout",
     "output_type": "stream",
     "text": [
      "Finding duplicate images...\n",
      "Finding near duplicate images...\n",
      "\n",
      "Score: 90.645%\n",
      "Images to compare\\frame145.jpg\n",
      "Images to compare\\frame0.jpg\n",
      "\n",
      "\n",
      "0.9064475893974304\n",
      "\n",
      "\n",
      "not incident\n",
      "\n",
      "\n",
      "\n",
      "\n",
      "C:\\Anomaly detection IR\\video to images\\frame145.jpg removed\n",
      "\n",
      "\n",
      "C:\\Anomaly detection IR\\video to images\\frame146.jpg copied\n",
      "\n",
      "\n",
      "Images: 2\n"
     ]
    },
    {
     "data": {
      "application/vnd.jupyter.widget-view+json": {
       "model_id": "400aecbf2be6476184d0991590dcab91",
       "version_major": 2,
       "version_minor": 0
      },
      "text/plain": [
       "Batches:   0%|          | 0/1 [00:00<?, ?it/s]"
      ]
     },
     "metadata": {},
     "output_type": "display_data"
    },
    {
     "name": "stdout",
     "output_type": "stream",
     "text": [
      "Finding duplicate images...\n",
      "Finding near duplicate images...\n",
      "\n",
      "Score: 90.488%\n",
      "Images to compare\\frame146.jpg\n",
      "Images to compare\\frame0.jpg\n",
      "\n",
      "\n",
      "0.9048769474029541\n",
      "\n",
      "\n",
      "not incident\n",
      "\n",
      "\n",
      "\n",
      "\n",
      "C:\\Anomaly detection IR\\video to images\\frame146.jpg removed\n",
      "\n",
      "\n",
      "C:\\Anomaly detection IR\\video to images\\frame147.jpg copied\n",
      "\n",
      "\n",
      "Images: 2\n"
     ]
    },
    {
     "data": {
      "application/vnd.jupyter.widget-view+json": {
       "model_id": "f01c570ba4f040c1a58294ce2c416b39",
       "version_major": 2,
       "version_minor": 0
      },
      "text/plain": [
       "Batches:   0%|          | 0/1 [00:00<?, ?it/s]"
      ]
     },
     "metadata": {},
     "output_type": "display_data"
    },
    {
     "name": "stdout",
     "output_type": "stream",
     "text": [
      "Finding duplicate images...\n",
      "Finding near duplicate images...\n",
      "\n",
      "Score: 90.044%\n",
      "Images to compare\\frame0.jpg\n",
      "Images to compare\\frame147.jpg\n",
      "\n",
      "\n",
      "0.900436282157898\n",
      "\n",
      "\n",
      "not incident\n",
      "\n",
      "\n",
      "\n",
      "\n",
      "C:\\Anomaly detection IR\\video to images\\frame147.jpg removed\n",
      "\n",
      "\n",
      "C:\\Anomaly detection IR\\video to images\\frame148.jpg copied\n",
      "\n",
      "\n",
      "Images: 2\n"
     ]
    },
    {
     "data": {
      "application/vnd.jupyter.widget-view+json": {
       "model_id": "363bdd8c06c44d1fa7f2cdc53411c6d4",
       "version_major": 2,
       "version_minor": 0
      },
      "text/plain": [
       "Batches:   0%|          | 0/1 [00:00<?, ?it/s]"
      ]
     },
     "metadata": {},
     "output_type": "display_data"
    },
    {
     "name": "stdout",
     "output_type": "stream",
     "text": [
      "Finding duplicate images...\n",
      "Finding near duplicate images...\n",
      "\n",
      "Score: 90.006%\n",
      "Images to compare\\frame148.jpg\n",
      "Images to compare\\frame0.jpg\n",
      "\n",
      "\n",
      "0.9000611305236816\n",
      "\n",
      "\n",
      "not incident\n",
      "\n",
      "\n",
      "\n",
      "\n",
      "C:\\Anomaly detection IR\\video to images\\frame148.jpg removed\n",
      "\n",
      "\n",
      "C:\\Anomaly detection IR\\video to images\\frame149.jpg copied\n",
      "\n",
      "\n",
      "Images: 2\n"
     ]
    },
    {
     "data": {
      "application/vnd.jupyter.widget-view+json": {
       "model_id": "4dd2e7bf12f1455d9044a57741e9ed64",
       "version_major": 2,
       "version_minor": 0
      },
      "text/plain": [
       "Batches:   0%|          | 0/1 [00:00<?, ?it/s]"
      ]
     },
     "metadata": {},
     "output_type": "display_data"
    },
    {
     "name": "stdout",
     "output_type": "stream",
     "text": [
      "Finding duplicate images...\n",
      "Finding near duplicate images...\n",
      "\n",
      "Score: 90.016%\n",
      "Images to compare\\frame0.jpg\n",
      "Images to compare\\frame149.jpg\n",
      "\n",
      "\n",
      "0.9001591205596924\n",
      "\n",
      "\n",
      "not incident\n",
      "\n",
      "\n",
      "\n",
      "\n",
      "C:\\Anomaly detection IR\\video to images\\frame149.jpg removed\n",
      "\n",
      "\n",
      "C:\\Anomaly detection IR\\video to images\\frame150.jpg copied\n",
      "\n",
      "\n",
      "Images: 2\n"
     ]
    },
    {
     "data": {
      "application/vnd.jupyter.widget-view+json": {
       "model_id": "7fb9c4522db84d0eb131081c62930f8e",
       "version_major": 2,
       "version_minor": 0
      },
      "text/plain": [
       "Batches:   0%|          | 0/1 [00:00<?, ?it/s]"
      ]
     },
     "metadata": {},
     "output_type": "display_data"
    },
    {
     "name": "stdout",
     "output_type": "stream",
     "text": [
      "Finding duplicate images...\n",
      "Finding near duplicate images...\n",
      "\n",
      "Score: 89.368%\n",
      "Images to compare\\frame0.jpg\n",
      "Images to compare\\frame150.jpg\n",
      "\n",
      "\n",
      "0.8936784863471985\n",
      "\n",
      "\n",
      "not incident\n",
      "\n",
      "\n",
      "\n",
      "\n",
      "C:\\Anomaly detection IR\\video to images\\frame150.jpg removed\n",
      "\n",
      "\n",
      "C:\\Anomaly detection IR\\video to images\\frame151.jpg copied\n",
      "\n",
      "\n",
      "Images: 2\n"
     ]
    },
    {
     "data": {
      "application/vnd.jupyter.widget-view+json": {
       "model_id": "2e14d7d8b8e843f6bc2111a9bdd60c56",
       "version_major": 2,
       "version_minor": 0
      },
      "text/plain": [
       "Batches:   0%|          | 0/1 [00:00<?, ?it/s]"
      ]
     },
     "metadata": {},
     "output_type": "display_data"
    },
    {
     "name": "stdout",
     "output_type": "stream",
     "text": [
      "Finding duplicate images...\n",
      "Finding near duplicate images...\n",
      "\n",
      "Score: 92.102%\n",
      "Images to compare\\frame151.jpg\n",
      "Images to compare\\frame0.jpg\n",
      "\n",
      "\n",
      "0.9210212230682373\n",
      "\n",
      "\n",
      "not incident\n",
      "\n",
      "\n",
      "\n",
      "\n",
      "C:\\Anomaly detection IR\\video to images\\frame151.jpg removed\n",
      "\n",
      "\n",
      "C:\\Anomaly detection IR\\video to images\\frame152.jpg copied\n",
      "\n",
      "\n",
      "Images: 2\n"
     ]
    },
    {
     "data": {
      "application/vnd.jupyter.widget-view+json": {
       "model_id": "25777cc4604e4016b10d09e039252118",
       "version_major": 2,
       "version_minor": 0
      },
      "text/plain": [
       "Batches:   0%|          | 0/1 [00:00<?, ?it/s]"
      ]
     },
     "metadata": {},
     "output_type": "display_data"
    },
    {
     "name": "stdout",
     "output_type": "stream",
     "text": [
      "Finding duplicate images...\n",
      "Finding near duplicate images...\n",
      "\n",
      "Score: 89.441%\n",
      "Images to compare\\frame0.jpg\n",
      "Images to compare\\frame152.jpg\n",
      "\n",
      "\n",
      "0.8944092392921448\n",
      "\n",
      "\n",
      "not incident\n",
      "\n",
      "\n",
      "\n",
      "\n",
      "C:\\Anomaly detection IR\\video to images\\frame152.jpg removed\n",
      "\n",
      "\n",
      "C:\\Anomaly detection IR\\video to images\\frame153.jpg copied\n",
      "\n",
      "\n",
      "Images: 2\n"
     ]
    },
    {
     "data": {
      "application/vnd.jupyter.widget-view+json": {
       "model_id": "d86d99c971df4e67ae9eb4b7e6879fdb",
       "version_major": 2,
       "version_minor": 0
      },
      "text/plain": [
       "Batches:   0%|          | 0/1 [00:00<?, ?it/s]"
      ]
     },
     "metadata": {},
     "output_type": "display_data"
    },
    {
     "name": "stdout",
     "output_type": "stream",
     "text": [
      "Finding duplicate images...\n",
      "Finding near duplicate images...\n",
      "\n",
      "Score: 89.573%\n",
      "Images to compare\\frame0.jpg\n",
      "Images to compare\\frame153.jpg\n",
      "\n",
      "\n",
      "0.8957289457321167\n",
      "\n",
      "\n",
      "not incident\n",
      "\n",
      "\n",
      "\n",
      "\n",
      "C:\\Anomaly detection IR\\video to images\\frame153.jpg removed\n",
      "\n",
      "\n",
      "C:\\Anomaly detection IR\\video to images\\frame154.jpg copied\n",
      "\n",
      "\n",
      "Images: 2\n"
     ]
    },
    {
     "data": {
      "application/vnd.jupyter.widget-view+json": {
       "model_id": "aa6eccb52d84442bb90875a3e4520c03",
       "version_major": 2,
       "version_minor": 0
      },
      "text/plain": [
       "Batches:   0%|          | 0/1 [00:00<?, ?it/s]"
      ]
     },
     "metadata": {},
     "output_type": "display_data"
    },
    {
     "name": "stdout",
     "output_type": "stream",
     "text": [
      "Finding duplicate images...\n",
      "Finding near duplicate images...\n",
      "\n",
      "Score: 91.408%\n",
      "Images to compare\\frame0.jpg\n",
      "Images to compare\\frame154.jpg\n",
      "\n",
      "\n",
      "0.9140833616256714\n",
      "\n",
      "\n",
      "not incident\n",
      "\n",
      "\n",
      "\n",
      "\n",
      "C:\\Anomaly detection IR\\video to images\\frame154.jpg removed\n",
      "\n",
      "\n",
      "C:\\Anomaly detection IR\\video to images\\frame155.jpg copied\n",
      "\n",
      "\n",
      "Images: 2\n"
     ]
    },
    {
     "data": {
      "application/vnd.jupyter.widget-view+json": {
       "model_id": "a41ef809f0094bf3a28f0cf53d1028df",
       "version_major": 2,
       "version_minor": 0
      },
      "text/plain": [
       "Batches:   0%|          | 0/1 [00:00<?, ?it/s]"
      ]
     },
     "metadata": {},
     "output_type": "display_data"
    },
    {
     "name": "stdout",
     "output_type": "stream",
     "text": [
      "Finding duplicate images...\n",
      "Finding near duplicate images...\n",
      "\n",
      "Score: 87.739%\n",
      "Images to compare\\frame0.jpg\n",
      "Images to compare\\frame155.jpg\n",
      "\n",
      "\n",
      "0.8773888349533081\n",
      "\n",
      "\n",
      "not incident\n",
      "\n",
      "\n",
      "\n",
      "\n",
      "C:\\Anomaly detection IR\\video to images\\frame155.jpg removed\n",
      "\n",
      "\n",
      "C:\\Anomaly detection IR\\video to images\\frame156.jpg copied\n",
      "\n",
      "\n",
      "Images: 2\n"
     ]
    },
    {
     "data": {
      "application/vnd.jupyter.widget-view+json": {
       "model_id": "4c0a4fc5aad741e381f3496e8f3850bb",
       "version_major": 2,
       "version_minor": 0
      },
      "text/plain": [
       "Batches:   0%|          | 0/1 [00:00<?, ?it/s]"
      ]
     },
     "metadata": {},
     "output_type": "display_data"
    },
    {
     "name": "stdout",
     "output_type": "stream",
     "text": [
      "Finding duplicate images...\n",
      "Finding near duplicate images...\n",
      "\n",
      "Score: 89.713%\n",
      "Images to compare\\frame156.jpg\n",
      "Images to compare\\frame0.jpg\n",
      "\n",
      "\n",
      "0.8971338868141174\n",
      "\n",
      "\n",
      "not incident\n",
      "\n",
      "\n",
      "\n",
      "\n",
      "C:\\Anomaly detection IR\\video to images\\frame156.jpg removed\n",
      "\n",
      "\n",
      "C:\\Anomaly detection IR\\video to images\\frame157.jpg copied\n",
      "\n",
      "\n",
      "Images: 2\n"
     ]
    },
    {
     "data": {
      "application/vnd.jupyter.widget-view+json": {
       "model_id": "178a945f592b4b489a53365ba5077102",
       "version_major": 2,
       "version_minor": 0
      },
      "text/plain": [
       "Batches:   0%|          | 0/1 [00:00<?, ?it/s]"
      ]
     },
     "metadata": {},
     "output_type": "display_data"
    },
    {
     "name": "stdout",
     "output_type": "stream",
     "text": [
      "Finding duplicate images...\n",
      "Finding near duplicate images...\n",
      "\n",
      "Score: 91.464%\n",
      "Images to compare\\frame0.jpg\n",
      "Images to compare\\frame157.jpg\n",
      "\n",
      "\n",
      "0.9146427512168884\n",
      "\n",
      "\n",
      "not incident\n",
      "\n",
      "\n",
      "\n",
      "\n",
      "C:\\Anomaly detection IR\\video to images\\frame157.jpg removed\n",
      "\n",
      "\n",
      "C:\\Anomaly detection IR\\video to images\\frame158.jpg copied\n",
      "\n",
      "\n",
      "Images: 2\n"
     ]
    },
    {
     "data": {
      "application/vnd.jupyter.widget-view+json": {
       "model_id": "3380613a5e7b49e4b6573d0ce7a9b158",
       "version_major": 2,
       "version_minor": 0
      },
      "text/plain": [
       "Batches:   0%|          | 0/1 [00:00<?, ?it/s]"
      ]
     },
     "metadata": {},
     "output_type": "display_data"
    },
    {
     "name": "stdout",
     "output_type": "stream",
     "text": [
      "Finding duplicate images...\n",
      "Finding near duplicate images...\n",
      "\n",
      "Score: 90.838%\n",
      "Images to compare\\frame0.jpg\n",
      "Images to compare\\frame158.jpg\n",
      "\n",
      "\n",
      "0.9083795547485352\n",
      "\n",
      "\n",
      "not incident\n",
      "\n",
      "\n",
      "\n",
      "\n",
      "C:\\Anomaly detection IR\\video to images\\frame158.jpg removed\n",
      "\n",
      "\n",
      "C:\\Anomaly detection IR\\video to images\\frame159.jpg copied\n",
      "\n",
      "\n",
      "Images: 2\n"
     ]
    },
    {
     "data": {
      "application/vnd.jupyter.widget-view+json": {
       "model_id": "517ca5512c8f4f949d74775caf0da1c9",
       "version_major": 2,
       "version_minor": 0
      },
      "text/plain": [
       "Batches:   0%|          | 0/1 [00:00<?, ?it/s]"
      ]
     },
     "metadata": {},
     "output_type": "display_data"
    },
    {
     "name": "stdout",
     "output_type": "stream",
     "text": [
      "Finding duplicate images...\n",
      "Finding near duplicate images...\n",
      "\n",
      "Score: 88.542%\n",
      "Images to compare\\frame0.jpg\n",
      "Images to compare\\frame159.jpg\n",
      "\n",
      "\n",
      "0.8854217529296875\n",
      "\n",
      "\n",
      "not incident\n",
      "\n",
      "\n",
      "\n",
      "\n",
      "C:\\Anomaly detection IR\\video to images\\frame159.jpg removed\n",
      "\n",
      "\n",
      "C:\\Anomaly detection IR\\video to images\\frame160.jpg copied\n",
      "\n",
      "\n",
      "Images: 2\n"
     ]
    },
    {
     "data": {
      "application/vnd.jupyter.widget-view+json": {
       "model_id": "424f1927da814802adb3384a5e7ef8a0",
       "version_major": 2,
       "version_minor": 0
      },
      "text/plain": [
       "Batches:   0%|          | 0/1 [00:00<?, ?it/s]"
      ]
     },
     "metadata": {},
     "output_type": "display_data"
    },
    {
     "name": "stdout",
     "output_type": "stream",
     "text": [
      "Finding duplicate images...\n",
      "Finding near duplicate images...\n",
      "\n",
      "Score: 89.572%\n",
      "Images to compare\\frame160.jpg\n",
      "Images to compare\\frame0.jpg\n",
      "\n",
      "\n",
      "0.8957222104072571\n",
      "\n",
      "\n",
      "not incident\n",
      "\n",
      "\n",
      "\n",
      "\n",
      "C:\\Anomaly detection IR\\video to images\\frame160.jpg removed\n",
      "\n",
      "\n",
      "C:\\Anomaly detection IR\\video to images\\frame161.jpg copied\n",
      "\n",
      "\n",
      "Images: 2\n"
     ]
    },
    {
     "data": {
      "application/vnd.jupyter.widget-view+json": {
       "model_id": "4be9b87ebeab413e9c5413f9f7cf0bec",
       "version_major": 2,
       "version_minor": 0
      },
      "text/plain": [
       "Batches:   0%|          | 0/1 [00:00<?, ?it/s]"
      ]
     },
     "metadata": {},
     "output_type": "display_data"
    },
    {
     "name": "stdout",
     "output_type": "stream",
     "text": [
      "Finding duplicate images...\n",
      "Finding near duplicate images...\n",
      "\n",
      "Score: 89.409%\n",
      "Images to compare\\frame0.jpg\n",
      "Images to compare\\frame161.jpg\n",
      "\n",
      "\n",
      "0.894094705581665\n",
      "\n",
      "\n",
      "not incident\n",
      "\n",
      "\n",
      "\n",
      "\n",
      "C:\\Anomaly detection IR\\video to images\\frame161.jpg removed\n",
      "\n",
      "\n",
      "C:\\Anomaly detection IR\\video to images\\frame162.jpg copied\n",
      "\n",
      "\n",
      "Images: 2\n"
     ]
    },
    {
     "data": {
      "application/vnd.jupyter.widget-view+json": {
       "model_id": "a7033a6b316b46acbd4150980cd641ea",
       "version_major": 2,
       "version_minor": 0
      },
      "text/plain": [
       "Batches:   0%|          | 0/1 [00:00<?, ?it/s]"
      ]
     },
     "metadata": {},
     "output_type": "display_data"
    },
    {
     "name": "stdout",
     "output_type": "stream",
     "text": [
      "Finding duplicate images...\n",
      "Finding near duplicate images...\n",
      "\n",
      "Score: 91.527%\n",
      "Images to compare\\frame0.jpg\n",
      "Images to compare\\frame162.jpg\n",
      "\n",
      "\n",
      "0.9152712821960449\n",
      "\n",
      "\n",
      "not incident\n",
      "\n",
      "\n",
      "\n",
      "\n",
      "C:\\Anomaly detection IR\\video to images\\frame162.jpg removed\n",
      "\n",
      "\n",
      "C:\\Anomaly detection IR\\video to images\\frame163.jpg copied\n",
      "\n",
      "\n",
      "Images: 2\n"
     ]
    },
    {
     "data": {
      "application/vnd.jupyter.widget-view+json": {
       "model_id": "23cfd2ce39f6406b87301af92779f892",
       "version_major": 2,
       "version_minor": 0
      },
      "text/plain": [
       "Batches:   0%|          | 0/1 [00:00<?, ?it/s]"
      ]
     },
     "metadata": {},
     "output_type": "display_data"
    },
    {
     "name": "stdout",
     "output_type": "stream",
     "text": [
      "Finding duplicate images...\n",
      "Finding near duplicate images...\n",
      "\n",
      "Score: 90.209%\n",
      "Images to compare\\frame163.jpg\n",
      "Images to compare\\frame0.jpg\n",
      "\n",
      "\n",
      "0.9020923376083374\n",
      "\n",
      "\n",
      "not incident\n",
      "\n",
      "\n",
      "\n",
      "\n",
      "C:\\Anomaly detection IR\\video to images\\frame163.jpg removed\n",
      "\n",
      "\n",
      "C:\\Anomaly detection IR\\video to images\\frame164.jpg copied\n",
      "\n",
      "\n",
      "Images: 2\n"
     ]
    },
    {
     "data": {
      "application/vnd.jupyter.widget-view+json": {
       "model_id": "1c9f1ac4b13e448ab31f2b0b4fea2481",
       "version_major": 2,
       "version_minor": 0
      },
      "text/plain": [
       "Batches:   0%|          | 0/1 [00:00<?, ?it/s]"
      ]
     },
     "metadata": {},
     "output_type": "display_data"
    },
    {
     "name": "stdout",
     "output_type": "stream",
     "text": [
      "Finding duplicate images...\n",
      "Finding near duplicate images...\n",
      "\n",
      "Score: 90.698%\n",
      "Images to compare\\frame0.jpg\n",
      "Images to compare\\frame164.jpg\n",
      "\n",
      "\n",
      "0.906975269317627\n",
      "\n",
      "\n",
      "not incident\n",
      "\n",
      "\n",
      "\n",
      "\n",
      "C:\\Anomaly detection IR\\video to images\\frame164.jpg removed\n",
      "\n",
      "\n",
      "C:\\Anomaly detection IR\\video to images\\frame165.jpg copied\n",
      "\n",
      "\n",
      "Images: 2\n"
     ]
    },
    {
     "data": {
      "application/vnd.jupyter.widget-view+json": {
       "model_id": "e0067ba8623e4a7cb4a0b08a167d5b18",
       "version_major": 2,
       "version_minor": 0
      },
      "text/plain": [
       "Batches:   0%|          | 0/1 [00:00<?, ?it/s]"
      ]
     },
     "metadata": {},
     "output_type": "display_data"
    },
    {
     "name": "stdout",
     "output_type": "stream",
     "text": [
      "Finding duplicate images...\n",
      "Finding near duplicate images...\n",
      "\n",
      "Score: 90.385%\n",
      "Images to compare\\frame165.jpg\n",
      "Images to compare\\frame0.jpg\n",
      "\n",
      "\n",
      "0.9038456678390503\n",
      "\n",
      "\n",
      "not incident\n",
      "\n",
      "\n",
      "\n",
      "\n",
      "C:\\Anomaly detection IR\\video to images\\frame165.jpg removed\n",
      "\n",
      "\n",
      "C:\\Anomaly detection IR\\video to images\\frame166.jpg copied\n",
      "\n",
      "\n",
      "Images: 2\n"
     ]
    },
    {
     "data": {
      "application/vnd.jupyter.widget-view+json": {
       "model_id": "4cae87a3b0cb4e27bd614325a4beeab1",
       "version_major": 2,
       "version_minor": 0
      },
      "text/plain": [
       "Batches:   0%|          | 0/1 [00:00<?, ?it/s]"
      ]
     },
     "metadata": {},
     "output_type": "display_data"
    },
    {
     "name": "stdout",
     "output_type": "stream",
     "text": [
      "Finding duplicate images...\n",
      "Finding near duplicate images...\n",
      "\n",
      "Score: 90.929%\n",
      "Images to compare\\frame0.jpg\n",
      "Images to compare\\frame166.jpg\n",
      "\n",
      "\n",
      "0.9092890024185181\n",
      "\n",
      "\n",
      "not incident\n",
      "\n",
      "\n",
      "\n",
      "\n",
      "C:\\Anomaly detection IR\\video to images\\frame166.jpg removed\n",
      "\n",
      "\n"
     ]
    }
   ],
   "source": [
    "while i < count :\n",
    "    shutil.copy(image_name, 'C:\\\\Anomaly detection IR\\\\Images to compare')\n",
    "    print(image_name, 'copied')\n",
    "    print('\\n')\n",
    "    \n",
    "    \n",
    "    # This is where the magic happens\n",
    "    \n",
    "    \n",
    "    \n",
    "    \n",
    "    \n",
    "        # Next we compute the embeddings\n",
    "    # To encode an image, you can use the following code:\n",
    "    # from PIL import Image\n",
    "    # encoded_image = model.encode(Image.open(filepath))\n",
    "    image_names = list(glob.glob('Images to compare\\\\*.jpg'))\n",
    "    print(\"Images:\", len(image_names))\n",
    "    encoded_image = model.encode([Image.open(filepath) for filepath in image_names], batch_size=128, convert_to_tensor=True, show_progress_bar=True)\n",
    "\n",
    "    # Now we run the clustering algorithm. This function compares images against\n",
    "    # all other images and returns a list with the pairs that have the highest \n",
    "    # cosine similarity score\n",
    "    processed_images = util.paraphrase_mining_embeddings(encoded_image)\n",
    "    NUM_SIMILAR_IMAGES = 10 \n",
    "\n",
    "    # =================\n",
    "    # DUPLICATES\n",
    "    # =================\n",
    "    print('Finding duplicate images...')\n",
    "    # Filter list for duplicates. Results are triplets (score, image_id1, image_id2) and is scorted in decreasing order\n",
    "    # A duplicate image will have a score of 1.00\n",
    "    # It may be 0.9999 due to lossy image compression (.jpg)\n",
    "    duplicates = [image for image in processed_images if image[0] >= 0.999]\n",
    "\n",
    "\n",
    "    # Output the top X duplicate images\n",
    "    for score, image_id1, image_id2 in duplicates[0:NUM_SIMILAR_IMAGES]:\n",
    "        print(\"\\nScore: {:.3f}%\".format(score * 100))\n",
    "        print(image_names[image_id1])\n",
    "        print(image_names[image_id2])\n",
    "\n",
    "\n",
    "    # =================\n",
    "    # NEAR DUPLICATES\n",
    "    # =================\n",
    "    print('Finding near duplicate images...')\n",
    "    # Use a threshold parameter to identify two images as similar. By setting the threshold lower, \n",
    "    # you will get larger clusters which have less similar images in it. Threshold 0 - 1.00\n",
    "    # A threshold of 1.00 means the two images are exactly the same. Since we are finding near \n",
    "    # duplicate images, we can set it at 0.99 or any number 0 < X < 1.00.\n",
    "    threshold = 0.99\n",
    "    near_duplicates = [image for image in processed_images if image[0] < threshold]\n",
    "\n",
    "\n",
    "    for score, image_id1, image_id2 in near_duplicates[0:NUM_SIMILAR_IMAGES]:\n",
    "        print(\"\\nScore: {:.3f}%\".format(score * 100))\n",
    "        print(image_names[image_id1])\n",
    "        print(image_names[image_id2])\n",
    "        f = open('algorithm results.txt', 'a')\n",
    "        f.write('\\n')\n",
    "        f.write(image_names[image_id1])\n",
    "        f.write('\\n')\n",
    "        f.write(image_names[image_id2])\n",
    "        f.write('\\n')\n",
    "\n",
    "    print('\\n')\n",
    "    print(score)    \n",
    "    print('\\n')\n",
    "    if score > 0.95:\n",
    "        print('No incident')\n",
    "        \n",
    "        f = open('algorithm results.txt', 'a')\n",
    "        f.write('\\n')\n",
    "        f.write('No incident')\n",
    "        f.write('\\n')\n",
    "        \n",
    "        model_state = 0\n",
    "        \n",
    "        \n",
    "    elif (score <= 0.95) & (score >= 0.92):\n",
    "        if model_state == 0:\n",
    "            print('maybe incident')\n",
    "\n",
    "            f = open('algorithm results.txt', 'a')\n",
    "            f.write('\\n')\n",
    "            f.write('maybe incident')\n",
    "            f.write('\\n')\n",
    "            \n",
    "        else:\n",
    "            print('not incident')\n",
    "\n",
    "            f = open('algorithm results.txt', 'a')\n",
    "            f.write('\\n')\n",
    "            f.write('not incident')\n",
    "            f.write('\\n')\n",
    "        \n",
    "        model_state = 1\n",
    "        \n",
    "    else:\n",
    "        if model_state == 0:\n",
    "            print('report incident')\n",
    "            \n",
    "            f = open('algorithm results.txt', 'a')\n",
    "            f.write('\\n')\n",
    "            f.write('report incident')\n",
    "            f.write('\\n')\n",
    "        else:\n",
    "            print('not incident')\n",
    "\n",
    "            f = open('algorithm results.txt', 'a')\n",
    "            f.write('\\n')\n",
    "            f.write('not incident')\n",
    "            f.write('\\n')\n",
    "        \n",
    "        model_state = 1\n",
    "\n",
    "\n",
    "    print('\\n')\n",
    "    print('\\n')\n",
    "    \n",
    "    \n",
    "    \n",
    "    \n",
    "    os.remove(image_name_rem)\n",
    "    print(image_name, 'removed')\n",
    "    print('\\n')\n",
    "    \n",
    "    i = i+1\n",
    "    image_name = 'C:\\\\Anomaly detection IR\\\\video to images\\\\frame{}.jpg'.format(i)\n",
    "    image_name_rem = 'C:\\\\Anomaly detection IR\\\\Images to compare\\\\frame{}.jpg'.format(i)\n",
    "    "
   ]
  },
  {
   "cell_type": "code",
   "execution_count": 15,
   "id": "3a09d568",
   "metadata": {},
   "outputs": [],
   "source": [
    "f.close()"
   ]
  },
  {
   "cell_type": "code",
   "execution_count": null,
   "id": "330c2674",
   "metadata": {},
   "outputs": [],
   "source": []
  }
 ],
 "metadata": {
  "kernelspec": {
   "display_name": "Python 3",
   "language": "python",
   "name": "python3"
  },
  "language_info": {
   "codemirror_mode": {
    "name": "ipython",
    "version": 3
   },
   "file_extension": ".py",
   "mimetype": "text/x-python",
   "name": "python",
   "nbconvert_exporter": "python",
   "pygments_lexer": "ipython3",
   "version": "3.8.8"
  }
 },
 "nbformat": 4,
 "nbformat_minor": 5
}
