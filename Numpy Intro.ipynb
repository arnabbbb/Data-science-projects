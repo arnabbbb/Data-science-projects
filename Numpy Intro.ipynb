{
 "cells": [
  {
   "cell_type": "markdown",
   "id": "8af8d9eb",
   "metadata": {},
   "source": [
    "# NumPy \n",
    "numpy is python's package for doing math that is more advanced +-*/\n",
    "This includes functions like sine, cosine, sqrt,...\n",
    "On top of this we can use numpy to genereate samples from many types of sample variables.\n",
    "numpy also has a powerful data type to define vectors, matrices, and tensors (3D or more)\n",
    "With these data types numpy also allows us to do linear algebra - matrix multiplication and matrix-vector sloutions"
   ]
  },
  {
   "cell_type": "code",
   "execution_count": 1,
   "id": "13838cfa",
   "metadata": {},
   "outputs": [],
   "source": [
    "# importing the numpy package.\n",
    "import numpy as np"
   ]
  },
  {
   "cell_type": "code",
   "execution_count": 2,
   "id": "37655f5d",
   "metadata": {},
   "outputs": [
    {
     "name": "stdout",
     "output_type": "stream",
     "text": [
      "-1.0\n",
      "1.1\n",
      "5.2\n"
     ]
    }
   ],
   "source": [
    "print(np.cos(np.pi))\n",
    "print(np.sqrt(1.21))\n",
    "print(np.log(np.exp(5.2)))"
   ]
  },
  {
   "cell_type": "code",
   "execution_count": 3,
   "id": "162f93c2",
   "metadata": {},
   "outputs": [
    {
     "name": "stdout",
     "output_type": "stream",
     "text": [
      "[1 2 3]\n",
      "\n",
      "[[2 2 2 2]\n",
      " [3 3 3 3]\n",
      " [4 4 4 4]]\n",
      "\n",
      "[[2 3 4]\n",
      " [2 3 4]\n",
      " [2 3 4]\n",
      " [2 3 4]]\n"
     ]
    }
   ],
   "source": [
    "# We can create numpy arrays by converting lists\n",
    "# This is a vector\n",
    "vec = np.array([1,2,3])\n",
    "print(vec)\n",
    "print('')\n",
    "\n",
    "# We can create matrices by converting lists of lists\n",
    "mat = np.array([[2,2,2,2],[3,3,3,3],[4,4,4,4]])\n",
    "print(mat)\n",
    "print('')\n",
    "print(mat.T)"
   ]
  },
  {
   "cell_type": "code",
   "execution_count": 4,
   "id": "c62d5939",
   "metadata": {},
   "outputs": [
    {
     "name": "stdout",
     "output_type": "stream",
     "text": [
      "[ 1  3  5  7  9 11 13 15 17 19 21]\n"
     ]
    }
   ],
   "source": [
    "# There are lots of ways to store numpy arrays\n",
    "vec2 = np.arange(1,22,2)\n",
    "print(vec2)"
   ]
  },
  {
   "cell_type": "code",
   "execution_count": 5,
   "id": "4d76af95",
   "metadata": {},
   "outputs": [
    {
     "name": "stdout",
     "output_type": "stream",
     "text": [
      "[0.         0.55555556 1.11111111 1.66666667 2.22222222 2.77777778\n",
      " 3.33333333 3.88888889 4.44444444 5.        ]\n",
      "\n",
      "[[0.         0.55555556]\n",
      " [1.11111111 1.66666667]\n",
      " [2.22222222 2.77777778]\n",
      " [3.33333333 3.88888889]\n",
      " [4.44444444 5.        ]]\n",
      "\n",
      "[0.         0.55555556 1.11111111 1.66666667 2.22222222 2.77777778\n",
      " 3.33333333 3.88888889 4.44444444 5.        ]\n",
      "[[0.         0.55555556]\n",
      " [1.11111111 1.66666667]\n",
      " [2.22222222 2.77777778]\n",
      " [3.33333333 3.88888889]\n",
      " [4.44444444 5.        ]]\n"
     ]
    }
   ],
   "source": [
    "vec3 = np.linspace(0,5,10)\n",
    "print(vec3)\n",
    "\n",
    "print('')\n",
    "print(vec3.reshape(5,2))\n",
    "\n",
    "print('')\n",
    "print(vec3)\n",
    "\n",
    "vec3 = vec3.reshape(5,2)\n",
    "print(vec3)"
   ]
  },
  {
   "cell_type": "code",
   "execution_count": 6,
   "id": "b748599b",
   "metadata": {},
   "outputs": [
    {
     "name": "stdout",
     "output_type": "stream",
     "text": [
      "[ 0.90336708 -0.8258977  -0.91201321  0.79522164  1.13078226  0.27721229\n",
      "  0.0644252  -0.90275603  0.20988662  1.2667136  -0.02335912  0.11346753\n",
      " -2.60111433  0.29272914  0.08794064  0.93727192 -0.51496097 -2.39760945\n",
      "  0.83936392]\n",
      "\n",
      "0.06442520188895406\n"
     ]
    }
   ],
   "source": [
    "# How do we access entries in a  numpy vector\n",
    "\n",
    "rand_vec = np.random.randn(19)\n",
    "print(rand_vec)\n",
    "print('')\n",
    "print(rand_vec[6])"
   ]
  },
  {
   "cell_type": "code",
   "execution_count": 7,
   "id": "df9cdde6",
   "metadata": {},
   "outputs": [
    {
     "name": "stdout",
     "output_type": "stream",
     "text": [
      "[ 1.13078226  0.27721229  0.0644252  -0.90275603  0.20988662]\n"
     ]
    }
   ],
   "source": [
    "print(rand_vec[4:9])"
   ]
  },
  {
   "cell_type": "code",
   "execution_count": 8,
   "id": "011c6a94",
   "metadata": {},
   "outputs": [
    {
     "name": "stdout",
     "output_type": "stream",
     "text": [
      "[ 0  3  6  9 12]\n",
      "\n",
      "[ 0.90336708  0.79522164  0.0644252   1.2667136  -2.60111433]\n"
     ]
    }
   ],
   "source": [
    "# Accessing multiple non-consecutive entries using np.arange\n",
    "\n",
    "print(np.arange(0,15,3))\n",
    "print('')\n",
    "print(rand_vec[np.arange(0,15,3)])"
   ]
  },
  {
   "cell_type": "code",
   "execution_count": 14,
   "id": "bd96a18f",
   "metadata": {},
   "outputs": [
    {
     "name": "stdout",
     "output_type": "stream",
     "text": [
      "[[2 2 2 2]\n",
      " [3 3 3 3]\n",
      " [4 4 4 4]]\n",
      "4\n",
      "4\n",
      "[[2 2]\n",
      " [3 3]]\n"
     ]
    }
   ],
   "source": [
    "# Accessing matrices\n",
    "print(mat)\n",
    "print(mat[2][1])\n",
    "print(mat[2,1])\n",
    "print(mat[0:2,1:3])"
   ]
  },
  {
   "cell_type": "code",
   "execution_count": 19,
   "id": "45ce05df",
   "metadata": {},
   "outputs": [
    {
     "name": "stdout",
     "output_type": "stream",
     "text": [
      "[ 1  3  5  5  9 11 13 15 17 19 21]\n",
      "[ 1  3  1  2  9 11 13 15 17 19 21]\n"
     ]
    }
   ],
   "source": [
    "vec2[2:4] = 5\n",
    "print(vec2)\n",
    "vec2[2:4] = [1,2]\n",
    "print(vec2)"
   ]
  },
  {
   "cell_type": "code",
   "execution_count": 24,
   "id": "4b7e9c6c",
   "metadata": {},
   "outputs": [
    {
     "name": "stdout",
     "output_type": "stream",
     "text": [
      "[[3 3]\n",
      " [3 3]]\n",
      "\n",
      "[[3 3]\n",
      " [3 3]]\n",
      "[[3 3]\n",
      " [3 3]]\n"
     ]
    }
   ],
   "source": [
    "sub_mat = mat[0:2,1:3]\n",
    "print(sub_mat)\n",
    "print('')\n",
    "\n",
    "sub_mat[:] = 3\n",
    "print(sub_mat)\n",
    "print(mat[0:2,1:3])"
   ]
  },
  {
   "cell_type": "code",
   "execution_count": 26,
   "id": "55f08585",
   "metadata": {},
   "outputs": [
    {
     "name": "stdout",
     "output_type": "stream",
     "text": [
      "[[3 3]\n",
      " [3 3]]\n",
      "\n",
      "[[99 99]\n",
      " [99 99]]\n"
     ]
    }
   ],
   "source": [
    "sub_mat2 = sub_mat.copy()\n",
    "sub_mat2[:] = 99\n",
    "print(sub_mat)\n",
    "print('')\n",
    "print(sub_mat2)"
   ]
  },
  {
   "cell_type": "code",
   "execution_count": 30,
   "id": "d3374357",
   "metadata": {},
   "outputs": [
    {
     "name": "stdout",
     "output_type": "stream",
     "text": [
      "[ 1.30091066 -0.91007368  0.15357641 -1.5032145   0.56667441  1.02213168\n",
      "  0.71328444  0.04820484  0.59443723 -0.53259231 -0.53450354  0.1278299\n",
      "  1.41328031 -0.68965189  0.99247621]\n",
      "\n",
      "[ True False  True False  True  True  True  True  True False False  True\n",
      "  True False  True]\n",
      "\n",
      "[1.30091066 0.15357641 0.56667441 1.02213168 0.71328444 0.04820484\n",
      " 0.59443723 0.1278299  1.41328031 0.99247621]\n"
     ]
    }
   ],
   "source": [
    "# Using logicals to access arrays.\n",
    "\n",
    "rand_vec = np.random.randn(15)\n",
    "print(rand_vec)\n",
    "\n",
    "print('')\n",
    "print(rand_vec > 0)\n",
    "\n",
    "print('')\n",
    "print(rand_vec[rand_vec > 0])"
   ]
  },
  {
   "cell_type": "code",
   "execution_count": 33,
   "id": "d6ed0004",
   "metadata": {},
   "outputs": [
    {
     "name": "stdout",
     "output_type": "stream",
     "text": [
      "[[2 3 3 2]\n",
      " [3 3 3 3]\n",
      " [4 4 4 4]]\n",
      "\n",
      "[[False  True  True False]\n",
      " [ True  True  True  True]\n",
      " [ True  True  True  True]]\n",
      "\n",
      "[3 3 3 3 3 3 4 4 4 4]\n"
     ]
    }
   ],
   "source": [
    "# Using conditionals to filter matrices will give an array\n",
    "print(mat)\n",
    "\n",
    "print('')\n",
    "print(mat > 2)\n",
    "\n",
    "print('')\n",
    "print(mat[mat > 2])"
   ]
  },
  {
   "cell_type": "code",
   "execution_count": 36,
   "id": "a796ebf6",
   "metadata": {},
   "outputs": [
    {
     "name": "stdout",
     "output_type": "stream",
     "text": [
      "[ 1.30091066 -0.91007368  0.15357641 -1.5032145   0.56667441  1.02213168\n",
      "  0.71328444  0.04820484  0.59443723 -0.53259231 -0.53450354  0.1278299\n",
      "  1.41328031 -0.68965189  0.99247621]\n",
      "\n",
      "[1.30091066 0.         0.15357641 0.         0.56667441 1.02213168\n",
      " 0.71328444 0.04820484 0.59443723 0.         0.         0.1278299\n",
      " 1.41328031 0.         0.99247621]\n"
     ]
    }
   ],
   "source": [
    "positive_vec = rand_vec.copy()\n",
    "\n",
    "positive_vec[positive_vec < 0] = 0\n",
    "\n",
    "print(rand_vec)\n",
    "\n",
    "print('')\n",
    "print(positive_vec)"
   ]
  },
  {
   "cell_type": "code",
   "execution_count": 37,
   "id": "ac23e3ab",
   "metadata": {},
   "outputs": [],
   "source": [
    "# Saving one array\n",
    "\n",
    "np.save('saved_array', rand_vec)"
   ]
  },
  {
   "cell_type": "code",
   "execution_count": 38,
   "id": "c3b59005",
   "metadata": {},
   "outputs": [],
   "source": [
    "# Saving multiple data\n",
    "\n",
    "np.savez('zipped_data', rand_vec, positive_vec, mat)"
   ]
  },
  {
   "cell_type": "code",
   "execution_count": 39,
   "id": "c2d240a7",
   "metadata": {},
   "outputs": [],
   "source": [
    "np.savez('zipped_data2', named_vec1 = rand_vec, named_vec2 = positive_vec, named_mat = mat)"
   ]
  },
  {
   "cell_type": "code",
   "execution_count": 40,
   "id": "b162ea67",
   "metadata": {},
   "outputs": [],
   "source": [
    "loaded_vec = np.load('saved_array.npy')\n",
    "loaded_data1 = np.load('zipped_data.npz')\n",
    "loaded_data2 = np.load('zipped_data2.npz')"
   ]
  },
  {
   "cell_type": "code",
   "execution_count": 42,
   "id": "564e91dc",
   "metadata": {},
   "outputs": [
    {
     "name": "stdout",
     "output_type": "stream",
     "text": [
      "[ 1.30091066 -0.91007368  0.15357641 -1.5032145   0.56667441  1.02213168\n",
      "  0.71328444  0.04820484  0.59443723 -0.53259231 -0.53450354  0.1278299\n",
      "  1.41328031 -0.68965189  0.99247621]\n",
      "<numpy.lib.npyio.NpzFile object at 0x0000020201469AC0>\n",
      "<numpy.lib.npyio.NpzFile object at 0x0000020201469BB0>\n"
     ]
    }
   ],
   "source": [
    "print(loaded_vec)\n",
    "print(loaded_data1)\n",
    "print(loaded_data2)"
   ]
  },
  {
   "cell_type": "code",
   "execution_count": 44,
   "id": "e42fb5d2",
   "metadata": {},
   "outputs": [
    {
     "name": "stdout",
     "output_type": "stream",
     "text": [
      "[ 1.30091066 -0.91007368  0.15357641 -1.5032145   0.56667441  1.02213168\n",
      "  0.71328444  0.04820484  0.59443723 -0.53259231 -0.53450354  0.1278299\n",
      "  1.41328031 -0.68965189  0.99247621]\n"
     ]
    }
   ],
   "source": [
    "print(loaded_data2['named_vec1'])"
   ]
  },
  {
   "cell_type": "code",
   "execution_count": 46,
   "id": "d0730eea",
   "metadata": {},
   "outputs": [],
   "source": [
    "# We can also save as text files, but only single values\n",
    "\n",
    "np.savetxt('text_file_name.txt', rand_vec, delimiter = ',')"
   ]
  },
  {
   "cell_type": "code",
   "execution_count": 48,
   "id": "ea2a3980",
   "metadata": {},
   "outputs": [
    {
     "name": "stdout",
     "output_type": "stream",
     "text": [
      "[ 1.30091066 -0.91007368  0.15357641 -1.5032145   0.56667441  1.02213168\n",
      "  0.71328444  0.04820484  0.59443723 -0.53259231 -0.53450354  0.1278299\n",
      "  1.41328031 -0.68965189  0.99247621]\n"
     ]
    }
   ],
   "source": [
    "rand_txt = np.loadtxt('text_file_name.txt', delimiter = ',')\n",
    "print(rand_txt)"
   ]
  },
  {
   "cell_type": "code",
   "execution_count": null,
   "id": "79f31670",
   "metadata": {},
   "outputs": [],
   "source": []
  }
 ],
 "metadata": {
  "kernelspec": {
   "display_name": "Python 3",
   "language": "python",
   "name": "python3"
  },
  "language_info": {
   "codemirror_mode": {
    "name": "ipython",
    "version": 3
   },
   "file_extension": ".py",
   "mimetype": "text/x-python",
   "name": "python",
   "nbconvert_exporter": "python",
   "pygments_lexer": "ipython3",
   "version": "3.8.8"
  }
 },
 "nbformat": 4,
 "nbformat_minor": 5
}
