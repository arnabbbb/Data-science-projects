{
 "cells": [
  {
   "cell_type": "code",
   "execution_count": 1,
   "id": "d8bc4f62",
   "metadata": {},
   "outputs": [],
   "source": [
    "from sentence_transformers import SentenceTransformer, util"
   ]
  },
  {
   "cell_type": "code",
   "execution_count": 2,
   "id": "58055728",
   "metadata": {},
   "outputs": [],
   "source": [
    "from PIL import Image\n",
    "import glob\n",
    "import os\n",
    "import shutil"
   ]
  },
  {
   "cell_type": "code",
   "execution_count": 3,
   "id": "9ae82d40",
   "metadata": {},
   "outputs": [
    {
     "name": "stdout",
     "output_type": "stream",
     "text": [
      "Loading CLIP Model...\n"
     ]
    }
   ],
   "source": [
    "# Load the OpenAI CLIP Model\n",
    "print('Loading CLIP Model...')\n",
    "model = SentenceTransformer('clip-ViT-B-32')"
   ]
  },
  {
   "cell_type": "code",
   "execution_count": 4,
   "id": "5e5ef4e1",
   "metadata": {},
   "outputs": [
    {
     "data": {
      "text/plain": [
       "'C:\\\\Anomaly detection IR'"
      ]
     },
     "execution_count": 4,
     "metadata": {},
     "output_type": "execute_result"
    }
   ],
   "source": [
    "os.chdir('C:\\\\Anomaly detection IR')\n",
    "os.getcwd()"
   ]
  },
  {
   "cell_type": "code",
   "execution_count": 5,
   "id": "a9ca3dad",
   "metadata": {},
   "outputs": [
    {
     "data": {
      "text/plain": [
       "'C:\\\\Anomaly detection IR'"
      ]
     },
     "execution_count": 5,
     "metadata": {},
     "output_type": "execute_result"
    }
   ],
   "source": [
    "os.getcwd()"
   ]
  },
  {
   "cell_type": "markdown",
   "id": "6455a58b",
   "metadata": {},
   "source": [
    "## This is the bock that compares two images and gives similarity score"
   ]
  },
  {
   "cell_type": "code",
   "execution_count": 7,
   "id": "6b26103e",
   "metadata": {},
   "outputs": [
    {
     "name": "stdout",
     "output_type": "stream",
     "text": [
      "Images: 2\n"
     ]
    },
    {
     "data": {
      "application/vnd.jupyter.widget-view+json": {
       "model_id": "202e69c6435646cb86c5e6bbcb48eb77",
       "version_major": 2,
       "version_minor": 0
      },
      "text/plain": [
       "Batches:   0%|          | 0/1 [00:00<?, ?it/s]"
      ]
     },
     "metadata": {},
     "output_type": "display_data"
    },
    {
     "name": "stdout",
     "output_type": "stream",
     "text": [
      "Finding duplicate images...\n",
      "Finding near duplicate images...\n",
      "\n",
      "Score: 91.222%\n",
      "test9\\toy pen.jpg\n",
      "test9\\toy1.jpg\n",
      "\n",
      "\n",
      "0.9122198820114136\n",
      "\n",
      "\n",
      "report incident\n"
     ]
    }
   ],
   "source": [
    "# Next we compute the embeddings\n",
    "# To encode an image, you can use the following code:\n",
    "# from PIL import Image\n",
    "# encoded_image = model.encode(Image.open(filepath))\n",
    "image_names = list(glob.glob('test9\\\\*.jpg'))\n",
    "print(\"Images:\", len(image_names))\n",
    "encoded_image = model.encode([Image.open(filepath) for filepath in image_names], batch_size=128, convert_to_tensor=True, show_progress_bar=True)\n",
    "\n",
    "# Now we run the clustering algorithm. This function compares images against\n",
    "# all other images and returns a list with the pairs that have the highest \n",
    "# cosine similarity score\n",
    "processed_images = util.paraphrase_mining_embeddings(encoded_image)\n",
    "NUM_SIMILAR_IMAGES = 10 \n",
    "\n",
    "# =================\n",
    "# DUPLICATES\n",
    "# =================\n",
    "print('Finding duplicate images...')\n",
    "# Filter list for duplicates. Results are triplets (score, image_id1, image_id2) and is scorted in decreasing order\n",
    "# A duplicate image will have a score of 1.00\n",
    "# It may be 0.9999 due to lossy image compression (.jpg)\n",
    "duplicates = [image for image in processed_images if image[0] >= 0.999]\n",
    "\n",
    "\n",
    "# Output the top X duplicate images\n",
    "for score, image_id1, image_id2 in duplicates[0:NUM_SIMILAR_IMAGES]:\n",
    "    print(\"\\nScore: {:.3f}%\".format(score * 100))\n",
    "    print(image_names[image_id1])\n",
    "    print(image_names[image_id2])\n",
    "\n",
    "    \n",
    "# =================\n",
    "# NEAR DUPLICATES\n",
    "# =================\n",
    "print('Finding near duplicate images...')\n",
    "# Use a threshold parameter to identify two images as similar. By setting the threshold lower, \n",
    "# you will get larger clusters which have less similar images in it. Threshold 0 - 1.00\n",
    "# A threshold of 1.00 means the two images are exactly the same. Since we are finding near \n",
    "# duplicate images, we can set it at 0.99 or any number 0 < X < 1.00.\n",
    "threshold = 0.99\n",
    "near_duplicates = [image for image in processed_images if image[0] < threshold]\n",
    "\n",
    "\n",
    "for score, image_id1, image_id2 in near_duplicates[0:NUM_SIMILAR_IMAGES]:\n",
    "    print(\"\\nScore: {:.3f}%\".format(score * 100))\n",
    "    print(image_names[image_id1])\n",
    "    print(image_names[image_id2])\n",
    "\n",
    "print('\\n')\n",
    "print(score)    \n",
    "print('\\n')\n",
    "if score > 0.95:\n",
    "    print('No incident')\n",
    "elif (score <= 0.95) & (score >= 0.92):\n",
    "    print('maybe incident')\n",
    "else:\n",
    "    print('report incident')"
   ]
  },
  {
   "cell_type": "markdown",
   "id": "1e3b35b1",
   "metadata": {},
   "source": [
    "### We will put the above block in a loop that compares to a base image"
   ]
  },
  {
   "cell_type": "code",
   "execution_count": 20,
   "id": "3b9e20b5",
   "metadata": {},
   "outputs": [
    {
     "name": "stdout",
     "output_type": "stream",
     "text": [
      "C:\\Anomaly detection IR\\video to images\\frame1.jpg\n",
      "C:\\Anomaly detection IR\\Images to compare\\frame1.jpg\n",
      "C:\\Anomaly detection IR\\video to images\\frame0.jpg\n"
     ]
    }
   ],
   "source": [
    "i = 1\n",
    "\n",
    "image_name = 'C:\\\\Anomaly detection IR\\\\video to images\\\\frame{}.jpg'.format(i)\n",
    "print(image_name)\n",
    "\n",
    "image_name_rem = 'C:\\\\Anomaly detection IR\\\\Images to compare\\\\frame{}.jpg'.format(i)\n",
    "print(image_name_rem)\n",
    "\n",
    "image_name_fixed = 'C:\\\\Anomaly detection IR\\\\video to images\\\\frame0.jpg'\n",
    "print(image_name_fixed)"
   ]
  },
  {
   "cell_type": "markdown",
   "id": "f1254605",
   "metadata": {},
   "source": [
    "### The idea is to have the fixed (base image) in a file at all times, and to compare it with images in a sequential order.\n",
    "\n",
    "Note : The images except the hard coded one will keep changing after each comparision."
   ]
  },
  {
   "cell_type": "code",
   "execution_count": 21,
   "id": "3a4ad9ce",
   "metadata": {},
   "outputs": [
    {
     "data": {
      "text/plain": [
       "'C:\\\\Anomaly detection IR\\\\Images to compare\\\\frame0.jpg'"
      ]
     },
     "execution_count": 21,
     "metadata": {},
     "output_type": "execute_result"
    }
   ],
   "source": [
    "# placing the hard coded image in the empty file\n",
    "\n",
    "shutil.copy(image_name_fixed, 'C:\\\\Anomaly detection IR\\\\Images to compare')"
   ]
  },
  {
   "cell_type": "code",
   "execution_count": 22,
   "id": "4ea29107",
   "metadata": {},
   "outputs": [
    {
     "name": "stdout",
     "output_type": "stream",
     "text": [
      "C:\\Anomaly detection IR\\video to images\\frame1.jpg copied\n",
      "\n",
      "\n",
      "Images: 2\n"
     ]
    },
    {
     "data": {
      "application/vnd.jupyter.widget-view+json": {
       "model_id": "d1777ac546c642d18db635e234d3469a",
       "version_major": 2,
       "version_minor": 0
      },
      "text/plain": [
       "Batches:   0%|          | 0/1 [00:00<?, ?it/s]"
      ]
     },
     "metadata": {},
     "output_type": "display_data"
    },
    {
     "name": "stdout",
     "output_type": "stream",
     "text": [
      "Finding duplicate images...\n",
      "Finding near duplicate images...\n",
      "\n",
      "Score: 98.879%\n",
      "Images to compare\\frame0.jpg\n",
      "Images to compare\\frame1.jpg\n",
      "\n",
      "\n",
      "0.9887886643409729\n",
      "\n",
      "\n",
      "No incident\n",
      "\n",
      "\n",
      "\n",
      "\n",
      "C:\\Anomaly detection IR\\video to images\\frame1.jpg removed\n",
      "\n",
      "\n",
      "C:\\Anomaly detection IR\\video to images\\frame2.jpg copied\n",
      "\n",
      "\n",
      "Images: 2\n"
     ]
    },
    {
     "data": {
      "application/vnd.jupyter.widget-view+json": {
       "model_id": "dcad8e790f194b75a5aee50e58afcd6f",
       "version_major": 2,
       "version_minor": 0
      },
      "text/plain": [
       "Batches:   0%|          | 0/1 [00:00<?, ?it/s]"
      ]
     },
     "metadata": {},
     "output_type": "display_data"
    },
    {
     "name": "stdout",
     "output_type": "stream",
     "text": [
      "Finding duplicate images...\n",
      "Finding near duplicate images...\n",
      "\n",
      "Score: 98.957%\n",
      "Images to compare\\frame0.jpg\n",
      "Images to compare\\frame2.jpg\n",
      "\n",
      "\n",
      "0.9895694851875305\n",
      "\n",
      "\n",
      "No incident\n",
      "\n",
      "\n",
      "\n",
      "\n",
      "C:\\Anomaly detection IR\\video to images\\frame2.jpg removed\n",
      "\n",
      "\n",
      "C:\\Anomaly detection IR\\video to images\\frame3.jpg copied\n",
      "\n",
      "\n",
      "Images: 2\n"
     ]
    },
    {
     "data": {
      "application/vnd.jupyter.widget-view+json": {
       "model_id": "d9bebf4846f341ca83c47f38ef36da98",
       "version_major": 2,
       "version_minor": 0
      },
      "text/plain": [
       "Batches:   0%|          | 0/1 [00:00<?, ?it/s]"
      ]
     },
     "metadata": {},
     "output_type": "display_data"
    },
    {
     "name": "stdout",
     "output_type": "stream",
     "text": [
      "Finding duplicate images...\n",
      "Finding near duplicate images...\n",
      "\n",
      "Score: 95.466%\n",
      "Images to compare\\frame3.jpg\n",
      "Images to compare\\frame0.jpg\n",
      "\n",
      "\n",
      "0.9546643495559692\n",
      "\n",
      "\n",
      "No incident\n",
      "\n",
      "\n",
      "\n",
      "\n",
      "C:\\Anomaly detection IR\\video to images\\frame3.jpg removed\n",
      "\n",
      "\n",
      "C:\\Anomaly detection IR\\video to images\\frame4.jpg copied\n",
      "\n",
      "\n",
      "Images: 2\n"
     ]
    },
    {
     "data": {
      "application/vnd.jupyter.widget-view+json": {
       "model_id": "a5a5ffb2bb1d410b86a2fa07c2a4c06b",
       "version_major": 2,
       "version_minor": 0
      },
      "text/plain": [
       "Batches:   0%|          | 0/1 [00:00<?, ?it/s]"
      ]
     },
     "metadata": {},
     "output_type": "display_data"
    },
    {
     "name": "stdout",
     "output_type": "stream",
     "text": [
      "Finding duplicate images...\n",
      "Finding near duplicate images...\n",
      "\n",
      "Score: 96.408%\n",
      "Images to compare\\frame0.jpg\n",
      "Images to compare\\frame4.jpg\n",
      "\n",
      "\n",
      "0.9640802145004272\n",
      "\n",
      "\n",
      "No incident\n",
      "\n",
      "\n",
      "\n",
      "\n",
      "C:\\Anomaly detection IR\\video to images\\frame4.jpg removed\n",
      "\n",
      "\n",
      "C:\\Anomaly detection IR\\video to images\\frame5.jpg copied\n",
      "\n",
      "\n",
      "Images: 2\n"
     ]
    },
    {
     "data": {
      "application/vnd.jupyter.widget-view+json": {
       "model_id": "2ca618bfdcdc4fe8a01a128f70378753",
       "version_major": 2,
       "version_minor": 0
      },
      "text/plain": [
       "Batches:   0%|          | 0/1 [00:00<?, ?it/s]"
      ]
     },
     "metadata": {},
     "output_type": "display_data"
    },
    {
     "name": "stdout",
     "output_type": "stream",
     "text": [
      "Finding duplicate images...\n",
      "Finding near duplicate images...\n",
      "\n",
      "Score: 94.141%\n",
      "Images to compare\\frame0.jpg\n",
      "Images to compare\\frame5.jpg\n",
      "\n",
      "\n",
      "0.9414118528366089\n",
      "\n",
      "\n",
      "maybe incident\n",
      "\n",
      "\n",
      "\n",
      "\n",
      "C:\\Anomaly detection IR\\video to images\\frame5.jpg removed\n",
      "\n",
      "\n",
      "C:\\Anomaly detection IR\\video to images\\frame6.jpg copied\n",
      "\n",
      "\n",
      "Images: 2\n"
     ]
    },
    {
     "data": {
      "application/vnd.jupyter.widget-view+json": {
       "model_id": "d6d9e077afeb41f29e9096806db60656",
       "version_major": 2,
       "version_minor": 0
      },
      "text/plain": [
       "Batches:   0%|          | 0/1 [00:00<?, ?it/s]"
      ]
     },
     "metadata": {},
     "output_type": "display_data"
    },
    {
     "name": "stdout",
     "output_type": "stream",
     "text": [
      "Finding duplicate images...\n",
      "Finding near duplicate images...\n",
      "\n",
      "Score: 90.415%\n",
      "Images to compare\\frame6.jpg\n",
      "Images to compare\\frame0.jpg\n",
      "\n",
      "\n",
      "0.9041533470153809\n",
      "\n",
      "\n",
      "report incident\n",
      "\n",
      "\n",
      "\n",
      "\n",
      "C:\\Anomaly detection IR\\video to images\\frame6.jpg removed\n",
      "\n",
      "\n",
      "C:\\Anomaly detection IR\\video to images\\frame7.jpg copied\n",
      "\n",
      "\n",
      "Images: 2\n"
     ]
    },
    {
     "data": {
      "application/vnd.jupyter.widget-view+json": {
       "model_id": "dff627d505d14cdab82b961b899fe6bc",
       "version_major": 2,
       "version_minor": 0
      },
      "text/plain": [
       "Batches:   0%|          | 0/1 [00:00<?, ?it/s]"
      ]
     },
     "metadata": {},
     "output_type": "display_data"
    },
    {
     "name": "stdout",
     "output_type": "stream",
     "text": [
      "Finding duplicate images...\n",
      "Finding near duplicate images...\n",
      "\n",
      "Score: 90.649%\n",
      "Images to compare\\frame0.jpg\n",
      "Images to compare\\frame7.jpg\n",
      "\n",
      "\n",
      "0.9064912796020508\n",
      "\n",
      "\n",
      "report incident\n",
      "\n",
      "\n",
      "\n",
      "\n",
      "C:\\Anomaly detection IR\\video to images\\frame7.jpg removed\n",
      "\n",
      "\n",
      "C:\\Anomaly detection IR\\video to images\\frame8.jpg copied\n",
      "\n",
      "\n",
      "Images: 2\n"
     ]
    },
    {
     "data": {
      "application/vnd.jupyter.widget-view+json": {
       "model_id": "17d88e85c5cf44de920ac85e798dbe7f",
       "version_major": 2,
       "version_minor": 0
      },
      "text/plain": [
       "Batches:   0%|          | 0/1 [00:00<?, ?it/s]"
      ]
     },
     "metadata": {},
     "output_type": "display_data"
    },
    {
     "name": "stdout",
     "output_type": "stream",
     "text": [
      "Finding duplicate images...\n",
      "Finding near duplicate images...\n",
      "\n",
      "Score: 89.327%\n",
      "Images to compare\\frame0.jpg\n",
      "Images to compare\\frame8.jpg\n",
      "\n",
      "\n",
      "0.8932697176933289\n",
      "\n",
      "\n",
      "report incident\n",
      "\n",
      "\n",
      "\n",
      "\n",
      "C:\\Anomaly detection IR\\video to images\\frame8.jpg removed\n",
      "\n",
      "\n",
      "C:\\Anomaly detection IR\\video to images\\frame9.jpg copied\n",
      "\n",
      "\n",
      "Images: 2\n"
     ]
    },
    {
     "data": {
      "application/vnd.jupyter.widget-view+json": {
       "model_id": "55e63d17a958439b875fd7ada9315db1",
       "version_major": 2,
       "version_minor": 0
      },
      "text/plain": [
       "Batches:   0%|          | 0/1 [00:00<?, ?it/s]"
      ]
     },
     "metadata": {},
     "output_type": "display_data"
    },
    {
     "name": "stdout",
     "output_type": "stream",
     "text": [
      "Finding duplicate images...\n",
      "Finding near duplicate images...\n",
      "\n",
      "Score: 90.488%\n",
      "Images to compare\\frame9.jpg\n",
      "Images to compare\\frame0.jpg\n",
      "\n",
      "\n",
      "0.9048800468444824\n",
      "\n",
      "\n",
      "report incident\n",
      "\n",
      "\n",
      "\n",
      "\n",
      "C:\\Anomaly detection IR\\video to images\\frame9.jpg removed\n",
      "\n",
      "\n",
      "C:\\Anomaly detection IR\\video to images\\frame10.jpg copied\n",
      "\n",
      "\n",
      "Images: 2\n"
     ]
    },
    {
     "data": {
      "application/vnd.jupyter.widget-view+json": {
       "model_id": "0d970bd7197649ab9b7c6cfd149e3b1a",
       "version_major": 2,
       "version_minor": 0
      },
      "text/plain": [
       "Batches:   0%|          | 0/1 [00:00<?, ?it/s]"
      ]
     },
     "metadata": {},
     "output_type": "display_data"
    },
    {
     "name": "stdout",
     "output_type": "stream",
     "text": [
      "Finding duplicate images...\n",
      "Finding near duplicate images...\n",
      "\n",
      "Score: 90.236%\n",
      "Images to compare\\frame0.jpg\n",
      "Images to compare\\frame10.jpg\n",
      "\n",
      "\n",
      "0.9023613333702087\n",
      "\n",
      "\n",
      "report incident\n",
      "\n",
      "\n",
      "\n",
      "\n",
      "C:\\Anomaly detection IR\\video to images\\frame10.jpg removed\n",
      "\n",
      "\n",
      "C:\\Anomaly detection IR\\video to images\\frame11.jpg copied\n",
      "\n",
      "\n",
      "Images: 2\n"
     ]
    },
    {
     "data": {
      "application/vnd.jupyter.widget-view+json": {
       "model_id": "456fb9f95cd442a1b6ed3bc690c37fb7",
       "version_major": 2,
       "version_minor": 0
      },
      "text/plain": [
       "Batches:   0%|          | 0/1 [00:00<?, ?it/s]"
      ]
     },
     "metadata": {},
     "output_type": "display_data"
    },
    {
     "name": "stdout",
     "output_type": "stream",
     "text": [
      "Finding duplicate images...\n",
      "Finding near duplicate images...\n",
      "\n",
      "Score: 89.353%\n",
      "Images to compare\\frame0.jpg\n",
      "Images to compare\\frame11.jpg\n",
      "\n",
      "\n",
      "0.8935309052467346\n",
      "\n",
      "\n",
      "report incident\n",
      "\n",
      "\n",
      "\n",
      "\n",
      "C:\\Anomaly detection IR\\video to images\\frame11.jpg removed\n",
      "\n",
      "\n",
      "C:\\Anomaly detection IR\\video to images\\frame12.jpg copied\n",
      "\n",
      "\n",
      "Images: 2\n"
     ]
    },
    {
     "data": {
      "application/vnd.jupyter.widget-view+json": {
       "model_id": "24ba82185d87443dacf5ec08984e9bea",
       "version_major": 2,
       "version_minor": 0
      },
      "text/plain": [
       "Batches:   0%|          | 0/1 [00:00<?, ?it/s]"
      ]
     },
     "metadata": {},
     "output_type": "display_data"
    },
    {
     "name": "stdout",
     "output_type": "stream",
     "text": [
      "Finding duplicate images...\n",
      "Finding near duplicate images...\n",
      "\n",
      "Score: 89.902%\n",
      "Images to compare\\frame0.jpg\n",
      "Images to compare\\frame12.jpg\n",
      "\n",
      "\n",
      "0.8990169763565063\n",
      "\n",
      "\n",
      "report incident\n",
      "\n",
      "\n",
      "\n",
      "\n",
      "C:\\Anomaly detection IR\\video to images\\frame12.jpg removed\n",
      "\n",
      "\n",
      "C:\\Anomaly detection IR\\video to images\\frame13.jpg copied\n",
      "\n",
      "\n",
      "Images: 2\n"
     ]
    },
    {
     "data": {
      "application/vnd.jupyter.widget-view+json": {
       "model_id": "479a4852f3fb44ef9364cb4bc1220701",
       "version_major": 2,
       "version_minor": 0
      },
      "text/plain": [
       "Batches:   0%|          | 0/1 [00:00<?, ?it/s]"
      ]
     },
     "metadata": {},
     "output_type": "display_data"
    },
    {
     "name": "stdout",
     "output_type": "stream",
     "text": [
      "Finding duplicate images...\n",
      "Finding near duplicate images...\n",
      "\n",
      "Score: 91.036%\n",
      "Images to compare\\frame0.jpg\n",
      "Images to compare\\frame13.jpg\n",
      "\n",
      "\n",
      "0.9103569388389587\n",
      "\n",
      "\n",
      "report incident\n",
      "\n",
      "\n",
      "\n",
      "\n",
      "C:\\Anomaly detection IR\\video to images\\frame13.jpg removed\n",
      "\n",
      "\n",
      "C:\\Anomaly detection IR\\video to images\\frame14.jpg copied\n",
      "\n",
      "\n",
      "Images: 2\n"
     ]
    },
    {
     "data": {
      "application/vnd.jupyter.widget-view+json": {
       "model_id": "d2fc5523cf1f43e59b13fd924b8588ea",
       "version_major": 2,
       "version_minor": 0
      },
      "text/plain": [
       "Batches:   0%|          | 0/1 [00:00<?, ?it/s]"
      ]
     },
     "metadata": {},
     "output_type": "display_data"
    },
    {
     "name": "stdout",
     "output_type": "stream",
     "text": [
      "Finding duplicate images...\n",
      "Finding near duplicate images...\n",
      "\n",
      "Score: 90.832%\n",
      "Images to compare\\frame0.jpg\n",
      "Images to compare\\frame14.jpg\n",
      "\n",
      "\n",
      "0.9083189964294434\n",
      "\n",
      "\n",
      "report incident\n",
      "\n",
      "\n",
      "\n",
      "\n",
      "C:\\Anomaly detection IR\\video to images\\frame14.jpg removed\n",
      "\n",
      "\n",
      "C:\\Anomaly detection IR\\video to images\\frame15.jpg copied\n",
      "\n",
      "\n",
      "Images: 2\n"
     ]
    },
    {
     "data": {
      "application/vnd.jupyter.widget-view+json": {
       "model_id": "9e21e25d42664c1995e75045962d1b50",
       "version_major": 2,
       "version_minor": 0
      },
      "text/plain": [
       "Batches:   0%|          | 0/1 [00:00<?, ?it/s]"
      ]
     },
     "metadata": {},
     "output_type": "display_data"
    },
    {
     "name": "stdout",
     "output_type": "stream",
     "text": [
      "Finding duplicate images...\n",
      "Finding near duplicate images...\n",
      "\n",
      "Score: 89.967%\n",
      "Images to compare\\frame0.jpg\n",
      "Images to compare\\frame15.jpg\n",
      "\n",
      "\n",
      "0.8996685743331909\n",
      "\n",
      "\n",
      "report incident\n",
      "\n",
      "\n",
      "\n",
      "\n",
      "C:\\Anomaly detection IR\\video to images\\frame15.jpg removed\n",
      "\n",
      "\n",
      "C:\\Anomaly detection IR\\video to images\\frame16.jpg copied\n",
      "\n",
      "\n",
      "Images: 2\n"
     ]
    },
    {
     "data": {
      "application/vnd.jupyter.widget-view+json": {
       "model_id": "f416f6bb4ac341b292220f7e24b19953",
       "version_major": 2,
       "version_minor": 0
      },
      "text/plain": [
       "Batches:   0%|          | 0/1 [00:00<?, ?it/s]"
      ]
     },
     "metadata": {},
     "output_type": "display_data"
    },
    {
     "name": "stdout",
     "output_type": "stream",
     "text": [
      "Finding duplicate images...\n",
      "Finding near duplicate images...\n",
      "\n",
      "Score: 90.328%\n",
      "Images to compare\\frame0.jpg\n",
      "Images to compare\\frame16.jpg\n",
      "\n",
      "\n",
      "0.9032832384109497\n",
      "\n",
      "\n",
      "report incident\n",
      "\n",
      "\n",
      "\n",
      "\n",
      "C:\\Anomaly detection IR\\video to images\\frame16.jpg removed\n",
      "\n",
      "\n",
      "C:\\Anomaly detection IR\\video to images\\frame17.jpg copied\n",
      "\n",
      "\n",
      "Images: 2\n"
     ]
    },
    {
     "data": {
      "application/vnd.jupyter.widget-view+json": {
       "model_id": "5f35cc2df9804132861b3ba21cc21f90",
       "version_major": 2,
       "version_minor": 0
      },
      "text/plain": [
       "Batches:   0%|          | 0/1 [00:00<?, ?it/s]"
      ]
     },
     "metadata": {},
     "output_type": "display_data"
    },
    {
     "name": "stdout",
     "output_type": "stream",
     "text": [
      "Finding duplicate images...\n",
      "Finding near duplicate images...\n",
      "\n",
      "Score: 91.216%\n",
      "Images to compare\\frame0.jpg\n",
      "Images to compare\\frame17.jpg\n",
      "\n",
      "\n",
      "0.912163496017456\n",
      "\n",
      "\n",
      "report incident\n",
      "\n",
      "\n",
      "\n",
      "\n",
      "C:\\Anomaly detection IR\\video to images\\frame17.jpg removed\n",
      "\n",
      "\n",
      "C:\\Anomaly detection IR\\video to images\\frame18.jpg copied\n",
      "\n",
      "\n",
      "Images: 2\n"
     ]
    },
    {
     "data": {
      "application/vnd.jupyter.widget-view+json": {
       "model_id": "2c0c9d92dc9b494884801956c6336e94",
       "version_major": 2,
       "version_minor": 0
      },
      "text/plain": [
       "Batches:   0%|          | 0/1 [00:00<?, ?it/s]"
      ]
     },
     "metadata": {},
     "output_type": "display_data"
    },
    {
     "name": "stdout",
     "output_type": "stream",
     "text": [
      "Finding duplicate images...\n",
      "Finding near duplicate images...\n",
      "\n",
      "Score: 90.411%\n",
      "Images to compare\\frame0.jpg\n",
      "Images to compare\\frame18.jpg\n",
      "\n",
      "\n",
      "0.9041141271591187\n",
      "\n",
      "\n",
      "report incident\n",
      "\n",
      "\n",
      "\n",
      "\n",
      "C:\\Anomaly detection IR\\video to images\\frame18.jpg removed\n",
      "\n",
      "\n",
      "C:\\Anomaly detection IR\\video to images\\frame19.jpg copied\n",
      "\n",
      "\n",
      "Images: 2\n"
     ]
    },
    {
     "data": {
      "application/vnd.jupyter.widget-view+json": {
       "model_id": "1a14efad3bac488fad6571acf4f98585",
       "version_major": 2,
       "version_minor": 0
      },
      "text/plain": [
       "Batches:   0%|          | 0/1 [00:00<?, ?it/s]"
      ]
     },
     "metadata": {},
     "output_type": "display_data"
    },
    {
     "name": "stdout",
     "output_type": "stream",
     "text": [
      "Finding duplicate images...\n",
      "Finding near duplicate images...\n",
      "\n",
      "Score: 91.198%\n",
      "Images to compare\\frame0.jpg\n",
      "Images to compare\\frame19.jpg\n",
      "\n",
      "\n",
      "0.9119848608970642\n",
      "\n",
      "\n",
      "report incident\n",
      "\n",
      "\n",
      "\n",
      "\n",
      "C:\\Anomaly detection IR\\video to images\\frame19.jpg removed\n",
      "\n",
      "\n",
      "C:\\Anomaly detection IR\\video to images\\frame20.jpg copied\n",
      "\n",
      "\n",
      "Images: 2\n"
     ]
    },
    {
     "data": {
      "application/vnd.jupyter.widget-view+json": {
       "model_id": "0ce1302748e74287b01aea4e584d3884",
       "version_major": 2,
       "version_minor": 0
      },
      "text/plain": [
       "Batches:   0%|          | 0/1 [00:00<?, ?it/s]"
      ]
     },
     "metadata": {},
     "output_type": "display_data"
    },
    {
     "name": "stdout",
     "output_type": "stream",
     "text": [
      "Finding duplicate images...\n",
      "Finding near duplicate images...\n",
      "\n",
      "Score: 91.887%\n",
      "Images to compare\\frame20.jpg\n",
      "Images to compare\\frame0.jpg\n",
      "\n",
      "\n",
      "0.9188674688339233\n",
      "\n",
      "\n",
      "report incident\n",
      "\n",
      "\n",
      "\n",
      "\n",
      "C:\\Anomaly detection IR\\video to images\\frame20.jpg removed\n",
      "\n",
      "\n",
      "C:\\Anomaly detection IR\\video to images\\frame21.jpg copied\n",
      "\n",
      "\n",
      "Images: 2\n"
     ]
    },
    {
     "data": {
      "application/vnd.jupyter.widget-view+json": {
       "model_id": "8b591db2d8234cecbdb6e5a8fffd23dc",
       "version_major": 2,
       "version_minor": 0
      },
      "text/plain": [
       "Batches:   0%|          | 0/1 [00:00<?, ?it/s]"
      ]
     },
     "metadata": {},
     "output_type": "display_data"
    },
    {
     "name": "stdout",
     "output_type": "stream",
     "text": [
      "Finding duplicate images...\n",
      "Finding near duplicate images...\n",
      "\n",
      "Score: 91.597%\n",
      "Images to compare\\frame0.jpg\n",
      "Images to compare\\frame21.jpg\n",
      "\n",
      "\n",
      "0.9159694910049438\n",
      "\n",
      "\n",
      "report incident\n",
      "\n",
      "\n",
      "\n",
      "\n",
      "C:\\Anomaly detection IR\\video to images\\frame21.jpg removed\n",
      "\n",
      "\n",
      "C:\\Anomaly detection IR\\video to images\\frame22.jpg copied\n",
      "\n",
      "\n",
      "Images: 2\n"
     ]
    },
    {
     "data": {
      "application/vnd.jupyter.widget-view+json": {
       "model_id": "a524a8f45ab84e9abcccce413c117de1",
       "version_major": 2,
       "version_minor": 0
      },
      "text/plain": [
       "Batches:   0%|          | 0/1 [00:00<?, ?it/s]"
      ]
     },
     "metadata": {},
     "output_type": "display_data"
    },
    {
     "name": "stdout",
     "output_type": "stream",
     "text": [
      "Finding duplicate images...\n",
      "Finding near duplicate images...\n",
      "\n",
      "Score: 91.466%\n",
      "Images to compare\\frame0.jpg\n",
      "Images to compare\\frame22.jpg\n",
      "\n",
      "\n",
      "0.9146555662155151\n",
      "\n",
      "\n",
      "report incident\n",
      "\n",
      "\n",
      "\n",
      "\n",
      "C:\\Anomaly detection IR\\video to images\\frame22.jpg removed\n",
      "\n",
      "\n",
      "C:\\Anomaly detection IR\\video to images\\frame23.jpg copied\n",
      "\n",
      "\n",
      "Images: 2\n"
     ]
    },
    {
     "data": {
      "application/vnd.jupyter.widget-view+json": {
       "model_id": "9c8f92c608804f1abeb6eae90f5e10ab",
       "version_major": 2,
       "version_minor": 0
      },
      "text/plain": [
       "Batches:   0%|          | 0/1 [00:00<?, ?it/s]"
      ]
     },
     "metadata": {},
     "output_type": "display_data"
    },
    {
     "name": "stdout",
     "output_type": "stream",
     "text": [
      "Finding duplicate images...\n",
      "Finding near duplicate images...\n",
      "\n",
      "Score: 91.578%\n",
      "Images to compare\\frame0.jpg\n",
      "Images to compare\\frame23.jpg\n",
      "\n",
      "\n",
      "0.9157848358154297\n",
      "\n",
      "\n",
      "report incident\n",
      "\n",
      "\n",
      "\n",
      "\n",
      "C:\\Anomaly detection IR\\video to images\\frame23.jpg removed\n",
      "\n",
      "\n",
      "C:\\Anomaly detection IR\\video to images\\frame24.jpg copied\n",
      "\n",
      "\n",
      "Images: 2\n"
     ]
    },
    {
     "data": {
      "application/vnd.jupyter.widget-view+json": {
       "model_id": "5718544539fa44ffb0a0959623e4d6ae",
       "version_major": 2,
       "version_minor": 0
      },
      "text/plain": [
       "Batches:   0%|          | 0/1 [00:00<?, ?it/s]"
      ]
     },
     "metadata": {},
     "output_type": "display_data"
    },
    {
     "name": "stdout",
     "output_type": "stream",
     "text": [
      "Finding duplicate images...\n",
      "Finding near duplicate images...\n",
      "\n",
      "Score: 91.363%\n",
      "Images to compare\\frame0.jpg\n",
      "Images to compare\\frame24.jpg\n",
      "\n",
      "\n",
      "0.913629949092865\n",
      "\n",
      "\n",
      "report incident\n",
      "\n",
      "\n",
      "\n",
      "\n",
      "C:\\Anomaly detection IR\\video to images\\frame24.jpg removed\n",
      "\n",
      "\n",
      "C:\\Anomaly detection IR\\video to images\\frame25.jpg copied\n",
      "\n",
      "\n",
      "Images: 2\n"
     ]
    },
    {
     "data": {
      "application/vnd.jupyter.widget-view+json": {
       "model_id": "68d0cb0db64c48eab94e16a37c97835b",
       "version_major": 2,
       "version_minor": 0
      },
      "text/plain": [
       "Batches:   0%|          | 0/1 [00:00<?, ?it/s]"
      ]
     },
     "metadata": {},
     "output_type": "display_data"
    },
    {
     "name": "stdout",
     "output_type": "stream",
     "text": [
      "Finding duplicate images...\n",
      "Finding near duplicate images...\n",
      "\n",
      "Score: 90.419%\n",
      "Images to compare\\frame25.jpg\n",
      "Images to compare\\frame0.jpg\n",
      "\n",
      "\n",
      "0.904190182685852\n",
      "\n",
      "\n",
      "report incident\n",
      "\n",
      "\n",
      "\n",
      "\n",
      "C:\\Anomaly detection IR\\video to images\\frame25.jpg removed\n",
      "\n",
      "\n",
      "C:\\Anomaly detection IR\\video to images\\frame26.jpg copied\n",
      "\n",
      "\n",
      "Images: 2\n"
     ]
    },
    {
     "data": {
      "application/vnd.jupyter.widget-view+json": {
       "model_id": "e8c0ee06abcc47dc986ad2ef03b4dff3",
       "version_major": 2,
       "version_minor": 0
      },
      "text/plain": [
       "Batches:   0%|          | 0/1 [00:00<?, ?it/s]"
      ]
     },
     "metadata": {},
     "output_type": "display_data"
    },
    {
     "name": "stdout",
     "output_type": "stream",
     "text": [
      "Finding duplicate images...\n",
      "Finding near duplicate images...\n",
      "\n",
      "Score: 89.802%\n",
      "Images to compare\\frame0.jpg\n",
      "Images to compare\\frame26.jpg\n",
      "\n",
      "\n",
      "0.8980230093002319\n",
      "\n",
      "\n",
      "report incident\n",
      "\n",
      "\n",
      "\n",
      "\n",
      "C:\\Anomaly detection IR\\video to images\\frame26.jpg removed\n",
      "\n",
      "\n",
      "C:\\Anomaly detection IR\\video to images\\frame27.jpg copied\n",
      "\n",
      "\n",
      "Images: 2\n"
     ]
    },
    {
     "data": {
      "application/vnd.jupyter.widget-view+json": {
       "model_id": "1224d35343764397bebc3ff79de686ed",
       "version_major": 2,
       "version_minor": 0
      },
      "text/plain": [
       "Batches:   0%|          | 0/1 [00:00<?, ?it/s]"
      ]
     },
     "metadata": {},
     "output_type": "display_data"
    },
    {
     "name": "stdout",
     "output_type": "stream",
     "text": [
      "Finding duplicate images...\n",
      "Finding near duplicate images...\n",
      "\n",
      "Score: 89.578%\n",
      "Images to compare\\frame0.jpg\n",
      "Images to compare\\frame27.jpg\n",
      "\n",
      "\n",
      "0.895776093006134\n",
      "\n",
      "\n",
      "report incident\n",
      "\n",
      "\n",
      "\n",
      "\n",
      "C:\\Anomaly detection IR\\video to images\\frame27.jpg removed\n",
      "\n",
      "\n",
      "C:\\Anomaly detection IR\\video to images\\frame28.jpg copied\n",
      "\n",
      "\n",
      "Images: 2\n"
     ]
    },
    {
     "data": {
      "application/vnd.jupyter.widget-view+json": {
       "model_id": "d96de2d77c59477d91c0a10df39e1bee",
       "version_major": 2,
       "version_minor": 0
      },
      "text/plain": [
       "Batches:   0%|          | 0/1 [00:00<?, ?it/s]"
      ]
     },
     "metadata": {},
     "output_type": "display_data"
    },
    {
     "name": "stdout",
     "output_type": "stream",
     "text": [
      "Finding duplicate images...\n",
      "Finding near duplicate images...\n",
      "\n",
      "Score: 89.042%\n",
      "Images to compare\\frame0.jpg\n",
      "Images to compare\\frame28.jpg\n",
      "\n",
      "\n",
      "0.8904187679290771\n",
      "\n",
      "\n",
      "report incident\n",
      "\n",
      "\n",
      "\n",
      "\n",
      "C:\\Anomaly detection IR\\video to images\\frame28.jpg removed\n",
      "\n",
      "\n",
      "C:\\Anomaly detection IR\\video to images\\frame29.jpg copied\n",
      "\n",
      "\n",
      "Images: 2\n"
     ]
    },
    {
     "data": {
      "application/vnd.jupyter.widget-view+json": {
       "model_id": "341989b0d64d4f0299e2f5bc36ac2f13",
       "version_major": 2,
       "version_minor": 0
      },
      "text/plain": [
       "Batches:   0%|          | 0/1 [00:00<?, ?it/s]"
      ]
     },
     "metadata": {},
     "output_type": "display_data"
    },
    {
     "name": "stdout",
     "output_type": "stream",
     "text": [
      "Finding duplicate images...\n",
      "Finding near duplicate images...\n",
      "\n",
      "Score: 88.949%\n",
      "Images to compare\\frame29.jpg\n",
      "Images to compare\\frame0.jpg\n",
      "\n",
      "\n",
      "0.8894882798194885\n",
      "\n",
      "\n",
      "report incident\n",
      "\n",
      "\n",
      "\n",
      "\n",
      "C:\\Anomaly detection IR\\video to images\\frame29.jpg removed\n",
      "\n",
      "\n",
      "C:\\Anomaly detection IR\\video to images\\frame30.jpg copied\n",
      "\n",
      "\n",
      "Images: 2\n"
     ]
    },
    {
     "data": {
      "application/vnd.jupyter.widget-view+json": {
       "model_id": "dee9bf412fdb4326a66ba9feb8e53121",
       "version_major": 2,
       "version_minor": 0
      },
      "text/plain": [
       "Batches:   0%|          | 0/1 [00:00<?, ?it/s]"
      ]
     },
     "metadata": {},
     "output_type": "display_data"
    },
    {
     "name": "stdout",
     "output_type": "stream",
     "text": [
      "Finding duplicate images...\n",
      "Finding near duplicate images...\n",
      "\n",
      "Score: 91.513%\n",
      "Images to compare\\frame0.jpg\n",
      "Images to compare\\frame30.jpg\n",
      "\n",
      "\n",
      "0.9151314496994019\n",
      "\n",
      "\n",
      "report incident\n",
      "\n",
      "\n",
      "\n",
      "\n",
      "C:\\Anomaly detection IR\\video to images\\frame30.jpg removed\n",
      "\n",
      "\n",
      "C:\\Anomaly detection IR\\video to images\\frame31.jpg copied\n",
      "\n",
      "\n",
      "Images: 2\n"
     ]
    },
    {
     "data": {
      "application/vnd.jupyter.widget-view+json": {
       "model_id": "e399717e38e042ffa6043410238d914d",
       "version_major": 2,
       "version_minor": 0
      },
      "text/plain": [
       "Batches:   0%|          | 0/1 [00:00<?, ?it/s]"
      ]
     },
     "metadata": {},
     "output_type": "display_data"
    },
    {
     "name": "stdout",
     "output_type": "stream",
     "text": [
      "Finding duplicate images...\n",
      "Finding near duplicate images...\n",
      "\n",
      "Score: 90.957%\n",
      "Images to compare\\frame0.jpg\n",
      "Images to compare\\frame31.jpg\n",
      "\n",
      "\n",
      "0.9095664620399475\n",
      "\n",
      "\n",
      "report incident\n",
      "\n",
      "\n",
      "\n",
      "\n",
      "C:\\Anomaly detection IR\\video to images\\frame31.jpg removed\n",
      "\n",
      "\n",
      "C:\\Anomaly detection IR\\video to images\\frame32.jpg copied\n",
      "\n",
      "\n",
      "Images: 2\n"
     ]
    },
    {
     "data": {
      "application/vnd.jupyter.widget-view+json": {
       "model_id": "7a6c6d33966b4123b1043be50289c600",
       "version_major": 2,
       "version_minor": 0
      },
      "text/plain": [
       "Batches:   0%|          | 0/1 [00:00<?, ?it/s]"
      ]
     },
     "metadata": {},
     "output_type": "display_data"
    },
    {
     "name": "stdout",
     "output_type": "stream",
     "text": [
      "Finding duplicate images...\n",
      "Finding near duplicate images...\n",
      "\n",
      "Score: 89.798%\n",
      "Images to compare\\frame32.jpg\n",
      "Images to compare\\frame0.jpg\n",
      "\n",
      "\n",
      "0.8979783058166504\n",
      "\n",
      "\n",
      "report incident\n",
      "\n",
      "\n",
      "\n",
      "\n",
      "C:\\Anomaly detection IR\\video to images\\frame32.jpg removed\n",
      "\n",
      "\n",
      "C:\\Anomaly detection IR\\video to images\\frame33.jpg copied\n",
      "\n",
      "\n",
      "Images: 2\n"
     ]
    },
    {
     "data": {
      "application/vnd.jupyter.widget-view+json": {
       "model_id": "6db43c972c1c48b6ac687237a6635801",
       "version_major": 2,
       "version_minor": 0
      },
      "text/plain": [
       "Batches:   0%|          | 0/1 [00:00<?, ?it/s]"
      ]
     },
     "metadata": {},
     "output_type": "display_data"
    },
    {
     "name": "stdout",
     "output_type": "stream",
     "text": [
      "Finding duplicate images...\n",
      "Finding near duplicate images...\n",
      "\n",
      "Score: 90.384%\n",
      "Images to compare\\frame0.jpg\n",
      "Images to compare\\frame33.jpg\n",
      "\n",
      "\n",
      "0.9038359522819519\n",
      "\n",
      "\n",
      "report incident\n",
      "\n",
      "\n",
      "\n",
      "\n",
      "C:\\Anomaly detection IR\\video to images\\frame33.jpg removed\n",
      "\n",
      "\n",
      "C:\\Anomaly detection IR\\video to images\\frame34.jpg copied\n",
      "\n",
      "\n",
      "Images: 2\n"
     ]
    },
    {
     "data": {
      "application/vnd.jupyter.widget-view+json": {
       "model_id": "6e8e7268a66642eaa2679d7729ef4802",
       "version_major": 2,
       "version_minor": 0
      },
      "text/plain": [
       "Batches:   0%|          | 0/1 [00:00<?, ?it/s]"
      ]
     },
     "metadata": {},
     "output_type": "display_data"
    },
    {
     "name": "stdout",
     "output_type": "stream",
     "text": [
      "Finding duplicate images...\n",
      "Finding near duplicate images...\n",
      "\n",
      "Score: 89.893%\n",
      "Images to compare\\frame0.jpg\n",
      "Images to compare\\frame34.jpg\n",
      "\n",
      "\n",
      "0.8989301919937134\n",
      "\n",
      "\n",
      "report incident\n",
      "\n",
      "\n",
      "\n",
      "\n",
      "C:\\Anomaly detection IR\\video to images\\frame34.jpg removed\n",
      "\n",
      "\n",
      "C:\\Anomaly detection IR\\video to images\\frame35.jpg copied\n",
      "\n",
      "\n",
      "Images: 2\n"
     ]
    },
    {
     "data": {
      "application/vnd.jupyter.widget-view+json": {
       "model_id": "e163e2852d084adaa4a1ff53e39cb161",
       "version_major": 2,
       "version_minor": 0
      },
      "text/plain": [
       "Batches:   0%|          | 0/1 [00:00<?, ?it/s]"
      ]
     },
     "metadata": {},
     "output_type": "display_data"
    },
    {
     "name": "stdout",
     "output_type": "stream",
     "text": [
      "Finding duplicate images...\n",
      "Finding near duplicate images...\n",
      "\n",
      "Score: 90.288%\n",
      "Images to compare\\frame0.jpg\n",
      "Images to compare\\frame35.jpg\n",
      "\n",
      "\n",
      "0.902877926826477\n",
      "\n",
      "\n",
      "report incident\n",
      "\n",
      "\n",
      "\n",
      "\n",
      "C:\\Anomaly detection IR\\video to images\\frame35.jpg removed\n",
      "\n",
      "\n",
      "C:\\Anomaly detection IR\\video to images\\frame36.jpg copied\n",
      "\n",
      "\n",
      "Images: 2\n"
     ]
    },
    {
     "data": {
      "application/vnd.jupyter.widget-view+json": {
       "model_id": "ff6e01175d7d4b58be51ebb3a4fb39fe",
       "version_major": 2,
       "version_minor": 0
      },
      "text/plain": [
       "Batches:   0%|          | 0/1 [00:00<?, ?it/s]"
      ]
     },
     "metadata": {},
     "output_type": "display_data"
    },
    {
     "name": "stdout",
     "output_type": "stream",
     "text": [
      "Finding duplicate images...\n",
      "Finding near duplicate images...\n",
      "\n",
      "Score: 90.802%\n",
      "Images to compare\\frame0.jpg\n",
      "Images to compare\\frame36.jpg\n",
      "\n",
      "\n",
      "0.9080227613449097\n",
      "\n",
      "\n",
      "report incident\n",
      "\n",
      "\n",
      "\n",
      "\n",
      "C:\\Anomaly detection IR\\video to images\\frame36.jpg removed\n",
      "\n",
      "\n",
      "C:\\Anomaly detection IR\\video to images\\frame37.jpg copied\n",
      "\n",
      "\n",
      "Images: 2\n"
     ]
    },
    {
     "data": {
      "application/vnd.jupyter.widget-view+json": {
       "model_id": "ce62d45e585d4f859e044de3857a7e2f",
       "version_major": 2,
       "version_minor": 0
      },
      "text/plain": [
       "Batches:   0%|          | 0/1 [00:00<?, ?it/s]"
      ]
     },
     "metadata": {},
     "output_type": "display_data"
    },
    {
     "name": "stdout",
     "output_type": "stream",
     "text": [
      "Finding duplicate images...\n",
      "Finding near duplicate images...\n",
      "\n",
      "Score: 90.479%\n",
      "Images to compare\\frame0.jpg\n",
      "Images to compare\\frame37.jpg\n",
      "\n",
      "\n",
      "0.904793918132782\n",
      "\n",
      "\n",
      "report incident\n",
      "\n",
      "\n",
      "\n",
      "\n",
      "C:\\Anomaly detection IR\\video to images\\frame37.jpg removed\n",
      "\n",
      "\n",
      "C:\\Anomaly detection IR\\video to images\\frame38.jpg copied\n",
      "\n",
      "\n",
      "Images: 2\n"
     ]
    },
    {
     "data": {
      "application/vnd.jupyter.widget-view+json": {
       "model_id": "3f4b14f435054c65aad166d0515e2c9b",
       "version_major": 2,
       "version_minor": 0
      },
      "text/plain": [
       "Batches:   0%|          | 0/1 [00:00<?, ?it/s]"
      ]
     },
     "metadata": {},
     "output_type": "display_data"
    },
    {
     "name": "stdout",
     "output_type": "stream",
     "text": [
      "Finding duplicate images...\n",
      "Finding near duplicate images...\n",
      "\n",
      "Score: 90.050%\n",
      "Images to compare\\frame38.jpg\n",
      "Images to compare\\frame0.jpg\n",
      "\n",
      "\n",
      "0.9005042314529419\n",
      "\n",
      "\n",
      "report incident\n",
      "\n",
      "\n",
      "\n",
      "\n",
      "C:\\Anomaly detection IR\\video to images\\frame38.jpg removed\n",
      "\n",
      "\n",
      "C:\\Anomaly detection IR\\video to images\\frame39.jpg copied\n",
      "\n",
      "\n",
      "Images: 2\n"
     ]
    },
    {
     "data": {
      "application/vnd.jupyter.widget-view+json": {
       "model_id": "1f485af1efcc46b9aaf79f477f909c73",
       "version_major": 2,
       "version_minor": 0
      },
      "text/plain": [
       "Batches:   0%|          | 0/1 [00:00<?, ?it/s]"
      ]
     },
     "metadata": {},
     "output_type": "display_data"
    },
    {
     "name": "stdout",
     "output_type": "stream",
     "text": [
      "Finding duplicate images...\n",
      "Finding near duplicate images...\n",
      "\n",
      "Score: 90.493%\n",
      "Images to compare\\frame0.jpg\n",
      "Images to compare\\frame39.jpg\n",
      "\n",
      "\n",
      "0.904931902885437\n",
      "\n",
      "\n",
      "report incident\n",
      "\n",
      "\n",
      "\n",
      "\n",
      "C:\\Anomaly detection IR\\video to images\\frame39.jpg removed\n",
      "\n",
      "\n",
      "C:\\Anomaly detection IR\\video to images\\frame40.jpg copied\n",
      "\n",
      "\n",
      "Images: 2\n"
     ]
    },
    {
     "data": {
      "application/vnd.jupyter.widget-view+json": {
       "model_id": "5598067149aa4aa8941ede1cfea2f5ff",
       "version_major": 2,
       "version_minor": 0
      },
      "text/plain": [
       "Batches:   0%|          | 0/1 [00:00<?, ?it/s]"
      ]
     },
     "metadata": {},
     "output_type": "display_data"
    },
    {
     "name": "stdout",
     "output_type": "stream",
     "text": [
      "Finding duplicate images...\n",
      "Finding near duplicate images...\n",
      "\n",
      "Score: 89.821%\n",
      "Images to compare\\frame0.jpg\n",
      "Images to compare\\frame40.jpg\n",
      "\n",
      "\n",
      "0.8982089757919312\n",
      "\n",
      "\n",
      "report incident\n",
      "\n",
      "\n",
      "\n",
      "\n",
      "C:\\Anomaly detection IR\\video to images\\frame40.jpg removed\n",
      "\n",
      "\n",
      "C:\\Anomaly detection IR\\video to images\\frame41.jpg copied\n",
      "\n",
      "\n",
      "Images: 2\n"
     ]
    },
    {
     "data": {
      "application/vnd.jupyter.widget-view+json": {
       "model_id": "ed59cd9e21664542afe81fb386d9b7f2",
       "version_major": 2,
       "version_minor": 0
      },
      "text/plain": [
       "Batches:   0%|          | 0/1 [00:00<?, ?it/s]"
      ]
     },
     "metadata": {},
     "output_type": "display_data"
    },
    {
     "name": "stdout",
     "output_type": "stream",
     "text": [
      "Finding duplicate images...\n",
      "Finding near duplicate images...\n",
      "\n",
      "Score: 90.476%\n",
      "Images to compare\\frame41.jpg\n",
      "Images to compare\\frame0.jpg\n",
      "\n",
      "\n",
      "0.9047613143920898\n",
      "\n",
      "\n",
      "report incident\n",
      "\n",
      "\n",
      "\n",
      "\n",
      "C:\\Anomaly detection IR\\video to images\\frame41.jpg removed\n",
      "\n",
      "\n",
      "C:\\Anomaly detection IR\\video to images\\frame42.jpg copied\n",
      "\n",
      "\n",
      "Images: 2\n"
     ]
    },
    {
     "data": {
      "application/vnd.jupyter.widget-view+json": {
       "model_id": "c92e0713939b4c1091f916f4a3a3f2c9",
       "version_major": 2,
       "version_minor": 0
      },
      "text/plain": [
       "Batches:   0%|          | 0/1 [00:00<?, ?it/s]"
      ]
     },
     "metadata": {},
     "output_type": "display_data"
    },
    {
     "name": "stdout",
     "output_type": "stream",
     "text": [
      "Finding duplicate images...\n",
      "Finding near duplicate images...\n",
      "\n",
      "Score: 89.923%\n",
      "Images to compare\\frame42.jpg\n",
      "Images to compare\\frame0.jpg\n",
      "\n",
      "\n",
      "0.8992336988449097\n",
      "\n",
      "\n",
      "report incident\n",
      "\n",
      "\n",
      "\n",
      "\n",
      "C:\\Anomaly detection IR\\video to images\\frame42.jpg removed\n",
      "\n",
      "\n",
      "C:\\Anomaly detection IR\\video to images\\frame43.jpg copied\n",
      "\n",
      "\n",
      "Images: 2\n"
     ]
    },
    {
     "data": {
      "application/vnd.jupyter.widget-view+json": {
       "model_id": "2b5e52c95d5d4c1c962fd783e524e177",
       "version_major": 2,
       "version_minor": 0
      },
      "text/plain": [
       "Batches:   0%|          | 0/1 [00:00<?, ?it/s]"
      ]
     },
     "metadata": {},
     "output_type": "display_data"
    },
    {
     "name": "stdout",
     "output_type": "stream",
     "text": [
      "Finding duplicate images...\n",
      "Finding near duplicate images...\n",
      "\n",
      "Score: 90.699%\n",
      "Images to compare\\frame43.jpg\n",
      "Images to compare\\frame0.jpg\n",
      "\n",
      "\n",
      "0.9069865345954895\n",
      "\n",
      "\n",
      "report incident\n",
      "\n",
      "\n",
      "\n",
      "\n",
      "C:\\Anomaly detection IR\\video to images\\frame43.jpg removed\n",
      "\n",
      "\n",
      "C:\\Anomaly detection IR\\video to images\\frame44.jpg copied\n",
      "\n",
      "\n",
      "Images: 2\n"
     ]
    },
    {
     "data": {
      "application/vnd.jupyter.widget-view+json": {
       "model_id": "ecc072ab81ba40aca43d9ce2a75adbb0",
       "version_major": 2,
       "version_minor": 0
      },
      "text/plain": [
       "Batches:   0%|          | 0/1 [00:00<?, ?it/s]"
      ]
     },
     "metadata": {},
     "output_type": "display_data"
    },
    {
     "name": "stdout",
     "output_type": "stream",
     "text": [
      "Finding duplicate images...\n",
      "Finding near duplicate images...\n",
      "\n",
      "Score: 90.667%\n",
      "Images to compare\\frame0.jpg\n",
      "Images to compare\\frame44.jpg\n",
      "\n",
      "\n",
      "0.9066650867462158\n",
      "\n",
      "\n",
      "report incident\n",
      "\n",
      "\n",
      "\n",
      "\n",
      "C:\\Anomaly detection IR\\video to images\\frame44.jpg removed\n",
      "\n",
      "\n",
      "C:\\Anomaly detection IR\\video to images\\frame45.jpg copied\n",
      "\n",
      "\n",
      "Images: 2\n"
     ]
    },
    {
     "data": {
      "application/vnd.jupyter.widget-view+json": {
       "model_id": "e214cdba62f547f497b9eb086f1ad4c8",
       "version_major": 2,
       "version_minor": 0
      },
      "text/plain": [
       "Batches:   0%|          | 0/1 [00:00<?, ?it/s]"
      ]
     },
     "metadata": {},
     "output_type": "display_data"
    },
    {
     "name": "stdout",
     "output_type": "stream",
     "text": [
      "Finding duplicate images...\n",
      "Finding near duplicate images...\n",
      "\n",
      "Score: 91.370%\n",
      "Images to compare\\frame0.jpg\n",
      "Images to compare\\frame45.jpg\n",
      "\n",
      "\n",
      "0.9136998653411865\n",
      "\n",
      "\n",
      "report incident\n",
      "\n",
      "\n",
      "\n",
      "\n",
      "C:\\Anomaly detection IR\\video to images\\frame45.jpg removed\n",
      "\n",
      "\n",
      "C:\\Anomaly detection IR\\video to images\\frame46.jpg copied\n",
      "\n",
      "\n",
      "Images: 2\n"
     ]
    },
    {
     "data": {
      "application/vnd.jupyter.widget-view+json": {
       "model_id": "64d942fda10e47758ef1562f06afbb6b",
       "version_major": 2,
       "version_minor": 0
      },
      "text/plain": [
       "Batches:   0%|          | 0/1 [00:00<?, ?it/s]"
      ]
     },
     "metadata": {},
     "output_type": "display_data"
    },
    {
     "name": "stdout",
     "output_type": "stream",
     "text": [
      "Finding duplicate images...\n",
      "Finding near duplicate images...\n",
      "\n",
      "Score: 92.204%\n",
      "Images to compare\\frame0.jpg\n",
      "Images to compare\\frame46.jpg\n",
      "\n",
      "\n",
      "0.9220442175865173\n",
      "\n",
      "\n",
      "maybe incident\n",
      "\n",
      "\n",
      "\n",
      "\n",
      "C:\\Anomaly detection IR\\video to images\\frame46.jpg removed\n",
      "\n",
      "\n",
      "C:\\Anomaly detection IR\\video to images\\frame47.jpg copied\n",
      "\n",
      "\n",
      "Images: 2\n"
     ]
    },
    {
     "data": {
      "application/vnd.jupyter.widget-view+json": {
       "model_id": "bb5396b2e25e416bbec976a36c5ef855",
       "version_major": 2,
       "version_minor": 0
      },
      "text/plain": [
       "Batches:   0%|          | 0/1 [00:00<?, ?it/s]"
      ]
     },
     "metadata": {},
     "output_type": "display_data"
    },
    {
     "name": "stdout",
     "output_type": "stream",
     "text": [
      "Finding duplicate images...\n",
      "Finding near duplicate images...\n",
      "\n",
      "Score: 90.556%\n",
      "Images to compare\\frame0.jpg\n",
      "Images to compare\\frame47.jpg\n",
      "\n",
      "\n",
      "0.9055613279342651\n",
      "\n",
      "\n",
      "report incident\n",
      "\n",
      "\n",
      "\n",
      "\n",
      "C:\\Anomaly detection IR\\video to images\\frame47.jpg removed\n",
      "\n",
      "\n",
      "C:\\Anomaly detection IR\\video to images\\frame48.jpg copied\n",
      "\n",
      "\n",
      "Images: 2\n"
     ]
    },
    {
     "data": {
      "application/vnd.jupyter.widget-view+json": {
       "model_id": "d376c653adb64e5bb0f596d67933c5fc",
       "version_major": 2,
       "version_minor": 0
      },
      "text/plain": [
       "Batches:   0%|          | 0/1 [00:00<?, ?it/s]"
      ]
     },
     "metadata": {},
     "output_type": "display_data"
    },
    {
     "name": "stdout",
     "output_type": "stream",
     "text": [
      "Finding duplicate images...\n",
      "Finding near duplicate images...\n",
      "\n",
      "Score: 91.475%\n",
      "Images to compare\\frame0.jpg\n",
      "Images to compare\\frame48.jpg\n",
      "\n",
      "\n",
      "0.9147529602050781\n",
      "\n",
      "\n",
      "report incident\n",
      "\n",
      "\n",
      "\n",
      "\n",
      "C:\\Anomaly detection IR\\video to images\\frame48.jpg removed\n",
      "\n",
      "\n",
      "C:\\Anomaly detection IR\\video to images\\frame49.jpg copied\n",
      "\n",
      "\n",
      "Images: 2\n"
     ]
    },
    {
     "data": {
      "application/vnd.jupyter.widget-view+json": {
       "model_id": "0415950f412b401cb8c3c8b1ed1e1f62",
       "version_major": 2,
       "version_minor": 0
      },
      "text/plain": [
       "Batches:   0%|          | 0/1 [00:00<?, ?it/s]"
      ]
     },
     "metadata": {},
     "output_type": "display_data"
    },
    {
     "name": "stdout",
     "output_type": "stream",
     "text": [
      "Finding duplicate images...\n",
      "Finding near duplicate images...\n",
      "\n",
      "Score: 92.625%\n",
      "Images to compare\\frame0.jpg\n",
      "Images to compare\\frame49.jpg\n",
      "\n",
      "\n",
      "0.9262499213218689\n",
      "\n",
      "\n",
      "maybe incident\n",
      "\n",
      "\n",
      "\n",
      "\n",
      "C:\\Anomaly detection IR\\video to images\\frame49.jpg removed\n",
      "\n",
      "\n",
      "C:\\Anomaly detection IR\\video to images\\frame50.jpg copied\n",
      "\n",
      "\n",
      "Images: 2\n"
     ]
    },
    {
     "data": {
      "application/vnd.jupyter.widget-view+json": {
       "model_id": "0e806b1a4504464cb0f53c5abc9554fa",
       "version_major": 2,
       "version_minor": 0
      },
      "text/plain": [
       "Batches:   0%|          | 0/1 [00:00<?, ?it/s]"
      ]
     },
     "metadata": {},
     "output_type": "display_data"
    },
    {
     "name": "stdout",
     "output_type": "stream",
     "text": [
      "Finding duplicate images...\n",
      "Finding near duplicate images...\n",
      "\n",
      "Score: 92.416%\n",
      "Images to compare\\frame0.jpg\n",
      "Images to compare\\frame50.jpg\n",
      "\n",
      "\n",
      "0.9241604804992676\n",
      "\n",
      "\n",
      "maybe incident\n",
      "\n",
      "\n",
      "\n",
      "\n",
      "C:\\Anomaly detection IR\\video to images\\frame50.jpg removed\n",
      "\n",
      "\n",
      "C:\\Anomaly detection IR\\video to images\\frame51.jpg copied\n",
      "\n",
      "\n",
      "Images: 2\n"
     ]
    },
    {
     "data": {
      "application/vnd.jupyter.widget-view+json": {
       "model_id": "5df3d6b55da748d7a0802c5fb85714ba",
       "version_major": 2,
       "version_minor": 0
      },
      "text/plain": [
       "Batches:   0%|          | 0/1 [00:00<?, ?it/s]"
      ]
     },
     "metadata": {},
     "output_type": "display_data"
    },
    {
     "name": "stdout",
     "output_type": "stream",
     "text": [
      "Finding duplicate images...\n",
      "Finding near duplicate images...\n",
      "\n",
      "Score: 91.914%\n",
      "Images to compare\\frame0.jpg\n",
      "Images to compare\\frame51.jpg\n",
      "\n",
      "\n",
      "0.9191442728042603\n",
      "\n",
      "\n",
      "report incident\n",
      "\n",
      "\n",
      "\n",
      "\n",
      "C:\\Anomaly detection IR\\video to images\\frame51.jpg removed\n",
      "\n",
      "\n",
      "C:\\Anomaly detection IR\\video to images\\frame52.jpg copied\n",
      "\n",
      "\n",
      "Images: 2\n"
     ]
    },
    {
     "data": {
      "application/vnd.jupyter.widget-view+json": {
       "model_id": "9eb030ebbeb444c1ac9d9587f6c616c5",
       "version_major": 2,
       "version_minor": 0
      },
      "text/plain": [
       "Batches:   0%|          | 0/1 [00:00<?, ?it/s]"
      ]
     },
     "metadata": {},
     "output_type": "display_data"
    },
    {
     "name": "stdout",
     "output_type": "stream",
     "text": [
      "Finding duplicate images...\n",
      "Finding near duplicate images...\n",
      "\n",
      "Score: 92.373%\n",
      "Images to compare\\frame0.jpg\n",
      "Images to compare\\frame52.jpg\n",
      "\n",
      "\n",
      "0.9237338304519653\n",
      "\n",
      "\n",
      "maybe incident\n",
      "\n",
      "\n",
      "\n",
      "\n",
      "C:\\Anomaly detection IR\\video to images\\frame52.jpg removed\n",
      "\n",
      "\n",
      "C:\\Anomaly detection IR\\video to images\\frame53.jpg copied\n",
      "\n",
      "\n",
      "Images: 2\n"
     ]
    },
    {
     "data": {
      "application/vnd.jupyter.widget-view+json": {
       "model_id": "3d07f0e469864fd9925ad3e499bd9628",
       "version_major": 2,
       "version_minor": 0
      },
      "text/plain": [
       "Batches:   0%|          | 0/1 [00:00<?, ?it/s]"
      ]
     },
     "metadata": {},
     "output_type": "display_data"
    },
    {
     "name": "stdout",
     "output_type": "stream",
     "text": [
      "Finding duplicate images...\n",
      "Finding near duplicate images...\n",
      "\n",
      "Score: 91.771%\n",
      "Images to compare\\frame0.jpg\n",
      "Images to compare\\frame53.jpg\n",
      "\n",
      "\n",
      "0.9177124500274658\n",
      "\n",
      "\n",
      "report incident\n",
      "\n",
      "\n",
      "\n",
      "\n",
      "C:\\Anomaly detection IR\\video to images\\frame53.jpg removed\n",
      "\n",
      "\n",
      "C:\\Anomaly detection IR\\video to images\\frame54.jpg copied\n",
      "\n",
      "\n",
      "Images: 2\n"
     ]
    },
    {
     "data": {
      "application/vnd.jupyter.widget-view+json": {
       "model_id": "375294c0b3764e779125a6791ede332d",
       "version_major": 2,
       "version_minor": 0
      },
      "text/plain": [
       "Batches:   0%|          | 0/1 [00:00<?, ?it/s]"
      ]
     },
     "metadata": {},
     "output_type": "display_data"
    },
    {
     "name": "stdout",
     "output_type": "stream",
     "text": [
      "Finding duplicate images...\n",
      "Finding near duplicate images...\n",
      "\n",
      "Score: 91.458%\n",
      "Images to compare\\frame0.jpg\n",
      "Images to compare\\frame54.jpg\n",
      "\n",
      "\n",
      "0.9145800471305847\n",
      "\n",
      "\n",
      "report incident\n",
      "\n",
      "\n",
      "\n",
      "\n",
      "C:\\Anomaly detection IR\\video to images\\frame54.jpg removed\n",
      "\n",
      "\n",
      "C:\\Anomaly detection IR\\video to images\\frame55.jpg copied\n",
      "\n",
      "\n",
      "Images: 2\n"
     ]
    },
    {
     "data": {
      "application/vnd.jupyter.widget-view+json": {
       "model_id": "7a1ab2bfeecd4b4d96b29bd8471c091b",
       "version_major": 2,
       "version_minor": 0
      },
      "text/plain": [
       "Batches:   0%|          | 0/1 [00:00<?, ?it/s]"
      ]
     },
     "metadata": {},
     "output_type": "display_data"
    },
    {
     "name": "stdout",
     "output_type": "stream",
     "text": [
      "Finding duplicate images...\n",
      "Finding near duplicate images...\n",
      "\n",
      "Score: 90.225%\n",
      "Images to compare\\frame0.jpg\n",
      "Images to compare\\frame55.jpg\n",
      "\n",
      "\n",
      "0.9022475481033325\n",
      "\n",
      "\n",
      "report incident\n",
      "\n",
      "\n",
      "\n",
      "\n",
      "C:\\Anomaly detection IR\\video to images\\frame55.jpg removed\n",
      "\n",
      "\n",
      "C:\\Anomaly detection IR\\video to images\\frame56.jpg copied\n",
      "\n",
      "\n",
      "Images: 2\n"
     ]
    },
    {
     "data": {
      "application/vnd.jupyter.widget-view+json": {
       "model_id": "e23e16a83dde467eb4178213afdf2034",
       "version_major": 2,
       "version_minor": 0
      },
      "text/plain": [
       "Batches:   0%|          | 0/1 [00:00<?, ?it/s]"
      ]
     },
     "metadata": {},
     "output_type": "display_data"
    },
    {
     "name": "stdout",
     "output_type": "stream",
     "text": [
      "Finding duplicate images...\n",
      "Finding near duplicate images...\n",
      "\n",
      "Score: 89.733%\n",
      "Images to compare\\frame0.jpg\n",
      "Images to compare\\frame56.jpg\n",
      "\n",
      "\n",
      "0.8973303437232971\n",
      "\n",
      "\n",
      "report incident\n",
      "\n",
      "\n",
      "\n",
      "\n",
      "C:\\Anomaly detection IR\\video to images\\frame56.jpg removed\n",
      "\n",
      "\n",
      "C:\\Anomaly detection IR\\video to images\\frame57.jpg copied\n",
      "\n",
      "\n",
      "Images: 2\n"
     ]
    },
    {
     "data": {
      "application/vnd.jupyter.widget-view+json": {
       "model_id": "37a38c92b894421ca0910055f5e7840f",
       "version_major": 2,
       "version_minor": 0
      },
      "text/plain": [
       "Batches:   0%|          | 0/1 [00:00<?, ?it/s]"
      ]
     },
     "metadata": {},
     "output_type": "display_data"
    },
    {
     "name": "stdout",
     "output_type": "stream",
     "text": [
      "Finding duplicate images...\n",
      "Finding near duplicate images...\n",
      "\n",
      "Score: 91.051%\n",
      "Images to compare\\frame0.jpg\n",
      "Images to compare\\frame57.jpg\n",
      "\n",
      "\n",
      "0.9105141758918762\n",
      "\n",
      "\n",
      "report incident\n",
      "\n",
      "\n",
      "\n",
      "\n",
      "C:\\Anomaly detection IR\\video to images\\frame57.jpg removed\n",
      "\n",
      "\n",
      "C:\\Anomaly detection IR\\video to images\\frame58.jpg copied\n",
      "\n",
      "\n",
      "Images: 2\n"
     ]
    },
    {
     "data": {
      "application/vnd.jupyter.widget-view+json": {
       "model_id": "9b2ce33b992043ccb052edf66e07ee23",
       "version_major": 2,
       "version_minor": 0
      },
      "text/plain": [
       "Batches:   0%|          | 0/1 [00:00<?, ?it/s]"
      ]
     },
     "metadata": {},
     "output_type": "display_data"
    },
    {
     "name": "stdout",
     "output_type": "stream",
     "text": [
      "Finding duplicate images...\n",
      "Finding near duplicate images...\n",
      "\n",
      "Score: 91.126%\n",
      "Images to compare\\frame0.jpg\n",
      "Images to compare\\frame58.jpg\n",
      "\n",
      "\n",
      "0.9112582802772522\n",
      "\n",
      "\n",
      "report incident\n",
      "\n",
      "\n",
      "\n",
      "\n",
      "C:\\Anomaly detection IR\\video to images\\frame58.jpg removed\n",
      "\n",
      "\n",
      "C:\\Anomaly detection IR\\video to images\\frame59.jpg copied\n",
      "\n",
      "\n",
      "Images: 2\n"
     ]
    },
    {
     "data": {
      "application/vnd.jupyter.widget-view+json": {
       "model_id": "5aeb309ec5624eb6bbb8ecc7215e8fb1",
       "version_major": 2,
       "version_minor": 0
      },
      "text/plain": [
       "Batches:   0%|          | 0/1 [00:00<?, ?it/s]"
      ]
     },
     "metadata": {},
     "output_type": "display_data"
    },
    {
     "name": "stdout",
     "output_type": "stream",
     "text": [
      "Finding duplicate images...\n",
      "Finding near duplicate images...\n",
      "\n",
      "Score: 91.953%\n",
      "Images to compare\\frame0.jpg\n",
      "Images to compare\\frame59.jpg\n",
      "\n",
      "\n",
      "0.9195325970649719\n",
      "\n",
      "\n",
      "report incident\n",
      "\n",
      "\n",
      "\n",
      "\n",
      "C:\\Anomaly detection IR\\video to images\\frame59.jpg removed\n",
      "\n",
      "\n",
      "C:\\Anomaly detection IR\\video to images\\frame60.jpg copied\n",
      "\n",
      "\n",
      "Images: 2\n"
     ]
    },
    {
     "data": {
      "application/vnd.jupyter.widget-view+json": {
       "model_id": "66321d043ba3433f88b876ccf2883257",
       "version_major": 2,
       "version_minor": 0
      },
      "text/plain": [
       "Batches:   0%|          | 0/1 [00:00<?, ?it/s]"
      ]
     },
     "metadata": {},
     "output_type": "display_data"
    },
    {
     "name": "stdout",
     "output_type": "stream",
     "text": [
      "Finding duplicate images...\n",
      "Finding near duplicate images...\n",
      "\n",
      "Score: 93.653%\n",
      "Images to compare\\frame0.jpg\n",
      "Images to compare\\frame60.jpg\n",
      "\n",
      "\n",
      "0.9365271329879761\n",
      "\n",
      "\n",
      "maybe incident\n",
      "\n",
      "\n",
      "\n",
      "\n",
      "C:\\Anomaly detection IR\\video to images\\frame60.jpg removed\n",
      "\n",
      "\n",
      "C:\\Anomaly detection IR\\video to images\\frame61.jpg copied\n",
      "\n",
      "\n",
      "Images: 2\n"
     ]
    },
    {
     "data": {
      "application/vnd.jupyter.widget-view+json": {
       "model_id": "11c5b61d3f494a3c8757c285c48921c9",
       "version_major": 2,
       "version_minor": 0
      },
      "text/plain": [
       "Batches:   0%|          | 0/1 [00:00<?, ?it/s]"
      ]
     },
     "metadata": {},
     "output_type": "display_data"
    },
    {
     "name": "stdout",
     "output_type": "stream",
     "text": [
      "Finding duplicate images...\n",
      "Finding near duplicate images...\n",
      "\n",
      "Score: 92.087%\n",
      "Images to compare\\frame0.jpg\n",
      "Images to compare\\frame61.jpg\n",
      "\n",
      "\n",
      "0.9208738207817078\n",
      "\n",
      "\n",
      "maybe incident\n",
      "\n",
      "\n",
      "\n",
      "\n",
      "C:\\Anomaly detection IR\\video to images\\frame61.jpg removed\n",
      "\n",
      "\n",
      "C:\\Anomaly detection IR\\video to images\\frame62.jpg copied\n",
      "\n",
      "\n",
      "Images: 2\n"
     ]
    },
    {
     "data": {
      "application/vnd.jupyter.widget-view+json": {
       "model_id": "f49d76754d3c423897608334fd00c9c8",
       "version_major": 2,
       "version_minor": 0
      },
      "text/plain": [
       "Batches:   0%|          | 0/1 [00:00<?, ?it/s]"
      ]
     },
     "metadata": {},
     "output_type": "display_data"
    },
    {
     "name": "stdout",
     "output_type": "stream",
     "text": [
      "Finding duplicate images...\n",
      "Finding near duplicate images...\n",
      "\n",
      "Score: 92.940%\n",
      "Images to compare\\frame0.jpg\n",
      "Images to compare\\frame62.jpg\n",
      "\n",
      "\n",
      "0.9293988943099976\n",
      "\n",
      "\n",
      "maybe incident\n",
      "\n",
      "\n",
      "\n",
      "\n",
      "C:\\Anomaly detection IR\\video to images\\frame62.jpg removed\n",
      "\n",
      "\n",
      "C:\\Anomaly detection IR\\video to images\\frame63.jpg copied\n",
      "\n",
      "\n",
      "Images: 2\n"
     ]
    },
    {
     "data": {
      "application/vnd.jupyter.widget-view+json": {
       "model_id": "0cd5ec0e3b50449bab7acd0c8d1427bf",
       "version_major": 2,
       "version_minor": 0
      },
      "text/plain": [
       "Batches:   0%|          | 0/1 [00:00<?, ?it/s]"
      ]
     },
     "metadata": {},
     "output_type": "display_data"
    },
    {
     "name": "stdout",
     "output_type": "stream",
     "text": [
      "Finding duplicate images...\n",
      "Finding near duplicate images...\n",
      "\n",
      "Score: 92.598%\n",
      "Images to compare\\frame0.jpg\n",
      "Images to compare\\frame63.jpg\n",
      "\n",
      "\n",
      "0.9259810447692871\n",
      "\n",
      "\n",
      "maybe incident\n",
      "\n",
      "\n",
      "\n",
      "\n",
      "C:\\Anomaly detection IR\\video to images\\frame63.jpg removed\n",
      "\n",
      "\n",
      "C:\\Anomaly detection IR\\video to images\\frame64.jpg copied\n",
      "\n",
      "\n",
      "Images: 2\n"
     ]
    },
    {
     "data": {
      "application/vnd.jupyter.widget-view+json": {
       "model_id": "c796b0349cbe4d1384162df8d795820f",
       "version_major": 2,
       "version_minor": 0
      },
      "text/plain": [
       "Batches:   0%|          | 0/1 [00:00<?, ?it/s]"
      ]
     },
     "metadata": {},
     "output_type": "display_data"
    },
    {
     "name": "stdout",
     "output_type": "stream",
     "text": [
      "Finding duplicate images...\n",
      "Finding near duplicate images...\n",
      "\n",
      "Score: 91.287%\n",
      "Images to compare\\frame64.jpg\n",
      "Images to compare\\frame0.jpg\n",
      "\n",
      "\n",
      "0.9128729701042175\n",
      "\n",
      "\n",
      "report incident\n",
      "\n",
      "\n",
      "\n",
      "\n",
      "C:\\Anomaly detection IR\\video to images\\frame64.jpg removed\n",
      "\n",
      "\n",
      "C:\\Anomaly detection IR\\video to images\\frame65.jpg copied\n",
      "\n",
      "\n",
      "Images: 2\n"
     ]
    },
    {
     "data": {
      "application/vnd.jupyter.widget-view+json": {
       "model_id": "2a924b1841d64dd4ad7d17965be6782a",
       "version_major": 2,
       "version_minor": 0
      },
      "text/plain": [
       "Batches:   0%|          | 0/1 [00:00<?, ?it/s]"
      ]
     },
     "metadata": {},
     "output_type": "display_data"
    },
    {
     "name": "stdout",
     "output_type": "stream",
     "text": [
      "Finding duplicate images...\n",
      "Finding near duplicate images...\n",
      "\n",
      "Score: 91.957%\n",
      "Images to compare\\frame0.jpg\n",
      "Images to compare\\frame65.jpg\n",
      "\n",
      "\n",
      "0.9195703864097595\n",
      "\n",
      "\n",
      "report incident\n",
      "\n",
      "\n",
      "\n",
      "\n",
      "C:\\Anomaly detection IR\\video to images\\frame65.jpg removed\n",
      "\n",
      "\n",
      "C:\\Anomaly detection IR\\video to images\\frame66.jpg copied\n",
      "\n",
      "\n",
      "Images: 2\n"
     ]
    },
    {
     "data": {
      "application/vnd.jupyter.widget-view+json": {
       "model_id": "a50e73697f0142d0b11438b224e509c3",
       "version_major": 2,
       "version_minor": 0
      },
      "text/plain": [
       "Batches:   0%|          | 0/1 [00:00<?, ?it/s]"
      ]
     },
     "metadata": {},
     "output_type": "display_data"
    },
    {
     "name": "stdout",
     "output_type": "stream",
     "text": [
      "Finding duplicate images...\n",
      "Finding near duplicate images...\n",
      "\n",
      "Score: 91.889%\n",
      "Images to compare\\frame66.jpg\n",
      "Images to compare\\frame0.jpg\n",
      "\n",
      "\n",
      "0.918890655040741\n",
      "\n",
      "\n",
      "report incident\n",
      "\n",
      "\n",
      "\n",
      "\n",
      "C:\\Anomaly detection IR\\video to images\\frame66.jpg removed\n",
      "\n",
      "\n",
      "C:\\Anomaly detection IR\\video to images\\frame67.jpg copied\n",
      "\n",
      "\n",
      "Images: 2\n"
     ]
    },
    {
     "data": {
      "application/vnd.jupyter.widget-view+json": {
       "model_id": "a90f47e46a7c4ffe8ab30a282dabfda2",
       "version_major": 2,
       "version_minor": 0
      },
      "text/plain": [
       "Batches:   0%|          | 0/1 [00:00<?, ?it/s]"
      ]
     },
     "metadata": {},
     "output_type": "display_data"
    },
    {
     "name": "stdout",
     "output_type": "stream",
     "text": [
      "Finding duplicate images...\n",
      "Finding near duplicate images...\n",
      "\n",
      "Score: 91.569%\n",
      "Images to compare\\frame0.jpg\n",
      "Images to compare\\frame67.jpg\n",
      "\n",
      "\n",
      "0.9156944751739502\n",
      "\n",
      "\n",
      "report incident\n",
      "\n",
      "\n",
      "\n",
      "\n",
      "C:\\Anomaly detection IR\\video to images\\frame67.jpg removed\n",
      "\n",
      "\n",
      "C:\\Anomaly detection IR\\video to images\\frame68.jpg copied\n",
      "\n",
      "\n",
      "Images: 2\n"
     ]
    },
    {
     "data": {
      "application/vnd.jupyter.widget-view+json": {
       "model_id": "5d93dec84df643209159364de28c7558",
       "version_major": 2,
       "version_minor": 0
      },
      "text/plain": [
       "Batches:   0%|          | 0/1 [00:00<?, ?it/s]"
      ]
     },
     "metadata": {},
     "output_type": "display_data"
    },
    {
     "name": "stdout",
     "output_type": "stream",
     "text": [
      "Finding duplicate images...\n",
      "Finding near duplicate images...\n",
      "\n",
      "Score: 92.211%\n",
      "Images to compare\\frame0.jpg\n",
      "Images to compare\\frame68.jpg\n",
      "\n",
      "\n",
      "0.922107458114624\n",
      "\n",
      "\n",
      "maybe incident\n",
      "\n",
      "\n",
      "\n",
      "\n",
      "C:\\Anomaly detection IR\\video to images\\frame68.jpg removed\n",
      "\n",
      "\n",
      "C:\\Anomaly detection IR\\video to images\\frame69.jpg copied\n",
      "\n",
      "\n",
      "Images: 2\n"
     ]
    },
    {
     "data": {
      "application/vnd.jupyter.widget-view+json": {
       "model_id": "75c63476ada44afeb03eb4b39c3a8805",
       "version_major": 2,
       "version_minor": 0
      },
      "text/plain": [
       "Batches:   0%|          | 0/1 [00:00<?, ?it/s]"
      ]
     },
     "metadata": {},
     "output_type": "display_data"
    },
    {
     "name": "stdout",
     "output_type": "stream",
     "text": [
      "Finding duplicate images...\n",
      "Finding near duplicate images...\n",
      "\n",
      "Score: 92.068%\n",
      "Images to compare\\frame0.jpg\n",
      "Images to compare\\frame69.jpg\n",
      "\n",
      "\n",
      "0.9206843972206116\n",
      "\n",
      "\n",
      "maybe incident\n",
      "\n",
      "\n",
      "\n",
      "\n",
      "C:\\Anomaly detection IR\\video to images\\frame69.jpg removed\n",
      "\n",
      "\n",
      "C:\\Anomaly detection IR\\video to images\\frame70.jpg copied\n",
      "\n",
      "\n",
      "Images: 2\n"
     ]
    },
    {
     "data": {
      "application/vnd.jupyter.widget-view+json": {
       "model_id": "822054e754c64031b0556b802d445303",
       "version_major": 2,
       "version_minor": 0
      },
      "text/plain": [
       "Batches:   0%|          | 0/1 [00:00<?, ?it/s]"
      ]
     },
     "metadata": {},
     "output_type": "display_data"
    },
    {
     "name": "stdout",
     "output_type": "stream",
     "text": [
      "Finding duplicate images...\n",
      "Finding near duplicate images...\n",
      "\n",
      "Score: 92.954%\n",
      "Images to compare\\frame0.jpg\n",
      "Images to compare\\frame70.jpg\n",
      "\n",
      "\n",
      "0.9295374155044556\n",
      "\n",
      "\n",
      "maybe incident\n",
      "\n",
      "\n",
      "\n",
      "\n",
      "C:\\Anomaly detection IR\\video to images\\frame70.jpg removed\n",
      "\n",
      "\n",
      "C:\\Anomaly detection IR\\video to images\\frame71.jpg copied\n",
      "\n",
      "\n",
      "Images: 2\n"
     ]
    },
    {
     "data": {
      "application/vnd.jupyter.widget-view+json": {
       "model_id": "db30f7f0fd284147858bb66402ae5d13",
       "version_major": 2,
       "version_minor": 0
      },
      "text/plain": [
       "Batches:   0%|          | 0/1 [00:00<?, ?it/s]"
      ]
     },
     "metadata": {},
     "output_type": "display_data"
    },
    {
     "name": "stdout",
     "output_type": "stream",
     "text": [
      "Finding duplicate images...\n",
      "Finding near duplicate images...\n",
      "\n",
      "Score: 91.723%\n",
      "Images to compare\\frame0.jpg\n",
      "Images to compare\\frame71.jpg\n",
      "\n",
      "\n",
      "0.9172320365905762\n",
      "\n",
      "\n",
      "report incident\n",
      "\n",
      "\n",
      "\n",
      "\n",
      "C:\\Anomaly detection IR\\video to images\\frame71.jpg removed\n",
      "\n",
      "\n",
      "C:\\Anomaly detection IR\\video to images\\frame72.jpg copied\n",
      "\n",
      "\n",
      "Images: 2\n"
     ]
    },
    {
     "data": {
      "application/vnd.jupyter.widget-view+json": {
       "model_id": "6d3e795cad7c46afa42459dc14620d7c",
       "version_major": 2,
       "version_minor": 0
      },
      "text/plain": [
       "Batches:   0%|          | 0/1 [00:00<?, ?it/s]"
      ]
     },
     "metadata": {},
     "output_type": "display_data"
    },
    {
     "name": "stdout",
     "output_type": "stream",
     "text": [
      "Finding duplicate images...\n",
      "Finding near duplicate images...\n",
      "\n",
      "Score: 93.120%\n",
      "Images to compare\\frame72.jpg\n",
      "Images to compare\\frame0.jpg\n",
      "\n",
      "\n",
      "0.9311959147453308\n",
      "\n",
      "\n",
      "maybe incident\n",
      "\n",
      "\n",
      "\n",
      "\n",
      "C:\\Anomaly detection IR\\video to images\\frame72.jpg removed\n",
      "\n",
      "\n",
      "C:\\Anomaly detection IR\\video to images\\frame73.jpg copied\n",
      "\n",
      "\n",
      "Images: 2\n"
     ]
    },
    {
     "data": {
      "application/vnd.jupyter.widget-view+json": {
       "model_id": "210c2323b38e4f7bb22c3ab9a5807f67",
       "version_major": 2,
       "version_minor": 0
      },
      "text/plain": [
       "Batches:   0%|          | 0/1 [00:00<?, ?it/s]"
      ]
     },
     "metadata": {},
     "output_type": "display_data"
    },
    {
     "name": "stdout",
     "output_type": "stream",
     "text": [
      "Finding duplicate images...\n",
      "Finding near duplicate images...\n",
      "\n",
      "Score: 93.050%\n",
      "Images to compare\\frame0.jpg\n",
      "Images to compare\\frame73.jpg\n",
      "\n",
      "\n",
      "0.9305046796798706\n",
      "\n",
      "\n",
      "maybe incident\n",
      "\n",
      "\n",
      "\n",
      "\n",
      "C:\\Anomaly detection IR\\video to images\\frame73.jpg removed\n",
      "\n",
      "\n",
      "C:\\Anomaly detection IR\\video to images\\frame74.jpg copied\n",
      "\n",
      "\n",
      "Images: 2\n"
     ]
    },
    {
     "data": {
      "application/vnd.jupyter.widget-view+json": {
       "model_id": "c593d31348bd497ba18d8558c2be840e",
       "version_major": 2,
       "version_minor": 0
      },
      "text/plain": [
       "Batches:   0%|          | 0/1 [00:00<?, ?it/s]"
      ]
     },
     "metadata": {},
     "output_type": "display_data"
    },
    {
     "name": "stdout",
     "output_type": "stream",
     "text": [
      "Finding duplicate images...\n",
      "Finding near duplicate images...\n",
      "\n",
      "Score: 91.425%\n",
      "Images to compare\\frame0.jpg\n",
      "Images to compare\\frame74.jpg\n",
      "\n",
      "\n",
      "0.9142482280731201\n",
      "\n",
      "\n",
      "report incident\n",
      "\n",
      "\n",
      "\n",
      "\n",
      "C:\\Anomaly detection IR\\video to images\\frame74.jpg removed\n",
      "\n",
      "\n",
      "C:\\Anomaly detection IR\\video to images\\frame75.jpg copied\n",
      "\n",
      "\n",
      "Images: 2\n"
     ]
    },
    {
     "data": {
      "application/vnd.jupyter.widget-view+json": {
       "model_id": "89c9c2b1a0d24634825485b82b21f5da",
       "version_major": 2,
       "version_minor": 0
      },
      "text/plain": [
       "Batches:   0%|          | 0/1 [00:00<?, ?it/s]"
      ]
     },
     "metadata": {},
     "output_type": "display_data"
    },
    {
     "name": "stdout",
     "output_type": "stream",
     "text": [
      "Finding duplicate images...\n",
      "Finding near duplicate images...\n",
      "\n",
      "Score: 91.707%\n",
      "Images to compare\\frame75.jpg\n",
      "Images to compare\\frame0.jpg\n",
      "\n",
      "\n",
      "0.9170699119567871\n",
      "\n",
      "\n",
      "report incident\n",
      "\n",
      "\n",
      "\n",
      "\n",
      "C:\\Anomaly detection IR\\video to images\\frame75.jpg removed\n",
      "\n",
      "\n",
      "C:\\Anomaly detection IR\\video to images\\frame76.jpg copied\n",
      "\n",
      "\n",
      "Images: 2\n"
     ]
    },
    {
     "data": {
      "application/vnd.jupyter.widget-view+json": {
       "model_id": "5c1e4be9e2f54be0a3d24d2c5ef64075",
       "version_major": 2,
       "version_minor": 0
      },
      "text/plain": [
       "Batches:   0%|          | 0/1 [00:00<?, ?it/s]"
      ]
     },
     "metadata": {},
     "output_type": "display_data"
    },
    {
     "name": "stdout",
     "output_type": "stream",
     "text": [
      "Finding duplicate images...\n",
      "Finding near duplicate images...\n",
      "\n",
      "Score: 91.332%\n",
      "Images to compare\\frame0.jpg\n",
      "Images to compare\\frame76.jpg\n",
      "\n",
      "\n",
      "0.9133156538009644\n",
      "\n",
      "\n",
      "report incident\n",
      "\n",
      "\n",
      "\n",
      "\n",
      "C:\\Anomaly detection IR\\video to images\\frame76.jpg removed\n",
      "\n",
      "\n",
      "C:\\Anomaly detection IR\\video to images\\frame77.jpg copied\n",
      "\n",
      "\n",
      "Images: 2\n"
     ]
    },
    {
     "data": {
      "application/vnd.jupyter.widget-view+json": {
       "model_id": "02d9dbb2633b45799277a71dd89cd669",
       "version_major": 2,
       "version_minor": 0
      },
      "text/plain": [
       "Batches:   0%|          | 0/1 [00:00<?, ?it/s]"
      ]
     },
     "metadata": {},
     "output_type": "display_data"
    },
    {
     "name": "stdout",
     "output_type": "stream",
     "text": [
      "Finding duplicate images...\n",
      "Finding near duplicate images...\n",
      "\n",
      "Score: 90.706%\n",
      "Images to compare\\frame0.jpg\n",
      "Images to compare\\frame77.jpg\n",
      "\n",
      "\n",
      "0.9070574045181274\n",
      "\n",
      "\n",
      "report incident\n",
      "\n",
      "\n",
      "\n",
      "\n",
      "C:\\Anomaly detection IR\\video to images\\frame77.jpg removed\n",
      "\n",
      "\n",
      "C:\\Anomaly detection IR\\video to images\\frame78.jpg copied\n",
      "\n",
      "\n",
      "Images: 2\n"
     ]
    },
    {
     "data": {
      "application/vnd.jupyter.widget-view+json": {
       "model_id": "8738ab89933e4919981ec9ab80f6392c",
       "version_major": 2,
       "version_minor": 0
      },
      "text/plain": [
       "Batches:   0%|          | 0/1 [00:00<?, ?it/s]"
      ]
     },
     "metadata": {},
     "output_type": "display_data"
    },
    {
     "name": "stdout",
     "output_type": "stream",
     "text": [
      "Finding duplicate images...\n",
      "Finding near duplicate images...\n",
      "\n",
      "Score: 90.461%\n",
      "Images to compare\\frame0.jpg\n",
      "Images to compare\\frame78.jpg\n",
      "\n",
      "\n",
      "0.9046063423156738\n",
      "\n",
      "\n",
      "report incident\n",
      "\n",
      "\n",
      "\n",
      "\n",
      "C:\\Anomaly detection IR\\video to images\\frame78.jpg removed\n",
      "\n",
      "\n",
      "C:\\Anomaly detection IR\\video to images\\frame79.jpg copied\n",
      "\n",
      "\n",
      "Images: 2\n"
     ]
    },
    {
     "data": {
      "application/vnd.jupyter.widget-view+json": {
       "model_id": "1d5ea62b831249e4a8349cfd25f50d11",
       "version_major": 2,
       "version_minor": 0
      },
      "text/plain": [
       "Batches:   0%|          | 0/1 [00:00<?, ?it/s]"
      ]
     },
     "metadata": {},
     "output_type": "display_data"
    },
    {
     "name": "stdout",
     "output_type": "stream",
     "text": [
      "Finding duplicate images...\n",
      "Finding near duplicate images...\n",
      "\n",
      "Score: 90.012%\n",
      "Images to compare\\frame0.jpg\n",
      "Images to compare\\frame79.jpg\n",
      "\n",
      "\n",
      "0.900117814540863\n",
      "\n",
      "\n",
      "report incident\n",
      "\n",
      "\n",
      "\n",
      "\n",
      "C:\\Anomaly detection IR\\video to images\\frame79.jpg removed\n",
      "\n",
      "\n",
      "C:\\Anomaly detection IR\\video to images\\frame80.jpg copied\n",
      "\n",
      "\n",
      "Images: 2\n"
     ]
    },
    {
     "data": {
      "application/vnd.jupyter.widget-view+json": {
       "model_id": "58ae57e855ef49e982bee32e8697dfbe",
       "version_major": 2,
       "version_minor": 0
      },
      "text/plain": [
       "Batches:   0%|          | 0/1 [00:00<?, ?it/s]"
      ]
     },
     "metadata": {},
     "output_type": "display_data"
    },
    {
     "name": "stdout",
     "output_type": "stream",
     "text": [
      "Finding duplicate images...\n",
      "Finding near duplicate images...\n",
      "\n",
      "Score: 90.535%\n",
      "Images to compare\\frame0.jpg\n",
      "Images to compare\\frame80.jpg\n",
      "\n",
      "\n",
      "0.9053462743759155\n",
      "\n",
      "\n",
      "report incident\n",
      "\n",
      "\n",
      "\n",
      "\n",
      "C:\\Anomaly detection IR\\video to images\\frame80.jpg removed\n",
      "\n",
      "\n",
      "C:\\Anomaly detection IR\\video to images\\frame81.jpg copied\n",
      "\n",
      "\n",
      "Images: 2\n"
     ]
    },
    {
     "data": {
      "application/vnd.jupyter.widget-view+json": {
       "model_id": "ed60dd5414724dae93a302738ce1ce63",
       "version_major": 2,
       "version_minor": 0
      },
      "text/plain": [
       "Batches:   0%|          | 0/1 [00:00<?, ?it/s]"
      ]
     },
     "metadata": {},
     "output_type": "display_data"
    },
    {
     "name": "stdout",
     "output_type": "stream",
     "text": [
      "Finding duplicate images...\n",
      "Finding near duplicate images...\n",
      "\n",
      "Score: 90.366%\n",
      "Images to compare\\frame0.jpg\n",
      "Images to compare\\frame81.jpg\n",
      "\n",
      "\n",
      "0.9036598205566406\n",
      "\n",
      "\n",
      "report incident\n",
      "\n",
      "\n",
      "\n",
      "\n",
      "C:\\Anomaly detection IR\\video to images\\frame81.jpg removed\n",
      "\n",
      "\n",
      "C:\\Anomaly detection IR\\video to images\\frame82.jpg copied\n",
      "\n",
      "\n",
      "Images: 2\n"
     ]
    },
    {
     "data": {
      "application/vnd.jupyter.widget-view+json": {
       "model_id": "570a9dc64ab1400587be9f5e8a79d522",
       "version_major": 2,
       "version_minor": 0
      },
      "text/plain": [
       "Batches:   0%|          | 0/1 [00:00<?, ?it/s]"
      ]
     },
     "metadata": {},
     "output_type": "display_data"
    },
    {
     "name": "stdout",
     "output_type": "stream",
     "text": [
      "Finding duplicate images...\n",
      "Finding near duplicate images...\n",
      "\n",
      "Score: 90.650%\n",
      "Images to compare\\frame0.jpg\n",
      "Images to compare\\frame82.jpg\n",
      "\n",
      "\n",
      "0.9064980149269104\n",
      "\n",
      "\n",
      "report incident\n",
      "\n",
      "\n",
      "\n",
      "\n",
      "C:\\Anomaly detection IR\\video to images\\frame82.jpg removed\n",
      "\n",
      "\n",
      "C:\\Anomaly detection IR\\video to images\\frame83.jpg copied\n",
      "\n",
      "\n",
      "Images: 2\n"
     ]
    },
    {
     "data": {
      "application/vnd.jupyter.widget-view+json": {
       "model_id": "3bd00583f3c7474f8a0f6145ba7b0ccd",
       "version_major": 2,
       "version_minor": 0
      },
      "text/plain": [
       "Batches:   0%|          | 0/1 [00:00<?, ?it/s]"
      ]
     },
     "metadata": {},
     "output_type": "display_data"
    },
    {
     "name": "stdout",
     "output_type": "stream",
     "text": [
      "Finding duplicate images...\n",
      "Finding near duplicate images...\n",
      "\n",
      "Score: 89.988%\n",
      "Images to compare\\frame0.jpg\n",
      "Images to compare\\frame83.jpg\n",
      "\n",
      "\n",
      "0.8998837471008301\n",
      "\n",
      "\n",
      "report incident\n",
      "\n",
      "\n",
      "\n",
      "\n",
      "C:\\Anomaly detection IR\\video to images\\frame83.jpg removed\n",
      "\n",
      "\n",
      "C:\\Anomaly detection IR\\video to images\\frame84.jpg copied\n",
      "\n",
      "\n",
      "Images: 2\n"
     ]
    },
    {
     "data": {
      "application/vnd.jupyter.widget-view+json": {
       "model_id": "530f9d4fe0294629a58966038f43f4ed",
       "version_major": 2,
       "version_minor": 0
      },
      "text/plain": [
       "Batches:   0%|          | 0/1 [00:00<?, ?it/s]"
      ]
     },
     "metadata": {},
     "output_type": "display_data"
    },
    {
     "name": "stdout",
     "output_type": "stream",
     "text": [
      "Finding duplicate images...\n",
      "Finding near duplicate images...\n",
      "\n",
      "Score: 91.770%\n",
      "Images to compare\\frame0.jpg\n",
      "Images to compare\\frame84.jpg\n",
      "\n",
      "\n",
      "0.9177035689353943\n",
      "\n",
      "\n",
      "report incident\n",
      "\n",
      "\n",
      "\n",
      "\n",
      "C:\\Anomaly detection IR\\video to images\\frame84.jpg removed\n",
      "\n",
      "\n",
      "C:\\Anomaly detection IR\\video to images\\frame85.jpg copied\n",
      "\n",
      "\n",
      "Images: 2\n"
     ]
    },
    {
     "data": {
      "application/vnd.jupyter.widget-view+json": {
       "model_id": "2e82e3172a594d76b251616a1ac0cff7",
       "version_major": 2,
       "version_minor": 0
      },
      "text/plain": [
       "Batches:   0%|          | 0/1 [00:00<?, ?it/s]"
      ]
     },
     "metadata": {},
     "output_type": "display_data"
    },
    {
     "name": "stdout",
     "output_type": "stream",
     "text": [
      "Finding duplicate images...\n",
      "Finding near duplicate images...\n",
      "\n",
      "Score: 91.885%\n",
      "Images to compare\\frame0.jpg\n",
      "Images to compare\\frame85.jpg\n",
      "\n",
      "\n",
      "0.9188535809516907\n",
      "\n",
      "\n",
      "report incident\n",
      "\n",
      "\n",
      "\n",
      "\n",
      "C:\\Anomaly detection IR\\video to images\\frame85.jpg removed\n",
      "\n",
      "\n",
      "C:\\Anomaly detection IR\\video to images\\frame86.jpg copied\n",
      "\n",
      "\n",
      "Images: 2\n"
     ]
    },
    {
     "data": {
      "application/vnd.jupyter.widget-view+json": {
       "model_id": "7d935c895f2f494cbcce7e6a85a2428a",
       "version_major": 2,
       "version_minor": 0
      },
      "text/plain": [
       "Batches:   0%|          | 0/1 [00:00<?, ?it/s]"
      ]
     },
     "metadata": {},
     "output_type": "display_data"
    },
    {
     "name": "stdout",
     "output_type": "stream",
     "text": [
      "Finding duplicate images...\n",
      "Finding near duplicate images...\n",
      "\n",
      "Score: 92.462%\n",
      "Images to compare\\frame86.jpg\n",
      "Images to compare\\frame0.jpg\n",
      "\n",
      "\n",
      "0.924620509147644\n",
      "\n",
      "\n",
      "maybe incident\n",
      "\n",
      "\n",
      "\n",
      "\n",
      "C:\\Anomaly detection IR\\video to images\\frame86.jpg removed\n",
      "\n",
      "\n",
      "C:\\Anomaly detection IR\\video to images\\frame87.jpg copied\n",
      "\n",
      "\n",
      "Images: 2\n"
     ]
    },
    {
     "data": {
      "application/vnd.jupyter.widget-view+json": {
       "model_id": "551e1ef7e40d405fb970d79181c992a0",
       "version_major": 2,
       "version_minor": 0
      },
      "text/plain": [
       "Batches:   0%|          | 0/1 [00:00<?, ?it/s]"
      ]
     },
     "metadata": {},
     "output_type": "display_data"
    },
    {
     "name": "stdout",
     "output_type": "stream",
     "text": [
      "Finding duplicate images...\n",
      "Finding near duplicate images...\n",
      "\n",
      "Score: 88.853%\n",
      "Images to compare\\frame0.jpg\n",
      "Images to compare\\frame87.jpg\n",
      "\n",
      "\n",
      "0.8885318040847778\n",
      "\n",
      "\n",
      "report incident\n",
      "\n",
      "\n",
      "\n",
      "\n",
      "C:\\Anomaly detection IR\\video to images\\frame87.jpg removed\n",
      "\n",
      "\n",
      "C:\\Anomaly detection IR\\video to images\\frame88.jpg copied\n",
      "\n",
      "\n",
      "Images: 2\n"
     ]
    },
    {
     "data": {
      "application/vnd.jupyter.widget-view+json": {
       "model_id": "c43cc530873d42d9a7cbf296c2f73743",
       "version_major": 2,
       "version_minor": 0
      },
      "text/plain": [
       "Batches:   0%|          | 0/1 [00:00<?, ?it/s]"
      ]
     },
     "metadata": {},
     "output_type": "display_data"
    },
    {
     "name": "stdout",
     "output_type": "stream",
     "text": [
      "Finding duplicate images...\n",
      "Finding near duplicate images...\n",
      "\n",
      "Score: 89.093%\n",
      "Images to compare\\frame0.jpg\n",
      "Images to compare\\frame88.jpg\n",
      "\n",
      "\n",
      "0.8909343481063843\n",
      "\n",
      "\n",
      "report incident\n",
      "\n",
      "\n",
      "\n",
      "\n",
      "C:\\Anomaly detection IR\\video to images\\frame88.jpg removed\n",
      "\n",
      "\n",
      "C:\\Anomaly detection IR\\video to images\\frame89.jpg copied\n",
      "\n",
      "\n",
      "Images: 2\n"
     ]
    },
    {
     "data": {
      "application/vnd.jupyter.widget-view+json": {
       "model_id": "19ac3ce07b7a4caaae1e9df9829c5c78",
       "version_major": 2,
       "version_minor": 0
      },
      "text/plain": [
       "Batches:   0%|          | 0/1 [00:00<?, ?it/s]"
      ]
     },
     "metadata": {},
     "output_type": "display_data"
    },
    {
     "name": "stdout",
     "output_type": "stream",
     "text": [
      "Finding duplicate images...\n",
      "Finding near duplicate images...\n",
      "\n",
      "Score: 88.634%\n",
      "Images to compare\\frame0.jpg\n",
      "Images to compare\\frame89.jpg\n",
      "\n",
      "\n",
      "0.8863352537155151\n",
      "\n",
      "\n",
      "report incident\n",
      "\n",
      "\n",
      "\n",
      "\n",
      "C:\\Anomaly detection IR\\video to images\\frame89.jpg removed\n",
      "\n",
      "\n",
      "C:\\Anomaly detection IR\\video to images\\frame90.jpg copied\n",
      "\n",
      "\n",
      "Images: 2\n"
     ]
    },
    {
     "data": {
      "application/vnd.jupyter.widget-view+json": {
       "model_id": "a98f0f1267954895ab087c820e582020",
       "version_major": 2,
       "version_minor": 0
      },
      "text/plain": [
       "Batches:   0%|          | 0/1 [00:00<?, ?it/s]"
      ]
     },
     "metadata": {},
     "output_type": "display_data"
    },
    {
     "name": "stdout",
     "output_type": "stream",
     "text": [
      "Finding duplicate images...\n",
      "Finding near duplicate images...\n",
      "\n",
      "Score: 89.804%\n",
      "Images to compare\\frame90.jpg\n",
      "Images to compare\\frame0.jpg\n",
      "\n",
      "\n",
      "0.8980380892753601\n",
      "\n",
      "\n",
      "report incident\n",
      "\n",
      "\n",
      "\n",
      "\n",
      "C:\\Anomaly detection IR\\video to images\\frame90.jpg removed\n",
      "\n",
      "\n",
      "C:\\Anomaly detection IR\\video to images\\frame91.jpg copied\n",
      "\n",
      "\n",
      "Images: 2\n"
     ]
    },
    {
     "data": {
      "application/vnd.jupyter.widget-view+json": {
       "model_id": "e1cc34043d184c8e9799b9113f2104ec",
       "version_major": 2,
       "version_minor": 0
      },
      "text/plain": [
       "Batches:   0%|          | 0/1 [00:00<?, ?it/s]"
      ]
     },
     "metadata": {},
     "output_type": "display_data"
    },
    {
     "name": "stdout",
     "output_type": "stream",
     "text": [
      "Finding duplicate images...\n",
      "Finding near duplicate images...\n",
      "\n",
      "Score: 88.514%\n",
      "Images to compare\\frame0.jpg\n",
      "Images to compare\\frame91.jpg\n",
      "\n",
      "\n",
      "0.8851367235183716\n",
      "\n",
      "\n",
      "report incident\n",
      "\n",
      "\n",
      "\n",
      "\n",
      "C:\\Anomaly detection IR\\video to images\\frame91.jpg removed\n",
      "\n",
      "\n",
      "C:\\Anomaly detection IR\\video to images\\frame92.jpg copied\n",
      "\n",
      "\n",
      "Images: 2\n"
     ]
    },
    {
     "data": {
      "application/vnd.jupyter.widget-view+json": {
       "model_id": "7deccf8e11e547a2bbedc4b0b4f5ceb8",
       "version_major": 2,
       "version_minor": 0
      },
      "text/plain": [
       "Batches:   0%|          | 0/1 [00:00<?, ?it/s]"
      ]
     },
     "metadata": {},
     "output_type": "display_data"
    },
    {
     "name": "stdout",
     "output_type": "stream",
     "text": [
      "Finding duplicate images...\n",
      "Finding near duplicate images...\n",
      "\n",
      "Score: 88.109%\n",
      "Images to compare\\frame0.jpg\n",
      "Images to compare\\frame92.jpg\n",
      "\n",
      "\n",
      "0.8810908198356628\n",
      "\n",
      "\n",
      "report incident\n",
      "\n",
      "\n",
      "\n",
      "\n",
      "C:\\Anomaly detection IR\\video to images\\frame92.jpg removed\n",
      "\n",
      "\n",
      "C:\\Anomaly detection IR\\video to images\\frame93.jpg copied\n",
      "\n",
      "\n",
      "Images: 2\n"
     ]
    },
    {
     "data": {
      "application/vnd.jupyter.widget-view+json": {
       "model_id": "840a3b908654437ab0d9d7312f753b14",
       "version_major": 2,
       "version_minor": 0
      },
      "text/plain": [
       "Batches:   0%|          | 0/1 [00:00<?, ?it/s]"
      ]
     },
     "metadata": {},
     "output_type": "display_data"
    },
    {
     "name": "stdout",
     "output_type": "stream",
     "text": [
      "Finding duplicate images...\n",
      "Finding near duplicate images...\n",
      "\n",
      "Score: 88.382%\n",
      "Images to compare\\frame0.jpg\n",
      "Images to compare\\frame93.jpg\n",
      "\n",
      "\n",
      "0.8838183283805847\n",
      "\n",
      "\n",
      "report incident\n",
      "\n",
      "\n",
      "\n",
      "\n",
      "C:\\Anomaly detection IR\\video to images\\frame93.jpg removed\n",
      "\n",
      "\n",
      "C:\\Anomaly detection IR\\video to images\\frame94.jpg copied\n",
      "\n",
      "\n",
      "Images: 2\n"
     ]
    },
    {
     "data": {
      "application/vnd.jupyter.widget-view+json": {
       "model_id": "6c83e254ebcd452982f5c9421284eda1",
       "version_major": 2,
       "version_minor": 0
      },
      "text/plain": [
       "Batches:   0%|          | 0/1 [00:00<?, ?it/s]"
      ]
     },
     "metadata": {},
     "output_type": "display_data"
    },
    {
     "name": "stdout",
     "output_type": "stream",
     "text": [
      "Finding duplicate images...\n",
      "Finding near duplicate images...\n",
      "\n",
      "Score: 89.788%\n",
      "Images to compare\\frame0.jpg\n",
      "Images to compare\\frame94.jpg\n",
      "\n",
      "\n",
      "0.8978778123855591\n",
      "\n",
      "\n",
      "report incident\n",
      "\n",
      "\n",
      "\n",
      "\n",
      "C:\\Anomaly detection IR\\video to images\\frame94.jpg removed\n",
      "\n",
      "\n",
      "C:\\Anomaly detection IR\\video to images\\frame95.jpg copied\n",
      "\n",
      "\n",
      "Images: 2\n"
     ]
    },
    {
     "data": {
      "application/vnd.jupyter.widget-view+json": {
       "model_id": "eeceb4fd5ee249788fb2d6446cfbe263",
       "version_major": 2,
       "version_minor": 0
      },
      "text/plain": [
       "Batches:   0%|          | 0/1 [00:00<?, ?it/s]"
      ]
     },
     "metadata": {},
     "output_type": "display_data"
    },
    {
     "name": "stdout",
     "output_type": "stream",
     "text": [
      "Finding duplicate images...\n",
      "Finding near duplicate images...\n",
      "\n",
      "Score: 89.605%\n",
      "Images to compare\\frame95.jpg\n",
      "Images to compare\\frame0.jpg\n",
      "\n",
      "\n",
      "0.8960481882095337\n",
      "\n",
      "\n",
      "report incident\n",
      "\n",
      "\n",
      "\n",
      "\n",
      "C:\\Anomaly detection IR\\video to images\\frame95.jpg removed\n",
      "\n",
      "\n",
      "C:\\Anomaly detection IR\\video to images\\frame96.jpg copied\n",
      "\n",
      "\n",
      "Images: 2\n"
     ]
    },
    {
     "data": {
      "application/vnd.jupyter.widget-view+json": {
       "model_id": "b858bc4a99894210a2ab82bdea9c4242",
       "version_major": 2,
       "version_minor": 0
      },
      "text/plain": [
       "Batches:   0%|          | 0/1 [00:00<?, ?it/s]"
      ]
     },
     "metadata": {},
     "output_type": "display_data"
    },
    {
     "name": "stdout",
     "output_type": "stream",
     "text": [
      "Finding duplicate images...\n",
      "Finding near duplicate images...\n",
      "\n",
      "Score: 90.165%\n",
      "Images to compare\\frame96.jpg\n",
      "Images to compare\\frame0.jpg\n",
      "\n",
      "\n",
      "0.9016523361206055\n",
      "\n",
      "\n",
      "report incident\n",
      "\n",
      "\n",
      "\n",
      "\n",
      "C:\\Anomaly detection IR\\video to images\\frame96.jpg removed\n",
      "\n",
      "\n",
      "C:\\Anomaly detection IR\\video to images\\frame97.jpg copied\n",
      "\n",
      "\n",
      "Images: 2\n"
     ]
    },
    {
     "data": {
      "application/vnd.jupyter.widget-view+json": {
       "model_id": "c4a7f18ab932489d9b6cf31c3ab97204",
       "version_major": 2,
       "version_minor": 0
      },
      "text/plain": [
       "Batches:   0%|          | 0/1 [00:00<?, ?it/s]"
      ]
     },
     "metadata": {},
     "output_type": "display_data"
    },
    {
     "name": "stdout",
     "output_type": "stream",
     "text": [
      "Finding duplicate images...\n",
      "Finding near duplicate images...\n",
      "\n",
      "Score: 90.872%\n",
      "Images to compare\\frame0.jpg\n",
      "Images to compare\\frame97.jpg\n",
      "\n",
      "\n",
      "0.9087240099906921\n",
      "\n",
      "\n",
      "report incident\n",
      "\n",
      "\n",
      "\n",
      "\n",
      "C:\\Anomaly detection IR\\video to images\\frame97.jpg removed\n",
      "\n",
      "\n",
      "C:\\Anomaly detection IR\\video to images\\frame98.jpg copied\n",
      "\n",
      "\n",
      "Images: 2\n"
     ]
    },
    {
     "data": {
      "application/vnd.jupyter.widget-view+json": {
       "model_id": "a607ccb623304e3e8bc09a789e709102",
       "version_major": 2,
       "version_minor": 0
      },
      "text/plain": [
       "Batches:   0%|          | 0/1 [00:00<?, ?it/s]"
      ]
     },
     "metadata": {},
     "output_type": "display_data"
    },
    {
     "name": "stdout",
     "output_type": "stream",
     "text": [
      "Finding duplicate images...\n",
      "Finding near duplicate images...\n",
      "\n",
      "Score: 89.436%\n",
      "Images to compare\\frame0.jpg\n",
      "Images to compare\\frame98.jpg\n",
      "\n",
      "\n",
      "0.8943597674369812\n",
      "\n",
      "\n",
      "report incident\n",
      "\n",
      "\n",
      "\n",
      "\n",
      "C:\\Anomaly detection IR\\video to images\\frame98.jpg removed\n",
      "\n",
      "\n",
      "C:\\Anomaly detection IR\\video to images\\frame99.jpg copied\n",
      "\n",
      "\n",
      "Images: 2\n"
     ]
    },
    {
     "data": {
      "application/vnd.jupyter.widget-view+json": {
       "model_id": "55685f0567be49449ed8840bdb22d576",
       "version_major": 2,
       "version_minor": 0
      },
      "text/plain": [
       "Batches:   0%|          | 0/1 [00:00<?, ?it/s]"
      ]
     },
     "metadata": {},
     "output_type": "display_data"
    },
    {
     "name": "stdout",
     "output_type": "stream",
     "text": [
      "Finding duplicate images...\n",
      "Finding near duplicate images...\n",
      "\n",
      "Score: 90.283%\n",
      "Images to compare\\frame0.jpg\n",
      "Images to compare\\frame99.jpg\n",
      "\n",
      "\n",
      "0.9028337001800537\n",
      "\n",
      "\n",
      "report incident\n",
      "\n",
      "\n",
      "\n",
      "\n",
      "C:\\Anomaly detection IR\\video to images\\frame99.jpg removed\n",
      "\n",
      "\n",
      "C:\\Anomaly detection IR\\video to images\\frame100.jpg copied\n",
      "\n",
      "\n",
      "Images: 2\n"
     ]
    },
    {
     "data": {
      "application/vnd.jupyter.widget-view+json": {
       "model_id": "52ba569c0a1e4e168f4d25dd24954026",
       "version_major": 2,
       "version_minor": 0
      },
      "text/plain": [
       "Batches:   0%|          | 0/1 [00:00<?, ?it/s]"
      ]
     },
     "metadata": {},
     "output_type": "display_data"
    },
    {
     "name": "stdout",
     "output_type": "stream",
     "text": [
      "Finding duplicate images...\n",
      "Finding near duplicate images...\n",
      "\n",
      "Score: 90.841%\n",
      "Images to compare\\frame0.jpg\n",
      "Images to compare\\frame100.jpg\n",
      "\n",
      "\n",
      "0.9084059596061707\n",
      "\n",
      "\n",
      "report incident\n",
      "\n",
      "\n",
      "\n",
      "\n",
      "C:\\Anomaly detection IR\\video to images\\frame100.jpg removed\n",
      "\n",
      "\n",
      "C:\\Anomaly detection IR\\video to images\\frame101.jpg copied\n",
      "\n",
      "\n",
      "Images: 2\n"
     ]
    },
    {
     "data": {
      "application/vnd.jupyter.widget-view+json": {
       "model_id": "668ae498d9b1407dab715434d32a6cf5",
       "version_major": 2,
       "version_minor": 0
      },
      "text/plain": [
       "Batches:   0%|          | 0/1 [00:00<?, ?it/s]"
      ]
     },
     "metadata": {},
     "output_type": "display_data"
    },
    {
     "name": "stdout",
     "output_type": "stream",
     "text": [
      "Finding duplicate images...\n",
      "Finding near duplicate images...\n",
      "\n",
      "Score: 90.742%\n",
      "Images to compare\\frame101.jpg\n",
      "Images to compare\\frame0.jpg\n",
      "\n",
      "\n",
      "0.9074248671531677\n",
      "\n",
      "\n",
      "report incident\n",
      "\n",
      "\n",
      "\n",
      "\n",
      "C:\\Anomaly detection IR\\video to images\\frame101.jpg removed\n",
      "\n",
      "\n",
      "C:\\Anomaly detection IR\\video to images\\frame102.jpg copied\n",
      "\n",
      "\n",
      "Images: 2\n"
     ]
    },
    {
     "data": {
      "application/vnd.jupyter.widget-view+json": {
       "model_id": "046b04e1b5dc4436bf4f2aa88d7c4cf6",
       "version_major": 2,
       "version_minor": 0
      },
      "text/plain": [
       "Batches:   0%|          | 0/1 [00:00<?, ?it/s]"
      ]
     },
     "metadata": {},
     "output_type": "display_data"
    },
    {
     "name": "stdout",
     "output_type": "stream",
     "text": [
      "Finding duplicate images...\n",
      "Finding near duplicate images...\n",
      "\n",
      "Score: 91.026%\n",
      "Images to compare\\frame102.jpg\n",
      "Images to compare\\frame0.jpg\n",
      "\n",
      "\n",
      "0.9102563858032227\n",
      "\n",
      "\n",
      "report incident\n",
      "\n",
      "\n",
      "\n",
      "\n",
      "C:\\Anomaly detection IR\\video to images\\frame102.jpg removed\n",
      "\n",
      "\n",
      "C:\\Anomaly detection IR\\video to images\\frame103.jpg copied\n",
      "\n",
      "\n",
      "Images: 2\n"
     ]
    },
    {
     "data": {
      "application/vnd.jupyter.widget-view+json": {
       "model_id": "32fcf912adb2424cb1477ea8a7233a13",
       "version_major": 2,
       "version_minor": 0
      },
      "text/plain": [
       "Batches:   0%|          | 0/1 [00:00<?, ?it/s]"
      ]
     },
     "metadata": {},
     "output_type": "display_data"
    },
    {
     "name": "stdout",
     "output_type": "stream",
     "text": [
      "Finding duplicate images...\n",
      "Finding near duplicate images...\n",
      "\n",
      "Score: 90.720%\n",
      "Images to compare\\frame103.jpg\n",
      "Images to compare\\frame0.jpg\n",
      "\n",
      "\n",
      "0.9072010517120361\n",
      "\n",
      "\n",
      "report incident\n",
      "\n",
      "\n",
      "\n",
      "\n",
      "C:\\Anomaly detection IR\\video to images\\frame103.jpg removed\n",
      "\n",
      "\n",
      "C:\\Anomaly detection IR\\video to images\\frame104.jpg copied\n",
      "\n",
      "\n",
      "Images: 2\n"
     ]
    },
    {
     "data": {
      "application/vnd.jupyter.widget-view+json": {
       "model_id": "d9aa5e31ef254399bdb2edc663085053",
       "version_major": 2,
       "version_minor": 0
      },
      "text/plain": [
       "Batches:   0%|          | 0/1 [00:00<?, ?it/s]"
      ]
     },
     "metadata": {},
     "output_type": "display_data"
    },
    {
     "name": "stdout",
     "output_type": "stream",
     "text": [
      "Finding duplicate images...\n",
      "Finding near duplicate images...\n",
      "\n",
      "Score: 90.299%\n",
      "Images to compare\\frame0.jpg\n",
      "Images to compare\\frame104.jpg\n",
      "\n",
      "\n",
      "0.9029906988143921\n",
      "\n",
      "\n",
      "report incident\n",
      "\n",
      "\n",
      "\n",
      "\n",
      "C:\\Anomaly detection IR\\video to images\\frame104.jpg removed\n",
      "\n",
      "\n",
      "C:\\Anomaly detection IR\\video to images\\frame105.jpg copied\n",
      "\n",
      "\n",
      "Images: 2\n"
     ]
    },
    {
     "data": {
      "application/vnd.jupyter.widget-view+json": {
       "model_id": "55e6668313734e7f949fce38f226d07c",
       "version_major": 2,
       "version_minor": 0
      },
      "text/plain": [
       "Batches:   0%|          | 0/1 [00:00<?, ?it/s]"
      ]
     },
     "metadata": {},
     "output_type": "display_data"
    },
    {
     "name": "stdout",
     "output_type": "stream",
     "text": [
      "Finding duplicate images...\n",
      "Finding near duplicate images...\n",
      "\n",
      "Score: 89.591%\n",
      "Images to compare\\frame105.jpg\n",
      "Images to compare\\frame0.jpg\n",
      "\n",
      "\n",
      "0.8959100246429443\n",
      "\n",
      "\n",
      "report incident\n",
      "\n",
      "\n",
      "\n",
      "\n",
      "C:\\Anomaly detection IR\\video to images\\frame105.jpg removed\n",
      "\n",
      "\n",
      "C:\\Anomaly detection IR\\video to images\\frame106.jpg copied\n",
      "\n",
      "\n",
      "Images: 2\n"
     ]
    },
    {
     "data": {
      "application/vnd.jupyter.widget-view+json": {
       "model_id": "364f76395ffe4c739667fcbd2fda37af",
       "version_major": 2,
       "version_minor": 0
      },
      "text/plain": [
       "Batches:   0%|          | 0/1 [00:00<?, ?it/s]"
      ]
     },
     "metadata": {},
     "output_type": "display_data"
    },
    {
     "name": "stdout",
     "output_type": "stream",
     "text": [
      "Finding duplicate images...\n",
      "Finding near duplicate images...\n",
      "\n",
      "Score: 89.322%\n",
      "Images to compare\\frame106.jpg\n",
      "Images to compare\\frame0.jpg\n",
      "\n",
      "\n",
      "0.8932151794433594\n",
      "\n",
      "\n",
      "report incident\n",
      "\n",
      "\n",
      "\n",
      "\n",
      "C:\\Anomaly detection IR\\video to images\\frame106.jpg removed\n",
      "\n",
      "\n",
      "C:\\Anomaly detection IR\\video to images\\frame107.jpg copied\n",
      "\n",
      "\n",
      "Images: 2\n"
     ]
    },
    {
     "data": {
      "application/vnd.jupyter.widget-view+json": {
       "model_id": "b42fb8972b8f48f5bedf5684f45f7674",
       "version_major": 2,
       "version_minor": 0
      },
      "text/plain": [
       "Batches:   0%|          | 0/1 [00:00<?, ?it/s]"
      ]
     },
     "metadata": {},
     "output_type": "display_data"
    },
    {
     "name": "stdout",
     "output_type": "stream",
     "text": [
      "Finding duplicate images...\n",
      "Finding near duplicate images...\n",
      "\n",
      "Score: 88.480%\n",
      "Images to compare\\frame0.jpg\n",
      "Images to compare\\frame107.jpg\n",
      "\n",
      "\n",
      "0.884804368019104\n",
      "\n",
      "\n",
      "report incident\n",
      "\n",
      "\n",
      "\n",
      "\n",
      "C:\\Anomaly detection IR\\video to images\\frame107.jpg removed\n",
      "\n",
      "\n",
      "C:\\Anomaly detection IR\\video to images\\frame108.jpg copied\n",
      "\n",
      "\n",
      "Images: 2\n"
     ]
    },
    {
     "data": {
      "application/vnd.jupyter.widget-view+json": {
       "model_id": "37b2d3e673164cd58c481fabff7eeeba",
       "version_major": 2,
       "version_minor": 0
      },
      "text/plain": [
       "Batches:   0%|          | 0/1 [00:00<?, ?it/s]"
      ]
     },
     "metadata": {},
     "output_type": "display_data"
    },
    {
     "name": "stdout",
     "output_type": "stream",
     "text": [
      "Finding duplicate images...\n",
      "Finding near duplicate images...\n",
      "\n",
      "Score: 88.654%\n",
      "Images to compare\\frame108.jpg\n",
      "Images to compare\\frame0.jpg\n",
      "\n",
      "\n",
      "0.8865355253219604\n",
      "\n",
      "\n",
      "report incident\n",
      "\n",
      "\n",
      "\n",
      "\n",
      "C:\\Anomaly detection IR\\video to images\\frame108.jpg removed\n",
      "\n",
      "\n",
      "C:\\Anomaly detection IR\\video to images\\frame109.jpg copied\n",
      "\n",
      "\n",
      "Images: 2\n"
     ]
    },
    {
     "data": {
      "application/vnd.jupyter.widget-view+json": {
       "model_id": "24513eedba194599b9d7d3dfb3987095",
       "version_major": 2,
       "version_minor": 0
      },
      "text/plain": [
       "Batches:   0%|          | 0/1 [00:00<?, ?it/s]"
      ]
     },
     "metadata": {},
     "output_type": "display_data"
    },
    {
     "name": "stdout",
     "output_type": "stream",
     "text": [
      "Finding duplicate images...\n",
      "Finding near duplicate images...\n",
      "\n",
      "Score: 86.679%\n",
      "Images to compare\\frame109.jpg\n",
      "Images to compare\\frame0.jpg\n",
      "\n",
      "\n",
      "0.8667922019958496\n",
      "\n",
      "\n",
      "report incident\n",
      "\n",
      "\n",
      "\n",
      "\n",
      "C:\\Anomaly detection IR\\video to images\\frame109.jpg removed\n",
      "\n",
      "\n",
      "C:\\Anomaly detection IR\\video to images\\frame110.jpg copied\n",
      "\n",
      "\n",
      "Images: 2\n"
     ]
    },
    {
     "data": {
      "application/vnd.jupyter.widget-view+json": {
       "model_id": "920ab1858da14e65820097b764a4732e",
       "version_major": 2,
       "version_minor": 0
      },
      "text/plain": [
       "Batches:   0%|          | 0/1 [00:00<?, ?it/s]"
      ]
     },
     "metadata": {},
     "output_type": "display_data"
    },
    {
     "name": "stdout",
     "output_type": "stream",
     "text": [
      "Finding duplicate images...\n",
      "Finding near duplicate images...\n",
      "\n",
      "Score: 86.823%\n",
      "Images to compare\\frame0.jpg\n",
      "Images to compare\\frame110.jpg\n",
      "\n",
      "\n",
      "0.8682346940040588\n",
      "\n",
      "\n",
      "report incident\n",
      "\n",
      "\n",
      "\n",
      "\n",
      "C:\\Anomaly detection IR\\video to images\\frame110.jpg removed\n",
      "\n",
      "\n",
      "C:\\Anomaly detection IR\\video to images\\frame111.jpg copied\n",
      "\n",
      "\n",
      "Images: 2\n"
     ]
    },
    {
     "data": {
      "application/vnd.jupyter.widget-view+json": {
       "model_id": "eac14afcf90c45b48719059e205fe821",
       "version_major": 2,
       "version_minor": 0
      },
      "text/plain": [
       "Batches:   0%|          | 0/1 [00:00<?, ?it/s]"
      ]
     },
     "metadata": {},
     "output_type": "display_data"
    },
    {
     "name": "stdout",
     "output_type": "stream",
     "text": [
      "Finding duplicate images...\n",
      "Finding near duplicate images...\n",
      "\n",
      "Score: 84.096%\n",
      "Images to compare\\frame0.jpg\n",
      "Images to compare\\frame111.jpg\n",
      "\n",
      "\n",
      "0.8409602642059326\n",
      "\n",
      "\n",
      "report incident\n",
      "\n",
      "\n",
      "\n",
      "\n",
      "C:\\Anomaly detection IR\\video to images\\frame111.jpg removed\n",
      "\n",
      "\n",
      "C:\\Anomaly detection IR\\video to images\\frame112.jpg copied\n",
      "\n",
      "\n",
      "Images: 2\n"
     ]
    },
    {
     "data": {
      "application/vnd.jupyter.widget-view+json": {
       "model_id": "2af5f0e4e0024cc3b68d1c6312f5276d",
       "version_major": 2,
       "version_minor": 0
      },
      "text/plain": [
       "Batches:   0%|          | 0/1 [00:00<?, ?it/s]"
      ]
     },
     "metadata": {},
     "output_type": "display_data"
    },
    {
     "name": "stdout",
     "output_type": "stream",
     "text": [
      "Finding duplicate images...\n",
      "Finding near duplicate images...\n",
      "\n",
      "Score: 81.395%\n",
      "Images to compare\\frame0.jpg\n",
      "Images to compare\\frame112.jpg\n",
      "\n",
      "\n",
      "0.8139511942863464\n",
      "\n",
      "\n",
      "report incident\n",
      "\n",
      "\n",
      "\n",
      "\n",
      "C:\\Anomaly detection IR\\video to images\\frame112.jpg removed\n",
      "\n",
      "\n",
      "C:\\Anomaly detection IR\\video to images\\frame113.jpg copied\n",
      "\n",
      "\n",
      "Images: 2\n"
     ]
    },
    {
     "data": {
      "application/vnd.jupyter.widget-view+json": {
       "model_id": "8d410c917091452ab47e040270611824",
       "version_major": 2,
       "version_minor": 0
      },
      "text/plain": [
       "Batches:   0%|          | 0/1 [00:00<?, ?it/s]"
      ]
     },
     "metadata": {},
     "output_type": "display_data"
    },
    {
     "name": "stdout",
     "output_type": "stream",
     "text": [
      "Finding duplicate images...\n",
      "Finding near duplicate images...\n",
      "\n",
      "Score: 82.761%\n",
      "Images to compare\\frame113.jpg\n",
      "Images to compare\\frame0.jpg\n",
      "\n",
      "\n",
      "0.8276065587997437\n",
      "\n",
      "\n",
      "report incident\n",
      "\n",
      "\n",
      "\n",
      "\n",
      "C:\\Anomaly detection IR\\video to images\\frame113.jpg removed\n",
      "\n",
      "\n",
      "C:\\Anomaly detection IR\\video to images\\frame114.jpg copied\n",
      "\n",
      "\n",
      "Images: 2\n"
     ]
    },
    {
     "data": {
      "application/vnd.jupyter.widget-view+json": {
       "model_id": "3d8fe33419f34b169055493b94574f9e",
       "version_major": 2,
       "version_minor": 0
      },
      "text/plain": [
       "Batches:   0%|          | 0/1 [00:00<?, ?it/s]"
      ]
     },
     "metadata": {},
     "output_type": "display_data"
    },
    {
     "name": "stdout",
     "output_type": "stream",
     "text": [
      "Finding duplicate images...\n",
      "Finding near duplicate images...\n",
      "\n",
      "Score: 79.583%\n",
      "Images to compare\\frame114.jpg\n",
      "Images to compare\\frame0.jpg\n",
      "\n",
      "\n",
      "0.7958334684371948\n",
      "\n",
      "\n",
      "report incident\n",
      "\n",
      "\n",
      "\n",
      "\n",
      "C:\\Anomaly detection IR\\video to images\\frame114.jpg removed\n",
      "\n",
      "\n",
      "C:\\Anomaly detection IR\\video to images\\frame115.jpg copied\n",
      "\n",
      "\n",
      "Images: 2\n"
     ]
    },
    {
     "data": {
      "application/vnd.jupyter.widget-view+json": {
       "model_id": "b6d9b0ebf6dd4682ac70160208101950",
       "version_major": 2,
       "version_minor": 0
      },
      "text/plain": [
       "Batches:   0%|          | 0/1 [00:00<?, ?it/s]"
      ]
     },
     "metadata": {},
     "output_type": "display_data"
    },
    {
     "name": "stdout",
     "output_type": "stream",
     "text": [
      "Finding duplicate images...\n",
      "Finding near duplicate images...\n",
      "\n",
      "Score: 78.148%\n",
      "Images to compare\\frame115.jpg\n",
      "Images to compare\\frame0.jpg\n",
      "\n",
      "\n",
      "0.7814800143241882\n",
      "\n",
      "\n",
      "report incident\n",
      "\n",
      "\n",
      "\n",
      "\n",
      "C:\\Anomaly detection IR\\video to images\\frame115.jpg removed\n",
      "\n",
      "\n",
      "C:\\Anomaly detection IR\\video to images\\frame116.jpg copied\n",
      "\n",
      "\n",
      "Images: 2\n"
     ]
    },
    {
     "data": {
      "application/vnd.jupyter.widget-view+json": {
       "model_id": "69005d9d100948e4873766d048d4b573",
       "version_major": 2,
       "version_minor": 0
      },
      "text/plain": [
       "Batches:   0%|          | 0/1 [00:00<?, ?it/s]"
      ]
     },
     "metadata": {},
     "output_type": "display_data"
    },
    {
     "name": "stdout",
     "output_type": "stream",
     "text": [
      "Finding duplicate images...\n",
      "Finding near duplicate images...\n",
      "\n",
      "Score: 77.018%\n",
      "Images to compare\\frame0.jpg\n",
      "Images to compare\\frame116.jpg\n",
      "\n",
      "\n",
      "0.7701761722564697\n",
      "\n",
      "\n",
      "report incident\n",
      "\n",
      "\n",
      "\n",
      "\n",
      "C:\\Anomaly detection IR\\video to images\\frame116.jpg removed\n",
      "\n",
      "\n",
      "C:\\Anomaly detection IR\\video to images\\frame117.jpg copied\n",
      "\n",
      "\n",
      "Images: 2\n"
     ]
    },
    {
     "data": {
      "application/vnd.jupyter.widget-view+json": {
       "model_id": "2c2db1904fc04558be1e1d89ea3fdb04",
       "version_major": 2,
       "version_minor": 0
      },
      "text/plain": [
       "Batches:   0%|          | 0/1 [00:00<?, ?it/s]"
      ]
     },
     "metadata": {},
     "output_type": "display_data"
    },
    {
     "name": "stdout",
     "output_type": "stream",
     "text": [
      "Finding duplicate images...\n",
      "Finding near duplicate images...\n",
      "\n",
      "Score: 75.534%\n",
      "Images to compare\\frame0.jpg\n",
      "Images to compare\\frame117.jpg\n",
      "\n",
      "\n",
      "0.7553431987762451\n",
      "\n",
      "\n",
      "report incident\n",
      "\n",
      "\n",
      "\n",
      "\n",
      "C:\\Anomaly detection IR\\video to images\\frame117.jpg removed\n",
      "\n",
      "\n",
      "C:\\Anomaly detection IR\\video to images\\frame118.jpg copied\n",
      "\n",
      "\n",
      "Images: 2\n"
     ]
    },
    {
     "data": {
      "application/vnd.jupyter.widget-view+json": {
       "model_id": "b43cfd51cc924e7388df0ea3f3ee1b40",
       "version_major": 2,
       "version_minor": 0
      },
      "text/plain": [
       "Batches:   0%|          | 0/1 [00:00<?, ?it/s]"
      ]
     },
     "metadata": {},
     "output_type": "display_data"
    },
    {
     "name": "stdout",
     "output_type": "stream",
     "text": [
      "Finding duplicate images...\n",
      "Finding near duplicate images...\n",
      "\n",
      "Score: 75.604%\n",
      "Images to compare\\frame118.jpg\n",
      "Images to compare\\frame0.jpg\n",
      "\n",
      "\n",
      "0.7560442686080933\n",
      "\n",
      "\n",
      "report incident\n",
      "\n",
      "\n",
      "\n",
      "\n",
      "C:\\Anomaly detection IR\\video to images\\frame118.jpg removed\n",
      "\n",
      "\n",
      "C:\\Anomaly detection IR\\video to images\\frame119.jpg copied\n",
      "\n",
      "\n",
      "Images: 2\n"
     ]
    },
    {
     "data": {
      "application/vnd.jupyter.widget-view+json": {
       "model_id": "2ccae6cb7046465fa867c98e1c4de7e2",
       "version_major": 2,
       "version_minor": 0
      },
      "text/plain": [
       "Batches:   0%|          | 0/1 [00:00<?, ?it/s]"
      ]
     },
     "metadata": {},
     "output_type": "display_data"
    },
    {
     "name": "stdout",
     "output_type": "stream",
     "text": [
      "Finding duplicate images...\n",
      "Finding near duplicate images...\n",
      "\n",
      "Score: 76.659%\n",
      "Images to compare\\frame0.jpg\n",
      "Images to compare\\frame119.jpg\n",
      "\n",
      "\n",
      "0.7665942907333374\n",
      "\n",
      "\n",
      "report incident\n",
      "\n",
      "\n",
      "\n",
      "\n",
      "C:\\Anomaly detection IR\\video to images\\frame119.jpg removed\n",
      "\n",
      "\n",
      "C:\\Anomaly detection IR\\video to images\\frame120.jpg copied\n",
      "\n",
      "\n",
      "Images: 2\n"
     ]
    },
    {
     "data": {
      "application/vnd.jupyter.widget-view+json": {
       "model_id": "503023bdf0be4acd9927ea85e7bff08a",
       "version_major": 2,
       "version_minor": 0
      },
      "text/plain": [
       "Batches:   0%|          | 0/1 [00:00<?, ?it/s]"
      ]
     },
     "metadata": {},
     "output_type": "display_data"
    },
    {
     "name": "stdout",
     "output_type": "stream",
     "text": [
      "Finding duplicate images...\n",
      "Finding near duplicate images...\n",
      "\n",
      "Score: 75.344%\n",
      "Images to compare\\frame0.jpg\n",
      "Images to compare\\frame120.jpg\n",
      "\n",
      "\n",
      "0.753437876701355\n",
      "\n",
      "\n",
      "report incident\n",
      "\n",
      "\n",
      "\n",
      "\n",
      "C:\\Anomaly detection IR\\video to images\\frame120.jpg removed\n",
      "\n",
      "\n",
      "C:\\Anomaly detection IR\\video to images\\frame121.jpg copied\n",
      "\n",
      "\n",
      "Images: 2\n"
     ]
    },
    {
     "data": {
      "application/vnd.jupyter.widget-view+json": {
       "model_id": "08809e29a6894ff1a347b2047c6060ce",
       "version_major": 2,
       "version_minor": 0
      },
      "text/plain": [
       "Batches:   0%|          | 0/1 [00:00<?, ?it/s]"
      ]
     },
     "metadata": {},
     "output_type": "display_data"
    },
    {
     "name": "stdout",
     "output_type": "stream",
     "text": [
      "Finding duplicate images...\n",
      "Finding near duplicate images...\n",
      "\n",
      "Score: 75.031%\n",
      "Images to compare\\frame0.jpg\n",
      "Images to compare\\frame121.jpg\n",
      "\n",
      "\n",
      "0.7503114938735962\n",
      "\n",
      "\n",
      "report incident\n",
      "\n",
      "\n",
      "\n",
      "\n",
      "C:\\Anomaly detection IR\\video to images\\frame121.jpg removed\n",
      "\n",
      "\n",
      "C:\\Anomaly detection IR\\video to images\\frame122.jpg copied\n",
      "\n",
      "\n",
      "Images: 2\n"
     ]
    },
    {
     "data": {
      "application/vnd.jupyter.widget-view+json": {
       "model_id": "99d94290790b4a54ad89a0fb9ef3a7ee",
       "version_major": 2,
       "version_minor": 0
      },
      "text/plain": [
       "Batches:   0%|          | 0/1 [00:00<?, ?it/s]"
      ]
     },
     "metadata": {},
     "output_type": "display_data"
    },
    {
     "name": "stdout",
     "output_type": "stream",
     "text": [
      "Finding duplicate images...\n",
      "Finding near duplicate images...\n",
      "\n",
      "Score: 74.673%\n",
      "Images to compare\\frame0.jpg\n",
      "Images to compare\\frame122.jpg\n",
      "\n",
      "\n",
      "0.7467279434204102\n",
      "\n",
      "\n",
      "report incident\n",
      "\n",
      "\n",
      "\n",
      "\n",
      "C:\\Anomaly detection IR\\video to images\\frame122.jpg removed\n",
      "\n",
      "\n",
      "C:\\Anomaly detection IR\\video to images\\frame123.jpg copied\n",
      "\n",
      "\n",
      "Images: 2\n"
     ]
    },
    {
     "data": {
      "application/vnd.jupyter.widget-view+json": {
       "model_id": "7c6fb6a0bcc84f8b8ea2bfbd21fcb6d2",
       "version_major": 2,
       "version_minor": 0
      },
      "text/plain": [
       "Batches:   0%|          | 0/1 [00:00<?, ?it/s]"
      ]
     },
     "metadata": {},
     "output_type": "display_data"
    },
    {
     "name": "stdout",
     "output_type": "stream",
     "text": [
      "Finding duplicate images...\n",
      "Finding near duplicate images...\n",
      "\n",
      "Score: 73.401%\n",
      "Images to compare\\frame123.jpg\n",
      "Images to compare\\frame0.jpg\n",
      "\n",
      "\n",
      "0.7340136170387268\n",
      "\n",
      "\n",
      "report incident\n",
      "\n",
      "\n",
      "\n",
      "\n",
      "C:\\Anomaly detection IR\\video to images\\frame123.jpg removed\n",
      "\n",
      "\n",
      "C:\\Anomaly detection IR\\video to images\\frame124.jpg copied\n",
      "\n",
      "\n",
      "Images: 2\n"
     ]
    },
    {
     "data": {
      "application/vnd.jupyter.widget-view+json": {
       "model_id": "37fcdbed59ed49a9bdbbc98877e5dc41",
       "version_major": 2,
       "version_minor": 0
      },
      "text/plain": [
       "Batches:   0%|          | 0/1 [00:00<?, ?it/s]"
      ]
     },
     "metadata": {},
     "output_type": "display_data"
    },
    {
     "name": "stdout",
     "output_type": "stream",
     "text": [
      "Finding duplicate images...\n",
      "Finding near duplicate images...\n",
      "\n",
      "Score: 73.061%\n",
      "Images to compare\\frame0.jpg\n",
      "Images to compare\\frame124.jpg\n",
      "\n",
      "\n",
      "0.7306082844734192\n",
      "\n",
      "\n",
      "report incident\n",
      "\n",
      "\n",
      "\n",
      "\n",
      "C:\\Anomaly detection IR\\video to images\\frame124.jpg removed\n",
      "\n",
      "\n",
      "C:\\Anomaly detection IR\\video to images\\frame125.jpg copied\n",
      "\n",
      "\n",
      "Images: 2\n"
     ]
    },
    {
     "data": {
      "application/vnd.jupyter.widget-view+json": {
       "model_id": "5136a1c6ea514c4384f939f1be406464",
       "version_major": 2,
       "version_minor": 0
      },
      "text/plain": [
       "Batches:   0%|          | 0/1 [00:00<?, ?it/s]"
      ]
     },
     "metadata": {},
     "output_type": "display_data"
    },
    {
     "name": "stdout",
     "output_type": "stream",
     "text": [
      "Finding duplicate images...\n",
      "Finding near duplicate images...\n",
      "\n",
      "Score: 73.554%\n",
      "Images to compare\\frame0.jpg\n",
      "Images to compare\\frame125.jpg\n",
      "\n",
      "\n",
      "0.7355360388755798\n",
      "\n",
      "\n",
      "report incident\n",
      "\n",
      "\n",
      "\n",
      "\n",
      "C:\\Anomaly detection IR\\video to images\\frame125.jpg removed\n",
      "\n",
      "\n",
      "C:\\Anomaly detection IR\\video to images\\frame126.jpg copied\n",
      "\n",
      "\n",
      "Images: 2\n"
     ]
    },
    {
     "data": {
      "application/vnd.jupyter.widget-view+json": {
       "model_id": "8af62f297bb74c9b8fd11deacc554425",
       "version_major": 2,
       "version_minor": 0
      },
      "text/plain": [
       "Batches:   0%|          | 0/1 [00:00<?, ?it/s]"
      ]
     },
     "metadata": {},
     "output_type": "display_data"
    },
    {
     "name": "stdout",
     "output_type": "stream",
     "text": [
      "Finding duplicate images...\n",
      "Finding near duplicate images...\n",
      "\n",
      "Score: 73.584%\n",
      "Images to compare\\frame0.jpg\n",
      "Images to compare\\frame126.jpg\n",
      "\n",
      "\n",
      "0.7358362674713135\n",
      "\n",
      "\n",
      "report incident\n",
      "\n",
      "\n",
      "\n",
      "\n",
      "C:\\Anomaly detection IR\\video to images\\frame126.jpg removed\n",
      "\n",
      "\n",
      "C:\\Anomaly detection IR\\video to images\\frame127.jpg copied\n",
      "\n",
      "\n",
      "Images: 2\n"
     ]
    },
    {
     "data": {
      "application/vnd.jupyter.widget-view+json": {
       "model_id": "12c05c196f9a46b2bfc0c79d57b75347",
       "version_major": 2,
       "version_minor": 0
      },
      "text/plain": [
       "Batches:   0%|          | 0/1 [00:00<?, ?it/s]"
      ]
     },
     "metadata": {},
     "output_type": "display_data"
    },
    {
     "name": "stdout",
     "output_type": "stream",
     "text": [
      "Finding duplicate images...\n",
      "Finding near duplicate images...\n",
      "\n",
      "Score: 74.822%\n",
      "Images to compare\\frame0.jpg\n",
      "Images to compare\\frame127.jpg\n",
      "\n",
      "\n",
      "0.7482173442840576\n",
      "\n",
      "\n",
      "report incident\n",
      "\n",
      "\n",
      "\n",
      "\n",
      "C:\\Anomaly detection IR\\video to images\\frame127.jpg removed\n",
      "\n",
      "\n",
      "C:\\Anomaly detection IR\\video to images\\frame128.jpg copied\n",
      "\n",
      "\n",
      "Images: 2\n"
     ]
    },
    {
     "data": {
      "application/vnd.jupyter.widget-view+json": {
       "model_id": "c864d10678f146f39dae4e11118ffca5",
       "version_major": 2,
       "version_minor": 0
      },
      "text/plain": [
       "Batches:   0%|          | 0/1 [00:00<?, ?it/s]"
      ]
     },
     "metadata": {},
     "output_type": "display_data"
    },
    {
     "name": "stdout",
     "output_type": "stream",
     "text": [
      "Finding duplicate images...\n",
      "Finding near duplicate images...\n",
      "\n",
      "Score: 77.047%\n",
      "Images to compare\\frame128.jpg\n",
      "Images to compare\\frame0.jpg\n",
      "\n",
      "\n",
      "0.7704700827598572\n",
      "\n",
      "\n",
      "report incident\n",
      "\n",
      "\n",
      "\n",
      "\n",
      "C:\\Anomaly detection IR\\video to images\\frame128.jpg removed\n",
      "\n",
      "\n",
      "C:\\Anomaly detection IR\\video to images\\frame129.jpg copied\n",
      "\n",
      "\n",
      "Images: 2\n"
     ]
    },
    {
     "data": {
      "application/vnd.jupyter.widget-view+json": {
       "model_id": "bf058075e4e34b29b2cd95de9f4d71a8",
       "version_major": 2,
       "version_minor": 0
      },
      "text/plain": [
       "Batches:   0%|          | 0/1 [00:00<?, ?it/s]"
      ]
     },
     "metadata": {},
     "output_type": "display_data"
    },
    {
     "name": "stdout",
     "output_type": "stream",
     "text": [
      "Finding duplicate images...\n",
      "Finding near duplicate images...\n",
      "\n",
      "Score: 76.921%\n",
      "Images to compare\\frame129.jpg\n",
      "Images to compare\\frame0.jpg\n",
      "\n",
      "\n",
      "0.7692072987556458\n",
      "\n",
      "\n",
      "report incident\n",
      "\n",
      "\n",
      "\n",
      "\n",
      "C:\\Anomaly detection IR\\video to images\\frame129.jpg removed\n",
      "\n",
      "\n",
      "C:\\Anomaly detection IR\\video to images\\frame130.jpg copied\n",
      "\n",
      "\n",
      "Images: 2\n"
     ]
    },
    {
     "data": {
      "application/vnd.jupyter.widget-view+json": {
       "model_id": "da68c5ce221e4cff92da8c989f8f017b",
       "version_major": 2,
       "version_minor": 0
      },
      "text/plain": [
       "Batches:   0%|          | 0/1 [00:00<?, ?it/s]"
      ]
     },
     "metadata": {},
     "output_type": "display_data"
    },
    {
     "name": "stdout",
     "output_type": "stream",
     "text": [
      "Finding duplicate images...\n",
      "Finding near duplicate images...\n",
      "\n",
      "Score: 76.802%\n",
      "Images to compare\\frame0.jpg\n",
      "Images to compare\\frame130.jpg\n",
      "\n",
      "\n",
      "0.7680230736732483\n",
      "\n",
      "\n",
      "report incident\n",
      "\n",
      "\n",
      "\n",
      "\n",
      "C:\\Anomaly detection IR\\video to images\\frame130.jpg removed\n",
      "\n",
      "\n",
      "C:\\Anomaly detection IR\\video to images\\frame131.jpg copied\n",
      "\n",
      "\n",
      "Images: 2\n"
     ]
    },
    {
     "data": {
      "application/vnd.jupyter.widget-view+json": {
       "model_id": "c84336779bcd497b84e1c3f4f1d6247d",
       "version_major": 2,
       "version_minor": 0
      },
      "text/plain": [
       "Batches:   0%|          | 0/1 [00:00<?, ?it/s]"
      ]
     },
     "metadata": {},
     "output_type": "display_data"
    },
    {
     "name": "stdout",
     "output_type": "stream",
     "text": [
      "Finding duplicate images...\n",
      "Finding near duplicate images...\n",
      "\n",
      "Score: 79.886%\n",
      "Images to compare\\frame0.jpg\n",
      "Images to compare\\frame131.jpg\n",
      "\n",
      "\n",
      "0.7988608479499817\n",
      "\n",
      "\n",
      "report incident\n",
      "\n",
      "\n",
      "\n",
      "\n",
      "C:\\Anomaly detection IR\\video to images\\frame131.jpg removed\n",
      "\n",
      "\n",
      "C:\\Anomaly detection IR\\video to images\\frame132.jpg copied\n",
      "\n",
      "\n",
      "Images: 2\n"
     ]
    },
    {
     "data": {
      "application/vnd.jupyter.widget-view+json": {
       "model_id": "54ce41077d9b40f6a3a11e8f22dcdea0",
       "version_major": 2,
       "version_minor": 0
      },
      "text/plain": [
       "Batches:   0%|          | 0/1 [00:00<?, ?it/s]"
      ]
     },
     "metadata": {},
     "output_type": "display_data"
    },
    {
     "name": "stdout",
     "output_type": "stream",
     "text": [
      "Finding duplicate images...\n",
      "Finding near duplicate images...\n",
      "\n",
      "Score: 79.496%\n",
      "Images to compare\\frame0.jpg\n",
      "Images to compare\\frame132.jpg\n",
      "\n",
      "\n",
      "0.7949629426002502\n",
      "\n",
      "\n",
      "report incident\n",
      "\n",
      "\n",
      "\n",
      "\n",
      "C:\\Anomaly detection IR\\video to images\\frame132.jpg removed\n",
      "\n",
      "\n",
      "C:\\Anomaly detection IR\\video to images\\frame133.jpg copied\n",
      "\n",
      "\n",
      "Images: 2\n"
     ]
    },
    {
     "data": {
      "application/vnd.jupyter.widget-view+json": {
       "model_id": "3fcc1ea9c1c746a78f6a265db72f3d07",
       "version_major": 2,
       "version_minor": 0
      },
      "text/plain": [
       "Batches:   0%|          | 0/1 [00:00<?, ?it/s]"
      ]
     },
     "metadata": {},
     "output_type": "display_data"
    },
    {
     "name": "stdout",
     "output_type": "stream",
     "text": [
      "Finding duplicate images...\n",
      "Finding near duplicate images...\n",
      "\n",
      "Score: 78.572%\n",
      "Images to compare\\frame133.jpg\n",
      "Images to compare\\frame0.jpg\n",
      "\n",
      "\n",
      "0.7857164144515991\n",
      "\n",
      "\n",
      "report incident\n",
      "\n",
      "\n",
      "\n",
      "\n",
      "C:\\Anomaly detection IR\\video to images\\frame133.jpg removed\n",
      "\n",
      "\n",
      "C:\\Anomaly detection IR\\video to images\\frame134.jpg copied\n",
      "\n",
      "\n",
      "Images: 2\n"
     ]
    },
    {
     "data": {
      "application/vnd.jupyter.widget-view+json": {
       "model_id": "57deba333de347ff85e25aede082472c",
       "version_major": 2,
       "version_minor": 0
      },
      "text/plain": [
       "Batches:   0%|          | 0/1 [00:00<?, ?it/s]"
      ]
     },
     "metadata": {},
     "output_type": "display_data"
    },
    {
     "name": "stdout",
     "output_type": "stream",
     "text": [
      "Finding duplicate images...\n",
      "Finding near duplicate images...\n",
      "\n",
      "Score: 78.852%\n",
      "Images to compare\\frame134.jpg\n",
      "Images to compare\\frame0.jpg\n",
      "\n",
      "\n",
      "0.7885208129882812\n",
      "\n",
      "\n",
      "report incident\n",
      "\n",
      "\n",
      "\n",
      "\n",
      "C:\\Anomaly detection IR\\video to images\\frame134.jpg removed\n",
      "\n",
      "\n",
      "C:\\Anomaly detection IR\\video to images\\frame135.jpg copied\n",
      "\n",
      "\n",
      "Images: 2\n"
     ]
    },
    {
     "data": {
      "application/vnd.jupyter.widget-view+json": {
       "model_id": "e0e36210e225424c92cb0a16b2505a48",
       "version_major": 2,
       "version_minor": 0
      },
      "text/plain": [
       "Batches:   0%|          | 0/1 [00:00<?, ?it/s]"
      ]
     },
     "metadata": {},
     "output_type": "display_data"
    },
    {
     "name": "stdout",
     "output_type": "stream",
     "text": [
      "Finding duplicate images...\n",
      "Finding near duplicate images...\n",
      "\n",
      "Score: 81.397%\n",
      "Images to compare\\frame0.jpg\n",
      "Images to compare\\frame135.jpg\n",
      "\n",
      "\n",
      "0.8139671683311462\n",
      "\n",
      "\n",
      "report incident\n",
      "\n",
      "\n",
      "\n",
      "\n",
      "C:\\Anomaly detection IR\\video to images\\frame135.jpg removed\n",
      "\n",
      "\n",
      "C:\\Anomaly detection IR\\video to images\\frame136.jpg copied\n",
      "\n",
      "\n",
      "Images: 2\n"
     ]
    },
    {
     "data": {
      "application/vnd.jupyter.widget-view+json": {
       "model_id": "18bfab26434247638ce33843df295fbd",
       "version_major": 2,
       "version_minor": 0
      },
      "text/plain": [
       "Batches:   0%|          | 0/1 [00:00<?, ?it/s]"
      ]
     },
     "metadata": {},
     "output_type": "display_data"
    },
    {
     "name": "stdout",
     "output_type": "stream",
     "text": [
      "Finding duplicate images...\n",
      "Finding near duplicate images...\n",
      "\n",
      "Score: 82.838%\n",
      "Images to compare\\frame0.jpg\n",
      "Images to compare\\frame136.jpg\n",
      "\n",
      "\n",
      "0.8283809423446655\n",
      "\n",
      "\n",
      "report incident\n",
      "\n",
      "\n",
      "\n",
      "\n",
      "C:\\Anomaly detection IR\\video to images\\frame136.jpg removed\n",
      "\n",
      "\n",
      "C:\\Anomaly detection IR\\video to images\\frame137.jpg copied\n",
      "\n",
      "\n",
      "Images: 2\n"
     ]
    },
    {
     "data": {
      "application/vnd.jupyter.widget-view+json": {
       "model_id": "098264672c2644af9a59311be9b30f70",
       "version_major": 2,
       "version_minor": 0
      },
      "text/plain": [
       "Batches:   0%|          | 0/1 [00:00<?, ?it/s]"
      ]
     },
     "metadata": {},
     "output_type": "display_data"
    },
    {
     "name": "stdout",
     "output_type": "stream",
     "text": [
      "Finding duplicate images...\n",
      "Finding near duplicate images...\n",
      "\n",
      "Score: 85.043%\n",
      "Images to compare\\frame137.jpg\n",
      "Images to compare\\frame0.jpg\n",
      "\n",
      "\n",
      "0.8504314422607422\n",
      "\n",
      "\n",
      "report incident\n",
      "\n",
      "\n",
      "\n",
      "\n",
      "C:\\Anomaly detection IR\\video to images\\frame137.jpg removed\n",
      "\n",
      "\n",
      "C:\\Anomaly detection IR\\video to images\\frame138.jpg copied\n",
      "\n",
      "\n",
      "Images: 2\n"
     ]
    },
    {
     "data": {
      "application/vnd.jupyter.widget-view+json": {
       "model_id": "2a2ada5c46b44c5fa876e5377e4a6076",
       "version_major": 2,
       "version_minor": 0
      },
      "text/plain": [
       "Batches:   0%|          | 0/1 [00:00<?, ?it/s]"
      ]
     },
     "metadata": {},
     "output_type": "display_data"
    },
    {
     "name": "stdout",
     "output_type": "stream",
     "text": [
      "Finding duplicate images...\n",
      "Finding near duplicate images...\n",
      "\n",
      "Score: 87.785%\n",
      "Images to compare\\frame0.jpg\n",
      "Images to compare\\frame138.jpg\n",
      "\n",
      "\n",
      "0.8778512477874756\n",
      "\n",
      "\n",
      "report incident\n",
      "\n",
      "\n",
      "\n",
      "\n",
      "C:\\Anomaly detection IR\\video to images\\frame138.jpg removed\n",
      "\n",
      "\n",
      "C:\\Anomaly detection IR\\video to images\\frame139.jpg copied\n",
      "\n",
      "\n",
      "Images: 2\n"
     ]
    },
    {
     "data": {
      "application/vnd.jupyter.widget-view+json": {
       "model_id": "b7d6855aaa7f4c54b88abf591da98a76",
       "version_major": 2,
       "version_minor": 0
      },
      "text/plain": [
       "Batches:   0%|          | 0/1 [00:00<?, ?it/s]"
      ]
     },
     "metadata": {},
     "output_type": "display_data"
    },
    {
     "name": "stdout",
     "output_type": "stream",
     "text": [
      "Finding duplicate images...\n",
      "Finding near duplicate images...\n",
      "\n",
      "Score: 88.603%\n",
      "Images to compare\\frame0.jpg\n",
      "Images to compare\\frame139.jpg\n",
      "\n",
      "\n",
      "0.8860329389572144\n",
      "\n",
      "\n",
      "report incident\n",
      "\n",
      "\n",
      "\n",
      "\n",
      "C:\\Anomaly detection IR\\video to images\\frame139.jpg removed\n",
      "\n",
      "\n",
      "C:\\Anomaly detection IR\\video to images\\frame140.jpg copied\n",
      "\n",
      "\n",
      "Images: 2\n"
     ]
    },
    {
     "data": {
      "application/vnd.jupyter.widget-view+json": {
       "model_id": "52d10506989947f8ac4354d2c483f4a4",
       "version_major": 2,
       "version_minor": 0
      },
      "text/plain": [
       "Batches:   0%|          | 0/1 [00:00<?, ?it/s]"
      ]
     },
     "metadata": {},
     "output_type": "display_data"
    },
    {
     "name": "stdout",
     "output_type": "stream",
     "text": [
      "Finding duplicate images...\n",
      "Finding near duplicate images...\n",
      "\n",
      "Score: 88.727%\n",
      "Images to compare\\frame0.jpg\n",
      "Images to compare\\frame140.jpg\n",
      "\n",
      "\n",
      "0.8872725367546082\n",
      "\n",
      "\n",
      "report incident\n",
      "\n",
      "\n",
      "\n",
      "\n",
      "C:\\Anomaly detection IR\\video to images\\frame140.jpg removed\n",
      "\n",
      "\n",
      "C:\\Anomaly detection IR\\video to images\\frame141.jpg copied\n",
      "\n",
      "\n",
      "Images: 2\n"
     ]
    },
    {
     "data": {
      "application/vnd.jupyter.widget-view+json": {
       "model_id": "c6efdac1b6804ad2bd8859e2af59dd44",
       "version_major": 2,
       "version_minor": 0
      },
      "text/plain": [
       "Batches:   0%|          | 0/1 [00:00<?, ?it/s]"
      ]
     },
     "metadata": {},
     "output_type": "display_data"
    },
    {
     "name": "stdout",
     "output_type": "stream",
     "text": [
      "Finding duplicate images...\n",
      "Finding near duplicate images...\n",
      "\n",
      "Score: 90.072%\n",
      "Images to compare\\frame141.jpg\n",
      "Images to compare\\frame0.jpg\n",
      "\n",
      "\n",
      "0.9007158279418945\n",
      "\n",
      "\n",
      "report incident\n",
      "\n",
      "\n",
      "\n",
      "\n",
      "C:\\Anomaly detection IR\\video to images\\frame141.jpg removed\n",
      "\n",
      "\n",
      "C:\\Anomaly detection IR\\video to images\\frame142.jpg copied\n",
      "\n",
      "\n",
      "Images: 2\n"
     ]
    },
    {
     "data": {
      "application/vnd.jupyter.widget-view+json": {
       "model_id": "36d7a84fed504dfda855665b7ed60376",
       "version_major": 2,
       "version_minor": 0
      },
      "text/plain": [
       "Batches:   0%|          | 0/1 [00:00<?, ?it/s]"
      ]
     },
     "metadata": {},
     "output_type": "display_data"
    },
    {
     "name": "stdout",
     "output_type": "stream",
     "text": [
      "Finding duplicate images...\n",
      "Finding near duplicate images...\n",
      "\n",
      "Score: 89.435%\n",
      "Images to compare\\frame142.jpg\n",
      "Images to compare\\frame0.jpg\n",
      "\n",
      "\n",
      "0.8943468928337097\n",
      "\n",
      "\n",
      "report incident\n",
      "\n",
      "\n",
      "\n",
      "\n",
      "C:\\Anomaly detection IR\\video to images\\frame142.jpg removed\n",
      "\n",
      "\n",
      "C:\\Anomaly detection IR\\video to images\\frame143.jpg copied\n",
      "\n",
      "\n",
      "Images: 2\n"
     ]
    },
    {
     "data": {
      "application/vnd.jupyter.widget-view+json": {
       "model_id": "e6df181ce413419d9bb9dcdc28fc9c39",
       "version_major": 2,
       "version_minor": 0
      },
      "text/plain": [
       "Batches:   0%|          | 0/1 [00:00<?, ?it/s]"
      ]
     },
     "metadata": {},
     "output_type": "display_data"
    },
    {
     "name": "stdout",
     "output_type": "stream",
     "text": [
      "Finding duplicate images...\n",
      "Finding near duplicate images...\n",
      "\n",
      "Score: 90.029%\n",
      "Images to compare\\frame143.jpg\n",
      "Images to compare\\frame0.jpg\n",
      "\n",
      "\n",
      "0.9002939462661743\n",
      "\n",
      "\n",
      "report incident\n",
      "\n",
      "\n",
      "\n",
      "\n",
      "C:\\Anomaly detection IR\\video to images\\frame143.jpg removed\n",
      "\n",
      "\n",
      "C:\\Anomaly detection IR\\video to images\\frame144.jpg copied\n",
      "\n",
      "\n",
      "Images: 2\n"
     ]
    },
    {
     "data": {
      "application/vnd.jupyter.widget-view+json": {
       "model_id": "3d42835561cf447a97d623297e45c9d4",
       "version_major": 2,
       "version_minor": 0
      },
      "text/plain": [
       "Batches:   0%|          | 0/1 [00:00<?, ?it/s]"
      ]
     },
     "metadata": {},
     "output_type": "display_data"
    },
    {
     "name": "stdout",
     "output_type": "stream",
     "text": [
      "Finding duplicate images...\n",
      "Finding near duplicate images...\n",
      "\n",
      "Score: 90.719%\n",
      "Images to compare\\frame0.jpg\n",
      "Images to compare\\frame144.jpg\n",
      "\n",
      "\n",
      "0.9071948528289795\n",
      "\n",
      "\n",
      "report incident\n",
      "\n",
      "\n",
      "\n",
      "\n",
      "C:\\Anomaly detection IR\\video to images\\frame144.jpg removed\n",
      "\n",
      "\n",
      "C:\\Anomaly detection IR\\video to images\\frame145.jpg copied\n",
      "\n",
      "\n",
      "Images: 2\n"
     ]
    },
    {
     "data": {
      "application/vnd.jupyter.widget-view+json": {
       "model_id": "37826b90fadb4074bbf89e5b6b333d0a",
       "version_major": 2,
       "version_minor": 0
      },
      "text/plain": [
       "Batches:   0%|          | 0/1 [00:00<?, ?it/s]"
      ]
     },
     "metadata": {},
     "output_type": "display_data"
    },
    {
     "name": "stdout",
     "output_type": "stream",
     "text": [
      "Finding duplicate images...\n",
      "Finding near duplicate images...\n",
      "\n",
      "Score: 90.645%\n",
      "Images to compare\\frame145.jpg\n",
      "Images to compare\\frame0.jpg\n",
      "\n",
      "\n",
      "0.9064475893974304\n",
      "\n",
      "\n",
      "report incident\n",
      "\n",
      "\n",
      "\n",
      "\n",
      "C:\\Anomaly detection IR\\video to images\\frame145.jpg removed\n",
      "\n",
      "\n",
      "C:\\Anomaly detection IR\\video to images\\frame146.jpg copied\n",
      "\n",
      "\n",
      "Images: 2\n"
     ]
    },
    {
     "data": {
      "application/vnd.jupyter.widget-view+json": {
       "model_id": "3c78da7e684245febb7973186df92eef",
       "version_major": 2,
       "version_minor": 0
      },
      "text/plain": [
       "Batches:   0%|          | 0/1 [00:00<?, ?it/s]"
      ]
     },
     "metadata": {},
     "output_type": "display_data"
    },
    {
     "name": "stdout",
     "output_type": "stream",
     "text": [
      "Finding duplicate images...\n",
      "Finding near duplicate images...\n",
      "\n",
      "Score: 90.488%\n",
      "Images to compare\\frame146.jpg\n",
      "Images to compare\\frame0.jpg\n",
      "\n",
      "\n",
      "0.9048769474029541\n",
      "\n",
      "\n",
      "report incident\n",
      "\n",
      "\n",
      "\n",
      "\n",
      "C:\\Anomaly detection IR\\video to images\\frame146.jpg removed\n",
      "\n",
      "\n",
      "C:\\Anomaly detection IR\\video to images\\frame147.jpg copied\n",
      "\n",
      "\n",
      "Images: 2\n"
     ]
    },
    {
     "data": {
      "application/vnd.jupyter.widget-view+json": {
       "model_id": "9a1ef185f025485ca303071bc48a451f",
       "version_major": 2,
       "version_minor": 0
      },
      "text/plain": [
       "Batches:   0%|          | 0/1 [00:00<?, ?it/s]"
      ]
     },
     "metadata": {},
     "output_type": "display_data"
    },
    {
     "name": "stdout",
     "output_type": "stream",
     "text": [
      "Finding duplicate images...\n",
      "Finding near duplicate images...\n",
      "\n",
      "Score: 90.044%\n",
      "Images to compare\\frame0.jpg\n",
      "Images to compare\\frame147.jpg\n",
      "\n",
      "\n",
      "0.900436282157898\n",
      "\n",
      "\n",
      "report incident\n",
      "\n",
      "\n",
      "\n",
      "\n",
      "C:\\Anomaly detection IR\\video to images\\frame147.jpg removed\n",
      "\n",
      "\n",
      "C:\\Anomaly detection IR\\video to images\\frame148.jpg copied\n",
      "\n",
      "\n",
      "Images: 2\n"
     ]
    },
    {
     "data": {
      "application/vnd.jupyter.widget-view+json": {
       "model_id": "aa247548912848fbb719adf44a465210",
       "version_major": 2,
       "version_minor": 0
      },
      "text/plain": [
       "Batches:   0%|          | 0/1 [00:00<?, ?it/s]"
      ]
     },
     "metadata": {},
     "output_type": "display_data"
    },
    {
     "name": "stdout",
     "output_type": "stream",
     "text": [
      "Finding duplicate images...\n",
      "Finding near duplicate images...\n",
      "\n",
      "Score: 90.006%\n",
      "Images to compare\\frame148.jpg\n",
      "Images to compare\\frame0.jpg\n",
      "\n",
      "\n",
      "0.9000611305236816\n",
      "\n",
      "\n",
      "report incident\n",
      "\n",
      "\n",
      "\n",
      "\n",
      "C:\\Anomaly detection IR\\video to images\\frame148.jpg removed\n",
      "\n",
      "\n",
      "C:\\Anomaly detection IR\\video to images\\frame149.jpg copied\n",
      "\n",
      "\n",
      "Images: 2\n"
     ]
    },
    {
     "data": {
      "application/vnd.jupyter.widget-view+json": {
       "model_id": "f506f9173d134725bf2d9531ecad082d",
       "version_major": 2,
       "version_minor": 0
      },
      "text/plain": [
       "Batches:   0%|          | 0/1 [00:00<?, ?it/s]"
      ]
     },
     "metadata": {},
     "output_type": "display_data"
    },
    {
     "name": "stdout",
     "output_type": "stream",
     "text": [
      "Finding duplicate images...\n",
      "Finding near duplicate images...\n",
      "\n",
      "Score: 90.016%\n",
      "Images to compare\\frame0.jpg\n",
      "Images to compare\\frame149.jpg\n",
      "\n",
      "\n",
      "0.9001591205596924\n",
      "\n",
      "\n",
      "report incident\n",
      "\n",
      "\n",
      "\n",
      "\n",
      "C:\\Anomaly detection IR\\video to images\\frame149.jpg removed\n",
      "\n",
      "\n",
      "C:\\Anomaly detection IR\\video to images\\frame150.jpg copied\n",
      "\n",
      "\n",
      "Images: 2\n"
     ]
    },
    {
     "data": {
      "application/vnd.jupyter.widget-view+json": {
       "model_id": "8b935f0fc657497990769c5fedc23597",
       "version_major": 2,
       "version_minor": 0
      },
      "text/plain": [
       "Batches:   0%|          | 0/1 [00:00<?, ?it/s]"
      ]
     },
     "metadata": {},
     "output_type": "display_data"
    },
    {
     "name": "stdout",
     "output_type": "stream",
     "text": [
      "Finding duplicate images...\n",
      "Finding near duplicate images...\n",
      "\n",
      "Score: 89.368%\n",
      "Images to compare\\frame0.jpg\n",
      "Images to compare\\frame150.jpg\n",
      "\n",
      "\n",
      "0.8936784863471985\n",
      "\n",
      "\n",
      "report incident\n",
      "\n",
      "\n",
      "\n",
      "\n",
      "C:\\Anomaly detection IR\\video to images\\frame150.jpg removed\n",
      "\n",
      "\n",
      "C:\\Anomaly detection IR\\video to images\\frame151.jpg copied\n",
      "\n",
      "\n",
      "Images: 2\n"
     ]
    },
    {
     "data": {
      "application/vnd.jupyter.widget-view+json": {
       "model_id": "605592ebb0f34017b03c9b404e78e6a0",
       "version_major": 2,
       "version_minor": 0
      },
      "text/plain": [
       "Batches:   0%|          | 0/1 [00:00<?, ?it/s]"
      ]
     },
     "metadata": {},
     "output_type": "display_data"
    },
    {
     "name": "stdout",
     "output_type": "stream",
     "text": [
      "Finding duplicate images...\n",
      "Finding near duplicate images...\n",
      "\n",
      "Score: 92.102%\n",
      "Images to compare\\frame151.jpg\n",
      "Images to compare\\frame0.jpg\n",
      "\n",
      "\n",
      "0.9210212230682373\n",
      "\n",
      "\n",
      "maybe incident\n",
      "\n",
      "\n",
      "\n",
      "\n",
      "C:\\Anomaly detection IR\\video to images\\frame151.jpg removed\n",
      "\n",
      "\n",
      "C:\\Anomaly detection IR\\video to images\\frame152.jpg copied\n",
      "\n",
      "\n",
      "Images: 2\n"
     ]
    },
    {
     "data": {
      "application/vnd.jupyter.widget-view+json": {
       "model_id": "2f885038d5714e1d92490c718e1192ba",
       "version_major": 2,
       "version_minor": 0
      },
      "text/plain": [
       "Batches:   0%|          | 0/1 [00:00<?, ?it/s]"
      ]
     },
     "metadata": {},
     "output_type": "display_data"
    },
    {
     "name": "stdout",
     "output_type": "stream",
     "text": [
      "Finding duplicate images...\n",
      "Finding near duplicate images...\n",
      "\n",
      "Score: 89.441%\n",
      "Images to compare\\frame0.jpg\n",
      "Images to compare\\frame152.jpg\n",
      "\n",
      "\n",
      "0.8944092392921448\n",
      "\n",
      "\n",
      "report incident\n",
      "\n",
      "\n",
      "\n",
      "\n",
      "C:\\Anomaly detection IR\\video to images\\frame152.jpg removed\n",
      "\n",
      "\n",
      "C:\\Anomaly detection IR\\video to images\\frame153.jpg copied\n",
      "\n",
      "\n",
      "Images: 2\n"
     ]
    },
    {
     "data": {
      "application/vnd.jupyter.widget-view+json": {
       "model_id": "5624ad11335543418fd33c0e54930c45",
       "version_major": 2,
       "version_minor": 0
      },
      "text/plain": [
       "Batches:   0%|          | 0/1 [00:00<?, ?it/s]"
      ]
     },
     "metadata": {},
     "output_type": "display_data"
    },
    {
     "name": "stdout",
     "output_type": "stream",
     "text": [
      "Finding duplicate images...\n",
      "Finding near duplicate images...\n",
      "\n",
      "Score: 89.573%\n",
      "Images to compare\\frame0.jpg\n",
      "Images to compare\\frame153.jpg\n",
      "\n",
      "\n",
      "0.8957289457321167\n",
      "\n",
      "\n",
      "report incident\n",
      "\n",
      "\n",
      "\n",
      "\n",
      "C:\\Anomaly detection IR\\video to images\\frame153.jpg removed\n",
      "\n",
      "\n",
      "C:\\Anomaly detection IR\\video to images\\frame154.jpg copied\n",
      "\n",
      "\n",
      "Images: 2\n"
     ]
    },
    {
     "data": {
      "application/vnd.jupyter.widget-view+json": {
       "model_id": "7efa920a571c4ecd85807bfb69bd58c8",
       "version_major": 2,
       "version_minor": 0
      },
      "text/plain": [
       "Batches:   0%|          | 0/1 [00:00<?, ?it/s]"
      ]
     },
     "metadata": {},
     "output_type": "display_data"
    },
    {
     "name": "stdout",
     "output_type": "stream",
     "text": [
      "Finding duplicate images...\n",
      "Finding near duplicate images...\n",
      "\n",
      "Score: 91.408%\n",
      "Images to compare\\frame0.jpg\n",
      "Images to compare\\frame154.jpg\n",
      "\n",
      "\n",
      "0.9140833616256714\n",
      "\n",
      "\n",
      "report incident\n",
      "\n",
      "\n",
      "\n",
      "\n",
      "C:\\Anomaly detection IR\\video to images\\frame154.jpg removed\n",
      "\n",
      "\n",
      "C:\\Anomaly detection IR\\video to images\\frame155.jpg copied\n",
      "\n",
      "\n",
      "Images: 2\n"
     ]
    },
    {
     "data": {
      "application/vnd.jupyter.widget-view+json": {
       "model_id": "7447a96d4a1b40a999a13e04c13b168c",
       "version_major": 2,
       "version_minor": 0
      },
      "text/plain": [
       "Batches:   0%|          | 0/1 [00:00<?, ?it/s]"
      ]
     },
     "metadata": {},
     "output_type": "display_data"
    },
    {
     "name": "stdout",
     "output_type": "stream",
     "text": [
      "Finding duplicate images...\n",
      "Finding near duplicate images...\n",
      "\n",
      "Score: 87.739%\n",
      "Images to compare\\frame0.jpg\n",
      "Images to compare\\frame155.jpg\n",
      "\n",
      "\n",
      "0.8773888349533081\n",
      "\n",
      "\n",
      "report incident\n",
      "\n",
      "\n",
      "\n",
      "\n",
      "C:\\Anomaly detection IR\\video to images\\frame155.jpg removed\n",
      "\n",
      "\n",
      "C:\\Anomaly detection IR\\video to images\\frame156.jpg copied\n",
      "\n",
      "\n",
      "Images: 2\n"
     ]
    },
    {
     "data": {
      "application/vnd.jupyter.widget-view+json": {
       "model_id": "184c2f5e40134547a6785f713fb1a806",
       "version_major": 2,
       "version_minor": 0
      },
      "text/plain": [
       "Batches:   0%|          | 0/1 [00:00<?, ?it/s]"
      ]
     },
     "metadata": {},
     "output_type": "display_data"
    },
    {
     "name": "stdout",
     "output_type": "stream",
     "text": [
      "Finding duplicate images...\n",
      "Finding near duplicate images...\n",
      "\n",
      "Score: 89.713%\n",
      "Images to compare\\frame156.jpg\n",
      "Images to compare\\frame0.jpg\n",
      "\n",
      "\n",
      "0.8971338868141174\n",
      "\n",
      "\n",
      "report incident\n",
      "\n",
      "\n",
      "\n",
      "\n",
      "C:\\Anomaly detection IR\\video to images\\frame156.jpg removed\n",
      "\n",
      "\n",
      "C:\\Anomaly detection IR\\video to images\\frame157.jpg copied\n",
      "\n",
      "\n",
      "Images: 2\n"
     ]
    },
    {
     "data": {
      "application/vnd.jupyter.widget-view+json": {
       "model_id": "9beceb1222454b42b1fbbcef04a78beb",
       "version_major": 2,
       "version_minor": 0
      },
      "text/plain": [
       "Batches:   0%|          | 0/1 [00:00<?, ?it/s]"
      ]
     },
     "metadata": {},
     "output_type": "display_data"
    },
    {
     "name": "stdout",
     "output_type": "stream",
     "text": [
      "Finding duplicate images...\n",
      "Finding near duplicate images...\n",
      "\n",
      "Score: 91.464%\n",
      "Images to compare\\frame0.jpg\n",
      "Images to compare\\frame157.jpg\n",
      "\n",
      "\n",
      "0.9146427512168884\n",
      "\n",
      "\n",
      "report incident\n",
      "\n",
      "\n",
      "\n",
      "\n",
      "C:\\Anomaly detection IR\\video to images\\frame157.jpg removed\n",
      "\n",
      "\n",
      "C:\\Anomaly detection IR\\video to images\\frame158.jpg copied\n",
      "\n",
      "\n",
      "Images: 2\n"
     ]
    },
    {
     "data": {
      "application/vnd.jupyter.widget-view+json": {
       "model_id": "ea2c26101c9f4ecabab0c4033249a92d",
       "version_major": 2,
       "version_minor": 0
      },
      "text/plain": [
       "Batches:   0%|          | 0/1 [00:00<?, ?it/s]"
      ]
     },
     "metadata": {},
     "output_type": "display_data"
    },
    {
     "name": "stdout",
     "output_type": "stream",
     "text": [
      "Finding duplicate images...\n",
      "Finding near duplicate images...\n",
      "\n",
      "Score: 90.838%\n",
      "Images to compare\\frame0.jpg\n",
      "Images to compare\\frame158.jpg\n",
      "\n",
      "\n",
      "0.9083795547485352\n",
      "\n",
      "\n",
      "report incident\n",
      "\n",
      "\n",
      "\n",
      "\n",
      "C:\\Anomaly detection IR\\video to images\\frame158.jpg removed\n",
      "\n",
      "\n",
      "C:\\Anomaly detection IR\\video to images\\frame159.jpg copied\n",
      "\n",
      "\n",
      "Images: 2\n"
     ]
    },
    {
     "data": {
      "application/vnd.jupyter.widget-view+json": {
       "model_id": "839c6702848f496bb4bc422735fe7dcb",
       "version_major": 2,
       "version_minor": 0
      },
      "text/plain": [
       "Batches:   0%|          | 0/1 [00:00<?, ?it/s]"
      ]
     },
     "metadata": {},
     "output_type": "display_data"
    },
    {
     "name": "stdout",
     "output_type": "stream",
     "text": [
      "Finding duplicate images...\n",
      "Finding near duplicate images...\n",
      "\n",
      "Score: 88.542%\n",
      "Images to compare\\frame0.jpg\n",
      "Images to compare\\frame159.jpg\n",
      "\n",
      "\n",
      "0.8854217529296875\n",
      "\n",
      "\n",
      "report incident\n",
      "\n",
      "\n",
      "\n",
      "\n",
      "C:\\Anomaly detection IR\\video to images\\frame159.jpg removed\n",
      "\n",
      "\n",
      "C:\\Anomaly detection IR\\video to images\\frame160.jpg copied\n",
      "\n",
      "\n",
      "Images: 2\n"
     ]
    },
    {
     "data": {
      "application/vnd.jupyter.widget-view+json": {
       "model_id": "bb573ec683e748f5b629619b398bef8d",
       "version_major": 2,
       "version_minor": 0
      },
      "text/plain": [
       "Batches:   0%|          | 0/1 [00:00<?, ?it/s]"
      ]
     },
     "metadata": {},
     "output_type": "display_data"
    },
    {
     "name": "stdout",
     "output_type": "stream",
     "text": [
      "Finding duplicate images...\n",
      "Finding near duplicate images...\n",
      "\n",
      "Score: 89.572%\n",
      "Images to compare\\frame160.jpg\n",
      "Images to compare\\frame0.jpg\n",
      "\n",
      "\n",
      "0.8957222104072571\n",
      "\n",
      "\n",
      "report incident\n",
      "\n",
      "\n",
      "\n",
      "\n",
      "C:\\Anomaly detection IR\\video to images\\frame160.jpg removed\n",
      "\n",
      "\n",
      "C:\\Anomaly detection IR\\video to images\\frame161.jpg copied\n",
      "\n",
      "\n",
      "Images: 2\n"
     ]
    },
    {
     "data": {
      "application/vnd.jupyter.widget-view+json": {
       "model_id": "d862551b48324b838c0ace3c2da42348",
       "version_major": 2,
       "version_minor": 0
      },
      "text/plain": [
       "Batches:   0%|          | 0/1 [00:00<?, ?it/s]"
      ]
     },
     "metadata": {},
     "output_type": "display_data"
    },
    {
     "name": "stdout",
     "output_type": "stream",
     "text": [
      "Finding duplicate images...\n",
      "Finding near duplicate images...\n",
      "\n",
      "Score: 89.409%\n",
      "Images to compare\\frame0.jpg\n",
      "Images to compare\\frame161.jpg\n",
      "\n",
      "\n",
      "0.894094705581665\n",
      "\n",
      "\n",
      "report incident\n",
      "\n",
      "\n",
      "\n",
      "\n",
      "C:\\Anomaly detection IR\\video to images\\frame161.jpg removed\n",
      "\n",
      "\n",
      "C:\\Anomaly detection IR\\video to images\\frame162.jpg copied\n",
      "\n",
      "\n",
      "Images: 2\n"
     ]
    },
    {
     "data": {
      "application/vnd.jupyter.widget-view+json": {
       "model_id": "d033e05c3d8c4cfeaaa7e7331734a426",
       "version_major": 2,
       "version_minor": 0
      },
      "text/plain": [
       "Batches:   0%|          | 0/1 [00:00<?, ?it/s]"
      ]
     },
     "metadata": {},
     "output_type": "display_data"
    },
    {
     "name": "stdout",
     "output_type": "stream",
     "text": [
      "Finding duplicate images...\n",
      "Finding near duplicate images...\n",
      "\n",
      "Score: 91.527%\n",
      "Images to compare\\frame0.jpg\n",
      "Images to compare\\frame162.jpg\n",
      "\n",
      "\n",
      "0.9152712821960449\n",
      "\n",
      "\n",
      "report incident\n",
      "\n",
      "\n",
      "\n",
      "\n",
      "C:\\Anomaly detection IR\\video to images\\frame162.jpg removed\n",
      "\n",
      "\n",
      "C:\\Anomaly detection IR\\video to images\\frame163.jpg copied\n",
      "\n",
      "\n",
      "Images: 2\n"
     ]
    },
    {
     "data": {
      "application/vnd.jupyter.widget-view+json": {
       "model_id": "97d3d5749a484d3480fd6dda261d23b8",
       "version_major": 2,
       "version_minor": 0
      },
      "text/plain": [
       "Batches:   0%|          | 0/1 [00:00<?, ?it/s]"
      ]
     },
     "metadata": {},
     "output_type": "display_data"
    },
    {
     "name": "stdout",
     "output_type": "stream",
     "text": [
      "Finding duplicate images...\n",
      "Finding near duplicate images...\n",
      "\n",
      "Score: 90.209%\n",
      "Images to compare\\frame163.jpg\n",
      "Images to compare\\frame0.jpg\n",
      "\n",
      "\n",
      "0.9020923376083374\n",
      "\n",
      "\n",
      "report incident\n",
      "\n",
      "\n",
      "\n",
      "\n",
      "C:\\Anomaly detection IR\\video to images\\frame163.jpg removed\n",
      "\n",
      "\n",
      "C:\\Anomaly detection IR\\video to images\\frame164.jpg copied\n",
      "\n",
      "\n",
      "Images: 2\n"
     ]
    },
    {
     "data": {
      "application/vnd.jupyter.widget-view+json": {
       "model_id": "40c4f69e4e6a4c6389696de683b48d21",
       "version_major": 2,
       "version_minor": 0
      },
      "text/plain": [
       "Batches:   0%|          | 0/1 [00:00<?, ?it/s]"
      ]
     },
     "metadata": {},
     "output_type": "display_data"
    },
    {
     "name": "stdout",
     "output_type": "stream",
     "text": [
      "Finding duplicate images...\n",
      "Finding near duplicate images...\n",
      "\n",
      "Score: 90.698%\n",
      "Images to compare\\frame0.jpg\n",
      "Images to compare\\frame164.jpg\n",
      "\n",
      "\n",
      "0.906975269317627\n",
      "\n",
      "\n",
      "report incident\n",
      "\n",
      "\n",
      "\n",
      "\n",
      "C:\\Anomaly detection IR\\video to images\\frame164.jpg removed\n",
      "\n",
      "\n",
      "C:\\Anomaly detection IR\\video to images\\frame165.jpg copied\n",
      "\n",
      "\n",
      "Images: 2\n"
     ]
    },
    {
     "data": {
      "application/vnd.jupyter.widget-view+json": {
       "model_id": "7ff87aecd94e4bc7b83727c6f2ef5dca",
       "version_major": 2,
       "version_minor": 0
      },
      "text/plain": [
       "Batches:   0%|          | 0/1 [00:00<?, ?it/s]"
      ]
     },
     "metadata": {},
     "output_type": "display_data"
    },
    {
     "name": "stdout",
     "output_type": "stream",
     "text": [
      "Finding duplicate images...\n",
      "Finding near duplicate images...\n",
      "\n",
      "Score: 90.385%\n",
      "Images to compare\\frame165.jpg\n",
      "Images to compare\\frame0.jpg\n",
      "\n",
      "\n",
      "0.9038456678390503\n",
      "\n",
      "\n",
      "report incident\n",
      "\n",
      "\n",
      "\n",
      "\n",
      "C:\\Anomaly detection IR\\video to images\\frame165.jpg removed\n",
      "\n",
      "\n",
      "C:\\Anomaly detection IR\\video to images\\frame166.jpg copied\n",
      "\n",
      "\n",
      "Images: 2\n"
     ]
    },
    {
     "data": {
      "application/vnd.jupyter.widget-view+json": {
       "model_id": "a20a18fea6514dbe9a9c4ba55b43e3cb",
       "version_major": 2,
       "version_minor": 0
      },
      "text/plain": [
       "Batches:   0%|          | 0/1 [00:00<?, ?it/s]"
      ]
     },
     "metadata": {},
     "output_type": "display_data"
    },
    {
     "name": "stdout",
     "output_type": "stream",
     "text": [
      "Finding duplicate images...\n",
      "Finding near duplicate images...\n",
      "\n",
      "Score: 90.929%\n",
      "Images to compare\\frame0.jpg\n",
      "Images to compare\\frame166.jpg\n",
      "\n",
      "\n",
      "0.9092890024185181\n",
      "\n",
      "\n",
      "report incident\n",
      "\n",
      "\n",
      "\n",
      "\n",
      "C:\\Anomaly detection IR\\video to images\\frame166.jpg removed\n",
      "\n",
      "\n"
     ]
    }
   ],
   "source": [
    "while i < 167 :\n",
    "    shutil.copy(image_name, 'C:\\\\Anomaly detection IR\\\\Images to compare')\n",
    "    print(image_name, 'copied')\n",
    "    print('\\n')\n",
    "    \n",
    "    \n",
    "    # This is where the magic happens\n",
    "    \n",
    "    \n",
    "    \n",
    "    \n",
    "    \n",
    "        # Next we compute the embeddings\n",
    "    # To encode an image, you can use the following code:\n",
    "    # from PIL import Image\n",
    "    # encoded_image = model.encode(Image.open(filepath))\n",
    "    image_names = list(glob.glob('Images to compare\\\\*.jpg'))\n",
    "    print(\"Images:\", len(image_names))\n",
    "    encoded_image = model.encode([Image.open(filepath) for filepath in image_names], batch_size=128, convert_to_tensor=True, show_progress_bar=True)\n",
    "\n",
    "    # Now we run the clustering algorithm. This function compares images against\n",
    "    # all other images and returns a list with the pairs that have the highest \n",
    "    # cosine similarity score\n",
    "    processed_images = util.paraphrase_mining_embeddings(encoded_image)\n",
    "    NUM_SIMILAR_IMAGES = 10 \n",
    "\n",
    "    # =================\n",
    "    # DUPLICATES\n",
    "    # =================\n",
    "    print('Finding duplicate images...')\n",
    "    # Filter list for duplicates. Results are triplets (score, image_id1, image_id2) and is scorted in decreasing order\n",
    "    # A duplicate image will have a score of 1.00\n",
    "    # It may be 0.9999 due to lossy image compression (.jpg)\n",
    "    duplicates = [image for image in processed_images if image[0] >= 0.999]\n",
    "\n",
    "\n",
    "    # Output the top X duplicate images\n",
    "    for score, image_id1, image_id2 in duplicates[0:NUM_SIMILAR_IMAGES]:\n",
    "        print(\"\\nScore: {:.3f}%\".format(score * 100))\n",
    "        print(image_names[image_id1])\n",
    "        print(image_names[image_id2])\n",
    "\n",
    "\n",
    "    # =================\n",
    "    # NEAR DUPLICATES\n",
    "    # =================\n",
    "    print('Finding near duplicate images...')\n",
    "    # Use a threshold parameter to identify two images as similar. By setting the threshold lower, \n",
    "    # you will get larger clusters which have less similar images in it. Threshold 0 - 1.00\n",
    "    # A threshold of 1.00 means the two images are exactly the same. Since we are finding near \n",
    "    # duplicate images, we can set it at 0.99 or any number 0 < X < 1.00.\n",
    "    threshold = 0.99\n",
    "    near_duplicates = [image for image in processed_images if image[0] < threshold]\n",
    "\n",
    "\n",
    "    for score, image_id1, image_id2 in near_duplicates[0:NUM_SIMILAR_IMAGES]:\n",
    "        print(\"\\nScore: {:.3f}%\".format(score * 100))\n",
    "        print(image_names[image_id1])\n",
    "        print(image_names[image_id2])\n",
    "\n",
    "    print('\\n')\n",
    "    print(score)    \n",
    "    print('\\n')\n",
    "    if score > 0.95:\n",
    "        print('No incident')\n",
    "    elif (score <= 0.95) & (score >= 0.92):\n",
    "        print('maybe incident')\n",
    "    else:\n",
    "        print('report incident')\n",
    "\n",
    "\n",
    "    print('\\n')\n",
    "    print('\\n')\n",
    "    \n",
    "    \n",
    "    \n",
    "    \n",
    "    os.remove(image_name_rem)\n",
    "    print(image_name, 'removed')\n",
    "    print('\\n')\n",
    "    \n",
    "    i = i+1\n",
    "    image_name = 'C:\\\\Anomaly detection IR\\\\video to images\\\\frame{}.jpg'.format(i)\n",
    "    image_name_rem = 'C:\\\\Anomaly detection IR\\\\Images to compare\\\\frame{}.jpg'.format(i)\n",
    "    "
   ]
  },
  {
   "cell_type": "code",
   "execution_count": null,
   "id": "6a0e4b4e",
   "metadata": {},
   "outputs": [],
   "source": []
  }
 ],
 "metadata": {
  "kernelspec": {
   "display_name": "Python 3",
   "language": "python",
   "name": "python3"
  },
  "language_info": {
   "codemirror_mode": {
    "name": "ipython",
    "version": 3
   },
   "file_extension": ".py",
   "mimetype": "text/x-python",
   "name": "python",
   "nbconvert_exporter": "python",
   "pygments_lexer": "ipython3",
   "version": "3.8.8"
  }
 },
 "nbformat": 4,
 "nbformat_minor": 5
}
