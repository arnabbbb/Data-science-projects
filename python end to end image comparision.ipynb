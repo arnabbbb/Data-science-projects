{
 "cells": [
  {
   "cell_type": "markdown",
   "id": "8eb87150",
   "metadata": {},
   "source": [
    "### The 3 steps :\n",
    "\n",
    "1) Read the video and convert it into a series of images and save it.\n",
    "\n",
    "2) Compare the series of images to a base image (going image by image) and assign a simillarity score\n",
    "\n",
    "3) Raise an incident if a certain threshold of similarity score is crossed"
   ]
  },
  {
   "cell_type": "markdown",
   "id": "83ba9bde",
   "metadata": {},
   "source": [
    "### Step 1"
   ]
  },
  {
   "cell_type": "code",
   "execution_count": 3,
   "id": "94962b9e",
   "metadata": {},
   "outputs": [],
   "source": [
    "# importing the packages for video to image comparision\n",
    "\n",
    "import cv2\n",
    "import os\n",
    "import shutil"
   ]
  },
  {
   "cell_type": "code",
   "execution_count": 4,
   "id": "ec6344a7",
   "metadata": {},
   "outputs": [
    {
     "data": {
      "text/plain": [
       "'C:\\\\Anomaly detection IR'"
      ]
     },
     "execution_count": 4,
     "metadata": {},
     "output_type": "execute_result"
    }
   ],
   "source": [
    "# changing the working directory\n",
    "\n",
    "os.chdir('C:\\Anomaly detection IR')\n",
    "os.getcwd()"
   ]
  },
  {
   "cell_type": "code",
   "execution_count": 5,
   "id": "cf2954aa",
   "metadata": {},
   "outputs": [],
   "source": [
    "# creating video object\n",
    "\n",
    "vid = cv2.VideoCapture('C:\\\\Anomaly detection IR\\\\video\\\\IR video.mp4')\n",
    "current_frame = 0"
   ]
  },
  {
   "cell_type": "code",
   "execution_count": 6,
   "id": "49a16063",
   "metadata": {},
   "outputs": [],
   "source": [
    "# creating a path where the video will be converted to images and stored\n",
    "\n",
    "if not os.path.exists('video to images'):\n",
    "    os.makedirs('video to images')"
   ]
  },
  {
   "cell_type": "code",
   "execution_count": 7,
   "id": "4498254e",
   "metadata": {},
   "outputs": [
    {
     "ename": "error",
     "evalue": "OpenCV(4.7.0) D:\\a\\opencv-python\\opencv-python\\opencv\\modules\\highgui\\src\\window.cpp:971: error: (-215:Assertion failed) size.width>0 && size.height>0 in function 'cv::imshow'\n",
     "output_type": "error",
     "traceback": [
      "\u001b[1;31m---------------------------------------------------------------------------\u001b[0m",
      "\u001b[1;31merror\u001b[0m                                     Traceback (most recent call last)",
      "\u001b[1;32m<ipython-input-7-cd4b6eeaaf28>\u001b[0m in \u001b[0;36m<module>\u001b[1;34m\u001b[0m\n\u001b[0;32m      4\u001b[0m     \u001b[0msuccess\u001b[0m\u001b[1;33m,\u001b[0m \u001b[0mframe\u001b[0m \u001b[1;33m=\u001b[0m \u001b[0mvid\u001b[0m\u001b[1;33m.\u001b[0m\u001b[0mread\u001b[0m\u001b[1;33m(\u001b[0m\u001b[1;33m)\u001b[0m\u001b[1;33m\u001b[0m\u001b[1;33m\u001b[0m\u001b[0m\n\u001b[0;32m      5\u001b[0m \u001b[1;33m\u001b[0m\u001b[0m\n\u001b[1;32m----> 6\u001b[1;33m     \u001b[0mcv2\u001b[0m\u001b[1;33m.\u001b[0m\u001b[0mimshow\u001b[0m\u001b[1;33m(\u001b[0m\u001b[1;34m'Output'\u001b[0m\u001b[1;33m,\u001b[0m\u001b[0mframe\u001b[0m\u001b[1;33m)\u001b[0m\u001b[1;33m\u001b[0m\u001b[1;33m\u001b[0m\u001b[0m\n\u001b[0m\u001b[0;32m      7\u001b[0m     \u001b[0mcv2\u001b[0m\u001b[1;33m.\u001b[0m\u001b[0mimwrite\u001b[0m\u001b[1;33m(\u001b[0m\u001b[1;34m'.\\\\video to images\\\\frame'\u001b[0m \u001b[1;33m+\u001b[0m \u001b[0mstr\u001b[0m\u001b[1;33m(\u001b[0m\u001b[0mcurrent_frame\u001b[0m\u001b[1;33m)\u001b[0m\u001b[1;33m+\u001b[0m \u001b[1;34m'.jpg'\u001b[0m\u001b[1;33m,\u001b[0m \u001b[0mframe\u001b[0m\u001b[1;33m)\u001b[0m\u001b[1;33m\u001b[0m\u001b[1;33m\u001b[0m\u001b[0m\n\u001b[0;32m      8\u001b[0m     \u001b[0mcurrent_frame\u001b[0m\u001b[1;33m=\u001b[0m\u001b[0mcurrent_frame\u001b[0m \u001b[1;33m+\u001b[0m \u001b[1;36m1\u001b[0m\u001b[1;33m\u001b[0m\u001b[1;33m\u001b[0m\u001b[0m\n",
      "\u001b[1;31merror\u001b[0m: OpenCV(4.7.0) D:\\a\\opencv-python\\opencv-python\\opencv\\modules\\highgui\\src\\window.cpp:971: error: (-215:Assertion failed) size.width>0 && size.height>0 in function 'cv::imshow'\n"
     ]
    }
   ],
   "source": [
    "# converting the video to images and storing in the folder (it gives an error, but does the job)\n",
    "\n",
    "while(True):\n",
    "    success, frame = vid.read()\n",
    "    \n",
    "    cv2.imshow('Output',frame)\n",
    "    cv2.imwrite('.\\\\video to images\\\\frame' + str(current_frame)+ '.jpg', frame)\n",
    "    current_frame=current_frame + 1\n",
    "    \n",
    "    if cv2.waitKey(1) & 0xFF == ord('q'):\n",
    "        break"
   ]
  },
  {
   "cell_type": "code",
   "execution_count": 8,
   "id": "f3a11df4",
   "metadata": {},
   "outputs": [],
   "source": [
    "# creating a path where the image comparision will be done\n",
    "\n",
    "if not os.path.exists('Images to compare'):\n",
    "    os.makedirs('Images to compare')"
   ]
  },
  {
   "cell_type": "markdown",
   "id": "e293ea90",
   "metadata": {},
   "source": [
    "### Steps 2 and 3"
   ]
  },
  {
   "cell_type": "code",
   "execution_count": 9,
   "id": "e42254f3",
   "metadata": {},
   "outputs": [],
   "source": [
    "# importing the packages for the machine learning model\n",
    "\n",
    "from sentence_transformers import SentenceTransformer, util\n",
    "from PIL import Image\n",
    "import glob"
   ]
  },
  {
   "cell_type": "code",
   "execution_count": 10,
   "id": "744e2a5d",
   "metadata": {},
   "outputs": [
    {
     "name": "stdout",
     "output_type": "stream",
     "text": [
      "Loading CLIP Model...\n"
     ]
    }
   ],
   "source": [
    "# Load the OpenAI CLIP Model\n",
    "\n",
    "\n",
    "print('Loading CLIP Model...')\n",
    "model = SentenceTransformer('clip-ViT-B-32')"
   ]
  },
  {
   "cell_type": "code",
   "execution_count": 32,
   "id": "61c58cc5",
   "metadata": {},
   "outputs": [],
   "source": [
    "#creating a text file with the command function \"x\" (create file if no file alerady exists)\n",
    "\n",
    "f = open(\"algorithm results.txt\", \"x\")"
   ]
  },
  {
   "cell_type": "code",
   "execution_count": 33,
   "id": "b47a5d0a",
   "metadata": {},
   "outputs": [
    {
     "name": "stdout",
     "output_type": "stream",
     "text": [
      "C:\\Anomaly detection IR\\video to images\\frame1.jpg\n",
      "C:\\Anomaly detection IR\\Images to compare\\frame1.jpg\n",
      "C:\\Anomaly detection IR\\video to images\\frame0.jpg\n"
     ]
    }
   ],
   "source": [
    "# storing all the concernedpaths in variables.\n",
    "\n",
    "i = 1\n",
    "\n",
    "image_name = 'C:\\\\Anomaly detection IR\\\\video to images\\\\frame{}.jpg'.format(i)\n",
    "print(image_name)\n",
    "\n",
    "image_name_rem = 'C:\\\\Anomaly detection IR\\\\Images to compare\\\\frame{}.jpg'.format(i)\n",
    "print(image_name_rem)\n",
    "\n",
    "image_name_fixed = 'C:\\\\Anomaly detection IR\\\\video to images\\\\frame0.jpg'\n",
    "print(image_name_fixed)"
   ]
  },
  {
   "cell_type": "code",
   "execution_count": 34,
   "id": "3fa25de4",
   "metadata": {},
   "outputs": [
    {
     "data": {
      "text/plain": [
       "'C:\\\\Anomaly detection IR\\\\Images to compare\\\\frame0.jpg'"
      ]
     },
     "execution_count": 34,
     "metadata": {},
     "output_type": "execute_result"
    }
   ],
   "source": [
    "# placing the hard coded image in the empty file\n",
    "\n",
    "shutil.copy(image_name_fixed, 'C:\\\\Anomaly detection IR\\\\Images to compare')"
   ]
  },
  {
   "cell_type": "code",
   "execution_count": 35,
   "id": "30379fcc",
   "metadata": {},
   "outputs": [
    {
     "name": "stdout",
     "output_type": "stream",
     "text": [
      "C:\\Anomaly detection IR\\video to images\\frame1.jpg copied\n",
      "\n",
      "\n",
      "Images: 2\n"
     ]
    },
    {
     "data": {
      "application/vnd.jupyter.widget-view+json": {
       "model_id": "fb1732d4a7c24698a6b9a3a76d6f0c30",
       "version_major": 2,
       "version_minor": 0
      },
      "text/plain": [
       "Batches:   0%|          | 0/1 [00:00<?, ?it/s]"
      ]
     },
     "metadata": {},
     "output_type": "display_data"
    },
    {
     "name": "stdout",
     "output_type": "stream",
     "text": [
      "Finding duplicate images...\n",
      "Finding near duplicate images...\n",
      "\n",
      "Score: 98.879%\n",
      "\n",
      "\n",
      "Images to compare\\frame0.jpg\n",
      "Images to compare\\frame1.jpg\n",
      "\n",
      "\n",
      "0.9887886643409729\n",
      "\n",
      "\n",
      "No incident\n",
      "\n",
      "\n",
      "\n",
      "\n",
      "C:\\Anomaly detection IR\\video to images\\frame1.jpg removed\n",
      "\n",
      "\n",
      "C:\\Anomaly detection IR\\video to images\\frame2.jpg copied\n",
      "\n",
      "\n",
      "Images: 2\n"
     ]
    },
    {
     "data": {
      "application/vnd.jupyter.widget-view+json": {
       "model_id": "e8c736ef05ac4e7499cb7164f3579001",
       "version_major": 2,
       "version_minor": 0
      },
      "text/plain": [
       "Batches:   0%|          | 0/1 [00:00<?, ?it/s]"
      ]
     },
     "metadata": {},
     "output_type": "display_data"
    },
    {
     "name": "stdout",
     "output_type": "stream",
     "text": [
      "Finding duplicate images...\n",
      "Finding near duplicate images...\n",
      "\n",
      "Score: 98.957%\n",
      "\n",
      "\n",
      "Images to compare\\frame0.jpg\n",
      "Images to compare\\frame2.jpg\n",
      "\n",
      "\n",
      "0.9895694851875305\n",
      "\n",
      "\n",
      "No incident\n",
      "\n",
      "\n",
      "\n",
      "\n",
      "C:\\Anomaly detection IR\\video to images\\frame2.jpg removed\n",
      "\n",
      "\n",
      "C:\\Anomaly detection IR\\video to images\\frame3.jpg copied\n",
      "\n",
      "\n",
      "Images: 2\n"
     ]
    },
    {
     "data": {
      "application/vnd.jupyter.widget-view+json": {
       "model_id": "150323f24c7e4cfa91aea9842d69e85f",
       "version_major": 2,
       "version_minor": 0
      },
      "text/plain": [
       "Batches:   0%|          | 0/1 [00:00<?, ?it/s]"
      ]
     },
     "metadata": {},
     "output_type": "display_data"
    },
    {
     "name": "stdout",
     "output_type": "stream",
     "text": [
      "Finding duplicate images...\n",
      "Finding near duplicate images...\n",
      "\n",
      "Score: 95.466%\n",
      "\n",
      "\n",
      "Images to compare\\frame3.jpg\n",
      "Images to compare\\frame0.jpg\n",
      "\n",
      "\n",
      "0.9546643495559692\n",
      "\n",
      "\n",
      "No incident\n",
      "\n",
      "\n",
      "\n",
      "\n",
      "C:\\Anomaly detection IR\\video to images\\frame3.jpg removed\n",
      "\n",
      "\n",
      "C:\\Anomaly detection IR\\video to images\\frame4.jpg copied\n",
      "\n",
      "\n",
      "Images: 2\n"
     ]
    },
    {
     "data": {
      "application/vnd.jupyter.widget-view+json": {
       "model_id": "11264600078a4d7899dab0a6cdc6c707",
       "version_major": 2,
       "version_minor": 0
      },
      "text/plain": [
       "Batches:   0%|          | 0/1 [00:00<?, ?it/s]"
      ]
     },
     "metadata": {},
     "output_type": "display_data"
    },
    {
     "name": "stdout",
     "output_type": "stream",
     "text": [
      "Finding duplicate images...\n",
      "Finding near duplicate images...\n",
      "\n",
      "Score: 96.408%\n",
      "\n",
      "\n",
      "Images to compare\\frame0.jpg\n",
      "Images to compare\\frame4.jpg\n",
      "\n",
      "\n",
      "0.9640802145004272\n",
      "\n",
      "\n",
      "No incident\n",
      "\n",
      "\n",
      "\n",
      "\n",
      "C:\\Anomaly detection IR\\video to images\\frame4.jpg removed\n",
      "\n",
      "\n",
      "C:\\Anomaly detection IR\\video to images\\frame5.jpg copied\n",
      "\n",
      "\n",
      "Images: 2\n"
     ]
    },
    {
     "data": {
      "application/vnd.jupyter.widget-view+json": {
       "model_id": "dfa46677627d4c15a1cb568f97789701",
       "version_major": 2,
       "version_minor": 0
      },
      "text/plain": [
       "Batches:   0%|          | 0/1 [00:00<?, ?it/s]"
      ]
     },
     "metadata": {},
     "output_type": "display_data"
    },
    {
     "name": "stdout",
     "output_type": "stream",
     "text": [
      "Finding duplicate images...\n",
      "Finding near duplicate images...\n",
      "\n",
      "Score: 94.141%\n",
      "\n",
      "\n",
      "Images to compare\\frame0.jpg\n",
      "Images to compare\\frame5.jpg\n",
      "\n",
      "\n",
      "0.9414118528366089\n",
      "\n",
      "\n"
     ]
    },
    {
     "ename": "ValueError",
     "evalue": "I/O operation on closed file.",
     "output_type": "error",
     "traceback": [
      "\u001b[1;31m---------------------------------------------------------------------------\u001b[0m",
      "\u001b[1;31mValueError\u001b[0m                                Traceback (most recent call last)",
      "\u001b[1;32m<ipython-input-35-0ace14d46b39>\u001b[0m in \u001b[0;36m<module>\u001b[1;34m\u001b[0m\n\u001b[0;32m     83\u001b[0m         \u001b[0mf\u001b[0m\u001b[1;33m.\u001b[0m\u001b[0mclose\u001b[0m\u001b[1;33m(\u001b[0m\u001b[1;33m)\u001b[0m\u001b[1;33m\u001b[0m\u001b[1;33m\u001b[0m\u001b[0m\n\u001b[0;32m     84\u001b[0m     \u001b[1;32melif\u001b[0m \u001b[1;33m(\u001b[0m\u001b[0mscore\u001b[0m \u001b[1;33m<=\u001b[0m \u001b[1;36m0.95\u001b[0m\u001b[1;33m)\u001b[0m \u001b[1;33m&\u001b[0m \u001b[1;33m(\u001b[0m\u001b[0mscore\u001b[0m \u001b[1;33m>=\u001b[0m \u001b[1;36m0.92\u001b[0m\u001b[1;33m)\u001b[0m\u001b[1;33m:\u001b[0m\u001b[1;33m\u001b[0m\u001b[1;33m\u001b[0m\u001b[0m\n\u001b[1;32m---> 85\u001b[1;33m         \u001b[0mf\u001b[0m\u001b[1;33m.\u001b[0m\u001b[0mwrite\u001b[0m\u001b[1;33m(\u001b[0m\u001b[1;34m'\\n'\u001b[0m\u001b[1;33m)\u001b[0m\u001b[1;33m\u001b[0m\u001b[1;33m\u001b[0m\u001b[0m\n\u001b[0m\u001b[0;32m     86\u001b[0m         \u001b[0mprint\u001b[0m\u001b[1;33m(\u001b[0m\u001b[1;34m'Maybe incident'\u001b[0m\u001b[1;33m)\u001b[0m\u001b[1;33m\u001b[0m\u001b[1;33m\u001b[0m\u001b[0m\n\u001b[0;32m     87\u001b[0m         \u001b[0mf\u001b[0m \u001b[1;33m=\u001b[0m \u001b[0mopen\u001b[0m\u001b[1;33m(\u001b[0m\u001b[1;34m\"algorithm results.txt\"\u001b[0m\u001b[1;33m,\u001b[0m \u001b[1;34m\"a\"\u001b[0m\u001b[1;33m)\u001b[0m\u001b[1;33m\u001b[0m\u001b[1;33m\u001b[0m\u001b[0m\n",
      "\u001b[1;31mValueError\u001b[0m: I/O operation on closed file."
     ]
    }
   ],
   "source": [
    "# Running the model\n",
    "\n",
    "while i < 167 :\n",
    "    shutil.copy(image_name, 'C:\\\\Anomaly detection IR\\\\Images to compare')\n",
    "    print(image_name, 'copied')\n",
    "    print('\\n')\n",
    "    \n",
    "    \n",
    "    # This is where the magic happens\n",
    "    \n",
    "    \n",
    "    \n",
    "    \n",
    "    \n",
    "        # Next we compute the embeddings\n",
    "    # To encode an image, you can use the following code:\n",
    "    # from PIL import Image\n",
    "    # encoded_image = model.encode(Image.open(filepath))\n",
    "    image_names = list(glob.glob('Images to compare\\\\*.jpg'))\n",
    "    print(\"Images:\", len(image_names))\n",
    "    encoded_image = model.encode([Image.open(filepath) for filepath in image_names], batch_size=128, convert_to_tensor=True, show_progress_bar=True)\n",
    "\n",
    "    # Now we run the clustering algorithm. This function compares images against\n",
    "    # all other images and returns a list with the pairs that have the highest \n",
    "    # cosine similarity score\n",
    "    processed_images = util.paraphrase_mining_embeddings(encoded_image)\n",
    "    NUM_SIMILAR_IMAGES = 10 \n",
    "\n",
    "    # =================\n",
    "    # DUPLICATES\n",
    "    # =================\n",
    "    print('Finding duplicate images...')\n",
    "    # Filter list for duplicates. Results are triplets (score, image_id1, image_id2) and is scorted in decreasing order\n",
    "    # A duplicate image will have a score of 1.00\n",
    "    # It may be 0.9999 due to lossy image compression (.jpg)\n",
    "    duplicates = [image for image in processed_images if image[0] >= 0.999]\n",
    "\n",
    "\n",
    "    # Output the top X duplicate images\n",
    "    for score, image_id1, image_id2 in duplicates[0:NUM_SIMILAR_IMAGES]:\n",
    "        print(\"\\nScore: {:.3f}%\".format(score * 100))\n",
    "        print(image_names[image_id1])\n",
    "        print(image_names[image_id2])\n",
    "\n",
    "\n",
    "    # =================\n",
    "    # NEAR DUPLICATES\n",
    "    # =================\n",
    "    print('Finding near duplicate images...')\n",
    "    # Use a threshold parameter to identify two images as similar. By setting the threshold lower, \n",
    "    # you will get larger clusters which have less similar images in it. Threshold 0 - 1.00\n",
    "    # A threshold of 1.00 means the two images are exactly the same. Since we are finding near \n",
    "    # duplicate images, we can set it at 0.99 or any number 0 < X < 1.00.\n",
    "    threshold = 0.99\n",
    "    near_duplicates = [image for image in processed_images if image[0] < threshold]\n",
    "\n",
    "\n",
    "    for score, image_id1, image_id2 in near_duplicates[0:NUM_SIMILAR_IMAGES]:\n",
    "        print(\"\\nScore: {:.3f}%\".format(score * 100))\n",
    "        print('\\n')\n",
    "        print(image_names[image_id1])\n",
    "        print(image_names[image_id2])\n",
    "        \n",
    "        # writing the images to br compared in the file\n",
    "        f = open(\"algorithm results.txt\", \"a\")\n",
    "        f.write(image_names[image_id1])\n",
    "        f.write('\\n')\n",
    "        f.write(image_names[image_id2])\n",
    "        f.write('\\n')\n",
    "        f.write('\\n')\n",
    "        f.close()      \n",
    "\n",
    "    print('\\n')\n",
    "    print(score)    \n",
    "    print('\\n')\n",
    "    if score > 0.95:\n",
    "        print('No incident')\n",
    "        f = open(\"algorithm results.txt\", \"a\")\n",
    "        f.write('\\n')\n",
    "        f.write('No incident')\n",
    "        f.write('\\n')\n",
    "        f.write('\\n')\n",
    "        f.close()\n",
    "    elif (score <= 0.95) & (score >= 0.92):\n",
    "        f.write('\\n')\n",
    "        print('Maybe incident')\n",
    "        f = open(\"algorithm results.txt\", \"a\")\n",
    "        f.write('Maybe incident')\n",
    "        f.write('\\n')\n",
    "        f.write('\\n')\n",
    "        f.close()\n",
    "    else:\n",
    "        print('report incident')\n",
    "        f.write('\\n')\n",
    "        f = open(\"algorithm results.txt\", \"a\")\n",
    "        f.write('Report incident')\n",
    "        f.write('\\n')\n",
    "        f.write('\\n')\n",
    "        f.close()\n",
    "\n",
    "\n",
    "    print('\\n')\n",
    "    print('\\n')\n",
    "    \n",
    "    \n",
    "    \n",
    "    \n",
    "    os.remove(image_name_rem)\n",
    "    print(image_name, 'removed')\n",
    "    print('\\n')\n",
    "    \n",
    "    i = i+1\n",
    "    image_name = 'C:\\\\Anomaly detection IR\\\\video to images\\\\frame{}.jpg'.format(i)\n",
    "    image_name_rem = 'C:\\\\Anomaly detection IR\\\\Images to compare\\\\frame{}.jpg'.format(i)\n",
    "    "
   ]
  }
 ],
 "metadata": {
  "kernelspec": {
   "display_name": "Python 3",
   "language": "python",
   "name": "python3"
  },
  "language_info": {
   "codemirror_mode": {
    "name": "ipython",
    "version": 3
   },
   "file_extension": ".py",
   "mimetype": "text/x-python",
   "name": "python",
   "nbconvert_exporter": "python",
   "pygments_lexer": "ipython3",
   "version": "3.8.8"
  }
 },
 "nbformat": 4,
 "nbformat_minor": 5
}
