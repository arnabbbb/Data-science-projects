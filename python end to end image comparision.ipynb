{
 "cells": [
  {
   "cell_type": "markdown",
   "id": "c33bff36",
   "metadata": {},
   "source": [
    "### The 3 steps :\n",
    "\n",
    "1) Read the video and convert it into a series of images and save it.\n",
    "\n",
    "2) Compare the series of images to a base image (going image by image) and assign a simillarity score\n",
    "\n",
    "3) Raise an incident if a certain threshold of similarity score is crossed"
   ]
  },
  {
   "cell_type": "markdown",
   "id": "cdf9915c",
   "metadata": {},
   "source": [
    "### Step 1"
   ]
  },
  {
   "cell_type": "code",
   "execution_count": 1,
   "id": "e69c6406",
   "metadata": {},
   "outputs": [],
   "source": [
    "# importing the packages for video to image comparision\n",
    "\n",
    "import cv2\n",
    "import os\n",
    "import shutil"
   ]
  },
  {
   "cell_type": "code",
   "execution_count": 2,
   "id": "ac133f5b",
   "metadata": {},
   "outputs": [
    {
     "data": {
      "text/plain": [
       "'C:\\\\Anomaly detection IR'"
      ]
     },
     "execution_count": 2,
     "metadata": {},
     "output_type": "execute_result"
    }
   ],
   "source": [
    "# changing the working directory\n",
    "\n",
    "os.chdir('C:\\Anomaly detection IR')\n",
    "os.getcwd()"
   ]
  },
  {
   "cell_type": "code",
   "execution_count": 3,
   "id": "29ff301b",
   "metadata": {},
   "outputs": [],
   "source": [
    "# creating video object\n",
    "\n",
    "vid = cv2.VideoCapture('C:\\\\Anomaly detection IR\\\\video\\\\IR video.mp4')\n",
    "current_frame = 0"
   ]
  },
  {
   "cell_type": "code",
   "execution_count": 4,
   "id": "50bd0b1e",
   "metadata": {},
   "outputs": [],
   "source": [
    "# creating a path where the video will be converted to images and stored\n",
    "\n",
    "if not os.path.exists('video to images'):\n",
    "    os.makedirs('video to images')"
   ]
  },
  {
   "cell_type": "code",
   "execution_count": 5,
   "id": "c7727837",
   "metadata": {},
   "outputs": [
    {
     "ename": "error",
     "evalue": "OpenCV(4.7.0) D:\\a\\opencv-python\\opencv-python\\opencv\\modules\\highgui\\src\\window.cpp:971: error: (-215:Assertion failed) size.width>0 && size.height>0 in function 'cv::imshow'\n",
     "output_type": "error",
     "traceback": [
      "\u001b[1;31m---------------------------------------------------------------------------\u001b[0m",
      "\u001b[1;31merror\u001b[0m                                     Traceback (most recent call last)",
      "\u001b[1;32m<ipython-input-5-cc348f8e41fa>\u001b[0m in \u001b[0;36m<module>\u001b[1;34m\u001b[0m\n\u001b[0;32m      4\u001b[0m     \u001b[0msuccess\u001b[0m\u001b[1;33m,\u001b[0m \u001b[0mframe\u001b[0m \u001b[1;33m=\u001b[0m \u001b[0mvid\u001b[0m\u001b[1;33m.\u001b[0m\u001b[0mread\u001b[0m\u001b[1;33m(\u001b[0m\u001b[1;33m)\u001b[0m\u001b[1;33m\u001b[0m\u001b[1;33m\u001b[0m\u001b[0m\n\u001b[0;32m      5\u001b[0m \u001b[1;33m\u001b[0m\u001b[0m\n\u001b[1;32m----> 6\u001b[1;33m     \u001b[0mcv2\u001b[0m\u001b[1;33m.\u001b[0m\u001b[0mimshow\u001b[0m\u001b[1;33m(\u001b[0m\u001b[1;34m'Output'\u001b[0m\u001b[1;33m,\u001b[0m\u001b[0mframe\u001b[0m\u001b[1;33m)\u001b[0m\u001b[1;33m\u001b[0m\u001b[1;33m\u001b[0m\u001b[0m\n\u001b[0m\u001b[0;32m      7\u001b[0m     \u001b[0mcv2\u001b[0m\u001b[1;33m.\u001b[0m\u001b[0mimwrite\u001b[0m\u001b[1;33m(\u001b[0m\u001b[1;34m'.\\\\video to images\\\\frame'\u001b[0m \u001b[1;33m+\u001b[0m \u001b[0mstr\u001b[0m\u001b[1;33m(\u001b[0m\u001b[0mcurrent_frame\u001b[0m\u001b[1;33m)\u001b[0m\u001b[1;33m+\u001b[0m \u001b[1;34m'.jpg'\u001b[0m\u001b[1;33m,\u001b[0m \u001b[0mframe\u001b[0m\u001b[1;33m)\u001b[0m\u001b[1;33m\u001b[0m\u001b[1;33m\u001b[0m\u001b[0m\n\u001b[0;32m      8\u001b[0m     \u001b[0mcurrent_frame\u001b[0m\u001b[1;33m=\u001b[0m\u001b[0mcurrent_frame\u001b[0m \u001b[1;33m+\u001b[0m \u001b[1;36m1\u001b[0m\u001b[1;33m\u001b[0m\u001b[1;33m\u001b[0m\u001b[0m\n",
      "\u001b[1;31merror\u001b[0m: OpenCV(4.7.0) D:\\a\\opencv-python\\opencv-python\\opencv\\modules\\highgui\\src\\window.cpp:971: error: (-215:Assertion failed) size.width>0 && size.height>0 in function 'cv::imshow'\n"
     ]
    }
   ],
   "source": [
    "# converting the video to images and storing in the folder (it gives an error, but does the job)\n",
    "\n",
    "while(True):\n",
    "    success, frame = vid.read()\n",
    "    \n",
    "    cv2.imshow('Output',frame)\n",
    "    cv2.imwrite('.\\\\video to images\\\\frame' + str(current_frame)+ '.jpg', frame)\n",
    "    current_frame=current_frame + 1\n",
    "    \n",
    "    if cv2.waitKey(1) & 0xFF == ord('q'):\n",
    "        break"
   ]
  },
  {
   "cell_type": "code",
   "execution_count": 6,
   "id": "dc3af8b6",
   "metadata": {},
   "outputs": [],
   "source": [
    "# creating a path where the image comparision will be done\n",
    "\n",
    "if not os.path.exists('Images to compare'):\n",
    "    os.makedirs('Images to compare')"
   ]
  },
  {
   "cell_type": "markdown",
   "id": "d5fb8135",
   "metadata": {},
   "source": [
    "### Steps 2 and 3"
   ]
  },
  {
   "cell_type": "code",
   "execution_count": 7,
   "id": "550d211f",
   "metadata": {},
   "outputs": [],
   "source": [
    "# importing the packages for the machine learning model\n",
    "\n",
    "from sentence_transformers import SentenceTransformer, util\n",
    "from PIL import Image\n",
    "import glob"
   ]
  },
  {
   "cell_type": "code",
   "execution_count": 8,
   "id": "c857794a",
   "metadata": {},
   "outputs": [
    {
     "name": "stdout",
     "output_type": "stream",
     "text": [
      "Loading CLIP Model...\n"
     ]
    }
   ],
   "source": [
    "# Load the OpenAI CLIP Model\n",
    "\n",
    "\n",
    "print('Loading CLIP Model...')\n",
    "model = SentenceTransformer('clip-ViT-B-32')"
   ]
  },
  {
   "cell_type": "code",
   "execution_count": 9,
   "id": "1509f0ab",
   "metadata": {},
   "outputs": [],
   "source": [
    "#creating a text file with the command function \"x\" (create file if no file alerady exists)\n",
    "\n",
    "f = open(\"algorithm results.txt\", \"x\")"
   ]
  },
  {
   "cell_type": "code",
   "execution_count": 10,
   "id": "d226782c",
   "metadata": {},
   "outputs": [
    {
     "name": "stdout",
     "output_type": "stream",
     "text": [
      "C:\\Anomaly detection IR\\video to images\\frame1.jpg\n",
      "C:\\Anomaly detection IR\\Images to compare\\frame1.jpg\n",
      "C:\\Anomaly detection IR\\video to images\\frame0.jpg\n"
     ]
    }
   ],
   "source": [
    "# storing all the concernedpaths in variables.\n",
    "\n",
    "i = 1\n",
    "\n",
    "image_name = 'C:\\\\Anomaly detection IR\\\\video to images\\\\frame{}.jpg'.format(i)\n",
    "print(image_name)\n",
    "\n",
    "image_name_rem = 'C:\\\\Anomaly detection IR\\\\Images to compare\\\\frame{}.jpg'.format(i)\n",
    "print(image_name_rem)\n",
    "\n",
    "image_name_fixed = 'C:\\\\Anomaly detection IR\\\\video to images\\\\frame0.jpg'\n",
    "print(image_name_fixed)"
   ]
  },
  {
   "cell_type": "code",
   "execution_count": 11,
   "id": "6036091b",
   "metadata": {},
   "outputs": [
    {
     "data": {
      "text/plain": [
       "'C:\\\\Anomaly detection IR\\\\Images to compare\\\\frame0.jpg'"
      ]
     },
     "execution_count": 11,
     "metadata": {},
     "output_type": "execute_result"
    }
   ],
   "source": [
    "# placing the hard coded image in the empty file\n",
    "\n",
    "shutil.copy(image_name_fixed, 'C:\\\\Anomaly detection IR\\\\Images to compare')"
   ]
  },
  {
   "cell_type": "markdown",
   "id": "bad9b182",
   "metadata": {},
   "source": [
    "### declaring two states :\n",
    "\n",
    "1) 0 : No incident is raised (default)\n",
    "\n",
    "2) 1 : Incident is raised or maybe incident is raised\n",
    "\n",
    "Note : Incident will only be raised if model state is 0"
   ]
  },
  {
   "cell_type": "code",
   "execution_count": 12,
   "id": "a779eb96",
   "metadata": {},
   "outputs": [],
   "source": [
    "model_state = 0"
   ]
  },
  {
   "cell_type": "code",
   "execution_count": 13,
   "id": "b7235660",
   "metadata": {},
   "outputs": [
    {
     "name": "stdout",
     "output_type": "stream",
     "text": [
      "File count: 167\n"
     ]
    }
   ],
   "source": [
    "# counting the number of images\n",
    "\n",
    "# folder path\n",
    "dir_path = r'C:\\Anomaly detection IR\\video to images'\n",
    "count = 0\n",
    "# Iterate directory\n",
    "for path in os.listdir(dir_path):\n",
    "    # check if current path is a file\n",
    "    if os.path.isfile(os.path.join(dir_path, path)):\n",
    "        count += 1\n",
    "print('File count:', count)"
   ]
  },
  {
   "cell_type": "code",
   "execution_count": 14,
   "id": "98a17d59",
   "metadata": {},
   "outputs": [
    {
     "name": "stdout",
     "output_type": "stream",
     "text": [
      "C:\\Anomaly detection IR\\video to images\\frame1.jpg copied\n",
      "\n",
      "\n",
      "Images: 2\n"
     ]
    },
    {
     "data": {
      "application/vnd.jupyter.widget-view+json": {
       "model_id": "1650e8812def4c06ae0da1b57f4f9e94",
       "version_major": 2,
       "version_minor": 0
      },
      "text/plain": [
       "Batches:   0%|          | 0/1 [00:00<?, ?it/s]"
      ]
     },
     "metadata": {},
     "output_type": "display_data"
    },
    {
     "name": "stdout",
     "output_type": "stream",
     "text": [
      "Finding duplicate images...\n",
      "Finding near duplicate images...\n",
      "\n",
      "Score: 98.879%\n",
      "Images to compare\\frame0.jpg\n",
      "Images to compare\\frame1.jpg\n",
      "\n",
      "\n",
      "0.9887886643409729\n",
      "\n",
      "\n",
      "No incident\n",
      "\n",
      "\n",
      "\n",
      "\n",
      "C:\\Anomaly detection IR\\video to images\\frame1.jpg removed\n",
      "\n",
      "\n",
      "C:\\Anomaly detection IR\\video to images\\frame2.jpg copied\n",
      "\n",
      "\n",
      "Images: 2\n"
     ]
    },
    {
     "data": {
      "application/vnd.jupyter.widget-view+json": {
       "model_id": "b1d785ea3d064cef9b770ea2437c61dc",
       "version_major": 2,
       "version_minor": 0
      },
      "text/plain": [
       "Batches:   0%|          | 0/1 [00:00<?, ?it/s]"
      ]
     },
     "metadata": {},
     "output_type": "display_data"
    },
    {
     "name": "stdout",
     "output_type": "stream",
     "text": [
      "Finding duplicate images...\n",
      "Finding near duplicate images...\n",
      "\n",
      "Score: 98.957%\n",
      "Images to compare\\frame0.jpg\n",
      "Images to compare\\frame2.jpg\n",
      "\n",
      "\n",
      "0.9895694851875305\n",
      "\n",
      "\n",
      "No incident\n",
      "\n",
      "\n",
      "\n",
      "\n",
      "C:\\Anomaly detection IR\\video to images\\frame2.jpg removed\n",
      "\n",
      "\n",
      "C:\\Anomaly detection IR\\video to images\\frame3.jpg copied\n",
      "\n",
      "\n",
      "Images: 2\n"
     ]
    },
    {
     "data": {
      "application/vnd.jupyter.widget-view+json": {
       "model_id": "17dcb9e1e8ed4705b65afd186fd88eb9",
       "version_major": 2,
       "version_minor": 0
      },
      "text/plain": [
       "Batches:   0%|          | 0/1 [00:00<?, ?it/s]"
      ]
     },
     "metadata": {},
     "output_type": "display_data"
    },
    {
     "name": "stdout",
     "output_type": "stream",
     "text": [
      "Finding duplicate images...\n",
      "Finding near duplicate images...\n",
      "\n",
      "Score: 95.466%\n",
      "Images to compare\\frame3.jpg\n",
      "Images to compare\\frame0.jpg\n",
      "\n",
      "\n",
      "0.9546643495559692\n",
      "\n",
      "\n",
      "No incident\n",
      "\n",
      "\n",
      "\n",
      "\n",
      "C:\\Anomaly detection IR\\video to images\\frame3.jpg removed\n",
      "\n",
      "\n",
      "C:\\Anomaly detection IR\\video to images\\frame4.jpg copied\n",
      "\n",
      "\n",
      "Images: 2\n"
     ]
    },
    {
     "data": {
      "application/vnd.jupyter.widget-view+json": {
       "model_id": "08a5a53df7654d2fbe11cdcd6b30c800",
       "version_major": 2,
       "version_minor": 0
      },
      "text/plain": [
       "Batches:   0%|          | 0/1 [00:00<?, ?it/s]"
      ]
     },
     "metadata": {},
     "output_type": "display_data"
    },
    {
     "name": "stdout",
     "output_type": "stream",
     "text": [
      "Finding duplicate images...\n",
      "Finding near duplicate images...\n",
      "\n",
      "Score: 96.408%\n",
      "Images to compare\\frame0.jpg\n",
      "Images to compare\\frame4.jpg\n",
      "\n",
      "\n",
      "0.9640802145004272\n",
      "\n",
      "\n",
      "No incident\n",
      "\n",
      "\n",
      "\n",
      "\n",
      "C:\\Anomaly detection IR\\video to images\\frame4.jpg removed\n",
      "\n",
      "\n",
      "C:\\Anomaly detection IR\\video to images\\frame5.jpg copied\n",
      "\n",
      "\n",
      "Images: 2\n"
     ]
    },
    {
     "data": {
      "application/vnd.jupyter.widget-view+json": {
       "model_id": "096c38aba9c34b5491c6064bcc696225",
       "version_major": 2,
       "version_minor": 0
      },
      "text/plain": [
       "Batches:   0%|          | 0/1 [00:00<?, ?it/s]"
      ]
     },
     "metadata": {},
     "output_type": "display_data"
    },
    {
     "name": "stdout",
     "output_type": "stream",
     "text": [
      "Finding duplicate images...\n",
      "Finding near duplicate images...\n",
      "\n",
      "Score: 94.141%\n",
      "Images to compare\\frame0.jpg\n",
      "Images to compare\\frame5.jpg\n",
      "\n",
      "\n",
      "0.9414118528366089\n",
      "\n",
      "\n",
      "maybe incident\n",
      "\n",
      "\n",
      "\n",
      "\n",
      "C:\\Anomaly detection IR\\video to images\\frame5.jpg removed\n",
      "\n",
      "\n",
      "C:\\Anomaly detection IR\\video to images\\frame6.jpg copied\n",
      "\n",
      "\n",
      "Images: 2\n"
     ]
    },
    {
     "data": {
      "application/vnd.jupyter.widget-view+json": {
       "model_id": "d7e94d13ffe04e11b4e868da7e7b4f84",
       "version_major": 2,
       "version_minor": 0
      },
      "text/plain": [
       "Batches:   0%|          | 0/1 [00:00<?, ?it/s]"
      ]
     },
     "metadata": {},
     "output_type": "display_data"
    },
    {
     "name": "stdout",
     "output_type": "stream",
     "text": [
      "Finding duplicate images...\n",
      "Finding near duplicate images...\n",
      "\n",
      "Score: 90.415%\n",
      "Images to compare\\frame6.jpg\n",
      "Images to compare\\frame0.jpg\n",
      "\n",
      "\n",
      "0.9041533470153809\n",
      "\n",
      "\n",
      "\n",
      "\n",
      "\n",
      "\n",
      "C:\\Anomaly detection IR\\video to images\\frame6.jpg removed\n",
      "\n",
      "\n",
      "C:\\Anomaly detection IR\\video to images\\frame7.jpg copied\n",
      "\n",
      "\n",
      "Images: 2\n"
     ]
    },
    {
     "data": {
      "application/vnd.jupyter.widget-view+json": {
       "model_id": "ddde1b4bde8b443f8d61bd65f91ae898",
       "version_major": 2,
       "version_minor": 0
      },
      "text/plain": [
       "Batches:   0%|          | 0/1 [00:00<?, ?it/s]"
      ]
     },
     "metadata": {},
     "output_type": "display_data"
    },
    {
     "name": "stdout",
     "output_type": "stream",
     "text": [
      "Finding duplicate images...\n",
      "Finding near duplicate images...\n",
      "\n",
      "Score: 90.649%\n",
      "Images to compare\\frame0.jpg\n",
      "Images to compare\\frame7.jpg\n",
      "\n",
      "\n",
      "0.9064912796020508\n",
      "\n",
      "\n",
      "\n",
      "\n",
      "\n",
      "\n",
      "C:\\Anomaly detection IR\\video to images\\frame7.jpg removed\n",
      "\n",
      "\n",
      "C:\\Anomaly detection IR\\video to images\\frame8.jpg copied\n",
      "\n",
      "\n",
      "Images: 2\n"
     ]
    },
    {
     "data": {
      "application/vnd.jupyter.widget-view+json": {
       "model_id": "bc685c5a308140f4a1ec4499981896c1",
       "version_major": 2,
       "version_minor": 0
      },
      "text/plain": [
       "Batches:   0%|          | 0/1 [00:00<?, ?it/s]"
      ]
     },
     "metadata": {},
     "output_type": "display_data"
    },
    {
     "name": "stdout",
     "output_type": "stream",
     "text": [
      "Finding duplicate images...\n",
      "Finding near duplicate images...\n",
      "\n",
      "Score: 89.327%\n",
      "Images to compare\\frame0.jpg\n",
      "Images to compare\\frame8.jpg\n",
      "\n",
      "\n",
      "0.8932697176933289\n",
      "\n",
      "\n",
      "\n",
      "\n",
      "\n",
      "\n",
      "C:\\Anomaly detection IR\\video to images\\frame8.jpg removed\n",
      "\n",
      "\n",
      "C:\\Anomaly detection IR\\video to images\\frame9.jpg copied\n",
      "\n",
      "\n",
      "Images: 2\n"
     ]
    },
    {
     "data": {
      "application/vnd.jupyter.widget-view+json": {
       "model_id": "6b47ca61f91e46e1bb354a2f9c5d8c6c",
       "version_major": 2,
       "version_minor": 0
      },
      "text/plain": [
       "Batches:   0%|          | 0/1 [00:00<?, ?it/s]"
      ]
     },
     "metadata": {},
     "output_type": "display_data"
    },
    {
     "name": "stdout",
     "output_type": "stream",
     "text": [
      "Finding duplicate images...\n",
      "Finding near duplicate images...\n",
      "\n",
      "Score: 90.488%\n",
      "Images to compare\\frame9.jpg\n",
      "Images to compare\\frame0.jpg\n",
      "\n",
      "\n",
      "0.9048800468444824\n",
      "\n",
      "\n",
      "\n",
      "\n",
      "\n",
      "\n",
      "C:\\Anomaly detection IR\\video to images\\frame9.jpg removed\n",
      "\n",
      "\n",
      "C:\\Anomaly detection IR\\video to images\\frame10.jpg copied\n",
      "\n",
      "\n",
      "Images: 2\n"
     ]
    },
    {
     "data": {
      "application/vnd.jupyter.widget-view+json": {
       "model_id": "26955f449ec44f96a534bae906f23fb7",
       "version_major": 2,
       "version_minor": 0
      },
      "text/plain": [
       "Batches:   0%|          | 0/1 [00:00<?, ?it/s]"
      ]
     },
     "metadata": {},
     "output_type": "display_data"
    },
    {
     "name": "stdout",
     "output_type": "stream",
     "text": [
      "Finding duplicate images...\n",
      "Finding near duplicate images...\n",
      "\n",
      "Score: 90.236%\n",
      "Images to compare\\frame0.jpg\n",
      "Images to compare\\frame10.jpg\n",
      "\n",
      "\n",
      "0.9023613333702087\n",
      "\n",
      "\n",
      "\n",
      "\n",
      "\n",
      "\n",
      "C:\\Anomaly detection IR\\video to images\\frame10.jpg removed\n",
      "\n",
      "\n",
      "C:\\Anomaly detection IR\\video to images\\frame11.jpg copied\n",
      "\n",
      "\n",
      "Images: 2\n"
     ]
    },
    {
     "data": {
      "application/vnd.jupyter.widget-view+json": {
       "model_id": "eefa7c960a4c439e85510e8c5fb0b9a3",
       "version_major": 2,
       "version_minor": 0
      },
      "text/plain": [
       "Batches:   0%|          | 0/1 [00:00<?, ?it/s]"
      ]
     },
     "metadata": {},
     "output_type": "display_data"
    },
    {
     "name": "stdout",
     "output_type": "stream",
     "text": [
      "Finding duplicate images...\n",
      "Finding near duplicate images...\n",
      "\n",
      "Score: 89.353%\n",
      "Images to compare\\frame0.jpg\n",
      "Images to compare\\frame11.jpg\n",
      "\n",
      "\n",
      "0.8935309052467346\n",
      "\n",
      "\n",
      "\n",
      "\n",
      "\n",
      "\n",
      "C:\\Anomaly detection IR\\video to images\\frame11.jpg removed\n",
      "\n",
      "\n",
      "C:\\Anomaly detection IR\\video to images\\frame12.jpg copied\n",
      "\n",
      "\n",
      "Images: 2\n"
     ]
    },
    {
     "data": {
      "application/vnd.jupyter.widget-view+json": {
       "model_id": "36843de07f3e45e6af6a3de1dca0d25f",
       "version_major": 2,
       "version_minor": 0
      },
      "text/plain": [
       "Batches:   0%|          | 0/1 [00:00<?, ?it/s]"
      ]
     },
     "metadata": {},
     "output_type": "display_data"
    },
    {
     "name": "stdout",
     "output_type": "stream",
     "text": [
      "Finding duplicate images...\n",
      "Finding near duplicate images...\n",
      "\n",
      "Score: 89.902%\n",
      "Images to compare\\frame0.jpg\n",
      "Images to compare\\frame12.jpg\n",
      "\n",
      "\n",
      "0.8990169763565063\n",
      "\n",
      "\n",
      "\n",
      "\n",
      "\n",
      "\n",
      "C:\\Anomaly detection IR\\video to images\\frame12.jpg removed\n",
      "\n",
      "\n",
      "C:\\Anomaly detection IR\\video to images\\frame13.jpg copied\n",
      "\n",
      "\n",
      "Images: 2\n"
     ]
    },
    {
     "data": {
      "application/vnd.jupyter.widget-view+json": {
       "model_id": "5de7fb35d1664ea986d603df01dccce9",
       "version_major": 2,
       "version_minor": 0
      },
      "text/plain": [
       "Batches:   0%|          | 0/1 [00:00<?, ?it/s]"
      ]
     },
     "metadata": {},
     "output_type": "display_data"
    },
    {
     "name": "stdout",
     "output_type": "stream",
     "text": [
      "Finding duplicate images...\n",
      "Finding near duplicate images...\n",
      "\n",
      "Score: 91.036%\n",
      "Images to compare\\frame0.jpg\n",
      "Images to compare\\frame13.jpg\n",
      "\n",
      "\n",
      "0.9103569388389587\n",
      "\n",
      "\n",
      "\n",
      "\n",
      "\n",
      "\n",
      "C:\\Anomaly detection IR\\video to images\\frame13.jpg removed\n",
      "\n",
      "\n",
      "C:\\Anomaly detection IR\\video to images\\frame14.jpg copied\n",
      "\n",
      "\n",
      "Images: 2\n"
     ]
    },
    {
     "data": {
      "application/vnd.jupyter.widget-view+json": {
       "model_id": "577aaf6b6fa9486189cf4cad654da1d0",
       "version_major": 2,
       "version_minor": 0
      },
      "text/plain": [
       "Batches:   0%|          | 0/1 [00:00<?, ?it/s]"
      ]
     },
     "metadata": {},
     "output_type": "display_data"
    },
    {
     "name": "stdout",
     "output_type": "stream",
     "text": [
      "Finding duplicate images...\n",
      "Finding near duplicate images...\n",
      "\n",
      "Score: 90.832%\n",
      "Images to compare\\frame0.jpg\n",
      "Images to compare\\frame14.jpg\n",
      "\n",
      "\n",
      "0.9083189964294434\n",
      "\n",
      "\n",
      "\n",
      "\n",
      "\n",
      "\n",
      "C:\\Anomaly detection IR\\video to images\\frame14.jpg removed\n",
      "\n",
      "\n",
      "C:\\Anomaly detection IR\\video to images\\frame15.jpg copied\n",
      "\n",
      "\n",
      "Images: 2\n"
     ]
    },
    {
     "data": {
      "application/vnd.jupyter.widget-view+json": {
       "model_id": "14037b2dc43a4080b15c175db7216e6f",
       "version_major": 2,
       "version_minor": 0
      },
      "text/plain": [
       "Batches:   0%|          | 0/1 [00:00<?, ?it/s]"
      ]
     },
     "metadata": {},
     "output_type": "display_data"
    },
    {
     "name": "stdout",
     "output_type": "stream",
     "text": [
      "Finding duplicate images...\n",
      "Finding near duplicate images...\n",
      "\n",
      "Score: 89.967%\n",
      "Images to compare\\frame0.jpg\n",
      "Images to compare\\frame15.jpg\n",
      "\n",
      "\n",
      "0.8996685743331909\n",
      "\n",
      "\n",
      "\n",
      "\n",
      "\n",
      "\n",
      "C:\\Anomaly detection IR\\video to images\\frame15.jpg removed\n",
      "\n",
      "\n",
      "C:\\Anomaly detection IR\\video to images\\frame16.jpg copied\n",
      "\n",
      "\n",
      "Images: 2\n"
     ]
    },
    {
     "data": {
      "application/vnd.jupyter.widget-view+json": {
       "model_id": "1c5eb69cede8413ab40e80850adeceb7",
       "version_major": 2,
       "version_minor": 0
      },
      "text/plain": [
       "Batches:   0%|          | 0/1 [00:00<?, ?it/s]"
      ]
     },
     "metadata": {},
     "output_type": "display_data"
    },
    {
     "name": "stdout",
     "output_type": "stream",
     "text": [
      "Finding duplicate images...\n",
      "Finding near duplicate images...\n",
      "\n",
      "Score: 90.328%\n",
      "Images to compare\\frame0.jpg\n",
      "Images to compare\\frame16.jpg\n",
      "\n",
      "\n",
      "0.9032832384109497\n",
      "\n",
      "\n",
      "\n",
      "\n",
      "\n",
      "\n",
      "C:\\Anomaly detection IR\\video to images\\frame16.jpg removed\n",
      "\n",
      "\n",
      "C:\\Anomaly detection IR\\video to images\\frame17.jpg copied\n",
      "\n",
      "\n",
      "Images: 2\n"
     ]
    },
    {
     "data": {
      "application/vnd.jupyter.widget-view+json": {
       "model_id": "7fd9f51d87d441708cca14e178746378",
       "version_major": 2,
       "version_minor": 0
      },
      "text/plain": [
       "Batches:   0%|          | 0/1 [00:00<?, ?it/s]"
      ]
     },
     "metadata": {},
     "output_type": "display_data"
    },
    {
     "name": "stdout",
     "output_type": "stream",
     "text": [
      "Finding duplicate images...\n",
      "Finding near duplicate images...\n",
      "\n",
      "Score: 91.216%\n",
      "Images to compare\\frame0.jpg\n",
      "Images to compare\\frame17.jpg\n",
      "\n",
      "\n",
      "0.912163496017456\n",
      "\n",
      "\n",
      "\n",
      "\n",
      "\n",
      "\n",
      "C:\\Anomaly detection IR\\video to images\\frame17.jpg removed\n",
      "\n",
      "\n",
      "C:\\Anomaly detection IR\\video to images\\frame18.jpg copied\n",
      "\n",
      "\n",
      "Images: 2\n"
     ]
    },
    {
     "data": {
      "application/vnd.jupyter.widget-view+json": {
       "model_id": "da7270cccb2749f1bc477d4c09ad5a3d",
       "version_major": 2,
       "version_minor": 0
      },
      "text/plain": [
       "Batches:   0%|          | 0/1 [00:00<?, ?it/s]"
      ]
     },
     "metadata": {},
     "output_type": "display_data"
    },
    {
     "name": "stdout",
     "output_type": "stream",
     "text": [
      "Finding duplicate images...\n",
      "Finding near duplicate images...\n",
      "\n",
      "Score: 90.411%\n",
      "Images to compare\\frame0.jpg\n",
      "Images to compare\\frame18.jpg\n",
      "\n",
      "\n",
      "0.9041141271591187\n",
      "\n",
      "\n",
      "\n",
      "\n",
      "\n",
      "\n",
      "C:\\Anomaly detection IR\\video to images\\frame18.jpg removed\n",
      "\n",
      "\n",
      "C:\\Anomaly detection IR\\video to images\\frame19.jpg copied\n",
      "\n",
      "\n",
      "Images: 2\n"
     ]
    },
    {
     "data": {
      "application/vnd.jupyter.widget-view+json": {
       "model_id": "2557f938e8dc4543bc1c5627421b2048",
       "version_major": 2,
       "version_minor": 0
      },
      "text/plain": [
       "Batches:   0%|          | 0/1 [00:00<?, ?it/s]"
      ]
     },
     "metadata": {},
     "output_type": "display_data"
    },
    {
     "name": "stdout",
     "output_type": "stream",
     "text": [
      "Finding duplicate images...\n",
      "Finding near duplicate images...\n",
      "\n",
      "Score: 91.198%\n",
      "Images to compare\\frame0.jpg\n",
      "Images to compare\\frame19.jpg\n",
      "\n",
      "\n",
      "0.9119848608970642\n",
      "\n",
      "\n",
      "\n",
      "\n",
      "\n",
      "\n",
      "C:\\Anomaly detection IR\\video to images\\frame19.jpg removed\n",
      "\n",
      "\n",
      "C:\\Anomaly detection IR\\video to images\\frame20.jpg copied\n",
      "\n",
      "\n",
      "Images: 2\n"
     ]
    },
    {
     "data": {
      "application/vnd.jupyter.widget-view+json": {
       "model_id": "f6dc8642a3d44fb795b52dc63271f5af",
       "version_major": 2,
       "version_minor": 0
      },
      "text/plain": [
       "Batches:   0%|          | 0/1 [00:00<?, ?it/s]"
      ]
     },
     "metadata": {},
     "output_type": "display_data"
    },
    {
     "name": "stdout",
     "output_type": "stream",
     "text": [
      "Finding duplicate images...\n",
      "Finding near duplicate images...\n",
      "\n",
      "Score: 91.887%\n",
      "Images to compare\\frame20.jpg\n",
      "Images to compare\\frame0.jpg\n",
      "\n",
      "\n",
      "0.9188674688339233\n",
      "\n",
      "\n",
      "\n",
      "\n",
      "\n",
      "\n",
      "C:\\Anomaly detection IR\\video to images\\frame20.jpg removed\n",
      "\n",
      "\n",
      "C:\\Anomaly detection IR\\video to images\\frame21.jpg copied\n",
      "\n",
      "\n",
      "Images: 2\n"
     ]
    },
    {
     "data": {
      "application/vnd.jupyter.widget-view+json": {
       "model_id": "202277be58c0410f87ef0f0f8e48bb4e",
       "version_major": 2,
       "version_minor": 0
      },
      "text/plain": [
       "Batches:   0%|          | 0/1 [00:00<?, ?it/s]"
      ]
     },
     "metadata": {},
     "output_type": "display_data"
    },
    {
     "name": "stdout",
     "output_type": "stream",
     "text": [
      "Finding duplicate images...\n",
      "Finding near duplicate images...\n",
      "\n",
      "Score: 91.597%\n",
      "Images to compare\\frame0.jpg\n",
      "Images to compare\\frame21.jpg\n",
      "\n",
      "\n",
      "0.9159694910049438\n",
      "\n",
      "\n",
      "\n",
      "\n",
      "\n",
      "\n",
      "C:\\Anomaly detection IR\\video to images\\frame21.jpg removed\n",
      "\n",
      "\n",
      "C:\\Anomaly detection IR\\video to images\\frame22.jpg copied\n",
      "\n",
      "\n",
      "Images: 2\n"
     ]
    },
    {
     "data": {
      "application/vnd.jupyter.widget-view+json": {
       "model_id": "c174c5ad5bec4e989bcdcbf8983ff067",
       "version_major": 2,
       "version_minor": 0
      },
      "text/plain": [
       "Batches:   0%|          | 0/1 [00:00<?, ?it/s]"
      ]
     },
     "metadata": {},
     "output_type": "display_data"
    },
    {
     "name": "stdout",
     "output_type": "stream",
     "text": [
      "Finding duplicate images...\n",
      "Finding near duplicate images...\n",
      "\n",
      "Score: 91.466%\n",
      "Images to compare\\frame0.jpg\n",
      "Images to compare\\frame22.jpg\n",
      "\n",
      "\n",
      "0.9146555662155151\n",
      "\n",
      "\n",
      "\n",
      "\n",
      "\n",
      "\n",
      "C:\\Anomaly detection IR\\video to images\\frame22.jpg removed\n",
      "\n",
      "\n",
      "C:\\Anomaly detection IR\\video to images\\frame23.jpg copied\n",
      "\n",
      "\n",
      "Images: 2\n"
     ]
    },
    {
     "data": {
      "application/vnd.jupyter.widget-view+json": {
       "model_id": "2cdb1ca9afee493e9730305c825b06b7",
       "version_major": 2,
       "version_minor": 0
      },
      "text/plain": [
       "Batches:   0%|          | 0/1 [00:00<?, ?it/s]"
      ]
     },
     "metadata": {},
     "output_type": "display_data"
    },
    {
     "name": "stdout",
     "output_type": "stream",
     "text": [
      "Finding duplicate images...\n",
      "Finding near duplicate images...\n",
      "\n",
      "Score: 91.578%\n",
      "Images to compare\\frame0.jpg\n",
      "Images to compare\\frame23.jpg\n",
      "\n",
      "\n",
      "0.9157848358154297\n",
      "\n",
      "\n",
      "\n",
      "\n",
      "\n",
      "\n",
      "C:\\Anomaly detection IR\\video to images\\frame23.jpg removed\n",
      "\n",
      "\n",
      "C:\\Anomaly detection IR\\video to images\\frame24.jpg copied\n",
      "\n",
      "\n",
      "Images: 2\n"
     ]
    },
    {
     "data": {
      "application/vnd.jupyter.widget-view+json": {
       "model_id": "8a268fd79a5e415fa775c902816d524b",
       "version_major": 2,
       "version_minor": 0
      },
      "text/plain": [
       "Batches:   0%|          | 0/1 [00:00<?, ?it/s]"
      ]
     },
     "metadata": {},
     "output_type": "display_data"
    },
    {
     "name": "stdout",
     "output_type": "stream",
     "text": [
      "Finding duplicate images...\n",
      "Finding near duplicate images...\n",
      "\n",
      "Score: 91.363%\n",
      "Images to compare\\frame0.jpg\n",
      "Images to compare\\frame24.jpg\n",
      "\n",
      "\n",
      "0.913629949092865\n",
      "\n",
      "\n",
      "\n",
      "\n",
      "\n",
      "\n",
      "C:\\Anomaly detection IR\\video to images\\frame24.jpg removed\n",
      "\n",
      "\n",
      "C:\\Anomaly detection IR\\video to images\\frame25.jpg copied\n",
      "\n",
      "\n",
      "Images: 2\n"
     ]
    },
    {
     "data": {
      "application/vnd.jupyter.widget-view+json": {
       "model_id": "0f430f5a80754877bb4dbf1b225bde19",
       "version_major": 2,
       "version_minor": 0
      },
      "text/plain": [
       "Batches:   0%|          | 0/1 [00:00<?, ?it/s]"
      ]
     },
     "metadata": {},
     "output_type": "display_data"
    },
    {
     "name": "stdout",
     "output_type": "stream",
     "text": [
      "Finding duplicate images...\n",
      "Finding near duplicate images...\n",
      "\n",
      "Score: 90.419%\n",
      "Images to compare\\frame25.jpg\n",
      "Images to compare\\frame0.jpg\n",
      "\n",
      "\n",
      "0.904190182685852\n",
      "\n",
      "\n",
      "\n",
      "\n",
      "\n",
      "\n",
      "C:\\Anomaly detection IR\\video to images\\frame25.jpg removed\n",
      "\n",
      "\n",
      "C:\\Anomaly detection IR\\video to images\\frame26.jpg copied\n",
      "\n",
      "\n",
      "Images: 2\n"
     ]
    },
    {
     "data": {
      "application/vnd.jupyter.widget-view+json": {
       "model_id": "bf5578caa43d4a7da578d895724ab8df",
       "version_major": 2,
       "version_minor": 0
      },
      "text/plain": [
       "Batches:   0%|          | 0/1 [00:00<?, ?it/s]"
      ]
     },
     "metadata": {},
     "output_type": "display_data"
    },
    {
     "name": "stdout",
     "output_type": "stream",
     "text": [
      "Finding duplicate images...\n",
      "Finding near duplicate images...\n",
      "\n",
      "Score: 89.802%\n",
      "Images to compare\\frame0.jpg\n",
      "Images to compare\\frame26.jpg\n",
      "\n",
      "\n",
      "0.8980230093002319\n",
      "\n",
      "\n",
      "\n",
      "\n",
      "\n",
      "\n",
      "C:\\Anomaly detection IR\\video to images\\frame26.jpg removed\n",
      "\n",
      "\n",
      "C:\\Anomaly detection IR\\video to images\\frame27.jpg copied\n",
      "\n",
      "\n",
      "Images: 2\n"
     ]
    },
    {
     "data": {
      "application/vnd.jupyter.widget-view+json": {
       "model_id": "cb15f745a8f34636b801c503991237bd",
       "version_major": 2,
       "version_minor": 0
      },
      "text/plain": [
       "Batches:   0%|          | 0/1 [00:00<?, ?it/s]"
      ]
     },
     "metadata": {},
     "output_type": "display_data"
    },
    {
     "name": "stdout",
     "output_type": "stream",
     "text": [
      "Finding duplicate images...\n",
      "Finding near duplicate images...\n",
      "\n",
      "Score: 89.578%\n",
      "Images to compare\\frame0.jpg\n",
      "Images to compare\\frame27.jpg\n",
      "\n",
      "\n",
      "0.895776093006134\n",
      "\n",
      "\n",
      "\n",
      "\n",
      "\n",
      "\n",
      "C:\\Anomaly detection IR\\video to images\\frame27.jpg removed\n",
      "\n",
      "\n",
      "C:\\Anomaly detection IR\\video to images\\frame28.jpg copied\n",
      "\n",
      "\n",
      "Images: 2\n"
     ]
    },
    {
     "data": {
      "application/vnd.jupyter.widget-view+json": {
       "model_id": "f71b611ae7ad4fd3a30ca10279d7a212",
       "version_major": 2,
       "version_minor": 0
      },
      "text/plain": [
       "Batches:   0%|          | 0/1 [00:00<?, ?it/s]"
      ]
     },
     "metadata": {},
     "output_type": "display_data"
    },
    {
     "name": "stdout",
     "output_type": "stream",
     "text": [
      "Finding duplicate images...\n",
      "Finding near duplicate images...\n",
      "\n",
      "Score: 89.042%\n",
      "Images to compare\\frame0.jpg\n",
      "Images to compare\\frame28.jpg\n",
      "\n",
      "\n",
      "0.8904187679290771\n",
      "\n",
      "\n",
      "\n",
      "\n",
      "\n",
      "\n",
      "C:\\Anomaly detection IR\\video to images\\frame28.jpg removed\n",
      "\n",
      "\n",
      "C:\\Anomaly detection IR\\video to images\\frame29.jpg copied\n",
      "\n",
      "\n",
      "Images: 2\n"
     ]
    },
    {
     "data": {
      "application/vnd.jupyter.widget-view+json": {
       "model_id": "45a3191751ca4cae8a4823b8a840ed3e",
       "version_major": 2,
       "version_minor": 0
      },
      "text/plain": [
       "Batches:   0%|          | 0/1 [00:00<?, ?it/s]"
      ]
     },
     "metadata": {},
     "output_type": "display_data"
    },
    {
     "name": "stdout",
     "output_type": "stream",
     "text": [
      "Finding duplicate images...\n",
      "Finding near duplicate images...\n",
      "\n",
      "Score: 88.949%\n",
      "Images to compare\\frame29.jpg\n",
      "Images to compare\\frame0.jpg\n",
      "\n",
      "\n",
      "0.8894882798194885\n",
      "\n",
      "\n",
      "\n",
      "\n",
      "\n",
      "\n",
      "C:\\Anomaly detection IR\\video to images\\frame29.jpg removed\n",
      "\n",
      "\n",
      "C:\\Anomaly detection IR\\video to images\\frame30.jpg copied\n",
      "\n",
      "\n",
      "Images: 2\n"
     ]
    },
    {
     "data": {
      "application/vnd.jupyter.widget-view+json": {
       "model_id": "03496c87298f4ab08a2e49f485e8c49d",
       "version_major": 2,
       "version_minor": 0
      },
      "text/plain": [
       "Batches:   0%|          | 0/1 [00:00<?, ?it/s]"
      ]
     },
     "metadata": {},
     "output_type": "display_data"
    },
    {
     "name": "stdout",
     "output_type": "stream",
     "text": [
      "Finding duplicate images...\n",
      "Finding near duplicate images...\n",
      "\n",
      "Score: 91.513%\n",
      "Images to compare\\frame0.jpg\n",
      "Images to compare\\frame30.jpg\n",
      "\n",
      "\n",
      "0.9151314496994019\n",
      "\n",
      "\n",
      "\n",
      "\n",
      "\n",
      "\n",
      "C:\\Anomaly detection IR\\video to images\\frame30.jpg removed\n",
      "\n",
      "\n",
      "C:\\Anomaly detection IR\\video to images\\frame31.jpg copied\n",
      "\n",
      "\n",
      "Images: 2\n"
     ]
    },
    {
     "data": {
      "application/vnd.jupyter.widget-view+json": {
       "model_id": "9c0a8126dd9543b0a1bb52de966608fe",
       "version_major": 2,
       "version_minor": 0
      },
      "text/plain": [
       "Batches:   0%|          | 0/1 [00:00<?, ?it/s]"
      ]
     },
     "metadata": {},
     "output_type": "display_data"
    },
    {
     "name": "stdout",
     "output_type": "stream",
     "text": [
      "Finding duplicate images...\n",
      "Finding near duplicate images...\n",
      "\n",
      "Score: 90.957%\n",
      "Images to compare\\frame0.jpg\n",
      "Images to compare\\frame31.jpg\n",
      "\n",
      "\n",
      "0.9095664620399475\n",
      "\n",
      "\n",
      "\n",
      "\n",
      "\n",
      "\n",
      "C:\\Anomaly detection IR\\video to images\\frame31.jpg removed\n",
      "\n",
      "\n",
      "C:\\Anomaly detection IR\\video to images\\frame32.jpg copied\n",
      "\n",
      "\n",
      "Images: 2\n"
     ]
    },
    {
     "data": {
      "application/vnd.jupyter.widget-view+json": {
       "model_id": "8a1003c6a07545fbb3345e6b0ddd7602",
       "version_major": 2,
       "version_minor": 0
      },
      "text/plain": [
       "Batches:   0%|          | 0/1 [00:00<?, ?it/s]"
      ]
     },
     "metadata": {},
     "output_type": "display_data"
    },
    {
     "name": "stdout",
     "output_type": "stream",
     "text": [
      "Finding duplicate images...\n",
      "Finding near duplicate images...\n",
      "\n",
      "Score: 89.798%\n",
      "Images to compare\\frame32.jpg\n",
      "Images to compare\\frame0.jpg\n",
      "\n",
      "\n",
      "0.8979783058166504\n",
      "\n",
      "\n",
      "\n",
      "\n",
      "\n",
      "\n",
      "C:\\Anomaly detection IR\\video to images\\frame32.jpg removed\n",
      "\n",
      "\n",
      "C:\\Anomaly detection IR\\video to images\\frame33.jpg copied\n",
      "\n",
      "\n",
      "Images: 2\n"
     ]
    },
    {
     "data": {
      "application/vnd.jupyter.widget-view+json": {
       "model_id": "2cc4a151cc464baabb1dc729a79a59cc",
       "version_major": 2,
       "version_minor": 0
      },
      "text/plain": [
       "Batches:   0%|          | 0/1 [00:00<?, ?it/s]"
      ]
     },
     "metadata": {},
     "output_type": "display_data"
    },
    {
     "name": "stdout",
     "output_type": "stream",
     "text": [
      "Finding duplicate images...\n",
      "Finding near duplicate images...\n",
      "\n",
      "Score: 90.384%\n",
      "Images to compare\\frame0.jpg\n",
      "Images to compare\\frame33.jpg\n",
      "\n",
      "\n",
      "0.9038359522819519\n",
      "\n",
      "\n",
      "\n",
      "\n",
      "\n",
      "\n",
      "C:\\Anomaly detection IR\\video to images\\frame33.jpg removed\n",
      "\n",
      "\n",
      "C:\\Anomaly detection IR\\video to images\\frame34.jpg copied\n",
      "\n",
      "\n",
      "Images: 2\n"
     ]
    },
    {
     "data": {
      "application/vnd.jupyter.widget-view+json": {
       "model_id": "6860d26a826f4fa5ab6d3f8e14c28914",
       "version_major": 2,
       "version_minor": 0
      },
      "text/plain": [
       "Batches:   0%|          | 0/1 [00:00<?, ?it/s]"
      ]
     },
     "metadata": {},
     "output_type": "display_data"
    },
    {
     "name": "stdout",
     "output_type": "stream",
     "text": [
      "Finding duplicate images...\n",
      "Finding near duplicate images...\n",
      "\n",
      "Score: 89.893%\n",
      "Images to compare\\frame0.jpg\n",
      "Images to compare\\frame34.jpg\n",
      "\n",
      "\n",
      "0.8989301919937134\n",
      "\n",
      "\n",
      "\n",
      "\n",
      "\n",
      "\n",
      "C:\\Anomaly detection IR\\video to images\\frame34.jpg removed\n",
      "\n",
      "\n",
      "C:\\Anomaly detection IR\\video to images\\frame35.jpg copied\n",
      "\n",
      "\n",
      "Images: 2\n"
     ]
    },
    {
     "data": {
      "application/vnd.jupyter.widget-view+json": {
       "model_id": "d8f311ddd3d94a5ebeb8f241940cfaee",
       "version_major": 2,
       "version_minor": 0
      },
      "text/plain": [
       "Batches:   0%|          | 0/1 [00:00<?, ?it/s]"
      ]
     },
     "metadata": {},
     "output_type": "display_data"
    },
    {
     "name": "stdout",
     "output_type": "stream",
     "text": [
      "Finding duplicate images...\n",
      "Finding near duplicate images...\n",
      "\n",
      "Score: 90.288%\n",
      "Images to compare\\frame0.jpg\n",
      "Images to compare\\frame35.jpg\n",
      "\n",
      "\n",
      "0.902877926826477\n",
      "\n",
      "\n",
      "\n",
      "\n",
      "\n",
      "\n",
      "C:\\Anomaly detection IR\\video to images\\frame35.jpg removed\n",
      "\n",
      "\n",
      "C:\\Anomaly detection IR\\video to images\\frame36.jpg copied\n",
      "\n",
      "\n",
      "Images: 2\n"
     ]
    },
    {
     "data": {
      "application/vnd.jupyter.widget-view+json": {
       "model_id": "81940c07600840d88237be57dbf11cfd",
       "version_major": 2,
       "version_minor": 0
      },
      "text/plain": [
       "Batches:   0%|          | 0/1 [00:00<?, ?it/s]"
      ]
     },
     "metadata": {},
     "output_type": "display_data"
    },
    {
     "name": "stdout",
     "output_type": "stream",
     "text": [
      "Finding duplicate images...\n",
      "Finding near duplicate images...\n",
      "\n",
      "Score: 90.802%\n",
      "Images to compare\\frame0.jpg\n",
      "Images to compare\\frame36.jpg\n",
      "\n",
      "\n",
      "0.9080227613449097\n",
      "\n",
      "\n",
      "\n",
      "\n",
      "\n",
      "\n",
      "C:\\Anomaly detection IR\\video to images\\frame36.jpg removed\n",
      "\n",
      "\n",
      "C:\\Anomaly detection IR\\video to images\\frame37.jpg copied\n",
      "\n",
      "\n",
      "Images: 2\n"
     ]
    },
    {
     "data": {
      "application/vnd.jupyter.widget-view+json": {
       "model_id": "a248a7bf2651477fadcacab495cdd7e8",
       "version_major": 2,
       "version_minor": 0
      },
      "text/plain": [
       "Batches:   0%|          | 0/1 [00:00<?, ?it/s]"
      ]
     },
     "metadata": {},
     "output_type": "display_data"
    },
    {
     "name": "stdout",
     "output_type": "stream",
     "text": [
      "Finding duplicate images...\n",
      "Finding near duplicate images...\n",
      "\n",
      "Score: 90.479%\n",
      "Images to compare\\frame0.jpg\n",
      "Images to compare\\frame37.jpg\n",
      "\n",
      "\n",
      "0.904793918132782\n",
      "\n",
      "\n",
      "\n",
      "\n",
      "\n",
      "\n",
      "C:\\Anomaly detection IR\\video to images\\frame37.jpg removed\n",
      "\n",
      "\n",
      "C:\\Anomaly detection IR\\video to images\\frame38.jpg copied\n",
      "\n",
      "\n",
      "Images: 2\n"
     ]
    },
    {
     "data": {
      "application/vnd.jupyter.widget-view+json": {
       "model_id": "c48b6da62012449c93270da460ae5796",
       "version_major": 2,
       "version_minor": 0
      },
      "text/plain": [
       "Batches:   0%|          | 0/1 [00:00<?, ?it/s]"
      ]
     },
     "metadata": {},
     "output_type": "display_data"
    },
    {
     "name": "stdout",
     "output_type": "stream",
     "text": [
      "Finding duplicate images...\n",
      "Finding near duplicate images...\n",
      "\n",
      "Score: 90.050%\n",
      "Images to compare\\frame38.jpg\n",
      "Images to compare\\frame0.jpg\n",
      "\n",
      "\n",
      "0.9005042314529419\n",
      "\n",
      "\n",
      "\n",
      "\n",
      "\n",
      "\n",
      "C:\\Anomaly detection IR\\video to images\\frame38.jpg removed\n",
      "\n",
      "\n",
      "C:\\Anomaly detection IR\\video to images\\frame39.jpg copied\n",
      "\n",
      "\n",
      "Images: 2\n"
     ]
    },
    {
     "data": {
      "application/vnd.jupyter.widget-view+json": {
       "model_id": "325b904bf36647949dd65b61accd8a33",
       "version_major": 2,
       "version_minor": 0
      },
      "text/plain": [
       "Batches:   0%|          | 0/1 [00:00<?, ?it/s]"
      ]
     },
     "metadata": {},
     "output_type": "display_data"
    },
    {
     "name": "stdout",
     "output_type": "stream",
     "text": [
      "Finding duplicate images...\n",
      "Finding near duplicate images...\n",
      "\n",
      "Score: 90.493%\n",
      "Images to compare\\frame0.jpg\n",
      "Images to compare\\frame39.jpg\n",
      "\n",
      "\n",
      "0.904931902885437\n",
      "\n",
      "\n",
      "\n",
      "\n",
      "\n",
      "\n",
      "C:\\Anomaly detection IR\\video to images\\frame39.jpg removed\n",
      "\n",
      "\n",
      "C:\\Anomaly detection IR\\video to images\\frame40.jpg copied\n",
      "\n",
      "\n",
      "Images: 2\n"
     ]
    },
    {
     "data": {
      "application/vnd.jupyter.widget-view+json": {
       "model_id": "48b70edadcb645558d13ce97a14517ea",
       "version_major": 2,
       "version_minor": 0
      },
      "text/plain": [
       "Batches:   0%|          | 0/1 [00:00<?, ?it/s]"
      ]
     },
     "metadata": {},
     "output_type": "display_data"
    },
    {
     "name": "stdout",
     "output_type": "stream",
     "text": [
      "Finding duplicate images...\n",
      "Finding near duplicate images...\n",
      "\n",
      "Score: 89.821%\n",
      "Images to compare\\frame0.jpg\n",
      "Images to compare\\frame40.jpg\n",
      "\n",
      "\n",
      "0.8982089757919312\n",
      "\n",
      "\n",
      "\n",
      "\n",
      "\n",
      "\n",
      "C:\\Anomaly detection IR\\video to images\\frame40.jpg removed\n",
      "\n",
      "\n",
      "C:\\Anomaly detection IR\\video to images\\frame41.jpg copied\n",
      "\n",
      "\n",
      "Images: 2\n"
     ]
    },
    {
     "data": {
      "application/vnd.jupyter.widget-view+json": {
       "model_id": "61db2d3095a54bffa37d23cd7bb327b5",
       "version_major": 2,
       "version_minor": 0
      },
      "text/plain": [
       "Batches:   0%|          | 0/1 [00:00<?, ?it/s]"
      ]
     },
     "metadata": {},
     "output_type": "display_data"
    },
    {
     "name": "stdout",
     "output_type": "stream",
     "text": [
      "Finding duplicate images...\n",
      "Finding near duplicate images...\n",
      "\n",
      "Score: 90.476%\n",
      "Images to compare\\frame41.jpg\n",
      "Images to compare\\frame0.jpg\n",
      "\n",
      "\n",
      "0.9047613143920898\n",
      "\n",
      "\n",
      "\n",
      "\n",
      "\n",
      "\n",
      "C:\\Anomaly detection IR\\video to images\\frame41.jpg removed\n",
      "\n",
      "\n",
      "C:\\Anomaly detection IR\\video to images\\frame42.jpg copied\n",
      "\n",
      "\n",
      "Images: 2\n"
     ]
    },
    {
     "data": {
      "application/vnd.jupyter.widget-view+json": {
       "model_id": "21d3bd4325374be6ae364a5ee5285a96",
       "version_major": 2,
       "version_minor": 0
      },
      "text/plain": [
       "Batches:   0%|          | 0/1 [00:00<?, ?it/s]"
      ]
     },
     "metadata": {},
     "output_type": "display_data"
    },
    {
     "name": "stdout",
     "output_type": "stream",
     "text": [
      "Finding duplicate images...\n",
      "Finding near duplicate images...\n",
      "\n",
      "Score: 89.923%\n",
      "Images to compare\\frame42.jpg\n",
      "Images to compare\\frame0.jpg\n",
      "\n",
      "\n",
      "0.8992336988449097\n",
      "\n",
      "\n",
      "\n",
      "\n",
      "\n",
      "\n",
      "C:\\Anomaly detection IR\\video to images\\frame42.jpg removed\n",
      "\n",
      "\n",
      "C:\\Anomaly detection IR\\video to images\\frame43.jpg copied\n",
      "\n",
      "\n",
      "Images: 2\n"
     ]
    },
    {
     "data": {
      "application/vnd.jupyter.widget-view+json": {
       "model_id": "c25f923bb3684371a3726a4fa3aba0ff",
       "version_major": 2,
       "version_minor": 0
      },
      "text/plain": [
       "Batches:   0%|          | 0/1 [00:00<?, ?it/s]"
      ]
     },
     "metadata": {},
     "output_type": "display_data"
    },
    {
     "name": "stdout",
     "output_type": "stream",
     "text": [
      "Finding duplicate images...\n",
      "Finding near duplicate images...\n",
      "\n",
      "Score: 90.699%\n",
      "Images to compare\\frame43.jpg\n",
      "Images to compare\\frame0.jpg\n",
      "\n",
      "\n",
      "0.9069865345954895\n",
      "\n",
      "\n",
      "\n",
      "\n",
      "\n",
      "\n",
      "C:\\Anomaly detection IR\\video to images\\frame43.jpg removed\n",
      "\n",
      "\n",
      "C:\\Anomaly detection IR\\video to images\\frame44.jpg copied\n",
      "\n",
      "\n",
      "Images: 2\n"
     ]
    },
    {
     "data": {
      "application/vnd.jupyter.widget-view+json": {
       "model_id": "b907ae4a68ff48a7b60922ee6a09f9da",
       "version_major": 2,
       "version_minor": 0
      },
      "text/plain": [
       "Batches:   0%|          | 0/1 [00:00<?, ?it/s]"
      ]
     },
     "metadata": {},
     "output_type": "display_data"
    },
    {
     "name": "stdout",
     "output_type": "stream",
     "text": [
      "Finding duplicate images...\n",
      "Finding near duplicate images...\n",
      "\n",
      "Score: 90.667%\n",
      "Images to compare\\frame0.jpg\n",
      "Images to compare\\frame44.jpg\n",
      "\n",
      "\n",
      "0.9066650867462158\n",
      "\n",
      "\n",
      "\n",
      "\n",
      "\n",
      "\n",
      "C:\\Anomaly detection IR\\video to images\\frame44.jpg removed\n",
      "\n",
      "\n",
      "C:\\Anomaly detection IR\\video to images\\frame45.jpg copied\n",
      "\n",
      "\n",
      "Images: 2\n"
     ]
    },
    {
     "data": {
      "application/vnd.jupyter.widget-view+json": {
       "model_id": "3062abd1b1994932b3047cfc480013fe",
       "version_major": 2,
       "version_minor": 0
      },
      "text/plain": [
       "Batches:   0%|          | 0/1 [00:00<?, ?it/s]"
      ]
     },
     "metadata": {},
     "output_type": "display_data"
    },
    {
     "name": "stdout",
     "output_type": "stream",
     "text": [
      "Finding duplicate images...\n",
      "Finding near duplicate images...\n",
      "\n",
      "Score: 91.370%\n",
      "Images to compare\\frame0.jpg\n",
      "Images to compare\\frame45.jpg\n",
      "\n",
      "\n",
      "0.9136998653411865\n",
      "\n",
      "\n",
      "\n",
      "\n",
      "\n",
      "\n",
      "C:\\Anomaly detection IR\\video to images\\frame45.jpg removed\n",
      "\n",
      "\n",
      "C:\\Anomaly detection IR\\video to images\\frame46.jpg copied\n",
      "\n",
      "\n",
      "Images: 2\n"
     ]
    },
    {
     "data": {
      "application/vnd.jupyter.widget-view+json": {
       "model_id": "548967196be645bca2bd43c032d986e4",
       "version_major": 2,
       "version_minor": 0
      },
      "text/plain": [
       "Batches:   0%|          | 0/1 [00:00<?, ?it/s]"
      ]
     },
     "metadata": {},
     "output_type": "display_data"
    },
    {
     "name": "stdout",
     "output_type": "stream",
     "text": [
      "Finding duplicate images...\n",
      "Finding near duplicate images...\n",
      "\n",
      "Score: 92.204%\n",
      "Images to compare\\frame0.jpg\n",
      "Images to compare\\frame46.jpg\n",
      "\n",
      "\n",
      "0.9220442175865173\n",
      "\n",
      "\n",
      "maybe incident\n",
      "\n",
      "\n",
      "\n",
      "\n",
      "C:\\Anomaly detection IR\\video to images\\frame46.jpg removed\n",
      "\n",
      "\n",
      "C:\\Anomaly detection IR\\video to images\\frame47.jpg copied\n",
      "\n",
      "\n",
      "Images: 2\n"
     ]
    },
    {
     "data": {
      "application/vnd.jupyter.widget-view+json": {
       "model_id": "5b1fbeec72f843b88b469012f9920a61",
       "version_major": 2,
       "version_minor": 0
      },
      "text/plain": [
       "Batches:   0%|          | 0/1 [00:00<?, ?it/s]"
      ]
     },
     "metadata": {},
     "output_type": "display_data"
    },
    {
     "name": "stdout",
     "output_type": "stream",
     "text": [
      "Finding duplicate images...\n",
      "Finding near duplicate images...\n",
      "\n",
      "Score: 90.556%\n",
      "Images to compare\\frame0.jpg\n",
      "Images to compare\\frame47.jpg\n",
      "\n",
      "\n",
      "0.9055613279342651\n",
      "\n",
      "\n",
      "\n",
      "\n",
      "\n",
      "\n",
      "C:\\Anomaly detection IR\\video to images\\frame47.jpg removed\n",
      "\n",
      "\n",
      "C:\\Anomaly detection IR\\video to images\\frame48.jpg copied\n",
      "\n",
      "\n",
      "Images: 2\n"
     ]
    },
    {
     "data": {
      "application/vnd.jupyter.widget-view+json": {
       "model_id": "4a7dd20c048140e3b0d516b73c8aeed0",
       "version_major": 2,
       "version_minor": 0
      },
      "text/plain": [
       "Batches:   0%|          | 0/1 [00:00<?, ?it/s]"
      ]
     },
     "metadata": {},
     "output_type": "display_data"
    },
    {
     "name": "stdout",
     "output_type": "stream",
     "text": [
      "Finding duplicate images...\n",
      "Finding near duplicate images...\n",
      "\n",
      "Score: 91.475%\n",
      "Images to compare\\frame0.jpg\n",
      "Images to compare\\frame48.jpg\n",
      "\n",
      "\n",
      "0.9147529602050781\n",
      "\n",
      "\n",
      "\n",
      "\n",
      "\n",
      "\n",
      "C:\\Anomaly detection IR\\video to images\\frame48.jpg removed\n",
      "\n",
      "\n",
      "C:\\Anomaly detection IR\\video to images\\frame49.jpg copied\n",
      "\n",
      "\n",
      "Images: 2\n"
     ]
    },
    {
     "data": {
      "application/vnd.jupyter.widget-view+json": {
       "model_id": "6e004d7b207e483b8a7a376aeac73488",
       "version_major": 2,
       "version_minor": 0
      },
      "text/plain": [
       "Batches:   0%|          | 0/1 [00:00<?, ?it/s]"
      ]
     },
     "metadata": {},
     "output_type": "display_data"
    },
    {
     "name": "stdout",
     "output_type": "stream",
     "text": [
      "Finding duplicate images...\n",
      "Finding near duplicate images...\n",
      "\n",
      "Score: 92.625%\n",
      "Images to compare\\frame0.jpg\n",
      "Images to compare\\frame49.jpg\n",
      "\n",
      "\n",
      "0.9262499213218689\n",
      "\n",
      "\n",
      "maybe incident\n",
      "\n",
      "\n",
      "\n",
      "\n",
      "C:\\Anomaly detection IR\\video to images\\frame49.jpg removed\n",
      "\n",
      "\n",
      "C:\\Anomaly detection IR\\video to images\\frame50.jpg copied\n",
      "\n",
      "\n",
      "Images: 2\n"
     ]
    },
    {
     "data": {
      "application/vnd.jupyter.widget-view+json": {
       "model_id": "5135f51ccd3343b7b4c9568b2372e18e",
       "version_major": 2,
       "version_minor": 0
      },
      "text/plain": [
       "Batches:   0%|          | 0/1 [00:00<?, ?it/s]"
      ]
     },
     "metadata": {},
     "output_type": "display_data"
    },
    {
     "name": "stdout",
     "output_type": "stream",
     "text": [
      "Finding duplicate images...\n",
      "Finding near duplicate images...\n",
      "\n",
      "Score: 92.416%\n",
      "Images to compare\\frame0.jpg\n",
      "Images to compare\\frame50.jpg\n",
      "\n",
      "\n",
      "0.9241604804992676\n",
      "\n",
      "\n",
      "maybe incident\n",
      "\n",
      "\n",
      "\n",
      "\n",
      "C:\\Anomaly detection IR\\video to images\\frame50.jpg removed\n",
      "\n",
      "\n",
      "C:\\Anomaly detection IR\\video to images\\frame51.jpg copied\n",
      "\n",
      "\n",
      "Images: 2\n"
     ]
    },
    {
     "data": {
      "application/vnd.jupyter.widget-view+json": {
       "model_id": "f76512c1062c482bb78aae95f5660c0a",
       "version_major": 2,
       "version_minor": 0
      },
      "text/plain": [
       "Batches:   0%|          | 0/1 [00:00<?, ?it/s]"
      ]
     },
     "metadata": {},
     "output_type": "display_data"
    },
    {
     "name": "stdout",
     "output_type": "stream",
     "text": [
      "Finding duplicate images...\n",
      "Finding near duplicate images...\n",
      "\n",
      "Score: 91.914%\n",
      "Images to compare\\frame0.jpg\n",
      "Images to compare\\frame51.jpg\n",
      "\n",
      "\n",
      "0.9191442728042603\n",
      "\n",
      "\n",
      "\n",
      "\n",
      "\n",
      "\n",
      "C:\\Anomaly detection IR\\video to images\\frame51.jpg removed\n",
      "\n",
      "\n",
      "C:\\Anomaly detection IR\\video to images\\frame52.jpg copied\n",
      "\n",
      "\n",
      "Images: 2\n"
     ]
    },
    {
     "data": {
      "application/vnd.jupyter.widget-view+json": {
       "model_id": "b588891b2d83451ea50138225af22bf8",
       "version_major": 2,
       "version_minor": 0
      },
      "text/plain": [
       "Batches:   0%|          | 0/1 [00:00<?, ?it/s]"
      ]
     },
     "metadata": {},
     "output_type": "display_data"
    },
    {
     "name": "stdout",
     "output_type": "stream",
     "text": [
      "Finding duplicate images...\n",
      "Finding near duplicate images...\n",
      "\n",
      "Score: 92.373%\n",
      "Images to compare\\frame0.jpg\n",
      "Images to compare\\frame52.jpg\n",
      "\n",
      "\n",
      "0.9237338304519653\n",
      "\n",
      "\n",
      "maybe incident\n",
      "\n",
      "\n",
      "\n",
      "\n",
      "C:\\Anomaly detection IR\\video to images\\frame52.jpg removed\n",
      "\n",
      "\n",
      "C:\\Anomaly detection IR\\video to images\\frame53.jpg copied\n",
      "\n",
      "\n",
      "Images: 2\n"
     ]
    },
    {
     "data": {
      "application/vnd.jupyter.widget-view+json": {
       "model_id": "2e5ad25cd89e4511be7c46b6073cf178",
       "version_major": 2,
       "version_minor": 0
      },
      "text/plain": [
       "Batches:   0%|          | 0/1 [00:00<?, ?it/s]"
      ]
     },
     "metadata": {},
     "output_type": "display_data"
    },
    {
     "name": "stdout",
     "output_type": "stream",
     "text": [
      "Finding duplicate images...\n",
      "Finding near duplicate images...\n",
      "\n",
      "Score: 91.771%\n",
      "Images to compare\\frame0.jpg\n",
      "Images to compare\\frame53.jpg\n",
      "\n",
      "\n",
      "0.9177124500274658\n",
      "\n",
      "\n",
      "\n",
      "\n",
      "\n",
      "\n",
      "C:\\Anomaly detection IR\\video to images\\frame53.jpg removed\n",
      "\n",
      "\n",
      "C:\\Anomaly detection IR\\video to images\\frame54.jpg copied\n",
      "\n",
      "\n",
      "Images: 2\n"
     ]
    },
    {
     "data": {
      "application/vnd.jupyter.widget-view+json": {
       "model_id": "880a53242b1d43cdb78be45f04a4b2e8",
       "version_major": 2,
       "version_minor": 0
      },
      "text/plain": [
       "Batches:   0%|          | 0/1 [00:00<?, ?it/s]"
      ]
     },
     "metadata": {},
     "output_type": "display_data"
    },
    {
     "name": "stdout",
     "output_type": "stream",
     "text": [
      "Finding duplicate images...\n",
      "Finding near duplicate images...\n",
      "\n",
      "Score: 91.458%\n",
      "Images to compare\\frame0.jpg\n",
      "Images to compare\\frame54.jpg\n",
      "\n",
      "\n",
      "0.9145800471305847\n",
      "\n",
      "\n",
      "\n",
      "\n",
      "\n",
      "\n",
      "C:\\Anomaly detection IR\\video to images\\frame54.jpg removed\n",
      "\n",
      "\n",
      "C:\\Anomaly detection IR\\video to images\\frame55.jpg copied\n",
      "\n",
      "\n",
      "Images: 2\n"
     ]
    },
    {
     "data": {
      "application/vnd.jupyter.widget-view+json": {
       "model_id": "721c32f727b3467f92b92ef6547ce578",
       "version_major": 2,
       "version_minor": 0
      },
      "text/plain": [
       "Batches:   0%|          | 0/1 [00:00<?, ?it/s]"
      ]
     },
     "metadata": {},
     "output_type": "display_data"
    },
    {
     "name": "stdout",
     "output_type": "stream",
     "text": [
      "Finding duplicate images...\n",
      "Finding near duplicate images...\n",
      "\n",
      "Score: 90.225%\n",
      "Images to compare\\frame0.jpg\n",
      "Images to compare\\frame55.jpg\n",
      "\n",
      "\n",
      "0.9022475481033325\n",
      "\n",
      "\n",
      "\n",
      "\n",
      "\n",
      "\n",
      "C:\\Anomaly detection IR\\video to images\\frame55.jpg removed\n",
      "\n",
      "\n",
      "C:\\Anomaly detection IR\\video to images\\frame56.jpg copied\n",
      "\n",
      "\n",
      "Images: 2\n"
     ]
    },
    {
     "data": {
      "application/vnd.jupyter.widget-view+json": {
       "model_id": "324bfabe21fb4c76ac195c9924f21dac",
       "version_major": 2,
       "version_minor": 0
      },
      "text/plain": [
       "Batches:   0%|          | 0/1 [00:00<?, ?it/s]"
      ]
     },
     "metadata": {},
     "output_type": "display_data"
    },
    {
     "name": "stdout",
     "output_type": "stream",
     "text": [
      "Finding duplicate images...\n",
      "Finding near duplicate images...\n",
      "\n",
      "Score: 89.733%\n",
      "Images to compare\\frame0.jpg\n",
      "Images to compare\\frame56.jpg\n",
      "\n",
      "\n",
      "0.8973303437232971\n",
      "\n",
      "\n",
      "\n",
      "\n",
      "\n",
      "\n",
      "C:\\Anomaly detection IR\\video to images\\frame56.jpg removed\n",
      "\n",
      "\n",
      "C:\\Anomaly detection IR\\video to images\\frame57.jpg copied\n",
      "\n",
      "\n",
      "Images: 2\n"
     ]
    },
    {
     "data": {
      "application/vnd.jupyter.widget-view+json": {
       "model_id": "d43328b19bf5438a8cef5dda1bf14c42",
       "version_major": 2,
       "version_minor": 0
      },
      "text/plain": [
       "Batches:   0%|          | 0/1 [00:00<?, ?it/s]"
      ]
     },
     "metadata": {},
     "output_type": "display_data"
    },
    {
     "name": "stdout",
     "output_type": "stream",
     "text": [
      "Finding duplicate images...\n",
      "Finding near duplicate images...\n",
      "\n",
      "Score: 91.051%\n",
      "Images to compare\\frame0.jpg\n",
      "Images to compare\\frame57.jpg\n",
      "\n",
      "\n",
      "0.9105141758918762\n",
      "\n",
      "\n",
      "\n",
      "\n",
      "\n",
      "\n",
      "C:\\Anomaly detection IR\\video to images\\frame57.jpg removed\n",
      "\n",
      "\n",
      "C:\\Anomaly detection IR\\video to images\\frame58.jpg copied\n",
      "\n",
      "\n",
      "Images: 2\n"
     ]
    },
    {
     "data": {
      "application/vnd.jupyter.widget-view+json": {
       "model_id": "e4d8ed222cfb4fe8bbebae85bb0f9cc2",
       "version_major": 2,
       "version_minor": 0
      },
      "text/plain": [
       "Batches:   0%|          | 0/1 [00:00<?, ?it/s]"
      ]
     },
     "metadata": {},
     "output_type": "display_data"
    },
    {
     "name": "stdout",
     "output_type": "stream",
     "text": [
      "Finding duplicate images...\n",
      "Finding near duplicate images...\n",
      "\n",
      "Score: 91.126%\n",
      "Images to compare\\frame0.jpg\n",
      "Images to compare\\frame58.jpg\n",
      "\n",
      "\n",
      "0.9112582802772522\n",
      "\n",
      "\n",
      "\n",
      "\n",
      "\n",
      "\n",
      "C:\\Anomaly detection IR\\video to images\\frame58.jpg removed\n",
      "\n",
      "\n",
      "C:\\Anomaly detection IR\\video to images\\frame59.jpg copied\n",
      "\n",
      "\n",
      "Images: 2\n"
     ]
    },
    {
     "data": {
      "application/vnd.jupyter.widget-view+json": {
       "model_id": "8b6be56ba9ff4a35bd070e5f7d030724",
       "version_major": 2,
       "version_minor": 0
      },
      "text/plain": [
       "Batches:   0%|          | 0/1 [00:00<?, ?it/s]"
      ]
     },
     "metadata": {},
     "output_type": "display_data"
    },
    {
     "name": "stdout",
     "output_type": "stream",
     "text": [
      "Finding duplicate images...\n",
      "Finding near duplicate images...\n",
      "\n",
      "Score: 91.953%\n",
      "Images to compare\\frame0.jpg\n",
      "Images to compare\\frame59.jpg\n",
      "\n",
      "\n",
      "0.9195325970649719\n",
      "\n",
      "\n",
      "\n",
      "\n",
      "\n",
      "\n",
      "C:\\Anomaly detection IR\\video to images\\frame59.jpg removed\n",
      "\n",
      "\n",
      "C:\\Anomaly detection IR\\video to images\\frame60.jpg copied\n",
      "\n",
      "\n",
      "Images: 2\n"
     ]
    },
    {
     "data": {
      "application/vnd.jupyter.widget-view+json": {
       "model_id": "d28e3b0879474ab0838a2d02f76e525c",
       "version_major": 2,
       "version_minor": 0
      },
      "text/plain": [
       "Batches:   0%|          | 0/1 [00:00<?, ?it/s]"
      ]
     },
     "metadata": {},
     "output_type": "display_data"
    },
    {
     "name": "stdout",
     "output_type": "stream",
     "text": [
      "Finding duplicate images...\n",
      "Finding near duplicate images...\n",
      "\n",
      "Score: 93.653%\n",
      "Images to compare\\frame0.jpg\n",
      "Images to compare\\frame60.jpg\n",
      "\n",
      "\n",
      "0.9365271329879761\n",
      "\n",
      "\n",
      "maybe incident\n",
      "\n",
      "\n",
      "\n",
      "\n",
      "C:\\Anomaly detection IR\\video to images\\frame60.jpg removed\n",
      "\n",
      "\n",
      "C:\\Anomaly detection IR\\video to images\\frame61.jpg copied\n",
      "\n",
      "\n",
      "Images: 2\n"
     ]
    },
    {
     "data": {
      "application/vnd.jupyter.widget-view+json": {
       "model_id": "8af7abd6d78a4b6aa8abc81c28c33381",
       "version_major": 2,
       "version_minor": 0
      },
      "text/plain": [
       "Batches:   0%|          | 0/1 [00:00<?, ?it/s]"
      ]
     },
     "metadata": {},
     "output_type": "display_data"
    },
    {
     "name": "stdout",
     "output_type": "stream",
     "text": [
      "Finding duplicate images...\n",
      "Finding near duplicate images...\n",
      "\n",
      "Score: 92.087%\n",
      "Images to compare\\frame0.jpg\n",
      "Images to compare\\frame61.jpg\n",
      "\n",
      "\n",
      "0.9208738207817078\n",
      "\n",
      "\n",
      "maybe incident\n",
      "\n",
      "\n",
      "\n",
      "\n",
      "C:\\Anomaly detection IR\\video to images\\frame61.jpg removed\n",
      "\n",
      "\n",
      "C:\\Anomaly detection IR\\video to images\\frame62.jpg copied\n",
      "\n",
      "\n",
      "Images: 2\n"
     ]
    },
    {
     "data": {
      "application/vnd.jupyter.widget-view+json": {
       "model_id": "329049f23f734daebdcc375f651a6269",
       "version_major": 2,
       "version_minor": 0
      },
      "text/plain": [
       "Batches:   0%|          | 0/1 [00:00<?, ?it/s]"
      ]
     },
     "metadata": {},
     "output_type": "display_data"
    },
    {
     "name": "stdout",
     "output_type": "stream",
     "text": [
      "Finding duplicate images...\n",
      "Finding near duplicate images...\n",
      "\n",
      "Score: 92.940%\n",
      "Images to compare\\frame0.jpg\n",
      "Images to compare\\frame62.jpg\n",
      "\n",
      "\n",
      "0.9293988943099976\n",
      "\n",
      "\n",
      "maybe incident\n",
      "\n",
      "\n",
      "\n",
      "\n",
      "C:\\Anomaly detection IR\\video to images\\frame62.jpg removed\n",
      "\n",
      "\n",
      "C:\\Anomaly detection IR\\video to images\\frame63.jpg copied\n",
      "\n",
      "\n",
      "Images: 2\n"
     ]
    },
    {
     "data": {
      "application/vnd.jupyter.widget-view+json": {
       "model_id": "bfb8477e72c04e0ca09dbe0b5fa0258a",
       "version_major": 2,
       "version_minor": 0
      },
      "text/plain": [
       "Batches:   0%|          | 0/1 [00:00<?, ?it/s]"
      ]
     },
     "metadata": {},
     "output_type": "display_data"
    },
    {
     "name": "stdout",
     "output_type": "stream",
     "text": [
      "Finding duplicate images...\n",
      "Finding near duplicate images...\n",
      "\n",
      "Score: 92.598%\n",
      "Images to compare\\frame0.jpg\n",
      "Images to compare\\frame63.jpg\n",
      "\n",
      "\n",
      "0.9259810447692871\n",
      "\n",
      "\n",
      "maybe incident\n",
      "\n",
      "\n",
      "\n",
      "\n",
      "C:\\Anomaly detection IR\\video to images\\frame63.jpg removed\n",
      "\n",
      "\n",
      "C:\\Anomaly detection IR\\video to images\\frame64.jpg copied\n",
      "\n",
      "\n",
      "Images: 2\n"
     ]
    },
    {
     "data": {
      "application/vnd.jupyter.widget-view+json": {
       "model_id": "4885cc29430547d8b9d304803495f123",
       "version_major": 2,
       "version_minor": 0
      },
      "text/plain": [
       "Batches:   0%|          | 0/1 [00:00<?, ?it/s]"
      ]
     },
     "metadata": {},
     "output_type": "display_data"
    },
    {
     "name": "stdout",
     "output_type": "stream",
     "text": [
      "Finding duplicate images...\n",
      "Finding near duplicate images...\n",
      "\n",
      "Score: 91.287%\n",
      "Images to compare\\frame64.jpg\n",
      "Images to compare\\frame0.jpg\n",
      "\n",
      "\n",
      "0.9128729701042175\n",
      "\n",
      "\n",
      "\n",
      "\n",
      "\n",
      "\n",
      "C:\\Anomaly detection IR\\video to images\\frame64.jpg removed\n",
      "\n",
      "\n",
      "C:\\Anomaly detection IR\\video to images\\frame65.jpg copied\n",
      "\n",
      "\n",
      "Images: 2\n"
     ]
    },
    {
     "data": {
      "application/vnd.jupyter.widget-view+json": {
       "model_id": "7c9ddbf871ae49d3a57623cba28c41d2",
       "version_major": 2,
       "version_minor": 0
      },
      "text/plain": [
       "Batches:   0%|          | 0/1 [00:00<?, ?it/s]"
      ]
     },
     "metadata": {},
     "output_type": "display_data"
    },
    {
     "name": "stdout",
     "output_type": "stream",
     "text": [
      "Finding duplicate images...\n",
      "Finding near duplicate images...\n",
      "\n",
      "Score: 91.957%\n",
      "Images to compare\\frame0.jpg\n",
      "Images to compare\\frame65.jpg\n",
      "\n",
      "\n",
      "0.9195703864097595\n",
      "\n",
      "\n",
      "\n",
      "\n",
      "\n",
      "\n",
      "C:\\Anomaly detection IR\\video to images\\frame65.jpg removed\n",
      "\n",
      "\n",
      "C:\\Anomaly detection IR\\video to images\\frame66.jpg copied\n",
      "\n",
      "\n",
      "Images: 2\n"
     ]
    },
    {
     "data": {
      "application/vnd.jupyter.widget-view+json": {
       "model_id": "8cfd21db32da4bcf88011b21e5ab9653",
       "version_major": 2,
       "version_minor": 0
      },
      "text/plain": [
       "Batches:   0%|          | 0/1 [00:00<?, ?it/s]"
      ]
     },
     "metadata": {},
     "output_type": "display_data"
    },
    {
     "name": "stdout",
     "output_type": "stream",
     "text": [
      "Finding duplicate images...\n",
      "Finding near duplicate images...\n",
      "\n",
      "Score: 91.889%\n",
      "Images to compare\\frame66.jpg\n",
      "Images to compare\\frame0.jpg\n",
      "\n",
      "\n",
      "0.918890655040741\n",
      "\n",
      "\n",
      "\n",
      "\n",
      "\n",
      "\n",
      "C:\\Anomaly detection IR\\video to images\\frame66.jpg removed\n",
      "\n",
      "\n",
      "C:\\Anomaly detection IR\\video to images\\frame67.jpg copied\n",
      "\n",
      "\n",
      "Images: 2\n"
     ]
    },
    {
     "data": {
      "application/vnd.jupyter.widget-view+json": {
       "model_id": "ff89e21b7b434e8ab1c4b33852b0fb1f",
       "version_major": 2,
       "version_minor": 0
      },
      "text/plain": [
       "Batches:   0%|          | 0/1 [00:00<?, ?it/s]"
      ]
     },
     "metadata": {},
     "output_type": "display_data"
    },
    {
     "name": "stdout",
     "output_type": "stream",
     "text": [
      "Finding duplicate images...\n",
      "Finding near duplicate images...\n",
      "\n",
      "Score: 91.569%\n",
      "Images to compare\\frame0.jpg\n",
      "Images to compare\\frame67.jpg\n",
      "\n",
      "\n",
      "0.9156944751739502\n",
      "\n",
      "\n",
      "\n",
      "\n",
      "\n",
      "\n",
      "C:\\Anomaly detection IR\\video to images\\frame67.jpg removed\n",
      "\n",
      "\n",
      "C:\\Anomaly detection IR\\video to images\\frame68.jpg copied\n",
      "\n",
      "\n",
      "Images: 2\n"
     ]
    },
    {
     "data": {
      "application/vnd.jupyter.widget-view+json": {
       "model_id": "37126029a1244177b161db165917e55c",
       "version_major": 2,
       "version_minor": 0
      },
      "text/plain": [
       "Batches:   0%|          | 0/1 [00:00<?, ?it/s]"
      ]
     },
     "metadata": {},
     "output_type": "display_data"
    },
    {
     "name": "stdout",
     "output_type": "stream",
     "text": [
      "Finding duplicate images...\n",
      "Finding near duplicate images...\n",
      "\n",
      "Score: 92.211%\n",
      "Images to compare\\frame0.jpg\n",
      "Images to compare\\frame68.jpg\n",
      "\n",
      "\n",
      "0.922107458114624\n",
      "\n",
      "\n",
      "maybe incident\n",
      "\n",
      "\n",
      "\n",
      "\n",
      "C:\\Anomaly detection IR\\video to images\\frame68.jpg removed\n",
      "\n",
      "\n",
      "C:\\Anomaly detection IR\\video to images\\frame69.jpg copied\n",
      "\n",
      "\n",
      "Images: 2\n"
     ]
    },
    {
     "data": {
      "application/vnd.jupyter.widget-view+json": {
       "model_id": "d67296bf6f564deb856291a509372c97",
       "version_major": 2,
       "version_minor": 0
      },
      "text/plain": [
       "Batches:   0%|          | 0/1 [00:00<?, ?it/s]"
      ]
     },
     "metadata": {},
     "output_type": "display_data"
    },
    {
     "name": "stdout",
     "output_type": "stream",
     "text": [
      "Finding duplicate images...\n",
      "Finding near duplicate images...\n",
      "\n",
      "Score: 92.068%\n",
      "Images to compare\\frame0.jpg\n",
      "Images to compare\\frame69.jpg\n",
      "\n",
      "\n",
      "0.9206843972206116\n",
      "\n",
      "\n",
      "maybe incident\n",
      "\n",
      "\n",
      "\n",
      "\n",
      "C:\\Anomaly detection IR\\video to images\\frame69.jpg removed\n",
      "\n",
      "\n",
      "C:\\Anomaly detection IR\\video to images\\frame70.jpg copied\n",
      "\n",
      "\n",
      "Images: 2\n"
     ]
    },
    {
     "data": {
      "application/vnd.jupyter.widget-view+json": {
       "model_id": "467e5bf8b1444d14abbc45794e520ca7",
       "version_major": 2,
       "version_minor": 0
      },
      "text/plain": [
       "Batches:   0%|          | 0/1 [00:00<?, ?it/s]"
      ]
     },
     "metadata": {},
     "output_type": "display_data"
    },
    {
     "name": "stdout",
     "output_type": "stream",
     "text": [
      "Finding duplicate images...\n",
      "Finding near duplicate images...\n",
      "\n",
      "Score: 92.954%\n",
      "Images to compare\\frame0.jpg\n",
      "Images to compare\\frame70.jpg\n",
      "\n",
      "\n",
      "0.9295374155044556\n",
      "\n",
      "\n",
      "maybe incident\n",
      "\n",
      "\n",
      "\n",
      "\n",
      "C:\\Anomaly detection IR\\video to images\\frame70.jpg removed\n",
      "\n",
      "\n",
      "C:\\Anomaly detection IR\\video to images\\frame71.jpg copied\n",
      "\n",
      "\n",
      "Images: 2\n"
     ]
    },
    {
     "data": {
      "application/vnd.jupyter.widget-view+json": {
       "model_id": "d0889c11c5764108a2079290ff95199a",
       "version_major": 2,
       "version_minor": 0
      },
      "text/plain": [
       "Batches:   0%|          | 0/1 [00:00<?, ?it/s]"
      ]
     },
     "metadata": {},
     "output_type": "display_data"
    },
    {
     "name": "stdout",
     "output_type": "stream",
     "text": [
      "Finding duplicate images...\n",
      "Finding near duplicate images...\n",
      "\n",
      "Score: 91.723%\n",
      "Images to compare\\frame0.jpg\n",
      "Images to compare\\frame71.jpg\n",
      "\n",
      "\n",
      "0.9172320365905762\n",
      "\n",
      "\n",
      "\n",
      "\n",
      "\n",
      "\n",
      "C:\\Anomaly detection IR\\video to images\\frame71.jpg removed\n",
      "\n",
      "\n",
      "C:\\Anomaly detection IR\\video to images\\frame72.jpg copied\n",
      "\n",
      "\n",
      "Images: 2\n"
     ]
    },
    {
     "data": {
      "application/vnd.jupyter.widget-view+json": {
       "model_id": "157446ebeb434ef69bfcfaf99c866caf",
       "version_major": 2,
       "version_minor": 0
      },
      "text/plain": [
       "Batches:   0%|          | 0/1 [00:00<?, ?it/s]"
      ]
     },
     "metadata": {},
     "output_type": "display_data"
    },
    {
     "name": "stdout",
     "output_type": "stream",
     "text": [
      "Finding duplicate images...\n",
      "Finding near duplicate images...\n",
      "\n",
      "Score: 93.120%\n",
      "Images to compare\\frame72.jpg\n",
      "Images to compare\\frame0.jpg\n",
      "\n",
      "\n",
      "0.9311959147453308\n",
      "\n",
      "\n",
      "maybe incident\n",
      "\n",
      "\n",
      "\n",
      "\n",
      "C:\\Anomaly detection IR\\video to images\\frame72.jpg removed\n",
      "\n",
      "\n",
      "C:\\Anomaly detection IR\\video to images\\frame73.jpg copied\n",
      "\n",
      "\n",
      "Images: 2\n"
     ]
    },
    {
     "data": {
      "application/vnd.jupyter.widget-view+json": {
       "model_id": "531c9353c9fe4d568180ee1b3e275d35",
       "version_major": 2,
       "version_minor": 0
      },
      "text/plain": [
       "Batches:   0%|          | 0/1 [00:00<?, ?it/s]"
      ]
     },
     "metadata": {},
     "output_type": "display_data"
    },
    {
     "name": "stdout",
     "output_type": "stream",
     "text": [
      "Finding duplicate images...\n",
      "Finding near duplicate images...\n",
      "\n",
      "Score: 93.050%\n",
      "Images to compare\\frame0.jpg\n",
      "Images to compare\\frame73.jpg\n",
      "\n",
      "\n",
      "0.9305046796798706\n",
      "\n",
      "\n",
      "maybe incident\n",
      "\n",
      "\n",
      "\n",
      "\n",
      "C:\\Anomaly detection IR\\video to images\\frame73.jpg removed\n",
      "\n",
      "\n",
      "C:\\Anomaly detection IR\\video to images\\frame74.jpg copied\n",
      "\n",
      "\n",
      "Images: 2\n"
     ]
    },
    {
     "data": {
      "application/vnd.jupyter.widget-view+json": {
       "model_id": "635d7c89fa0f45a89dc59cbafdab0059",
       "version_major": 2,
       "version_minor": 0
      },
      "text/plain": [
       "Batches:   0%|          | 0/1 [00:00<?, ?it/s]"
      ]
     },
     "metadata": {},
     "output_type": "display_data"
    },
    {
     "name": "stdout",
     "output_type": "stream",
     "text": [
      "Finding duplicate images...\n",
      "Finding near duplicate images...\n",
      "\n",
      "Score: 91.425%\n",
      "Images to compare\\frame0.jpg\n",
      "Images to compare\\frame74.jpg\n",
      "\n",
      "\n",
      "0.9142482280731201\n",
      "\n",
      "\n",
      "\n",
      "\n",
      "\n",
      "\n",
      "C:\\Anomaly detection IR\\video to images\\frame74.jpg removed\n",
      "\n",
      "\n",
      "C:\\Anomaly detection IR\\video to images\\frame75.jpg copied\n",
      "\n",
      "\n",
      "Images: 2\n"
     ]
    },
    {
     "data": {
      "application/vnd.jupyter.widget-view+json": {
       "model_id": "6b00aa30d0a64f4bbc71e42c73b95420",
       "version_major": 2,
       "version_minor": 0
      },
      "text/plain": [
       "Batches:   0%|          | 0/1 [00:00<?, ?it/s]"
      ]
     },
     "metadata": {},
     "output_type": "display_data"
    },
    {
     "name": "stdout",
     "output_type": "stream",
     "text": [
      "Finding duplicate images...\n",
      "Finding near duplicate images...\n",
      "\n",
      "Score: 91.707%\n",
      "Images to compare\\frame75.jpg\n",
      "Images to compare\\frame0.jpg\n",
      "\n",
      "\n",
      "0.9170699119567871\n",
      "\n",
      "\n",
      "\n",
      "\n",
      "\n",
      "\n",
      "C:\\Anomaly detection IR\\video to images\\frame75.jpg removed\n",
      "\n",
      "\n",
      "C:\\Anomaly detection IR\\video to images\\frame76.jpg copied\n",
      "\n",
      "\n",
      "Images: 2\n"
     ]
    },
    {
     "data": {
      "application/vnd.jupyter.widget-view+json": {
       "model_id": "803378926daf4d7ab7ce8e2dcf19f7ed",
       "version_major": 2,
       "version_minor": 0
      },
      "text/plain": [
       "Batches:   0%|          | 0/1 [00:00<?, ?it/s]"
      ]
     },
     "metadata": {},
     "output_type": "display_data"
    },
    {
     "name": "stdout",
     "output_type": "stream",
     "text": [
      "Finding duplicate images...\n",
      "Finding near duplicate images...\n",
      "\n",
      "Score: 91.332%\n",
      "Images to compare\\frame0.jpg\n",
      "Images to compare\\frame76.jpg\n",
      "\n",
      "\n",
      "0.9133156538009644\n",
      "\n",
      "\n",
      "\n",
      "\n",
      "\n",
      "\n",
      "C:\\Anomaly detection IR\\video to images\\frame76.jpg removed\n",
      "\n",
      "\n",
      "C:\\Anomaly detection IR\\video to images\\frame77.jpg copied\n",
      "\n",
      "\n",
      "Images: 2\n"
     ]
    },
    {
     "data": {
      "application/vnd.jupyter.widget-view+json": {
       "model_id": "722cebfd6af447fba800a6a4278dcc61",
       "version_major": 2,
       "version_minor": 0
      },
      "text/plain": [
       "Batches:   0%|          | 0/1 [00:00<?, ?it/s]"
      ]
     },
     "metadata": {},
     "output_type": "display_data"
    },
    {
     "name": "stdout",
     "output_type": "stream",
     "text": [
      "Finding duplicate images...\n",
      "Finding near duplicate images...\n",
      "\n",
      "Score: 90.706%\n",
      "Images to compare\\frame0.jpg\n",
      "Images to compare\\frame77.jpg\n",
      "\n",
      "\n",
      "0.9070574045181274\n",
      "\n",
      "\n",
      "\n",
      "\n",
      "\n",
      "\n",
      "C:\\Anomaly detection IR\\video to images\\frame77.jpg removed\n",
      "\n",
      "\n",
      "C:\\Anomaly detection IR\\video to images\\frame78.jpg copied\n",
      "\n",
      "\n",
      "Images: 2\n"
     ]
    },
    {
     "data": {
      "application/vnd.jupyter.widget-view+json": {
       "model_id": "e903288361f44634b252b83a53889467",
       "version_major": 2,
       "version_minor": 0
      },
      "text/plain": [
       "Batches:   0%|          | 0/1 [00:00<?, ?it/s]"
      ]
     },
     "metadata": {},
     "output_type": "display_data"
    },
    {
     "name": "stdout",
     "output_type": "stream",
     "text": [
      "Finding duplicate images...\n",
      "Finding near duplicate images...\n",
      "\n",
      "Score: 90.461%\n",
      "Images to compare\\frame0.jpg\n",
      "Images to compare\\frame78.jpg\n",
      "\n",
      "\n",
      "0.9046063423156738\n",
      "\n",
      "\n",
      "\n",
      "\n",
      "\n",
      "\n",
      "C:\\Anomaly detection IR\\video to images\\frame78.jpg removed\n",
      "\n",
      "\n",
      "C:\\Anomaly detection IR\\video to images\\frame79.jpg copied\n",
      "\n",
      "\n",
      "Images: 2\n"
     ]
    },
    {
     "data": {
      "application/vnd.jupyter.widget-view+json": {
       "model_id": "cb1f3234b5c94c10a758d46f956b87e3",
       "version_major": 2,
       "version_minor": 0
      },
      "text/plain": [
       "Batches:   0%|          | 0/1 [00:00<?, ?it/s]"
      ]
     },
     "metadata": {},
     "output_type": "display_data"
    },
    {
     "name": "stdout",
     "output_type": "stream",
     "text": [
      "Finding duplicate images...\n",
      "Finding near duplicate images...\n",
      "\n",
      "Score: 90.012%\n",
      "Images to compare\\frame0.jpg\n",
      "Images to compare\\frame79.jpg\n",
      "\n",
      "\n",
      "0.900117814540863\n",
      "\n",
      "\n",
      "\n",
      "\n",
      "\n",
      "\n",
      "C:\\Anomaly detection IR\\video to images\\frame79.jpg removed\n",
      "\n",
      "\n",
      "C:\\Anomaly detection IR\\video to images\\frame80.jpg copied\n",
      "\n",
      "\n",
      "Images: 2\n"
     ]
    },
    {
     "data": {
      "application/vnd.jupyter.widget-view+json": {
       "model_id": "682d29e7301245f3b633879a4cd07d82",
       "version_major": 2,
       "version_minor": 0
      },
      "text/plain": [
       "Batches:   0%|          | 0/1 [00:00<?, ?it/s]"
      ]
     },
     "metadata": {},
     "output_type": "display_data"
    },
    {
     "name": "stdout",
     "output_type": "stream",
     "text": [
      "Finding duplicate images...\n",
      "Finding near duplicate images...\n",
      "\n",
      "Score: 90.535%\n",
      "Images to compare\\frame0.jpg\n",
      "Images to compare\\frame80.jpg\n",
      "\n",
      "\n",
      "0.9053462743759155\n",
      "\n",
      "\n",
      "\n",
      "\n",
      "\n",
      "\n",
      "C:\\Anomaly detection IR\\video to images\\frame80.jpg removed\n",
      "\n",
      "\n",
      "C:\\Anomaly detection IR\\video to images\\frame81.jpg copied\n",
      "\n",
      "\n",
      "Images: 2\n"
     ]
    },
    {
     "data": {
      "application/vnd.jupyter.widget-view+json": {
       "model_id": "82174983e0b24af8986b3464a0a525c3",
       "version_major": 2,
       "version_minor": 0
      },
      "text/plain": [
       "Batches:   0%|          | 0/1 [00:00<?, ?it/s]"
      ]
     },
     "metadata": {},
     "output_type": "display_data"
    },
    {
     "name": "stdout",
     "output_type": "stream",
     "text": [
      "Finding duplicate images...\n",
      "Finding near duplicate images...\n",
      "\n",
      "Score: 90.366%\n",
      "Images to compare\\frame0.jpg\n",
      "Images to compare\\frame81.jpg\n",
      "\n",
      "\n",
      "0.9036598205566406\n",
      "\n",
      "\n",
      "\n",
      "\n",
      "\n",
      "\n",
      "C:\\Anomaly detection IR\\video to images\\frame81.jpg removed\n",
      "\n",
      "\n",
      "C:\\Anomaly detection IR\\video to images\\frame82.jpg copied\n",
      "\n",
      "\n",
      "Images: 2\n"
     ]
    },
    {
     "data": {
      "application/vnd.jupyter.widget-view+json": {
       "model_id": "e7f589ff463140a6a6739a607eebfe26",
       "version_major": 2,
       "version_minor": 0
      },
      "text/plain": [
       "Batches:   0%|          | 0/1 [00:00<?, ?it/s]"
      ]
     },
     "metadata": {},
     "output_type": "display_data"
    },
    {
     "name": "stdout",
     "output_type": "stream",
     "text": [
      "Finding duplicate images...\n",
      "Finding near duplicate images...\n",
      "\n",
      "Score: 90.650%\n",
      "Images to compare\\frame0.jpg\n",
      "Images to compare\\frame82.jpg\n",
      "\n",
      "\n",
      "0.9064980149269104\n",
      "\n",
      "\n",
      "\n",
      "\n",
      "\n",
      "\n",
      "C:\\Anomaly detection IR\\video to images\\frame82.jpg removed\n",
      "\n",
      "\n",
      "C:\\Anomaly detection IR\\video to images\\frame83.jpg copied\n",
      "\n",
      "\n",
      "Images: 2\n"
     ]
    },
    {
     "data": {
      "application/vnd.jupyter.widget-view+json": {
       "model_id": "8069b40da39f4f24a48783047066b20c",
       "version_major": 2,
       "version_minor": 0
      },
      "text/plain": [
       "Batches:   0%|          | 0/1 [00:00<?, ?it/s]"
      ]
     },
     "metadata": {},
     "output_type": "display_data"
    },
    {
     "name": "stdout",
     "output_type": "stream",
     "text": [
      "Finding duplicate images...\n",
      "Finding near duplicate images...\n",
      "\n",
      "Score: 89.988%\n",
      "Images to compare\\frame0.jpg\n",
      "Images to compare\\frame83.jpg\n",
      "\n",
      "\n",
      "0.8998837471008301\n",
      "\n",
      "\n",
      "\n",
      "\n",
      "\n",
      "\n",
      "C:\\Anomaly detection IR\\video to images\\frame83.jpg removed\n",
      "\n",
      "\n",
      "C:\\Anomaly detection IR\\video to images\\frame84.jpg copied\n",
      "\n",
      "\n",
      "Images: 2\n"
     ]
    },
    {
     "data": {
      "application/vnd.jupyter.widget-view+json": {
       "model_id": "815adb42faed4cf4bac2ee1df4d42fc3",
       "version_major": 2,
       "version_minor": 0
      },
      "text/plain": [
       "Batches:   0%|          | 0/1 [00:00<?, ?it/s]"
      ]
     },
     "metadata": {},
     "output_type": "display_data"
    },
    {
     "name": "stdout",
     "output_type": "stream",
     "text": [
      "Finding duplicate images...\n",
      "Finding near duplicate images...\n",
      "\n",
      "Score: 91.770%\n",
      "Images to compare\\frame0.jpg\n",
      "Images to compare\\frame84.jpg\n",
      "\n",
      "\n",
      "0.9177035689353943\n",
      "\n",
      "\n",
      "\n",
      "\n",
      "\n",
      "\n",
      "C:\\Anomaly detection IR\\video to images\\frame84.jpg removed\n",
      "\n",
      "\n",
      "C:\\Anomaly detection IR\\video to images\\frame85.jpg copied\n",
      "\n",
      "\n",
      "Images: 2\n"
     ]
    },
    {
     "data": {
      "application/vnd.jupyter.widget-view+json": {
       "model_id": "e55fea57b7b042bb955c5ee231bbcdc7",
       "version_major": 2,
       "version_minor": 0
      },
      "text/plain": [
       "Batches:   0%|          | 0/1 [00:00<?, ?it/s]"
      ]
     },
     "metadata": {},
     "output_type": "display_data"
    },
    {
     "name": "stdout",
     "output_type": "stream",
     "text": [
      "Finding duplicate images...\n",
      "Finding near duplicate images...\n",
      "\n",
      "Score: 91.885%\n",
      "Images to compare\\frame0.jpg\n",
      "Images to compare\\frame85.jpg\n",
      "\n",
      "\n",
      "0.9188535809516907\n",
      "\n",
      "\n",
      "\n",
      "\n",
      "\n",
      "\n",
      "C:\\Anomaly detection IR\\video to images\\frame85.jpg removed\n",
      "\n",
      "\n",
      "C:\\Anomaly detection IR\\video to images\\frame86.jpg copied\n",
      "\n",
      "\n",
      "Images: 2\n"
     ]
    },
    {
     "data": {
      "application/vnd.jupyter.widget-view+json": {
       "model_id": "595acf7600c642a89095e7345a7a57c6",
       "version_major": 2,
       "version_minor": 0
      },
      "text/plain": [
       "Batches:   0%|          | 0/1 [00:00<?, ?it/s]"
      ]
     },
     "metadata": {},
     "output_type": "display_data"
    },
    {
     "name": "stdout",
     "output_type": "stream",
     "text": [
      "Finding duplicate images...\n",
      "Finding near duplicate images...\n",
      "\n",
      "Score: 92.462%\n",
      "Images to compare\\frame86.jpg\n",
      "Images to compare\\frame0.jpg\n",
      "\n",
      "\n",
      "0.924620509147644\n",
      "\n",
      "\n",
      "maybe incident\n",
      "\n",
      "\n",
      "\n",
      "\n",
      "C:\\Anomaly detection IR\\video to images\\frame86.jpg removed\n",
      "\n",
      "\n",
      "C:\\Anomaly detection IR\\video to images\\frame87.jpg copied\n",
      "\n",
      "\n",
      "Images: 2\n"
     ]
    },
    {
     "data": {
      "application/vnd.jupyter.widget-view+json": {
       "model_id": "1e9ac5a41b7e4cd58791128b76ece18e",
       "version_major": 2,
       "version_minor": 0
      },
      "text/plain": [
       "Batches:   0%|          | 0/1 [00:00<?, ?it/s]"
      ]
     },
     "metadata": {},
     "output_type": "display_data"
    },
    {
     "name": "stdout",
     "output_type": "stream",
     "text": [
      "Finding duplicate images...\n",
      "Finding near duplicate images...\n",
      "\n",
      "Score: 88.853%\n",
      "Images to compare\\frame0.jpg\n",
      "Images to compare\\frame87.jpg\n",
      "\n",
      "\n",
      "0.8885318040847778\n",
      "\n",
      "\n",
      "\n",
      "\n",
      "\n",
      "\n",
      "C:\\Anomaly detection IR\\video to images\\frame87.jpg removed\n",
      "\n",
      "\n",
      "C:\\Anomaly detection IR\\video to images\\frame88.jpg copied\n",
      "\n",
      "\n",
      "Images: 2\n"
     ]
    },
    {
     "data": {
      "application/vnd.jupyter.widget-view+json": {
       "model_id": "f94bbbf28ea947678d3701392fa2674a",
       "version_major": 2,
       "version_minor": 0
      },
      "text/plain": [
       "Batches:   0%|          | 0/1 [00:00<?, ?it/s]"
      ]
     },
     "metadata": {},
     "output_type": "display_data"
    },
    {
     "name": "stdout",
     "output_type": "stream",
     "text": [
      "Finding duplicate images...\n",
      "Finding near duplicate images...\n",
      "\n",
      "Score: 89.093%\n",
      "Images to compare\\frame0.jpg\n",
      "Images to compare\\frame88.jpg\n",
      "\n",
      "\n",
      "0.8909343481063843\n",
      "\n",
      "\n",
      "\n",
      "\n",
      "\n",
      "\n",
      "C:\\Anomaly detection IR\\video to images\\frame88.jpg removed\n",
      "\n",
      "\n",
      "C:\\Anomaly detection IR\\video to images\\frame89.jpg copied\n",
      "\n",
      "\n",
      "Images: 2\n"
     ]
    },
    {
     "data": {
      "application/vnd.jupyter.widget-view+json": {
       "model_id": "effda9bad2284573887159ca80fa4f27",
       "version_major": 2,
       "version_minor": 0
      },
      "text/plain": [
       "Batches:   0%|          | 0/1 [00:00<?, ?it/s]"
      ]
     },
     "metadata": {},
     "output_type": "display_data"
    },
    {
     "name": "stdout",
     "output_type": "stream",
     "text": [
      "Finding duplicate images...\n",
      "Finding near duplicate images...\n",
      "\n",
      "Score: 88.634%\n",
      "Images to compare\\frame0.jpg\n",
      "Images to compare\\frame89.jpg\n",
      "\n",
      "\n",
      "0.8863352537155151\n",
      "\n",
      "\n",
      "\n",
      "\n",
      "\n",
      "\n",
      "C:\\Anomaly detection IR\\video to images\\frame89.jpg removed\n",
      "\n",
      "\n",
      "C:\\Anomaly detection IR\\video to images\\frame90.jpg copied\n",
      "\n",
      "\n",
      "Images: 2\n"
     ]
    },
    {
     "data": {
      "application/vnd.jupyter.widget-view+json": {
       "model_id": "d4226cca50ef480cbb3452ff6e2b14df",
       "version_major": 2,
       "version_minor": 0
      },
      "text/plain": [
       "Batches:   0%|          | 0/1 [00:00<?, ?it/s]"
      ]
     },
     "metadata": {},
     "output_type": "display_data"
    },
    {
     "name": "stdout",
     "output_type": "stream",
     "text": [
      "Finding duplicate images...\n",
      "Finding near duplicate images...\n",
      "\n",
      "Score: 89.804%\n",
      "Images to compare\\frame90.jpg\n",
      "Images to compare\\frame0.jpg\n",
      "\n",
      "\n",
      "0.8980380892753601\n",
      "\n",
      "\n",
      "\n",
      "\n",
      "\n",
      "\n",
      "C:\\Anomaly detection IR\\video to images\\frame90.jpg removed\n",
      "\n",
      "\n",
      "C:\\Anomaly detection IR\\video to images\\frame91.jpg copied\n",
      "\n",
      "\n",
      "Images: 2\n"
     ]
    },
    {
     "data": {
      "application/vnd.jupyter.widget-view+json": {
       "model_id": "af1e751448da44339d1a5db5f2c2d809",
       "version_major": 2,
       "version_minor": 0
      },
      "text/plain": [
       "Batches:   0%|          | 0/1 [00:00<?, ?it/s]"
      ]
     },
     "metadata": {},
     "output_type": "display_data"
    },
    {
     "name": "stdout",
     "output_type": "stream",
     "text": [
      "Finding duplicate images...\n",
      "Finding near duplicate images...\n",
      "\n",
      "Score: 88.514%\n",
      "Images to compare\\frame0.jpg\n",
      "Images to compare\\frame91.jpg\n",
      "\n",
      "\n",
      "0.8851367235183716\n",
      "\n",
      "\n",
      "\n",
      "\n",
      "\n",
      "\n",
      "C:\\Anomaly detection IR\\video to images\\frame91.jpg removed\n",
      "\n",
      "\n",
      "C:\\Anomaly detection IR\\video to images\\frame92.jpg copied\n",
      "\n",
      "\n",
      "Images: 2\n"
     ]
    },
    {
     "data": {
      "application/vnd.jupyter.widget-view+json": {
       "model_id": "3e8d5909ee024cb99ac40ece1bc45c9d",
       "version_major": 2,
       "version_minor": 0
      },
      "text/plain": [
       "Batches:   0%|          | 0/1 [00:00<?, ?it/s]"
      ]
     },
     "metadata": {},
     "output_type": "display_data"
    },
    {
     "name": "stdout",
     "output_type": "stream",
     "text": [
      "Finding duplicate images...\n",
      "Finding near duplicate images...\n",
      "\n",
      "Score: 88.109%\n",
      "Images to compare\\frame0.jpg\n",
      "Images to compare\\frame92.jpg\n",
      "\n",
      "\n",
      "0.8810908198356628\n",
      "\n",
      "\n",
      "\n",
      "\n",
      "\n",
      "\n",
      "C:\\Anomaly detection IR\\video to images\\frame92.jpg removed\n",
      "\n",
      "\n",
      "C:\\Anomaly detection IR\\video to images\\frame93.jpg copied\n",
      "\n",
      "\n",
      "Images: 2\n"
     ]
    },
    {
     "data": {
      "application/vnd.jupyter.widget-view+json": {
       "model_id": "b0d370e050a24b7f97ceb7ab1f792303",
       "version_major": 2,
       "version_minor": 0
      },
      "text/plain": [
       "Batches:   0%|          | 0/1 [00:00<?, ?it/s]"
      ]
     },
     "metadata": {},
     "output_type": "display_data"
    },
    {
     "name": "stdout",
     "output_type": "stream",
     "text": [
      "Finding duplicate images...\n",
      "Finding near duplicate images...\n",
      "\n",
      "Score: 88.382%\n",
      "Images to compare\\frame0.jpg\n",
      "Images to compare\\frame93.jpg\n",
      "\n",
      "\n",
      "0.8838183283805847\n",
      "\n",
      "\n",
      "\n",
      "\n",
      "\n",
      "\n",
      "C:\\Anomaly detection IR\\video to images\\frame93.jpg removed\n",
      "\n",
      "\n",
      "C:\\Anomaly detection IR\\video to images\\frame94.jpg copied\n",
      "\n",
      "\n",
      "Images: 2\n"
     ]
    },
    {
     "data": {
      "application/vnd.jupyter.widget-view+json": {
       "model_id": "baf601a242c54056a38d4807e1a62ddb",
       "version_major": 2,
       "version_minor": 0
      },
      "text/plain": [
       "Batches:   0%|          | 0/1 [00:00<?, ?it/s]"
      ]
     },
     "metadata": {},
     "output_type": "display_data"
    },
    {
     "name": "stdout",
     "output_type": "stream",
     "text": [
      "Finding duplicate images...\n",
      "Finding near duplicate images...\n",
      "\n",
      "Score: 89.788%\n",
      "Images to compare\\frame0.jpg\n",
      "Images to compare\\frame94.jpg\n",
      "\n",
      "\n",
      "0.8978778123855591\n",
      "\n",
      "\n",
      "\n",
      "\n",
      "\n",
      "\n",
      "C:\\Anomaly detection IR\\video to images\\frame94.jpg removed\n",
      "\n",
      "\n",
      "C:\\Anomaly detection IR\\video to images\\frame95.jpg copied\n",
      "\n",
      "\n",
      "Images: 2\n"
     ]
    },
    {
     "data": {
      "application/vnd.jupyter.widget-view+json": {
       "model_id": "b93bf9f5982b4ea288714ed849afcac4",
       "version_major": 2,
       "version_minor": 0
      },
      "text/plain": [
       "Batches:   0%|          | 0/1 [00:00<?, ?it/s]"
      ]
     },
     "metadata": {},
     "output_type": "display_data"
    },
    {
     "name": "stdout",
     "output_type": "stream",
     "text": [
      "Finding duplicate images...\n",
      "Finding near duplicate images...\n",
      "\n",
      "Score: 89.605%\n",
      "Images to compare\\frame95.jpg\n",
      "Images to compare\\frame0.jpg\n",
      "\n",
      "\n",
      "0.8960481882095337\n",
      "\n",
      "\n",
      "\n",
      "\n",
      "\n",
      "\n",
      "C:\\Anomaly detection IR\\video to images\\frame95.jpg removed\n",
      "\n",
      "\n",
      "C:\\Anomaly detection IR\\video to images\\frame96.jpg copied\n",
      "\n",
      "\n",
      "Images: 2\n"
     ]
    },
    {
     "data": {
      "application/vnd.jupyter.widget-view+json": {
       "model_id": "83d0dd06613842c7bf7fe4c2158cccee",
       "version_major": 2,
       "version_minor": 0
      },
      "text/plain": [
       "Batches:   0%|          | 0/1 [00:00<?, ?it/s]"
      ]
     },
     "metadata": {},
     "output_type": "display_data"
    },
    {
     "name": "stdout",
     "output_type": "stream",
     "text": [
      "Finding duplicate images...\n",
      "Finding near duplicate images...\n",
      "\n",
      "Score: 90.165%\n",
      "Images to compare\\frame96.jpg\n",
      "Images to compare\\frame0.jpg\n",
      "\n",
      "\n",
      "0.9016523361206055\n",
      "\n",
      "\n",
      "\n",
      "\n",
      "\n",
      "\n",
      "C:\\Anomaly detection IR\\video to images\\frame96.jpg removed\n",
      "\n",
      "\n",
      "C:\\Anomaly detection IR\\video to images\\frame97.jpg copied\n",
      "\n",
      "\n",
      "Images: 2\n"
     ]
    },
    {
     "data": {
      "application/vnd.jupyter.widget-view+json": {
       "model_id": "6c9323641dee41d08694a093cbf1f74d",
       "version_major": 2,
       "version_minor": 0
      },
      "text/plain": [
       "Batches:   0%|          | 0/1 [00:00<?, ?it/s]"
      ]
     },
     "metadata": {},
     "output_type": "display_data"
    },
    {
     "name": "stdout",
     "output_type": "stream",
     "text": [
      "Finding duplicate images...\n",
      "Finding near duplicate images...\n",
      "\n",
      "Score: 90.872%\n",
      "Images to compare\\frame0.jpg\n",
      "Images to compare\\frame97.jpg\n",
      "\n",
      "\n",
      "0.9087240099906921\n",
      "\n",
      "\n",
      "\n",
      "\n",
      "\n",
      "\n",
      "C:\\Anomaly detection IR\\video to images\\frame97.jpg removed\n",
      "\n",
      "\n",
      "C:\\Anomaly detection IR\\video to images\\frame98.jpg copied\n",
      "\n",
      "\n",
      "Images: 2\n"
     ]
    },
    {
     "data": {
      "application/vnd.jupyter.widget-view+json": {
       "model_id": "aa733b2801ee40fa8cc7edfb10fb40aa",
       "version_major": 2,
       "version_minor": 0
      },
      "text/plain": [
       "Batches:   0%|          | 0/1 [00:00<?, ?it/s]"
      ]
     },
     "metadata": {},
     "output_type": "display_data"
    },
    {
     "name": "stdout",
     "output_type": "stream",
     "text": [
      "Finding duplicate images...\n",
      "Finding near duplicate images...\n",
      "\n",
      "Score: 89.436%\n",
      "Images to compare\\frame0.jpg\n",
      "Images to compare\\frame98.jpg\n",
      "\n",
      "\n",
      "0.8943597674369812\n",
      "\n",
      "\n",
      "\n",
      "\n",
      "\n",
      "\n",
      "C:\\Anomaly detection IR\\video to images\\frame98.jpg removed\n",
      "\n",
      "\n",
      "C:\\Anomaly detection IR\\video to images\\frame99.jpg copied\n",
      "\n",
      "\n",
      "Images: 2\n"
     ]
    },
    {
     "data": {
      "application/vnd.jupyter.widget-view+json": {
       "model_id": "6db00b790b55476686604e60b9acfe4a",
       "version_major": 2,
       "version_minor": 0
      },
      "text/plain": [
       "Batches:   0%|          | 0/1 [00:00<?, ?it/s]"
      ]
     },
     "metadata": {},
     "output_type": "display_data"
    },
    {
     "name": "stdout",
     "output_type": "stream",
     "text": [
      "Finding duplicate images...\n",
      "Finding near duplicate images...\n",
      "\n",
      "Score: 90.283%\n",
      "Images to compare\\frame0.jpg\n",
      "Images to compare\\frame99.jpg\n",
      "\n",
      "\n",
      "0.9028337001800537\n",
      "\n",
      "\n",
      "\n",
      "\n",
      "\n",
      "\n",
      "C:\\Anomaly detection IR\\video to images\\frame99.jpg removed\n",
      "\n",
      "\n",
      "C:\\Anomaly detection IR\\video to images\\frame100.jpg copied\n",
      "\n",
      "\n",
      "Images: 2\n"
     ]
    },
    {
     "data": {
      "application/vnd.jupyter.widget-view+json": {
       "model_id": "e914866000a14f459a55f9569f030061",
       "version_major": 2,
       "version_minor": 0
      },
      "text/plain": [
       "Batches:   0%|          | 0/1 [00:00<?, ?it/s]"
      ]
     },
     "metadata": {},
     "output_type": "display_data"
    },
    {
     "name": "stdout",
     "output_type": "stream",
     "text": [
      "Finding duplicate images...\n",
      "Finding near duplicate images...\n",
      "\n",
      "Score: 90.841%\n",
      "Images to compare\\frame0.jpg\n",
      "Images to compare\\frame100.jpg\n",
      "\n",
      "\n",
      "0.9084059596061707\n",
      "\n",
      "\n",
      "\n",
      "\n",
      "\n",
      "\n",
      "C:\\Anomaly detection IR\\video to images\\frame100.jpg removed\n",
      "\n",
      "\n",
      "C:\\Anomaly detection IR\\video to images\\frame101.jpg copied\n",
      "\n",
      "\n",
      "Images: 2\n"
     ]
    },
    {
     "data": {
      "application/vnd.jupyter.widget-view+json": {
       "model_id": "8e99184f1a434ddfbd6ae30973ca7bd7",
       "version_major": 2,
       "version_minor": 0
      },
      "text/plain": [
       "Batches:   0%|          | 0/1 [00:00<?, ?it/s]"
      ]
     },
     "metadata": {},
     "output_type": "display_data"
    },
    {
     "name": "stdout",
     "output_type": "stream",
     "text": [
      "Finding duplicate images...\n",
      "Finding near duplicate images...\n",
      "\n",
      "Score: 90.742%\n",
      "Images to compare\\frame101.jpg\n",
      "Images to compare\\frame0.jpg\n",
      "\n",
      "\n",
      "0.9074248671531677\n",
      "\n",
      "\n",
      "\n",
      "\n",
      "\n",
      "\n",
      "C:\\Anomaly detection IR\\video to images\\frame101.jpg removed\n",
      "\n",
      "\n",
      "C:\\Anomaly detection IR\\video to images\\frame102.jpg copied\n",
      "\n",
      "\n",
      "Images: 2\n"
     ]
    },
    {
     "data": {
      "application/vnd.jupyter.widget-view+json": {
       "model_id": "e7f78aa506bd41b08dfb121aeb19e08e",
       "version_major": 2,
       "version_minor": 0
      },
      "text/plain": [
       "Batches:   0%|          | 0/1 [00:00<?, ?it/s]"
      ]
     },
     "metadata": {},
     "output_type": "display_data"
    },
    {
     "name": "stdout",
     "output_type": "stream",
     "text": [
      "Finding duplicate images...\n",
      "Finding near duplicate images...\n",
      "\n",
      "Score: 91.026%\n",
      "Images to compare\\frame102.jpg\n",
      "Images to compare\\frame0.jpg\n",
      "\n",
      "\n",
      "0.9102563858032227\n",
      "\n",
      "\n",
      "\n",
      "\n",
      "\n",
      "\n",
      "C:\\Anomaly detection IR\\video to images\\frame102.jpg removed\n",
      "\n",
      "\n",
      "C:\\Anomaly detection IR\\video to images\\frame103.jpg copied\n",
      "\n",
      "\n",
      "Images: 2\n"
     ]
    },
    {
     "data": {
      "application/vnd.jupyter.widget-view+json": {
       "model_id": "dab174a82a744797ac6ea1faac5c99b7",
       "version_major": 2,
       "version_minor": 0
      },
      "text/plain": [
       "Batches:   0%|          | 0/1 [00:00<?, ?it/s]"
      ]
     },
     "metadata": {},
     "output_type": "display_data"
    },
    {
     "name": "stdout",
     "output_type": "stream",
     "text": [
      "Finding duplicate images...\n",
      "Finding near duplicate images...\n",
      "\n",
      "Score: 90.720%\n",
      "Images to compare\\frame103.jpg\n",
      "Images to compare\\frame0.jpg\n",
      "\n",
      "\n",
      "0.9072010517120361\n",
      "\n",
      "\n",
      "\n",
      "\n",
      "\n",
      "\n",
      "C:\\Anomaly detection IR\\video to images\\frame103.jpg removed\n",
      "\n",
      "\n",
      "C:\\Anomaly detection IR\\video to images\\frame104.jpg copied\n",
      "\n",
      "\n",
      "Images: 2\n"
     ]
    },
    {
     "data": {
      "application/vnd.jupyter.widget-view+json": {
       "model_id": "8b45ea1b67ab4145a466dc76b389de45",
       "version_major": 2,
       "version_minor": 0
      },
      "text/plain": [
       "Batches:   0%|          | 0/1 [00:00<?, ?it/s]"
      ]
     },
     "metadata": {},
     "output_type": "display_data"
    },
    {
     "name": "stdout",
     "output_type": "stream",
     "text": [
      "Finding duplicate images...\n",
      "Finding near duplicate images...\n",
      "\n",
      "Score: 90.299%\n",
      "Images to compare\\frame0.jpg\n",
      "Images to compare\\frame104.jpg\n",
      "\n",
      "\n",
      "0.9029906988143921\n",
      "\n",
      "\n",
      "\n",
      "\n",
      "\n",
      "\n",
      "C:\\Anomaly detection IR\\video to images\\frame104.jpg removed\n",
      "\n",
      "\n",
      "C:\\Anomaly detection IR\\video to images\\frame105.jpg copied\n",
      "\n",
      "\n",
      "Images: 2\n"
     ]
    },
    {
     "data": {
      "application/vnd.jupyter.widget-view+json": {
       "model_id": "2530e26b974840a7b031813abc48beb6",
       "version_major": 2,
       "version_minor": 0
      },
      "text/plain": [
       "Batches:   0%|          | 0/1 [00:00<?, ?it/s]"
      ]
     },
     "metadata": {},
     "output_type": "display_data"
    },
    {
     "name": "stdout",
     "output_type": "stream",
     "text": [
      "Finding duplicate images...\n",
      "Finding near duplicate images...\n",
      "\n",
      "Score: 89.591%\n",
      "Images to compare\\frame105.jpg\n",
      "Images to compare\\frame0.jpg\n",
      "\n",
      "\n",
      "0.8959100246429443\n",
      "\n",
      "\n",
      "\n",
      "\n",
      "\n",
      "\n",
      "C:\\Anomaly detection IR\\video to images\\frame105.jpg removed\n",
      "\n",
      "\n",
      "C:\\Anomaly detection IR\\video to images\\frame106.jpg copied\n",
      "\n",
      "\n",
      "Images: 2\n"
     ]
    },
    {
     "data": {
      "application/vnd.jupyter.widget-view+json": {
       "model_id": "f6a092ba86054242a22775e199a1419c",
       "version_major": 2,
       "version_minor": 0
      },
      "text/plain": [
       "Batches:   0%|          | 0/1 [00:00<?, ?it/s]"
      ]
     },
     "metadata": {},
     "output_type": "display_data"
    },
    {
     "name": "stdout",
     "output_type": "stream",
     "text": [
      "Finding duplicate images...\n",
      "Finding near duplicate images...\n",
      "\n",
      "Score: 89.322%\n",
      "Images to compare\\frame106.jpg\n",
      "Images to compare\\frame0.jpg\n",
      "\n",
      "\n",
      "0.8932151794433594\n",
      "\n",
      "\n",
      "\n",
      "\n",
      "\n",
      "\n",
      "C:\\Anomaly detection IR\\video to images\\frame106.jpg removed\n",
      "\n",
      "\n",
      "C:\\Anomaly detection IR\\video to images\\frame107.jpg copied\n",
      "\n",
      "\n",
      "Images: 2\n"
     ]
    },
    {
     "data": {
      "application/vnd.jupyter.widget-view+json": {
       "model_id": "78372d0f997e476f83741482a0b5e05e",
       "version_major": 2,
       "version_minor": 0
      },
      "text/plain": [
       "Batches:   0%|          | 0/1 [00:00<?, ?it/s]"
      ]
     },
     "metadata": {},
     "output_type": "display_data"
    },
    {
     "name": "stdout",
     "output_type": "stream",
     "text": [
      "Finding duplicate images...\n",
      "Finding near duplicate images...\n",
      "\n",
      "Score: 88.480%\n",
      "Images to compare\\frame0.jpg\n",
      "Images to compare\\frame107.jpg\n",
      "\n",
      "\n",
      "0.884804368019104\n",
      "\n",
      "\n",
      "\n",
      "\n",
      "\n",
      "\n",
      "C:\\Anomaly detection IR\\video to images\\frame107.jpg removed\n",
      "\n",
      "\n",
      "C:\\Anomaly detection IR\\video to images\\frame108.jpg copied\n",
      "\n",
      "\n",
      "Images: 2\n"
     ]
    },
    {
     "data": {
      "application/vnd.jupyter.widget-view+json": {
       "model_id": "e6e997b8784a43e5b68f65dba4455785",
       "version_major": 2,
       "version_minor": 0
      },
      "text/plain": [
       "Batches:   0%|          | 0/1 [00:00<?, ?it/s]"
      ]
     },
     "metadata": {},
     "output_type": "display_data"
    },
    {
     "name": "stdout",
     "output_type": "stream",
     "text": [
      "Finding duplicate images...\n",
      "Finding near duplicate images...\n",
      "\n",
      "Score: 88.654%\n",
      "Images to compare\\frame108.jpg\n",
      "Images to compare\\frame0.jpg\n",
      "\n",
      "\n",
      "0.8865355253219604\n",
      "\n",
      "\n",
      "\n",
      "\n",
      "\n",
      "\n",
      "C:\\Anomaly detection IR\\video to images\\frame108.jpg removed\n",
      "\n",
      "\n",
      "C:\\Anomaly detection IR\\video to images\\frame109.jpg copied\n",
      "\n",
      "\n",
      "Images: 2\n"
     ]
    },
    {
     "data": {
      "application/vnd.jupyter.widget-view+json": {
       "model_id": "641f8d4e2569433f85d3c320e956e13b",
       "version_major": 2,
       "version_minor": 0
      },
      "text/plain": [
       "Batches:   0%|          | 0/1 [00:00<?, ?it/s]"
      ]
     },
     "metadata": {},
     "output_type": "display_data"
    },
    {
     "name": "stdout",
     "output_type": "stream",
     "text": [
      "Finding duplicate images...\n",
      "Finding near duplicate images...\n",
      "\n",
      "Score: 86.679%\n",
      "Images to compare\\frame109.jpg\n",
      "Images to compare\\frame0.jpg\n",
      "\n",
      "\n",
      "0.8667922019958496\n",
      "\n",
      "\n",
      "\n",
      "\n",
      "\n",
      "\n",
      "C:\\Anomaly detection IR\\video to images\\frame109.jpg removed\n",
      "\n",
      "\n",
      "C:\\Anomaly detection IR\\video to images\\frame110.jpg copied\n",
      "\n",
      "\n",
      "Images: 2\n"
     ]
    },
    {
     "data": {
      "application/vnd.jupyter.widget-view+json": {
       "model_id": "92b4b43793fc4650ba2bc64bbb07e233",
       "version_major": 2,
       "version_minor": 0
      },
      "text/plain": [
       "Batches:   0%|          | 0/1 [00:00<?, ?it/s]"
      ]
     },
     "metadata": {},
     "output_type": "display_data"
    },
    {
     "name": "stdout",
     "output_type": "stream",
     "text": [
      "Finding duplicate images...\n",
      "Finding near duplicate images...\n",
      "\n",
      "Score: 86.823%\n",
      "Images to compare\\frame0.jpg\n",
      "Images to compare\\frame110.jpg\n",
      "\n",
      "\n",
      "0.8682346940040588\n",
      "\n",
      "\n",
      "\n",
      "\n",
      "\n",
      "\n",
      "C:\\Anomaly detection IR\\video to images\\frame110.jpg removed\n",
      "\n",
      "\n",
      "C:\\Anomaly detection IR\\video to images\\frame111.jpg copied\n",
      "\n",
      "\n",
      "Images: 2\n"
     ]
    },
    {
     "data": {
      "application/vnd.jupyter.widget-view+json": {
       "model_id": "96239f0ddc814d658d4e9df8dd3ed5cf",
       "version_major": 2,
       "version_minor": 0
      },
      "text/plain": [
       "Batches:   0%|          | 0/1 [00:00<?, ?it/s]"
      ]
     },
     "metadata": {},
     "output_type": "display_data"
    },
    {
     "name": "stdout",
     "output_type": "stream",
     "text": [
      "Finding duplicate images...\n",
      "Finding near duplicate images...\n",
      "\n",
      "Score: 84.096%\n",
      "Images to compare\\frame0.jpg\n",
      "Images to compare\\frame111.jpg\n",
      "\n",
      "\n",
      "0.8409602642059326\n",
      "\n",
      "\n",
      "\n",
      "\n",
      "\n",
      "\n",
      "C:\\Anomaly detection IR\\video to images\\frame111.jpg removed\n",
      "\n",
      "\n",
      "C:\\Anomaly detection IR\\video to images\\frame112.jpg copied\n",
      "\n",
      "\n",
      "Images: 2\n"
     ]
    },
    {
     "data": {
      "application/vnd.jupyter.widget-view+json": {
       "model_id": "cff8441d3fcc4007b140db62da27c846",
       "version_major": 2,
       "version_minor": 0
      },
      "text/plain": [
       "Batches:   0%|          | 0/1 [00:00<?, ?it/s]"
      ]
     },
     "metadata": {},
     "output_type": "display_data"
    },
    {
     "name": "stdout",
     "output_type": "stream",
     "text": [
      "Finding duplicate images...\n",
      "Finding near duplicate images...\n",
      "\n",
      "Score: 81.395%\n",
      "Images to compare\\frame0.jpg\n",
      "Images to compare\\frame112.jpg\n",
      "\n",
      "\n",
      "0.8139511942863464\n",
      "\n",
      "\n",
      "\n",
      "\n",
      "\n",
      "\n",
      "C:\\Anomaly detection IR\\video to images\\frame112.jpg removed\n",
      "\n",
      "\n",
      "C:\\Anomaly detection IR\\video to images\\frame113.jpg copied\n",
      "\n",
      "\n",
      "Images: 2\n"
     ]
    },
    {
     "data": {
      "application/vnd.jupyter.widget-view+json": {
       "model_id": "ee181f8b0e124466bf6b9c7614fb1425",
       "version_major": 2,
       "version_minor": 0
      },
      "text/plain": [
       "Batches:   0%|          | 0/1 [00:00<?, ?it/s]"
      ]
     },
     "metadata": {},
     "output_type": "display_data"
    },
    {
     "name": "stdout",
     "output_type": "stream",
     "text": [
      "Finding duplicate images...\n",
      "Finding near duplicate images...\n",
      "\n",
      "Score: 82.761%\n",
      "Images to compare\\frame113.jpg\n",
      "Images to compare\\frame0.jpg\n",
      "\n",
      "\n",
      "0.8276065587997437\n",
      "\n",
      "\n",
      "\n",
      "\n",
      "\n",
      "\n",
      "C:\\Anomaly detection IR\\video to images\\frame113.jpg removed\n",
      "\n",
      "\n",
      "C:\\Anomaly detection IR\\video to images\\frame114.jpg copied\n",
      "\n",
      "\n",
      "Images: 2\n"
     ]
    },
    {
     "data": {
      "application/vnd.jupyter.widget-view+json": {
       "model_id": "257a6a4a2da04dc1b8aed64d378ffc0f",
       "version_major": 2,
       "version_minor": 0
      },
      "text/plain": [
       "Batches:   0%|          | 0/1 [00:00<?, ?it/s]"
      ]
     },
     "metadata": {},
     "output_type": "display_data"
    },
    {
     "name": "stdout",
     "output_type": "stream",
     "text": [
      "Finding duplicate images...\n",
      "Finding near duplicate images...\n",
      "\n",
      "Score: 79.583%\n",
      "Images to compare\\frame114.jpg\n",
      "Images to compare\\frame0.jpg\n",
      "\n",
      "\n",
      "0.7958334684371948\n",
      "\n",
      "\n",
      "\n",
      "\n",
      "\n",
      "\n",
      "C:\\Anomaly detection IR\\video to images\\frame114.jpg removed\n",
      "\n",
      "\n",
      "C:\\Anomaly detection IR\\video to images\\frame115.jpg copied\n",
      "\n",
      "\n",
      "Images: 2\n"
     ]
    },
    {
     "data": {
      "application/vnd.jupyter.widget-view+json": {
       "model_id": "3e02086c08ab4b95881da63c3dc88cd1",
       "version_major": 2,
       "version_minor": 0
      },
      "text/plain": [
       "Batches:   0%|          | 0/1 [00:00<?, ?it/s]"
      ]
     },
     "metadata": {},
     "output_type": "display_data"
    },
    {
     "name": "stdout",
     "output_type": "stream",
     "text": [
      "Finding duplicate images...\n",
      "Finding near duplicate images...\n",
      "\n",
      "Score: 78.148%\n",
      "Images to compare\\frame115.jpg\n",
      "Images to compare\\frame0.jpg\n",
      "\n",
      "\n",
      "0.7814800143241882\n",
      "\n",
      "\n",
      "\n",
      "\n",
      "\n",
      "\n",
      "C:\\Anomaly detection IR\\video to images\\frame115.jpg removed\n",
      "\n",
      "\n",
      "C:\\Anomaly detection IR\\video to images\\frame116.jpg copied\n",
      "\n",
      "\n",
      "Images: 2\n"
     ]
    },
    {
     "data": {
      "application/vnd.jupyter.widget-view+json": {
       "model_id": "498fcea7480e4fbdac4ee1d37f1f0721",
       "version_major": 2,
       "version_minor": 0
      },
      "text/plain": [
       "Batches:   0%|          | 0/1 [00:00<?, ?it/s]"
      ]
     },
     "metadata": {},
     "output_type": "display_data"
    },
    {
     "name": "stdout",
     "output_type": "stream",
     "text": [
      "Finding duplicate images...\n",
      "Finding near duplicate images...\n",
      "\n",
      "Score: 77.018%\n",
      "Images to compare\\frame0.jpg\n",
      "Images to compare\\frame116.jpg\n",
      "\n",
      "\n",
      "0.7701761722564697\n",
      "\n",
      "\n",
      "\n",
      "\n",
      "\n",
      "\n",
      "C:\\Anomaly detection IR\\video to images\\frame116.jpg removed\n",
      "\n",
      "\n",
      "C:\\Anomaly detection IR\\video to images\\frame117.jpg copied\n",
      "\n",
      "\n",
      "Images: 2\n"
     ]
    },
    {
     "data": {
      "application/vnd.jupyter.widget-view+json": {
       "model_id": "9f9c6e52ca8d45e1bb6d4f442fe8904d",
       "version_major": 2,
       "version_minor": 0
      },
      "text/plain": [
       "Batches:   0%|          | 0/1 [00:00<?, ?it/s]"
      ]
     },
     "metadata": {},
     "output_type": "display_data"
    },
    {
     "name": "stdout",
     "output_type": "stream",
     "text": [
      "Finding duplicate images...\n",
      "Finding near duplicate images...\n",
      "\n",
      "Score: 75.534%\n",
      "Images to compare\\frame0.jpg\n",
      "Images to compare\\frame117.jpg\n",
      "\n",
      "\n",
      "0.7553431987762451\n",
      "\n",
      "\n",
      "\n",
      "\n",
      "\n",
      "\n",
      "C:\\Anomaly detection IR\\video to images\\frame117.jpg removed\n",
      "\n",
      "\n",
      "C:\\Anomaly detection IR\\video to images\\frame118.jpg copied\n",
      "\n",
      "\n",
      "Images: 2\n"
     ]
    },
    {
     "data": {
      "application/vnd.jupyter.widget-view+json": {
       "model_id": "18d251ce8b274d1bba4239e12f7827bc",
       "version_major": 2,
       "version_minor": 0
      },
      "text/plain": [
       "Batches:   0%|          | 0/1 [00:00<?, ?it/s]"
      ]
     },
     "metadata": {},
     "output_type": "display_data"
    },
    {
     "name": "stdout",
     "output_type": "stream",
     "text": [
      "Finding duplicate images...\n",
      "Finding near duplicate images...\n",
      "\n",
      "Score: 75.604%\n",
      "Images to compare\\frame118.jpg\n",
      "Images to compare\\frame0.jpg\n",
      "\n",
      "\n",
      "0.7560442686080933\n",
      "\n",
      "\n",
      "\n",
      "\n",
      "\n",
      "\n",
      "C:\\Anomaly detection IR\\video to images\\frame118.jpg removed\n",
      "\n",
      "\n",
      "C:\\Anomaly detection IR\\video to images\\frame119.jpg copied\n",
      "\n",
      "\n",
      "Images: 2\n"
     ]
    },
    {
     "data": {
      "application/vnd.jupyter.widget-view+json": {
       "model_id": "da6005db9b474b1bb84dc9055cc98c2f",
       "version_major": 2,
       "version_minor": 0
      },
      "text/plain": [
       "Batches:   0%|          | 0/1 [00:00<?, ?it/s]"
      ]
     },
     "metadata": {},
     "output_type": "display_data"
    },
    {
     "name": "stdout",
     "output_type": "stream",
     "text": [
      "Finding duplicate images...\n",
      "Finding near duplicate images...\n",
      "\n",
      "Score: 76.659%\n",
      "Images to compare\\frame0.jpg\n",
      "Images to compare\\frame119.jpg\n",
      "\n",
      "\n",
      "0.7665942907333374\n",
      "\n",
      "\n",
      "\n",
      "\n",
      "\n",
      "\n",
      "C:\\Anomaly detection IR\\video to images\\frame119.jpg removed\n",
      "\n",
      "\n",
      "C:\\Anomaly detection IR\\video to images\\frame120.jpg copied\n",
      "\n",
      "\n",
      "Images: 2\n"
     ]
    },
    {
     "data": {
      "application/vnd.jupyter.widget-view+json": {
       "model_id": "2e806d0cde694007a10321229521f44a",
       "version_major": 2,
       "version_minor": 0
      },
      "text/plain": [
       "Batches:   0%|          | 0/1 [00:00<?, ?it/s]"
      ]
     },
     "metadata": {},
     "output_type": "display_data"
    },
    {
     "name": "stdout",
     "output_type": "stream",
     "text": [
      "Finding duplicate images...\n",
      "Finding near duplicate images...\n",
      "\n",
      "Score: 75.344%\n",
      "Images to compare\\frame0.jpg\n",
      "Images to compare\\frame120.jpg\n",
      "\n",
      "\n",
      "0.753437876701355\n",
      "\n",
      "\n",
      "\n",
      "\n",
      "\n",
      "\n",
      "C:\\Anomaly detection IR\\video to images\\frame120.jpg removed\n",
      "\n",
      "\n",
      "C:\\Anomaly detection IR\\video to images\\frame121.jpg copied\n",
      "\n",
      "\n",
      "Images: 2\n"
     ]
    },
    {
     "data": {
      "application/vnd.jupyter.widget-view+json": {
       "model_id": "0fceb88b91d345e4adfe644a302b1cca",
       "version_major": 2,
       "version_minor": 0
      },
      "text/plain": [
       "Batches:   0%|          | 0/1 [00:00<?, ?it/s]"
      ]
     },
     "metadata": {},
     "output_type": "display_data"
    },
    {
     "name": "stdout",
     "output_type": "stream",
     "text": [
      "Finding duplicate images...\n",
      "Finding near duplicate images...\n",
      "\n",
      "Score: 75.031%\n",
      "Images to compare\\frame0.jpg\n",
      "Images to compare\\frame121.jpg\n",
      "\n",
      "\n",
      "0.7503114938735962\n",
      "\n",
      "\n",
      "\n",
      "\n",
      "\n",
      "\n",
      "C:\\Anomaly detection IR\\video to images\\frame121.jpg removed\n",
      "\n",
      "\n",
      "C:\\Anomaly detection IR\\video to images\\frame122.jpg copied\n",
      "\n",
      "\n",
      "Images: 2\n"
     ]
    },
    {
     "data": {
      "application/vnd.jupyter.widget-view+json": {
       "model_id": "0d3c5a2af14645a58bc93a9df82ff10a",
       "version_major": 2,
       "version_minor": 0
      },
      "text/plain": [
       "Batches:   0%|          | 0/1 [00:00<?, ?it/s]"
      ]
     },
     "metadata": {},
     "output_type": "display_data"
    },
    {
     "name": "stdout",
     "output_type": "stream",
     "text": [
      "Finding duplicate images...\n",
      "Finding near duplicate images...\n",
      "\n",
      "Score: 74.673%\n",
      "Images to compare\\frame0.jpg\n",
      "Images to compare\\frame122.jpg\n",
      "\n",
      "\n",
      "0.7467279434204102\n",
      "\n",
      "\n",
      "\n",
      "\n",
      "\n",
      "\n",
      "C:\\Anomaly detection IR\\video to images\\frame122.jpg removed\n",
      "\n",
      "\n",
      "C:\\Anomaly detection IR\\video to images\\frame123.jpg copied\n",
      "\n",
      "\n",
      "Images: 2\n"
     ]
    },
    {
     "data": {
      "application/vnd.jupyter.widget-view+json": {
       "model_id": "5714e2a8f9e44253ac153f659e20c078",
       "version_major": 2,
       "version_minor": 0
      },
      "text/plain": [
       "Batches:   0%|          | 0/1 [00:00<?, ?it/s]"
      ]
     },
     "metadata": {},
     "output_type": "display_data"
    },
    {
     "name": "stdout",
     "output_type": "stream",
     "text": [
      "Finding duplicate images...\n",
      "Finding near duplicate images...\n",
      "\n",
      "Score: 73.401%\n",
      "Images to compare\\frame123.jpg\n",
      "Images to compare\\frame0.jpg\n",
      "\n",
      "\n",
      "0.7340136170387268\n",
      "\n",
      "\n",
      "\n",
      "\n",
      "\n",
      "\n",
      "C:\\Anomaly detection IR\\video to images\\frame123.jpg removed\n",
      "\n",
      "\n",
      "C:\\Anomaly detection IR\\video to images\\frame124.jpg copied\n",
      "\n",
      "\n",
      "Images: 2\n"
     ]
    },
    {
     "data": {
      "application/vnd.jupyter.widget-view+json": {
       "model_id": "6447b61aeb5b40519b05bd362d9e5232",
       "version_major": 2,
       "version_minor": 0
      },
      "text/plain": [
       "Batches:   0%|          | 0/1 [00:00<?, ?it/s]"
      ]
     },
     "metadata": {},
     "output_type": "display_data"
    },
    {
     "name": "stdout",
     "output_type": "stream",
     "text": [
      "Finding duplicate images...\n",
      "Finding near duplicate images...\n",
      "\n",
      "Score: 73.061%\n",
      "Images to compare\\frame0.jpg\n",
      "Images to compare\\frame124.jpg\n",
      "\n",
      "\n",
      "0.7306082844734192\n",
      "\n",
      "\n",
      "\n",
      "\n",
      "\n",
      "\n",
      "C:\\Anomaly detection IR\\video to images\\frame124.jpg removed\n",
      "\n",
      "\n",
      "C:\\Anomaly detection IR\\video to images\\frame125.jpg copied\n",
      "\n",
      "\n",
      "Images: 2\n"
     ]
    },
    {
     "data": {
      "application/vnd.jupyter.widget-view+json": {
       "model_id": "bcfb2b279e67434cadc95c541dc25e28",
       "version_major": 2,
       "version_minor": 0
      },
      "text/plain": [
       "Batches:   0%|          | 0/1 [00:00<?, ?it/s]"
      ]
     },
     "metadata": {},
     "output_type": "display_data"
    },
    {
     "name": "stdout",
     "output_type": "stream",
     "text": [
      "Finding duplicate images...\n",
      "Finding near duplicate images...\n",
      "\n",
      "Score: 73.554%\n",
      "Images to compare\\frame0.jpg\n",
      "Images to compare\\frame125.jpg\n",
      "\n",
      "\n",
      "0.7355360388755798\n",
      "\n",
      "\n",
      "\n",
      "\n",
      "\n",
      "\n",
      "C:\\Anomaly detection IR\\video to images\\frame125.jpg removed\n",
      "\n",
      "\n",
      "C:\\Anomaly detection IR\\video to images\\frame126.jpg copied\n",
      "\n",
      "\n",
      "Images: 2\n"
     ]
    },
    {
     "data": {
      "application/vnd.jupyter.widget-view+json": {
       "model_id": "2d82a06359d04f08b2dedeeb5e7e3524",
       "version_major": 2,
       "version_minor": 0
      },
      "text/plain": [
       "Batches:   0%|          | 0/1 [00:00<?, ?it/s]"
      ]
     },
     "metadata": {},
     "output_type": "display_data"
    },
    {
     "name": "stdout",
     "output_type": "stream",
     "text": [
      "Finding duplicate images...\n",
      "Finding near duplicate images...\n",
      "\n",
      "Score: 73.584%\n",
      "Images to compare\\frame0.jpg\n",
      "Images to compare\\frame126.jpg\n",
      "\n",
      "\n",
      "0.7358362674713135\n",
      "\n",
      "\n",
      "\n",
      "\n",
      "\n",
      "\n",
      "C:\\Anomaly detection IR\\video to images\\frame126.jpg removed\n",
      "\n",
      "\n",
      "C:\\Anomaly detection IR\\video to images\\frame127.jpg copied\n",
      "\n",
      "\n",
      "Images: 2\n"
     ]
    },
    {
     "data": {
      "application/vnd.jupyter.widget-view+json": {
       "model_id": "27c709847e0e4b17af54aa0a25670194",
       "version_major": 2,
       "version_minor": 0
      },
      "text/plain": [
       "Batches:   0%|          | 0/1 [00:00<?, ?it/s]"
      ]
     },
     "metadata": {},
     "output_type": "display_data"
    },
    {
     "name": "stdout",
     "output_type": "stream",
     "text": [
      "Finding duplicate images...\n",
      "Finding near duplicate images...\n",
      "\n",
      "Score: 74.822%\n",
      "Images to compare\\frame0.jpg\n",
      "Images to compare\\frame127.jpg\n",
      "\n",
      "\n",
      "0.7482173442840576\n",
      "\n",
      "\n",
      "\n",
      "\n",
      "\n",
      "\n",
      "C:\\Anomaly detection IR\\video to images\\frame127.jpg removed\n",
      "\n",
      "\n",
      "C:\\Anomaly detection IR\\video to images\\frame128.jpg copied\n",
      "\n",
      "\n",
      "Images: 2\n"
     ]
    },
    {
     "data": {
      "application/vnd.jupyter.widget-view+json": {
       "model_id": "762b3b27a2504772bbcd8b583143e377",
       "version_major": 2,
       "version_minor": 0
      },
      "text/plain": [
       "Batches:   0%|          | 0/1 [00:00<?, ?it/s]"
      ]
     },
     "metadata": {},
     "output_type": "display_data"
    },
    {
     "name": "stdout",
     "output_type": "stream",
     "text": [
      "Finding duplicate images...\n",
      "Finding near duplicate images...\n",
      "\n",
      "Score: 77.047%\n",
      "Images to compare\\frame128.jpg\n",
      "Images to compare\\frame0.jpg\n",
      "\n",
      "\n",
      "0.7704700827598572\n",
      "\n",
      "\n",
      "\n",
      "\n",
      "\n",
      "\n",
      "C:\\Anomaly detection IR\\video to images\\frame128.jpg removed\n",
      "\n",
      "\n",
      "C:\\Anomaly detection IR\\video to images\\frame129.jpg copied\n",
      "\n",
      "\n",
      "Images: 2\n"
     ]
    },
    {
     "data": {
      "application/vnd.jupyter.widget-view+json": {
       "model_id": "cd1b508be76345e2aff0d87dbbb9e14c",
       "version_major": 2,
       "version_minor": 0
      },
      "text/plain": [
       "Batches:   0%|          | 0/1 [00:00<?, ?it/s]"
      ]
     },
     "metadata": {},
     "output_type": "display_data"
    },
    {
     "name": "stdout",
     "output_type": "stream",
     "text": [
      "Finding duplicate images...\n",
      "Finding near duplicate images...\n",
      "\n",
      "Score: 76.921%\n",
      "Images to compare\\frame129.jpg\n",
      "Images to compare\\frame0.jpg\n",
      "\n",
      "\n",
      "0.7692072987556458\n",
      "\n",
      "\n",
      "\n",
      "\n",
      "\n",
      "\n",
      "C:\\Anomaly detection IR\\video to images\\frame129.jpg removed\n",
      "\n",
      "\n",
      "C:\\Anomaly detection IR\\video to images\\frame130.jpg copied\n",
      "\n",
      "\n",
      "Images: 2\n"
     ]
    },
    {
     "data": {
      "application/vnd.jupyter.widget-view+json": {
       "model_id": "2bdf582589c6409e92074ec986968d4a",
       "version_major": 2,
       "version_minor": 0
      },
      "text/plain": [
       "Batches:   0%|          | 0/1 [00:00<?, ?it/s]"
      ]
     },
     "metadata": {},
     "output_type": "display_data"
    },
    {
     "name": "stdout",
     "output_type": "stream",
     "text": [
      "Finding duplicate images...\n",
      "Finding near duplicate images...\n",
      "\n",
      "Score: 76.802%\n",
      "Images to compare\\frame0.jpg\n",
      "Images to compare\\frame130.jpg\n",
      "\n",
      "\n",
      "0.7680230736732483\n",
      "\n",
      "\n",
      "\n",
      "\n",
      "\n",
      "\n",
      "C:\\Anomaly detection IR\\video to images\\frame130.jpg removed\n",
      "\n",
      "\n",
      "C:\\Anomaly detection IR\\video to images\\frame131.jpg copied\n",
      "\n",
      "\n",
      "Images: 2\n"
     ]
    },
    {
     "data": {
      "application/vnd.jupyter.widget-view+json": {
       "model_id": "b8c69ed236b24375814210a66368ff67",
       "version_major": 2,
       "version_minor": 0
      },
      "text/plain": [
       "Batches:   0%|          | 0/1 [00:00<?, ?it/s]"
      ]
     },
     "metadata": {},
     "output_type": "display_data"
    },
    {
     "name": "stdout",
     "output_type": "stream",
     "text": [
      "Finding duplicate images...\n",
      "Finding near duplicate images...\n",
      "\n",
      "Score: 79.886%\n",
      "Images to compare\\frame0.jpg\n",
      "Images to compare\\frame131.jpg\n",
      "\n",
      "\n",
      "0.7988608479499817\n",
      "\n",
      "\n",
      "\n",
      "\n",
      "\n",
      "\n",
      "C:\\Anomaly detection IR\\video to images\\frame131.jpg removed\n",
      "\n",
      "\n",
      "C:\\Anomaly detection IR\\video to images\\frame132.jpg copied\n",
      "\n",
      "\n",
      "Images: 2\n"
     ]
    },
    {
     "data": {
      "application/vnd.jupyter.widget-view+json": {
       "model_id": "d571f0d069264385a65e2ea0faa60cd4",
       "version_major": 2,
       "version_minor": 0
      },
      "text/plain": [
       "Batches:   0%|          | 0/1 [00:00<?, ?it/s]"
      ]
     },
     "metadata": {},
     "output_type": "display_data"
    },
    {
     "name": "stdout",
     "output_type": "stream",
     "text": [
      "Finding duplicate images...\n",
      "Finding near duplicate images...\n",
      "\n",
      "Score: 79.496%\n",
      "Images to compare\\frame0.jpg\n",
      "Images to compare\\frame132.jpg\n",
      "\n",
      "\n",
      "0.7949629426002502\n",
      "\n",
      "\n",
      "\n",
      "\n",
      "\n",
      "\n",
      "C:\\Anomaly detection IR\\video to images\\frame132.jpg removed\n",
      "\n",
      "\n",
      "C:\\Anomaly detection IR\\video to images\\frame133.jpg copied\n",
      "\n",
      "\n",
      "Images: 2\n"
     ]
    },
    {
     "data": {
      "application/vnd.jupyter.widget-view+json": {
       "model_id": "41f01bf433bb4e5c84ce1fc40b151f47",
       "version_major": 2,
       "version_minor": 0
      },
      "text/plain": [
       "Batches:   0%|          | 0/1 [00:00<?, ?it/s]"
      ]
     },
     "metadata": {},
     "output_type": "display_data"
    },
    {
     "name": "stdout",
     "output_type": "stream",
     "text": [
      "Finding duplicate images...\n",
      "Finding near duplicate images...\n",
      "\n",
      "Score: 78.572%\n",
      "Images to compare\\frame133.jpg\n",
      "Images to compare\\frame0.jpg\n",
      "\n",
      "\n",
      "0.7857164144515991\n",
      "\n",
      "\n",
      "\n",
      "\n",
      "\n",
      "\n",
      "C:\\Anomaly detection IR\\video to images\\frame133.jpg removed\n",
      "\n",
      "\n",
      "C:\\Anomaly detection IR\\video to images\\frame134.jpg copied\n",
      "\n",
      "\n",
      "Images: 2\n"
     ]
    },
    {
     "data": {
      "application/vnd.jupyter.widget-view+json": {
       "model_id": "828f6d21ee0d4b5aa1a70df87d2cbde9",
       "version_major": 2,
       "version_minor": 0
      },
      "text/plain": [
       "Batches:   0%|          | 0/1 [00:00<?, ?it/s]"
      ]
     },
     "metadata": {},
     "output_type": "display_data"
    },
    {
     "name": "stdout",
     "output_type": "stream",
     "text": [
      "Finding duplicate images...\n",
      "Finding near duplicate images...\n",
      "\n",
      "Score: 78.852%\n",
      "Images to compare\\frame134.jpg\n",
      "Images to compare\\frame0.jpg\n",
      "\n",
      "\n",
      "0.7885208129882812\n",
      "\n",
      "\n",
      "\n",
      "\n",
      "\n",
      "\n",
      "C:\\Anomaly detection IR\\video to images\\frame134.jpg removed\n",
      "\n",
      "\n",
      "C:\\Anomaly detection IR\\video to images\\frame135.jpg copied\n",
      "\n",
      "\n",
      "Images: 2\n"
     ]
    },
    {
     "data": {
      "application/vnd.jupyter.widget-view+json": {
       "model_id": "d5783620b7f941068965355d34f308b0",
       "version_major": 2,
       "version_minor": 0
      },
      "text/plain": [
       "Batches:   0%|          | 0/1 [00:00<?, ?it/s]"
      ]
     },
     "metadata": {},
     "output_type": "display_data"
    },
    {
     "name": "stdout",
     "output_type": "stream",
     "text": [
      "Finding duplicate images...\n",
      "Finding near duplicate images...\n",
      "\n",
      "Score: 81.397%\n",
      "Images to compare\\frame0.jpg\n",
      "Images to compare\\frame135.jpg\n",
      "\n",
      "\n",
      "0.8139671683311462\n",
      "\n",
      "\n",
      "\n",
      "\n",
      "\n",
      "\n",
      "C:\\Anomaly detection IR\\video to images\\frame135.jpg removed\n",
      "\n",
      "\n",
      "C:\\Anomaly detection IR\\video to images\\frame136.jpg copied\n",
      "\n",
      "\n",
      "Images: 2\n"
     ]
    },
    {
     "data": {
      "application/vnd.jupyter.widget-view+json": {
       "model_id": "c4effcff4eab482e8372cea91eea1f22",
       "version_major": 2,
       "version_minor": 0
      },
      "text/plain": [
       "Batches:   0%|          | 0/1 [00:00<?, ?it/s]"
      ]
     },
     "metadata": {},
     "output_type": "display_data"
    },
    {
     "name": "stdout",
     "output_type": "stream",
     "text": [
      "Finding duplicate images...\n",
      "Finding near duplicate images...\n",
      "\n",
      "Score: 82.838%\n",
      "Images to compare\\frame0.jpg\n",
      "Images to compare\\frame136.jpg\n",
      "\n",
      "\n",
      "0.8283809423446655\n",
      "\n",
      "\n",
      "\n",
      "\n",
      "\n",
      "\n",
      "C:\\Anomaly detection IR\\video to images\\frame136.jpg removed\n",
      "\n",
      "\n",
      "C:\\Anomaly detection IR\\video to images\\frame137.jpg copied\n",
      "\n",
      "\n",
      "Images: 2\n"
     ]
    },
    {
     "data": {
      "application/vnd.jupyter.widget-view+json": {
       "model_id": "b8b0f2162c9c4d8bb7c0964e04c04649",
       "version_major": 2,
       "version_minor": 0
      },
      "text/plain": [
       "Batches:   0%|          | 0/1 [00:00<?, ?it/s]"
      ]
     },
     "metadata": {},
     "output_type": "display_data"
    },
    {
     "name": "stdout",
     "output_type": "stream",
     "text": [
      "Finding duplicate images...\n",
      "Finding near duplicate images...\n",
      "\n",
      "Score: 85.043%\n",
      "Images to compare\\frame137.jpg\n",
      "Images to compare\\frame0.jpg\n",
      "\n",
      "\n",
      "0.8504314422607422\n",
      "\n",
      "\n",
      "\n",
      "\n",
      "\n",
      "\n",
      "C:\\Anomaly detection IR\\video to images\\frame137.jpg removed\n",
      "\n",
      "\n",
      "C:\\Anomaly detection IR\\video to images\\frame138.jpg copied\n",
      "\n",
      "\n",
      "Images: 2\n"
     ]
    },
    {
     "data": {
      "application/vnd.jupyter.widget-view+json": {
       "model_id": "7c3e7cba7e8f4e83b88f28b18d17db3b",
       "version_major": 2,
       "version_minor": 0
      },
      "text/plain": [
       "Batches:   0%|          | 0/1 [00:00<?, ?it/s]"
      ]
     },
     "metadata": {},
     "output_type": "display_data"
    },
    {
     "name": "stdout",
     "output_type": "stream",
     "text": [
      "Finding duplicate images...\n",
      "Finding near duplicate images...\n",
      "\n",
      "Score: 87.785%\n",
      "Images to compare\\frame0.jpg\n",
      "Images to compare\\frame138.jpg\n",
      "\n",
      "\n",
      "0.8778512477874756\n",
      "\n",
      "\n",
      "\n",
      "\n",
      "\n",
      "\n",
      "C:\\Anomaly detection IR\\video to images\\frame138.jpg removed\n",
      "\n",
      "\n",
      "C:\\Anomaly detection IR\\video to images\\frame139.jpg copied\n",
      "\n",
      "\n",
      "Images: 2\n"
     ]
    },
    {
     "data": {
      "application/vnd.jupyter.widget-view+json": {
       "model_id": "6f5e8b41774341b5aa2de11de67f2245",
       "version_major": 2,
       "version_minor": 0
      },
      "text/plain": [
       "Batches:   0%|          | 0/1 [00:00<?, ?it/s]"
      ]
     },
     "metadata": {},
     "output_type": "display_data"
    },
    {
     "name": "stdout",
     "output_type": "stream",
     "text": [
      "Finding duplicate images...\n",
      "Finding near duplicate images...\n",
      "\n",
      "Score: 88.603%\n",
      "Images to compare\\frame0.jpg\n",
      "Images to compare\\frame139.jpg\n",
      "\n",
      "\n",
      "0.8860329389572144\n",
      "\n",
      "\n",
      "\n",
      "\n",
      "\n",
      "\n",
      "C:\\Anomaly detection IR\\video to images\\frame139.jpg removed\n",
      "\n",
      "\n",
      "C:\\Anomaly detection IR\\video to images\\frame140.jpg copied\n",
      "\n",
      "\n",
      "Images: 2\n"
     ]
    },
    {
     "data": {
      "application/vnd.jupyter.widget-view+json": {
       "model_id": "685a0ccdd57648968ce78bdf30ff38dd",
       "version_major": 2,
       "version_minor": 0
      },
      "text/plain": [
       "Batches:   0%|          | 0/1 [00:00<?, ?it/s]"
      ]
     },
     "metadata": {},
     "output_type": "display_data"
    },
    {
     "name": "stdout",
     "output_type": "stream",
     "text": [
      "Finding duplicate images...\n",
      "Finding near duplicate images...\n",
      "\n",
      "Score: 88.727%\n",
      "Images to compare\\frame0.jpg\n",
      "Images to compare\\frame140.jpg\n",
      "\n",
      "\n",
      "0.8872725367546082\n",
      "\n",
      "\n",
      "\n",
      "\n",
      "\n",
      "\n",
      "C:\\Anomaly detection IR\\video to images\\frame140.jpg removed\n",
      "\n",
      "\n",
      "C:\\Anomaly detection IR\\video to images\\frame141.jpg copied\n",
      "\n",
      "\n",
      "Images: 2\n"
     ]
    },
    {
     "data": {
      "application/vnd.jupyter.widget-view+json": {
       "model_id": "f9fe150ebd6f4878bf60e2e31bdd9ccb",
       "version_major": 2,
       "version_minor": 0
      },
      "text/plain": [
       "Batches:   0%|          | 0/1 [00:00<?, ?it/s]"
      ]
     },
     "metadata": {},
     "output_type": "display_data"
    },
    {
     "name": "stdout",
     "output_type": "stream",
     "text": [
      "Finding duplicate images...\n",
      "Finding near duplicate images...\n",
      "\n",
      "Score: 90.072%\n",
      "Images to compare\\frame141.jpg\n",
      "Images to compare\\frame0.jpg\n",
      "\n",
      "\n",
      "0.9007158279418945\n",
      "\n",
      "\n",
      "\n",
      "\n",
      "\n",
      "\n",
      "C:\\Anomaly detection IR\\video to images\\frame141.jpg removed\n",
      "\n",
      "\n",
      "C:\\Anomaly detection IR\\video to images\\frame142.jpg copied\n",
      "\n",
      "\n",
      "Images: 2\n"
     ]
    },
    {
     "data": {
      "application/vnd.jupyter.widget-view+json": {
       "model_id": "781f83d4aa8443c7920135ef3bbfc1a9",
       "version_major": 2,
       "version_minor": 0
      },
      "text/plain": [
       "Batches:   0%|          | 0/1 [00:00<?, ?it/s]"
      ]
     },
     "metadata": {},
     "output_type": "display_data"
    },
    {
     "name": "stdout",
     "output_type": "stream",
     "text": [
      "Finding duplicate images...\n",
      "Finding near duplicate images...\n",
      "\n",
      "Score: 89.435%\n",
      "Images to compare\\frame142.jpg\n",
      "Images to compare\\frame0.jpg\n",
      "\n",
      "\n",
      "0.8943468928337097\n",
      "\n",
      "\n",
      "\n",
      "\n",
      "\n",
      "\n",
      "C:\\Anomaly detection IR\\video to images\\frame142.jpg removed\n",
      "\n",
      "\n",
      "C:\\Anomaly detection IR\\video to images\\frame143.jpg copied\n",
      "\n",
      "\n",
      "Images: 2\n"
     ]
    },
    {
     "data": {
      "application/vnd.jupyter.widget-view+json": {
       "model_id": "3c1121cbd4354b8d96ce12b880a6fb2c",
       "version_major": 2,
       "version_minor": 0
      },
      "text/plain": [
       "Batches:   0%|          | 0/1 [00:00<?, ?it/s]"
      ]
     },
     "metadata": {},
     "output_type": "display_data"
    },
    {
     "name": "stdout",
     "output_type": "stream",
     "text": [
      "Finding duplicate images...\n",
      "Finding near duplicate images...\n",
      "\n",
      "Score: 90.029%\n",
      "Images to compare\\frame143.jpg\n",
      "Images to compare\\frame0.jpg\n",
      "\n",
      "\n",
      "0.9002939462661743\n",
      "\n",
      "\n",
      "\n",
      "\n",
      "\n",
      "\n",
      "C:\\Anomaly detection IR\\video to images\\frame143.jpg removed\n",
      "\n",
      "\n",
      "C:\\Anomaly detection IR\\video to images\\frame144.jpg copied\n",
      "\n",
      "\n",
      "Images: 2\n"
     ]
    },
    {
     "data": {
      "application/vnd.jupyter.widget-view+json": {
       "model_id": "112ef9ed288c40738dab29aa50b890c7",
       "version_major": 2,
       "version_minor": 0
      },
      "text/plain": [
       "Batches:   0%|          | 0/1 [00:00<?, ?it/s]"
      ]
     },
     "metadata": {},
     "output_type": "display_data"
    },
    {
     "name": "stdout",
     "output_type": "stream",
     "text": [
      "Finding duplicate images...\n",
      "Finding near duplicate images...\n",
      "\n",
      "Score: 90.719%\n",
      "Images to compare\\frame0.jpg\n",
      "Images to compare\\frame144.jpg\n",
      "\n",
      "\n",
      "0.9071948528289795\n",
      "\n",
      "\n",
      "\n",
      "\n",
      "\n",
      "\n",
      "C:\\Anomaly detection IR\\video to images\\frame144.jpg removed\n",
      "\n",
      "\n",
      "C:\\Anomaly detection IR\\video to images\\frame145.jpg copied\n",
      "\n",
      "\n",
      "Images: 2\n"
     ]
    },
    {
     "data": {
      "application/vnd.jupyter.widget-view+json": {
       "model_id": "814f658e944f48f7993d8a347eb8c74d",
       "version_major": 2,
       "version_minor": 0
      },
      "text/plain": [
       "Batches:   0%|          | 0/1 [00:00<?, ?it/s]"
      ]
     },
     "metadata": {},
     "output_type": "display_data"
    },
    {
     "name": "stdout",
     "output_type": "stream",
     "text": [
      "Finding duplicate images...\n",
      "Finding near duplicate images...\n",
      "\n",
      "Score: 90.645%\n",
      "Images to compare\\frame145.jpg\n",
      "Images to compare\\frame0.jpg\n",
      "\n",
      "\n",
      "0.9064475893974304\n",
      "\n",
      "\n",
      "\n",
      "\n",
      "\n",
      "\n",
      "C:\\Anomaly detection IR\\video to images\\frame145.jpg removed\n",
      "\n",
      "\n",
      "C:\\Anomaly detection IR\\video to images\\frame146.jpg copied\n",
      "\n",
      "\n",
      "Images: 2\n"
     ]
    },
    {
     "data": {
      "application/vnd.jupyter.widget-view+json": {
       "model_id": "dd9668102ea94d839efa689d3ad6a108",
       "version_major": 2,
       "version_minor": 0
      },
      "text/plain": [
       "Batches:   0%|          | 0/1 [00:00<?, ?it/s]"
      ]
     },
     "metadata": {},
     "output_type": "display_data"
    },
    {
     "name": "stdout",
     "output_type": "stream",
     "text": [
      "Finding duplicate images...\n",
      "Finding near duplicate images...\n",
      "\n",
      "Score: 90.488%\n",
      "Images to compare\\frame146.jpg\n",
      "Images to compare\\frame0.jpg\n",
      "\n",
      "\n",
      "0.9048769474029541\n",
      "\n",
      "\n",
      "\n",
      "\n",
      "\n",
      "\n",
      "C:\\Anomaly detection IR\\video to images\\frame146.jpg removed\n",
      "\n",
      "\n",
      "C:\\Anomaly detection IR\\video to images\\frame147.jpg copied\n",
      "\n",
      "\n",
      "Images: 2\n"
     ]
    },
    {
     "data": {
      "application/vnd.jupyter.widget-view+json": {
       "model_id": "db12bc0858744a54803d1fd49511df28",
       "version_major": 2,
       "version_minor": 0
      },
      "text/plain": [
       "Batches:   0%|          | 0/1 [00:00<?, ?it/s]"
      ]
     },
     "metadata": {},
     "output_type": "display_data"
    },
    {
     "name": "stdout",
     "output_type": "stream",
     "text": [
      "Finding duplicate images...\n",
      "Finding near duplicate images...\n",
      "\n",
      "Score: 90.044%\n",
      "Images to compare\\frame0.jpg\n",
      "Images to compare\\frame147.jpg\n",
      "\n",
      "\n",
      "0.900436282157898\n",
      "\n",
      "\n",
      "\n",
      "\n",
      "\n",
      "\n",
      "C:\\Anomaly detection IR\\video to images\\frame147.jpg removed\n",
      "\n",
      "\n",
      "C:\\Anomaly detection IR\\video to images\\frame148.jpg copied\n",
      "\n",
      "\n",
      "Images: 2\n"
     ]
    },
    {
     "data": {
      "application/vnd.jupyter.widget-view+json": {
       "model_id": "5aef7c2a4aec4365aac092c7641b1600",
       "version_major": 2,
       "version_minor": 0
      },
      "text/plain": [
       "Batches:   0%|          | 0/1 [00:00<?, ?it/s]"
      ]
     },
     "metadata": {},
     "output_type": "display_data"
    },
    {
     "name": "stdout",
     "output_type": "stream",
     "text": [
      "Finding duplicate images...\n",
      "Finding near duplicate images...\n",
      "\n",
      "Score: 90.006%\n",
      "Images to compare\\frame148.jpg\n",
      "Images to compare\\frame0.jpg\n",
      "\n",
      "\n",
      "0.9000611305236816\n",
      "\n",
      "\n",
      "\n",
      "\n",
      "\n",
      "\n",
      "C:\\Anomaly detection IR\\video to images\\frame148.jpg removed\n",
      "\n",
      "\n",
      "C:\\Anomaly detection IR\\video to images\\frame149.jpg copied\n",
      "\n",
      "\n",
      "Images: 2\n"
     ]
    },
    {
     "data": {
      "application/vnd.jupyter.widget-view+json": {
       "model_id": "60b2b3a2e5c3427b97573abe05af67aa",
       "version_major": 2,
       "version_minor": 0
      },
      "text/plain": [
       "Batches:   0%|          | 0/1 [00:00<?, ?it/s]"
      ]
     },
     "metadata": {},
     "output_type": "display_data"
    },
    {
     "name": "stdout",
     "output_type": "stream",
     "text": [
      "Finding duplicate images...\n",
      "Finding near duplicate images...\n",
      "\n",
      "Score: 90.016%\n",
      "Images to compare\\frame0.jpg\n",
      "Images to compare\\frame149.jpg\n",
      "\n",
      "\n",
      "0.9001591205596924\n",
      "\n",
      "\n",
      "\n",
      "\n",
      "\n",
      "\n",
      "C:\\Anomaly detection IR\\video to images\\frame149.jpg removed\n",
      "\n",
      "\n",
      "C:\\Anomaly detection IR\\video to images\\frame150.jpg copied\n",
      "\n",
      "\n",
      "Images: 2\n"
     ]
    },
    {
     "data": {
      "application/vnd.jupyter.widget-view+json": {
       "model_id": "ee05824ae98444749cdcf61ba4687331",
       "version_major": 2,
       "version_minor": 0
      },
      "text/plain": [
       "Batches:   0%|          | 0/1 [00:00<?, ?it/s]"
      ]
     },
     "metadata": {},
     "output_type": "display_data"
    },
    {
     "name": "stdout",
     "output_type": "stream",
     "text": [
      "Finding duplicate images...\n",
      "Finding near duplicate images...\n",
      "\n",
      "Score: 89.368%\n",
      "Images to compare\\frame0.jpg\n",
      "Images to compare\\frame150.jpg\n",
      "\n",
      "\n",
      "0.8936784863471985\n",
      "\n",
      "\n",
      "\n",
      "\n",
      "\n",
      "\n",
      "C:\\Anomaly detection IR\\video to images\\frame150.jpg removed\n",
      "\n",
      "\n",
      "C:\\Anomaly detection IR\\video to images\\frame151.jpg copied\n",
      "\n",
      "\n",
      "Images: 2\n"
     ]
    },
    {
     "data": {
      "application/vnd.jupyter.widget-view+json": {
       "model_id": "4ee0eca4c8254dba8c05c41393b13786",
       "version_major": 2,
       "version_minor": 0
      },
      "text/plain": [
       "Batches:   0%|          | 0/1 [00:00<?, ?it/s]"
      ]
     },
     "metadata": {},
     "output_type": "display_data"
    },
    {
     "name": "stdout",
     "output_type": "stream",
     "text": [
      "Finding duplicate images...\n",
      "Finding near duplicate images...\n",
      "\n",
      "Score: 92.102%\n",
      "Images to compare\\frame151.jpg\n",
      "Images to compare\\frame0.jpg\n",
      "\n",
      "\n",
      "0.9210212230682373\n",
      "\n",
      "\n",
      "maybe incident\n",
      "\n",
      "\n",
      "\n",
      "\n",
      "C:\\Anomaly detection IR\\video to images\\frame151.jpg removed\n",
      "\n",
      "\n",
      "C:\\Anomaly detection IR\\video to images\\frame152.jpg copied\n",
      "\n",
      "\n",
      "Images: 2\n"
     ]
    },
    {
     "data": {
      "application/vnd.jupyter.widget-view+json": {
       "model_id": "fa2a9886cf3544919f6c99ee2c64d442",
       "version_major": 2,
       "version_minor": 0
      },
      "text/plain": [
       "Batches:   0%|          | 0/1 [00:00<?, ?it/s]"
      ]
     },
     "metadata": {},
     "output_type": "display_data"
    },
    {
     "name": "stdout",
     "output_type": "stream",
     "text": [
      "Finding duplicate images...\n",
      "Finding near duplicate images...\n",
      "\n",
      "Score: 89.441%\n",
      "Images to compare\\frame0.jpg\n",
      "Images to compare\\frame152.jpg\n",
      "\n",
      "\n",
      "0.8944092392921448\n",
      "\n",
      "\n",
      "\n",
      "\n",
      "\n",
      "\n",
      "C:\\Anomaly detection IR\\video to images\\frame152.jpg removed\n",
      "\n",
      "\n",
      "C:\\Anomaly detection IR\\video to images\\frame153.jpg copied\n",
      "\n",
      "\n",
      "Images: 2\n"
     ]
    },
    {
     "data": {
      "application/vnd.jupyter.widget-view+json": {
       "model_id": "f0ad828c95d34b6194522ac6900cdfa4",
       "version_major": 2,
       "version_minor": 0
      },
      "text/plain": [
       "Batches:   0%|          | 0/1 [00:00<?, ?it/s]"
      ]
     },
     "metadata": {},
     "output_type": "display_data"
    },
    {
     "name": "stdout",
     "output_type": "stream",
     "text": [
      "Finding duplicate images...\n",
      "Finding near duplicate images...\n",
      "\n",
      "Score: 89.573%\n",
      "Images to compare\\frame0.jpg\n",
      "Images to compare\\frame153.jpg\n",
      "\n",
      "\n",
      "0.8957289457321167\n",
      "\n",
      "\n",
      "\n",
      "\n",
      "\n",
      "\n",
      "C:\\Anomaly detection IR\\video to images\\frame153.jpg removed\n",
      "\n",
      "\n",
      "C:\\Anomaly detection IR\\video to images\\frame154.jpg copied\n",
      "\n",
      "\n",
      "Images: 2\n"
     ]
    },
    {
     "data": {
      "application/vnd.jupyter.widget-view+json": {
       "model_id": "dc627c706e164b4b9a5fbf1439a1f2f6",
       "version_major": 2,
       "version_minor": 0
      },
      "text/plain": [
       "Batches:   0%|          | 0/1 [00:00<?, ?it/s]"
      ]
     },
     "metadata": {},
     "output_type": "display_data"
    },
    {
     "name": "stdout",
     "output_type": "stream",
     "text": [
      "Finding duplicate images...\n",
      "Finding near duplicate images...\n",
      "\n",
      "Score: 91.408%\n",
      "Images to compare\\frame0.jpg\n",
      "Images to compare\\frame154.jpg\n",
      "\n",
      "\n",
      "0.9140833616256714\n",
      "\n",
      "\n",
      "\n",
      "\n",
      "\n",
      "\n",
      "C:\\Anomaly detection IR\\video to images\\frame154.jpg removed\n",
      "\n",
      "\n",
      "C:\\Anomaly detection IR\\video to images\\frame155.jpg copied\n",
      "\n",
      "\n",
      "Images: 2\n"
     ]
    },
    {
     "data": {
      "application/vnd.jupyter.widget-view+json": {
       "model_id": "ed6ec08b1d2d433b904fcbc84242ca12",
       "version_major": 2,
       "version_minor": 0
      },
      "text/plain": [
       "Batches:   0%|          | 0/1 [00:00<?, ?it/s]"
      ]
     },
     "metadata": {},
     "output_type": "display_data"
    },
    {
     "name": "stdout",
     "output_type": "stream",
     "text": [
      "Finding duplicate images...\n",
      "Finding near duplicate images...\n",
      "\n",
      "Score: 87.739%\n",
      "Images to compare\\frame0.jpg\n",
      "Images to compare\\frame155.jpg\n",
      "\n",
      "\n",
      "0.8773888349533081\n",
      "\n",
      "\n",
      "\n",
      "\n",
      "\n",
      "\n",
      "C:\\Anomaly detection IR\\video to images\\frame155.jpg removed\n",
      "\n",
      "\n",
      "C:\\Anomaly detection IR\\video to images\\frame156.jpg copied\n",
      "\n",
      "\n",
      "Images: 2\n"
     ]
    },
    {
     "data": {
      "application/vnd.jupyter.widget-view+json": {
       "model_id": "c281951085c14c0aa8c3c9c5a4fe58e3",
       "version_major": 2,
       "version_minor": 0
      },
      "text/plain": [
       "Batches:   0%|          | 0/1 [00:00<?, ?it/s]"
      ]
     },
     "metadata": {},
     "output_type": "display_data"
    },
    {
     "name": "stdout",
     "output_type": "stream",
     "text": [
      "Finding duplicate images...\n",
      "Finding near duplicate images...\n",
      "\n",
      "Score: 89.713%\n",
      "Images to compare\\frame156.jpg\n",
      "Images to compare\\frame0.jpg\n",
      "\n",
      "\n",
      "0.8971338868141174\n",
      "\n",
      "\n",
      "\n",
      "\n",
      "\n",
      "\n",
      "C:\\Anomaly detection IR\\video to images\\frame156.jpg removed\n",
      "\n",
      "\n",
      "C:\\Anomaly detection IR\\video to images\\frame157.jpg copied\n",
      "\n",
      "\n",
      "Images: 2\n"
     ]
    },
    {
     "data": {
      "application/vnd.jupyter.widget-view+json": {
       "model_id": "5eaca2bcc37f4e9a878cb0801d7ae757",
       "version_major": 2,
       "version_minor": 0
      },
      "text/plain": [
       "Batches:   0%|          | 0/1 [00:00<?, ?it/s]"
      ]
     },
     "metadata": {},
     "output_type": "display_data"
    },
    {
     "name": "stdout",
     "output_type": "stream",
     "text": [
      "Finding duplicate images...\n",
      "Finding near duplicate images...\n",
      "\n",
      "Score: 91.464%\n",
      "Images to compare\\frame0.jpg\n",
      "Images to compare\\frame157.jpg\n",
      "\n",
      "\n",
      "0.9146427512168884\n",
      "\n",
      "\n",
      "\n",
      "\n",
      "\n",
      "\n",
      "C:\\Anomaly detection IR\\video to images\\frame157.jpg removed\n",
      "\n",
      "\n",
      "C:\\Anomaly detection IR\\video to images\\frame158.jpg copied\n",
      "\n",
      "\n",
      "Images: 2\n"
     ]
    },
    {
     "data": {
      "application/vnd.jupyter.widget-view+json": {
       "model_id": "8c846a1a70704520a72d12cc14a9b8dc",
       "version_major": 2,
       "version_minor": 0
      },
      "text/plain": [
       "Batches:   0%|          | 0/1 [00:00<?, ?it/s]"
      ]
     },
     "metadata": {},
     "output_type": "display_data"
    },
    {
     "name": "stdout",
     "output_type": "stream",
     "text": [
      "Finding duplicate images...\n",
      "Finding near duplicate images...\n",
      "\n",
      "Score: 90.838%\n",
      "Images to compare\\frame0.jpg\n",
      "Images to compare\\frame158.jpg\n",
      "\n",
      "\n",
      "0.9083795547485352\n",
      "\n",
      "\n",
      "\n",
      "\n",
      "\n",
      "\n",
      "C:\\Anomaly detection IR\\video to images\\frame158.jpg removed\n",
      "\n",
      "\n",
      "C:\\Anomaly detection IR\\video to images\\frame159.jpg copied\n",
      "\n",
      "\n",
      "Images: 2\n"
     ]
    },
    {
     "data": {
      "application/vnd.jupyter.widget-view+json": {
       "model_id": "e4688c3e946a418da7ab2baeafb5a779",
       "version_major": 2,
       "version_minor": 0
      },
      "text/plain": [
       "Batches:   0%|          | 0/1 [00:00<?, ?it/s]"
      ]
     },
     "metadata": {},
     "output_type": "display_data"
    },
    {
     "name": "stdout",
     "output_type": "stream",
     "text": [
      "Finding duplicate images...\n",
      "Finding near duplicate images...\n",
      "\n",
      "Score: 88.542%\n",
      "Images to compare\\frame0.jpg\n",
      "Images to compare\\frame159.jpg\n",
      "\n",
      "\n",
      "0.8854217529296875\n",
      "\n",
      "\n",
      "\n",
      "\n",
      "\n",
      "\n",
      "C:\\Anomaly detection IR\\video to images\\frame159.jpg removed\n",
      "\n",
      "\n",
      "C:\\Anomaly detection IR\\video to images\\frame160.jpg copied\n",
      "\n",
      "\n",
      "Images: 2\n"
     ]
    },
    {
     "data": {
      "application/vnd.jupyter.widget-view+json": {
       "model_id": "a8866b21981b4c66be72ada97a580dd6",
       "version_major": 2,
       "version_minor": 0
      },
      "text/plain": [
       "Batches:   0%|          | 0/1 [00:00<?, ?it/s]"
      ]
     },
     "metadata": {},
     "output_type": "display_data"
    },
    {
     "name": "stdout",
     "output_type": "stream",
     "text": [
      "Finding duplicate images...\n",
      "Finding near duplicate images...\n",
      "\n",
      "Score: 89.572%\n",
      "Images to compare\\frame160.jpg\n",
      "Images to compare\\frame0.jpg\n",
      "\n",
      "\n",
      "0.8957222104072571\n",
      "\n",
      "\n",
      "\n",
      "\n",
      "\n",
      "\n",
      "C:\\Anomaly detection IR\\video to images\\frame160.jpg removed\n",
      "\n",
      "\n",
      "C:\\Anomaly detection IR\\video to images\\frame161.jpg copied\n",
      "\n",
      "\n",
      "Images: 2\n"
     ]
    },
    {
     "data": {
      "application/vnd.jupyter.widget-view+json": {
       "model_id": "ab8ea2a8620c430a9e76a99a8e5d2f54",
       "version_major": 2,
       "version_minor": 0
      },
      "text/plain": [
       "Batches:   0%|          | 0/1 [00:00<?, ?it/s]"
      ]
     },
     "metadata": {},
     "output_type": "display_data"
    },
    {
     "name": "stdout",
     "output_type": "stream",
     "text": [
      "Finding duplicate images...\n",
      "Finding near duplicate images...\n",
      "\n",
      "Score: 89.409%\n",
      "Images to compare\\frame0.jpg\n",
      "Images to compare\\frame161.jpg\n",
      "\n",
      "\n",
      "0.894094705581665\n",
      "\n",
      "\n",
      "\n",
      "\n",
      "\n",
      "\n",
      "C:\\Anomaly detection IR\\video to images\\frame161.jpg removed\n",
      "\n",
      "\n",
      "C:\\Anomaly detection IR\\video to images\\frame162.jpg copied\n",
      "\n",
      "\n",
      "Images: 2\n"
     ]
    },
    {
     "data": {
      "application/vnd.jupyter.widget-view+json": {
       "model_id": "0f1d221e6a9244b3964ff35b0031a537",
       "version_major": 2,
       "version_minor": 0
      },
      "text/plain": [
       "Batches:   0%|          | 0/1 [00:00<?, ?it/s]"
      ]
     },
     "metadata": {},
     "output_type": "display_data"
    },
    {
     "name": "stdout",
     "output_type": "stream",
     "text": [
      "Finding duplicate images...\n",
      "Finding near duplicate images...\n",
      "\n",
      "Score: 91.527%\n",
      "Images to compare\\frame0.jpg\n",
      "Images to compare\\frame162.jpg\n",
      "\n",
      "\n",
      "0.9152712821960449\n",
      "\n",
      "\n",
      "\n",
      "\n",
      "\n",
      "\n",
      "C:\\Anomaly detection IR\\video to images\\frame162.jpg removed\n",
      "\n",
      "\n",
      "C:\\Anomaly detection IR\\video to images\\frame163.jpg copied\n",
      "\n",
      "\n",
      "Images: 2\n"
     ]
    },
    {
     "data": {
      "application/vnd.jupyter.widget-view+json": {
       "model_id": "a4f6f906a8fb49c2be71689cf4bf21e1",
       "version_major": 2,
       "version_minor": 0
      },
      "text/plain": [
       "Batches:   0%|          | 0/1 [00:00<?, ?it/s]"
      ]
     },
     "metadata": {},
     "output_type": "display_data"
    },
    {
     "name": "stdout",
     "output_type": "stream",
     "text": [
      "Finding duplicate images...\n",
      "Finding near duplicate images...\n",
      "\n",
      "Score: 90.209%\n",
      "Images to compare\\frame163.jpg\n",
      "Images to compare\\frame0.jpg\n",
      "\n",
      "\n",
      "0.9020923376083374\n",
      "\n",
      "\n",
      "\n",
      "\n",
      "\n",
      "\n",
      "C:\\Anomaly detection IR\\video to images\\frame163.jpg removed\n",
      "\n",
      "\n",
      "C:\\Anomaly detection IR\\video to images\\frame164.jpg copied\n",
      "\n",
      "\n",
      "Images: 2\n"
     ]
    },
    {
     "data": {
      "application/vnd.jupyter.widget-view+json": {
       "model_id": "d877283ce4d043cda453ce797c08a2bc",
       "version_major": 2,
       "version_minor": 0
      },
      "text/plain": [
       "Batches:   0%|          | 0/1 [00:00<?, ?it/s]"
      ]
     },
     "metadata": {},
     "output_type": "display_data"
    },
    {
     "name": "stdout",
     "output_type": "stream",
     "text": [
      "Finding duplicate images...\n",
      "Finding near duplicate images...\n",
      "\n",
      "Score: 90.698%\n",
      "Images to compare\\frame0.jpg\n",
      "Images to compare\\frame164.jpg\n",
      "\n",
      "\n",
      "0.906975269317627\n",
      "\n",
      "\n",
      "\n",
      "\n",
      "\n",
      "\n",
      "C:\\Anomaly detection IR\\video to images\\frame164.jpg removed\n",
      "\n",
      "\n",
      "C:\\Anomaly detection IR\\video to images\\frame165.jpg copied\n",
      "\n",
      "\n",
      "Images: 2\n"
     ]
    },
    {
     "data": {
      "application/vnd.jupyter.widget-view+json": {
       "model_id": "7f545549a29f4ce29b91664bcb69a0b1",
       "version_major": 2,
       "version_minor": 0
      },
      "text/plain": [
       "Batches:   0%|          | 0/1 [00:00<?, ?it/s]"
      ]
     },
     "metadata": {},
     "output_type": "display_data"
    },
    {
     "name": "stdout",
     "output_type": "stream",
     "text": [
      "Finding duplicate images...\n",
      "Finding near duplicate images...\n",
      "\n",
      "Score: 90.385%\n",
      "Images to compare\\frame165.jpg\n",
      "Images to compare\\frame0.jpg\n",
      "\n",
      "\n",
      "0.9038456678390503\n",
      "\n",
      "\n",
      "\n",
      "\n",
      "\n",
      "\n",
      "C:\\Anomaly detection IR\\video to images\\frame165.jpg removed\n",
      "\n",
      "\n",
      "C:\\Anomaly detection IR\\video to images\\frame166.jpg copied\n",
      "\n",
      "\n",
      "Images: 2\n"
     ]
    },
    {
     "data": {
      "application/vnd.jupyter.widget-view+json": {
       "model_id": "2d583a84a4524eb9be4e3363cbc35de7",
       "version_major": 2,
       "version_minor": 0
      },
      "text/plain": [
       "Batches:   0%|          | 0/1 [00:00<?, ?it/s]"
      ]
     },
     "metadata": {},
     "output_type": "display_data"
    },
    {
     "name": "stdout",
     "output_type": "stream",
     "text": [
      "Finding duplicate images...\n",
      "Finding near duplicate images...\n",
      "\n",
      "Score: 90.929%\n",
      "Images to compare\\frame0.jpg\n",
      "Images to compare\\frame166.jpg\n",
      "\n",
      "\n",
      "0.9092890024185181\n",
      "\n",
      "\n",
      "\n",
      "\n",
      "\n",
      "\n",
      "C:\\Anomaly detection IR\\video to images\\frame166.jpg removed\n",
      "\n",
      "\n"
     ]
    }
   ],
   "source": [
    "while i < count :\n",
    "    shutil.copy(image_name, 'C:\\\\Anomaly detection IR\\\\Images to compare')\n",
    "    print(image_name, 'copied')\n",
    "    print('\\n')\n",
    "    \n",
    "    \n",
    "    # This is where the magic happens\n",
    "    \n",
    "    \n",
    "    \n",
    "    \n",
    "    \n",
    "        # Next we compute the embeddings\n",
    "    # To encode an image, you can use the following code:\n",
    "    # from PIL import Image\n",
    "    # encoded_image = model.encode(Image.open(filepath))\n",
    "    image_names = list(glob.glob('Images to compare\\\\*.jpg'))\n",
    "    print(\"Images:\", len(image_names))\n",
    "    encoded_image = model.encode([Image.open(filepath) for filepath in image_names], batch_size=128, convert_to_tensor=True, show_progress_bar=True)\n",
    "\n",
    "    # Now we run the clustering algorithm. This function compares images against\n",
    "    # all other images and returns a list with the pairs that have the highest \n",
    "    # cosine similarity score\n",
    "    processed_images = util.paraphrase_mining_embeddings(encoded_image)\n",
    "    NUM_SIMILAR_IMAGES = 10 \n",
    "\n",
    "    # =================\n",
    "    # DUPLICATES\n",
    "    # =================\n",
    "    print('Finding duplicate images...')\n",
    "    # Filter list for duplicates. Results are triplets (score, image_id1, image_id2) and is scorted in decreasing order\n",
    "    # A duplicate image will have a score of 1.00\n",
    "    # It may be 0.9999 due to lossy image compression (.jpg)\n",
    "    duplicates = [image for image in processed_images if image[0] >= 0.999]\n",
    "\n",
    "\n",
    "    # Output the top X duplicate images\n",
    "    for score, image_id1, image_id2 in duplicates[0:NUM_SIMILAR_IMAGES]:\n",
    "        print(\"\\nScore: {:.3f}%\".format(score * 100))\n",
    "        print(image_names[image_id1])\n",
    "        print(image_names[image_id2])\n",
    "\n",
    "\n",
    "    # =================\n",
    "    # NEAR DUPLICATES\n",
    "    # =================\n",
    "    print('Finding near duplicate images...')\n",
    "    # Use a threshold parameter to identify two images as similar. By setting the threshold lower, \n",
    "    # you will get larger clusters which have less similar images in it. Threshold 0 - 1.00\n",
    "    # A threshold of 1.00 means the two images are exactly the same. Since we are finding near \n",
    "    # duplicate images, we can set it at 0.99 or any number 0 < X < 1.00.\n",
    "    threshold = 0.99\n",
    "    near_duplicates = [image for image in processed_images if image[0] < threshold]\n",
    "\n",
    "\n",
    "    for score, image_id1, image_id2 in near_duplicates[0:NUM_SIMILAR_IMAGES]:\n",
    "        print(\"\\nScore: {:.3f}%\".format(score * 100))\n",
    "        print(image_names[image_id1])\n",
    "        print(image_names[image_id2])\n",
    "        f = open('algorithm results.txt', 'a')\n",
    "        f.write('\\n')\n",
    "        f.write(image_names[image_id1])\n",
    "        f.write('\\n')\n",
    "        f.write(image_names[image_id2])\n",
    "        f.write('\\n')\n",
    "\n",
    "    print('\\n')\n",
    "    print(score)    \n",
    "    print('\\n')\n",
    "    if score > 0.95:\n",
    "        print('No incident')\n",
    "        \n",
    "        f = open('algorithm results.txt', 'a')\n",
    "        f.write('\\n')\n",
    "        f.write('No incident')\n",
    "        f.write('\\n')\n",
    "        \n",
    "    elif (score <= 0.95) & (score >= 0.92):\n",
    "        print('maybe incident')\n",
    "        \n",
    "        f = open('algorithm results.txt', 'a')\n",
    "        f.write('\\n')\n",
    "        f.write('maybe incident')\n",
    "        f.write('\\n')\n",
    "        \n",
    "    else:\n",
    "        f = open('algorithm results.txt', 'a')\n",
    "        f.write('\\n')\n",
    "        f.write('report incident')\n",
    "        f.write('\\n')\n",
    "\n",
    "\n",
    "    print('\\n')\n",
    "    print('\\n')\n",
    "    \n",
    "    \n",
    "    \n",
    "    \n",
    "    os.remove(image_name_rem)\n",
    "    print(image_name, 'removed')\n",
    "    print('\\n')\n",
    "    \n",
    "    i = i+1\n",
    "    image_name = 'C:\\\\Anomaly detection IR\\\\video to images\\\\frame{}.jpg'.format(i)\n",
    "    image_name_rem = 'C:\\\\Anomaly detection IR\\\\Images to compare\\\\frame{}.jpg'.format(i)\n",
    "    "
   ]
  },
  {
   "cell_type": "code",
   "execution_count": null,
   "id": "3a09d568",
   "metadata": {},
   "outputs": [],
   "source": []
  },
  {
   "cell_type": "code",
   "execution_count": null,
   "id": "330c2674",
   "metadata": {},
   "outputs": [],
   "source": []
  }
 ],
 "metadata": {
  "kernelspec": {
   "display_name": "Python 3",
   "language": "python",
   "name": "python3"
  },
  "language_info": {
   "codemirror_mode": {
    "name": "ipython",
    "version": 3
   },
   "file_extension": ".py",
   "mimetype": "text/x-python",
   "name": "python",
   "nbconvert_exporter": "python",
   "pygments_lexer": "ipython3",
   "version": "3.8.8"
  }
 },
 "nbformat": 4,
 "nbformat_minor": 5
}
