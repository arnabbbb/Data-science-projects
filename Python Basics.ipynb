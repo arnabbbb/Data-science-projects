{
 "cells": [
  {
   "cell_type": "markdown",
   "id": "1a5e2ba6",
   "metadata": {},
   "source": [
    "# Keyboard shortcuts for jupyter :\n",
    "\n",
    "1) Shitf + Enter              : Execute + Next line<br/>    \n",
    "2) Control + Enter            : Execute<br/>  \n",
    "3) Alt + Enter                : Execute + New line<br/>  \n",
    "4) Tab                        : Possible functions<br/>\n",
    "5) Shift + Tab                : Function description<br/>\n",
    "\n",
    "Go to help, then keyboard shortcuts for more"
   ]
  },
  {
   "cell_type": "markdown",
   "id": "b16e4e7c",
   "metadata": {},
   "source": [
    "# Data types :"
   ]
  },
  {
   "cell_type": "code",
   "execution_count": 1,
   "id": "bdc7acfd",
   "metadata": {},
   "outputs": [
    {
     "data": {
      "text/plain": [
       "int"
      ]
     },
     "execution_count": 1,
     "metadata": {},
     "output_type": "execute_result"
    }
   ],
   "source": [
    "# integer\n",
    "type(1)"
   ]
  },
  {
   "cell_type": "code",
   "execution_count": 2,
   "id": "69406f73",
   "metadata": {},
   "outputs": [
    {
     "data": {
      "text/plain": [
       "float"
      ]
     },
     "execution_count": 2,
     "metadata": {},
     "output_type": "execute_result"
    }
   ],
   "source": [
    "# float \n",
    "type(1.0)"
   ]
  },
  {
   "cell_type": "code",
   "execution_count": 3,
   "id": "d7025100",
   "metadata": {},
   "outputs": [
    {
     "data": {
      "text/plain": [
       "bool"
      ]
     },
     "execution_count": 3,
     "metadata": {},
     "output_type": "execute_result"
    }
   ],
   "source": [
    "# boolean\n",
    "type(True)"
   ]
  },
  {
   "cell_type": "code",
   "execution_count": 4,
   "id": "d5340516",
   "metadata": {},
   "outputs": [
    {
     "data": {
      "text/plain": [
       "str"
      ]
     },
     "execution_count": 4,
     "metadata": {},
     "output_type": "execute_result"
    }
   ],
   "source": [
    "# string\n",
    "type('abc')"
   ]
  },
  {
   "cell_type": "markdown",
   "id": "941ea239",
   "metadata": {},
   "source": [
    "# Variables :"
   ]
  },
  {
   "cell_type": "code",
   "execution_count": 5,
   "id": "2954504c",
   "metadata": {},
   "outputs": [
    {
     "name": "stdout",
     "output_type": "stream",
     "text": [
      "5 times a is 15\n"
     ]
    }
   ],
   "source": [
    "# A variable is a value that is stored by the computer, and it can be changed based on the situation.\n",
    "a = 3\n",
    "print('5 times a is', a*5)"
   ]
  },
  {
   "cell_type": "code",
   "execution_count": 6,
   "id": "78308134",
   "metadata": {},
   "outputs": [
    {
     "name": "stdout",
     "output_type": "stream",
     "text": [
      "<class 'int'>\n",
      "<class 'float'>\n",
      "2.5\n",
      "<class 'float'>\n"
     ]
    }
   ],
   "source": [
    "b = 1.2\n",
    "print(type(a))\n",
    "print(type(b))\n",
    "c = a/b\n",
    "print(c)\n",
    "print(type(c))"
   ]
  },
  {
   "cell_type": "markdown",
   "id": "7275df2f",
   "metadata": {},
   "source": [
    "# Collections of variables - list, tuple, set, dictionary :"
   ]
  },
  {
   "cell_type": "markdown",
   "id": "b9ab26dd",
   "metadata": {},
   "source": [
    "## List\n",
    "A list is an ordered and indexed collection of values. The values in a list are changeable and dupilcation is allowed."
   ]
  },
  {
   "cell_type": "code",
   "execution_count": 7,
   "id": "ea1e16df",
   "metadata": {},
   "outputs": [
    {
     "name": "stdout",
     "output_type": "stream",
     "text": [
      "['Bruno', 'breakfast', 5, 'biscuits']\n",
      "Bruno\n",
      "breakfast\n",
      "5\n",
      "biscuits\n",
      "4\n"
     ]
    }
   ],
   "source": [
    "list1 = ['Bruno','breakfast', 5, 'biscuits']\n",
    "\n",
    "print(list1)\n",
    "\n",
    "print(list1[0])\n",
    "print(list1[1])\n",
    "print(list1[2])\n",
    "print(list1[3])\n",
    "\n",
    "print(len(list1))"
   ]
  },
  {
   "cell_type": "code",
   "execution_count": 8,
   "id": "ee746cee",
   "metadata": {},
   "outputs": [
    {
     "name": "stdout",
     "output_type": "stream",
     "text": [
      "['Romeo', 'lunch', 7, 'pedigree']\n",
      "Romeo\n",
      "lunch\n",
      "7\n",
      "pedigree\n",
      "4\n"
     ]
    }
   ],
   "source": [
    "# Editing the values in list 1\n",
    "\n",
    "list1[0] = 'Romeo'\n",
    "list1[1] = 'lunch'\n",
    "list1[2] = 7\n",
    "list1[3] = 'pedigree'\n",
    "\n",
    "print(list1)\n",
    "\n",
    "print(list1[0])\n",
    "print(list1[1])\n",
    "print(list1[2])\n",
    "print(list1[3])\n",
    "\n",
    "print(len(list1))"
   ]
  },
  {
   "cell_type": "code",
   "execution_count": 9,
   "id": "abf1d4da",
   "metadata": {},
   "outputs": [
    {
     "name": "stdout",
     "output_type": "stream",
     "text": [
      "['Romeo', 'lunch', 7, 'pedigree', 'full stop']\n"
     ]
    }
   ],
   "source": [
    "# adding to list \n",
    "\n",
    "list1.append('full stop')\n",
    "print(list1)"
   ]
  },
  {
   "cell_type": "code",
   "execution_count": 10,
   "id": "e283aedc",
   "metadata": {},
   "outputs": [
    {
     "name": "stdout",
     "output_type": "stream",
     "text": [
      "['Romeo', 'lunch', 7, 'pedigree']\n"
     ]
    }
   ],
   "source": [
    "# removing from list\n",
    "\n",
    "list1.pop()\n",
    "print(list1)"
   ]
  },
  {
   "cell_type": "code",
   "execution_count": 11,
   "id": "10d30550",
   "metadata": {},
   "outputs": [
    {
     "data": {
      "text/plain": [
       "[10, 10, 10, 10]"
      ]
     },
     "execution_count": 11,
     "metadata": {},
     "output_type": "execute_result"
    }
   ],
   "source": [
    "# repeated list\n",
    "\n",
    "[10]*4"
   ]
  },
  {
   "cell_type": "code",
   "execution_count": 12,
   "id": "f273cf0d",
   "metadata": {},
   "outputs": [
    {
     "name": "stdout",
     "output_type": "stream",
     "text": [
      "['a', 1, ['Romeo', 'lunch', 7, 'pedigree'], 2, 'b']\n",
      "7\n"
     ]
    }
   ],
   "source": [
    "# list within list\n",
    "\n",
    "list2 = ['a',1,list1,2,'b']\n",
    "print(list2)\n",
    "\n",
    "print(list2[2][2])"
   ]
  },
  {
   "cell_type": "code",
   "execution_count": 13,
   "id": "97cf3f2e",
   "metadata": {},
   "outputs": [
    {
     "name": "stdout",
     "output_type": "stream",
     "text": [
      "['a', 1, ['Romeo', 'lunch', 7, 'pedigree'], 2, 'b']\n"
     ]
    }
   ],
   "source": [
    "# copying a list\n",
    "\n",
    "copy_list = list2.copy()\n",
    "print(copy_list)\n",
    "\n",
    "# don't use equality opertator two copy list. The new variable will end up pointing to the initial list anyway."
   ]
  },
  {
   "cell_type": "markdown",
   "id": "9719a9fb",
   "metadata": {},
   "source": [
    "## Tuple\n",
    "A tuple is an ordered collection of values that are unchangeable and allows duplication.\n"
   ]
  },
  {
   "cell_type": "code",
   "execution_count": 14,
   "id": "2b844ccf",
   "metadata": {},
   "outputs": [
    {
     "name": "stdout",
     "output_type": "stream",
     "text": [
      "(1, 2, 3, 4, 5, 'yolo')\n",
      "1\n",
      "2\n",
      "3\n",
      "4\n",
      "5\n",
      "yolo\n",
      "6\n"
     ]
    }
   ],
   "source": [
    "tuple1 = (1,2,3,4,5,'yolo')\n",
    "\n",
    "print(tuple1)\n",
    "\n",
    "print(tuple1[0])\n",
    "print(tuple1[1])\n",
    "print(tuple1[2])\n",
    "print(tuple1[3])\n",
    "print(tuple1[4])\n",
    "print(tuple1[5])\n",
    "\n",
    "print(len(tuple1))"
   ]
  },
  {
   "cell_type": "code",
   "execution_count": 15,
   "id": "5a9f8536",
   "metadata": {},
   "outputs": [
    {
     "data": {
      "text/plain": [
       "(1, 2, 3, 4, 5, 'number')"
      ]
     },
     "execution_count": 15,
     "metadata": {},
     "output_type": "execute_result"
    }
   ],
   "source": [
    "#workaround to edit a tuple\n",
    "\n",
    "list_tup = list(tuple1)\n",
    "list_tup[5] = 'number'\n",
    "tuple1 = tuple(list_tup)\n",
    "tuple1"
   ]
  },
  {
   "cell_type": "markdown",
   "id": "9bcf38bb",
   "metadata": {},
   "source": [
    "## Set\n",
    "A set is an unordered collection of values  that are changeable and does not allow duplicates"
   ]
  },
  {
   "cell_type": "code",
   "execution_count": 16,
   "id": "7b4b9eaf",
   "metadata": {},
   "outputs": [
    {
     "name": "stdout",
     "output_type": "stream",
     "text": [
      "{'hello', 2, -1}\n",
      "True\n",
      "False\n"
     ]
    }
   ],
   "source": [
    "set1 = {-1,2,'hello',2}\n",
    "\n",
    "print(set1)\n",
    "\n",
    "print('hello' in set1)\n",
    "\n",
    "print('-5' in set1)"
   ]
  },
  {
   "cell_type": "code",
   "execution_count": 17,
   "id": "1fbb6429",
   "metadata": {},
   "outputs": [
    {
     "name": "stdout",
     "output_type": "stream",
     "text": [
      "{'hello', 2, 3, -1}\n"
     ]
    }
   ],
   "source": [
    "# Adding and removing items from the set\n",
    "\n",
    "set1.add(3)\n",
    "print(set1)"
   ]
  },
  {
   "cell_type": "code",
   "execution_count": 18,
   "id": "c841a02a",
   "metadata": {},
   "outputs": [
    {
     "name": "stdout",
     "output_type": "stream",
     "text": [
      "{2, 3, -1}\n"
     ]
    }
   ],
   "source": [
    "set1.remove('hello')\n",
    "print(set1)"
   ]
  },
  {
   "cell_type": "markdown",
   "id": "ab72b1fa",
   "metadata": {},
   "source": [
    "## Dictionary\n",
    "A dictionary is a collection of values that are unordered(but indexed) and changeable "
   ]
  },
  {
   "cell_type": "code",
   "execution_count": 19,
   "id": "bc7b3184",
   "metadata": {},
   "outputs": [
    {
     "name": "stdout",
     "output_type": "stream",
     "text": [
      "{'English': 'Hello', 'Hindi': 'Namaste', 'French': 'Salut', 'Spanish': 'Hola'}\n",
      "Salut\n"
     ]
    }
   ],
   "source": [
    "dict1 = {\n",
    "    'English' : 'Hello',\n",
    "    'Hindi' : 'Namaste',\n",
    "    'French' : 'Salut',\n",
    "    'Spanish' : 'Hola'\n",
    "}\n",
    "\n",
    "print(dict1)\n",
    "print(dict1['French'])"
   ]
  },
  {
   "cell_type": "code",
   "execution_count": 20,
   "id": "0bc71319",
   "metadata": {},
   "outputs": [],
   "source": [
    "# Adding and editing items in a dictionary \n",
    "\n",
    "dict1['German'] = 'Hallo'"
   ]
  },
  {
   "cell_type": "code",
   "execution_count": 21,
   "id": "b76ab194",
   "metadata": {},
   "outputs": [
    {
     "data": {
      "text/plain": [
       "{'English': 'Hello',\n",
       " 'Hindi': 'Namaste',\n",
       " 'French': 'Salut',\n",
       " 'Spanish': 'Hola',\n",
       " 'German': 'Hallo'}"
      ]
     },
     "execution_count": 21,
     "metadata": {},
     "output_type": "execute_result"
    }
   ],
   "source": [
    "dict1"
   ]
  },
  {
   "cell_type": "code",
   "execution_count": 22,
   "id": "9dee60a8",
   "metadata": {},
   "outputs": [
    {
     "data": {
      "text/plain": [
       "'Hola'"
      ]
     },
     "execution_count": 22,
     "metadata": {},
     "output_type": "execute_result"
    }
   ],
   "source": [
    "dict1.pop('Spanish')"
   ]
  },
  {
   "cell_type": "code",
   "execution_count": 23,
   "id": "789fd75e",
   "metadata": {},
   "outputs": [
    {
     "name": "stdout",
     "output_type": "stream",
     "text": [
      "{'English': 'Hello', 'Hindi': 'Namaste', 'French': 'Salut', 'German': 'Hallo'}\n"
     ]
    }
   ],
   "source": [
    "print(dict1)"
   ]
  },
  {
   "cell_type": "markdown",
   "id": "aab2bb9e",
   "metadata": {},
   "source": [
    "## Accessing data in lists using collon"
   ]
  },
  {
   "cell_type": "code",
   "execution_count": 24,
   "id": "1a581847",
   "metadata": {},
   "outputs": [
    {
     "name": "stdout",
     "output_type": "stream",
     "text": [
      "[3, 4, 5]\n",
      "[7, 8, 9]\n"
     ]
    }
   ],
   "source": [
    "# First index is excluded, last is included\n",
    "\n",
    "list_num = [1,2,3,4,5,6,7,8,9,10]\n",
    "\n",
    "print(list_num[2:5])\n",
    "print(list_num[-4:-1])"
   ]
  }
 ],
 "metadata": {
  "kernelspec": {
   "display_name": "Python 3",
   "language": "python",
   "name": "python3"
  },
  "language_info": {
   "codemirror_mode": {
    "name": "ipython",
    "version": 3
   },
   "file_extension": ".py",
   "mimetype": "text/x-python",
   "name": "python",
   "nbconvert_exporter": "python",
   "pygments_lexer": "ipython3",
   "version": "3.8.8"
  }
 },
 "nbformat": 4,
 "nbformat_minor": 5
}
